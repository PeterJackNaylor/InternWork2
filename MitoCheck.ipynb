{
 "cells": [
  {
   "cell_type": "markdown",
   "metadata": {},
   "source": [
    "# MitoCheck"
   ]
  },
  {
   "cell_type": "code",
   "execution_count": 99,
   "metadata": {
    "collapsed": false
   },
   "outputs": [
    {
     "name": "stdout",
     "output_type": "stream",
     "text": [
      "The rpy2.ipython extension is already loaded. To reload it, use:\n",
      "  %reload_ext rpy2.ipython\n"
     ]
    }
   ],
   "source": [
    "## Ipython magic commands...! \n",
    "\n",
    "%matplotlib inline\n",
    "%load_ext rpy2.ipython"
   ]
  },
  {
   "cell_type": "code",
   "execution_count": 100,
   "metadata": {
    "collapsed": false
   },
   "outputs": [],
   "source": [
    "### All the packages we need:\n",
    "from Traj_creator import Traj_data\n",
    "from TCA import *\n",
    "from Mitocheck_Read import MitoCheck_Read\n",
    "from Randomforest import RandomForest_Autotunner,plot_matrix,Measure,check_rotate\n",
    "from auxilary_function import final_classif_HMM,MitoseClassif,EmissionMat,prep_for_R\n",
    "\n",
    "import random\n",
    "import numpy as np\n",
    "import pandas as pd\n",
    "import matplotlib.pyplot as plt\n",
    "\n",
    "import os.path\n",
    "import cPickle as pkl"
   ]
  },
  {
   "cell_type": "code",
   "execution_count": 101,
   "metadata": {
    "collapsed": true
   },
   "outputs": [],
   "source": [
    "## names for the variables\n",
    "y_name_3state=\"Type\"         #variable name of the labels in the training set\n",
    "classif_Mitose=\"MitoseOrNot\" #variable name for the mitosis variable\n",
    "classif_3state=\"3state\"      #variable name for the classifier we wish to test\n",
    "classif_final=\"Pred_fusion\"  #variable name for the fusion of these two classifiers\n",
    "classif_hmm=\"HMM\"            #variable name for the hmm corrector\n",
    "num_str=\"0015\" \n",
    "%Rpush classif_final classif_hmm"
   ]
  },
  {
   "cell_type": "code",
   "execution_count": 5,
   "metadata": {
    "collapsed": false
   },
   "outputs": [
    {
     "name": "stdout",
     "output_type": "stream",
     "text": [
      "The file existed so I loaded it.\n",
      "Traj_data built\n",
      "Reader constructed\n",
      "Updated member Group_of_traj\n"
     ]
    },
    {
     "name": "stderr",
     "output_type": "stream",
     "text": [
      "/home/pubuntu/anaconda2/lib/python2.7/site-packages/IPython/core/interactiveshell.py:3006: DtypeWarning: Columns (245) have mixed types. Specify dtype option on import or set low_memory=False.\n",
      "  if self.run_code(code, result):\n"
     ]
    }
   ],
   "source": [
    "if os.path.isfile(\"H2B_N_F_0.csv\"):\n",
    "    print \"The file existed so I loaded it.\"\n",
    "    H2B_N_F_0 = Traj_data(file_name=\"H2B_N_F_0.csv\",pkl_traj_file=\"./Pkl_file\") \n",
    "    H2B_N_F_0.caract=\"Normalized by dividing by first element\"\n",
    "\n",
    "else:    \n",
    "    H2B_N_F_0=Traj_data()#(pkl_traj_file=\"/home/pubuntu/Documents/InternWork2/Pkl_file\") \n",
    "\n",
    "    H2B_N_F_0.extracting(num_str,\"both_channels_0015.hdf5\",'primary') \n",
    "    ## Extracting the hdf5 file for the primary channel (H2b)\n",
    "    \n",
    "#    H2B_N_.add_error() ## We had it so that the data won't have to do 0/0\n",
    "\n",
    "    H2B_N_F_0.Add_traj(normalize=True,all_traj=False,average=False,diff=False)## ,num_traj=10) ## (you can reduce the number of traj)\n",
    "    ## Adding Alice's work on tracking to have trajectories\n",
    "\n",
    "    file_loc=\"0015_PCNA.xml\"\n",
    "\n",
    "    H2B_N_F_0.label_finder(file_loc) \n",
    "    ## Finding associated labels by minimizing distance by click and distance of cell\n",
    "\n",
    "    H2B_N_F_0.renaming_and_merge() \n",
    "    ## renaming the labels to have G1==\"1\", S==\"S\", G2==\"2\" and M==\"M\" \n",
    "    #This procedure may take a long time.\n",
    "\n",
    "    H2B_N_F_0.data.to_csv('H2B_N_F_0.csv',index=False,header=True)\n",
    "\n",
    "    \n",
    "\n",
    "if H2B_N_F_0.Var_missing[0] in H2B_N_F_0.train.columns:\n",
    "    H2B_N_F_0.missing_features_train()\n",
    "if H2B_N_F_0.Var_missing[0] in H2B_N_F_0.data.columns:\n",
    "    H2B_N_F_0.missing_features_data()\n",
    "\n",
    "    \n",
    "    "
   ]
  },
  {
   "cell_type": "code",
   "execution_count": 102,
   "metadata": {
    "collapsed": false
   },
   "outputs": [
    {
     "name": "stdout",
     "output_type": "stream",
     "text": [
      "MitoCheck_Read()\n",
      "Updated member Group_of_traj\n"
     ]
    }
   ],
   "source": [
    "MitoCheck = MitoCheck_Read()\n",
    "\n",
    "if MitoCheck.Var_missing[0] in MitoCheck.data.columns:\n",
    "    MitoCheck.missing_features()\n"
   ]
  },
  {
   "cell_type": "markdown",
   "metadata": {},
   "source": [
    "# Preparing the classifier and prediction:\n",
    "\n",
    "## Mitose or Not?\n",
    "\n",
    "### Training: "
   ]
  },
  {
   "cell_type": "code",
   "execution_count": 7,
   "metadata": {
    "collapsed": false
   },
   "outputs": [
    {
     "name": "stdout",
     "output_type": "stream",
     "text": [
      "\n",
      " We first load the unnormalized data: \n",
      "\n",
      "The file existed so I loaded it.\n",
      "Traj_data built\n",
      "Reader constructed\n",
      "Updated member Group_of_traj\n",
      "\n",
      " We train a classifier for mitosis or not: \n",
      "\n",
      "Reader constructed\n",
      "Processing time: 246.932864 in sec\n"
     ]
    },
    {
     "name": "stderr",
     "output_type": "stream",
     "text": [
      "/home/pubuntu/anaconda2/lib/python2.7/site-packages/IPython/core/interactiveshell.py:3066: DtypeWarning: Columns (245) have mixed types. Specify dtype option on import or set low_memory=False.\n",
      "  exec(code_obj, self.user_global_ns, self.user_ns)\n"
     ]
    },
    {
     "data": {
      "image/png": "[encoded data removed]",
      "text/plain": [
       "<matplotlib.figure.Figure at 0x7fb1637c5090>"
      ]
     },
     "metadata": {},
     "output_type": "display_data"
    },
    {
     "data": {
      "image/png": "[encoded data removed]",
      "text/plain": [
       "<matplotlib.figure.Figure at 0x7fb1498bca50>"
      ]
     },
     "metadata": {},
     "output_type": "display_data"
    },
    {
     "name": "stdout",
     "output_type": "stream",
     "text": [
      "Updated member Group_of_traj\n",
      "Updated member Group_of_traj\n",
      "\n",
      " A bit of statistics on the overall predictions: \n",
      "\n",
      "Frequency of predicted values for the Mitosis or not classifier: \n",
      "\n",
      "O    14854\n",
      "S    14081\n",
      "M      879\n",
      "Name: MitoseOrNot, dtype: int64\n",
      "\n",
      " We were however not able to predict 0 instances because of missing values\n",
      "Updated member Group_of_traj\n"
     ]
    }
   ],
   "source": [
    "H2B_N_F_0,model_1=MitoseClassif(H2B_N_F_0,\n",
    "                                y_name_3state=y_name_3state,\n",
    "                               classif_Mitose=classif_Mitose,\n",
    "                               num_str=num_str)"
   ]
  },
  {
   "cell_type": "markdown",
   "metadata": {},
   "source": [
    "### Predicting in MitoCheck dataset"
   ]
  },
  {
   "cell_type": "code",
   "execution_count": 103,
   "metadata": {
    "collapsed": false
   },
   "outputs": [
    {
     "name": "stdout",
     "output_type": "stream",
     "text": [
      "Size of the data set: 18557\n",
      "Number of dropped values: 0\n",
      "A bit of descriptive statistic about the prediction on MitoCheck: \n",
      "\n"
     ]
    },
    {
     "data": {
      "text/plain": [
       "S    13727\n",
       "O     4205\n",
       "M      625\n",
       "Name: MitoseOrNot, dtype: int64"
      ]
     },
     "execution_count": 103,
     "metadata": {},
     "output_type": "execute_result"
    }
   ],
   "source": [
    "MitoCheck.data=MitoCheck.data.replace([np.inf, -np.inf], np.nan)\n",
    "\n",
    "instances_to_keep_Mito=MitoCheck.data.dropna(axis=0, how='any').index\n",
    "\n",
    "print \"Size of the data set: %d\" %MitoCheck.data.shape[0]\n",
    "print \"Number of dropped values: %d\" %(MitoCheck.data.shape[0]-len(instances_to_keep_Mito))\n",
    "\n",
    "MitoCheck.data.ix[instances_to_keep_Mito,classif_Mitose]=model_1.predict(MitoCheck.data.ix[instances_to_keep_Mito,model_1.names_to_give])\n",
    "\n",
    "print \"A bit of descriptive statistic about the prediction on MitoCheck: \\n\"\n",
    "MitoCheck.data[classif_Mitose].value_counts()"
   ]
  },
  {
   "cell_type": "markdown",
   "metadata": {},
   "source": [
    "## 3 State classifier"
   ]
  },
  {
   "cell_type": "code",
   "execution_count": 9,
   "metadata": {
    "collapsed": false
   },
   "outputs": [
    {
     "name": "stdout",
     "output_type": "stream",
     "text": [
      "Updated member Group_of_traj\n",
      "training dataset: \n",
      "\n",
      "S    217\n",
      "1    199\n",
      "2     56\n",
      "M     36\n",
      "Name: Type, dtype: int64\n",
      "Processing time: 24.128684 in sec\n"
     ]
    },
    {
     "data": {
      "image/png": "[encoded data removed]",
      "text/plain": [
       "<matplotlib.figure.Figure at 0x7fb132623e10>"
      ]
     },
     "metadata": {},
     "output_type": "display_data"
    },
    {
     "name": "stdout",
     "output_type": "stream",
     "text": [
      "We now have a classifier with n=240, with an expected accuracy of 0.752 for the normalized data. \n",
      "\n"
     ]
    },
    {
     "data": {
      "image/png": "[encoded data removed]",
      "text/plain": [
       "<matplotlib.figure.Figure at 0x7fb132162350>"
      ]
     },
     "metadata": {},
     "output_type": "display_data"
    },
    {
     "data": {
      "image/png": "[encoded data removed]",
      "text/plain": [
       "<matplotlib.figure.Figure at 0x7fb1327511d0>"
      ]
     },
     "metadata": {},
     "output_type": "display_data"
    },
    {
     "name": "stdout",
     "output_type": "stream",
     "text": [
      "Frequency of predicted values for the 3 state classifier: \n",
      "\n",
      "1    15867\n",
      "S    12714\n",
      "2     1233\n",
      "Name: 3state, dtype: int64\n"
     ]
    }
   ],
   "source": [
    "## classifier number 1\n",
    "\n",
    "###\n",
    "kfold=3\n",
    "\n",
    "instances_to_keep=pd.notnull(H2B_N_F_0.data.traj)\n",
    "\n",
    "H2B_N_F_0.data=H2B_N_F_0.data.ix[instances_to_keep,H2B_N_F_0.data.columns]\n",
    "\n",
    "instances_to_change=H2B_N_F_0.data[\"Type\"]!=\"M\"\n",
    "\n",
    "H2B_N_F_0.update()\n",
    "\n",
    "print \"training dataset: \\n\"\n",
    "print H2B_N_F_0.train[\"Type\"].value_counts()\n",
    "\n",
    "values=[100 + i*10 for i in range(15)]\n",
    "model_n_m=RandomForest_Autotunner(values)\n",
    "\n",
    "model_n_m.tunning(H2B_N_F_0.train.ix[instances_to_change,H2B_N_F_0.names],H2B_N_F_0.train.ix[instances_to_change,\"Type\"],kfold,plot=True,fit_new_model=True)\n",
    "plt.show()\n",
    "\n",
    "i_=np.argmax(model_n_m.MSE)\n",
    "n_tree=values[i_]\n",
    "print \"We now have a classifier with n=%d, with an expected accuracy of %5.3f for the normalized data. \\n\" %(n_tree,max(model_n_m.MSE))\n",
    "\n",
    "\n",
    "plot_matrix(model_n_m.cm,title=\"Confusion matrix unnormalized with normalized data\",names=[\"G1\",\"G2\",\"S\"])\n",
    "plt.show()\n",
    "model_n_m.cm_normalized = model_n_m.cm.astype('float') / model_n_m.cm.sum(axis=1)[:, np.newaxis]\n",
    "plot_matrix(model_n_m.cm_normalized,title=\"Confusion matrix normalized with normalized data\",names=[\"G1\",\"G2\",\"S\"])\n",
    "plt.show() \n",
    "\n",
    "index_no_missing=H2B_N_F_0.data[H2B_N_F_0.names].dropna(axis=0, how='any').index\n",
    "H2B_N_F_0.data.ix[index_no_missing,\"3state\"]=model_n_m.predict(H2B_N_F_0.data.ix[index_no_missing,H2B_N_F_0.names])\n",
    "print \"Frequency of predicted values for the 3 state classifier: \\n\"\n",
    "print H2B_N_F_0.data.ix[index_no_missing,classif_3state].value_counts()"
   ]
  },
  {
   "cell_type": "markdown",
   "metadata": {},
   "source": [
    "### Predicting in the Mitocheck\n",
    "\n",
    "We have to normalize MitoCheck first"
   ]
  },
  {
   "cell_type": "code",
   "execution_count": 104,
   "metadata": {
    "collapsed": false
   },
   "outputs": [
    {
     "name": "stdout",
     "output_type": "stream",
     "text": [
      "Because of missing values I adjusted it, in the case X_t/X_0\n",
      "Size of the data set: 18557\n",
      "Number of dropped values: 55\n",
      "A bit of descriptive statistic about the prediction on MitoCheck: \n",
      "\n"
     ]
    },
    {
     "data": {
      "text/plain": [
       "1    16017\n",
       "S     1829\n",
       "2      656\n",
       "Name: 3state, dtype: int64"
      ]
     },
     "execution_count": 104,
     "metadata": {},
     "output_type": "execute_result"
    }
   ],
   "source": [
    "#MitoCheck.error_names=[el for el in MitoCheck.error_names if el in MitoCheck.data.columns]\n",
    "\n",
    "\n",
    "MitoCheck.Normalize(division=True,average=False)  \n",
    "\n",
    "MitoCheck.data=MitoCheck.data.replace([np.inf, -np.inf], np.nan)\n",
    "\n",
    "instances_to_keep_Mito=MitoCheck.data.dropna(axis=0, how='any').index\n",
    "\n",
    "print \"Size of the data set: %d\" %MitoCheck.data.shape[0]\n",
    "print \"Number of dropped values: %d\" %(MitoCheck.data.shape[0]-len(instances_to_keep_Mito))\n",
    "\n",
    "MitoCheck.data.ix[instances_to_keep_Mito,classif_3state]=model_n_m.predict(MitoCheck.data.loc[instances_to_keep_Mito,H2B_N_F_0.names])\n",
    "\n",
    "print \"A bit of descriptive statistic about the prediction on MitoCheck: \\n\"\n",
    "MitoCheck.data[classif_3state].value_counts()\n",
    "\n"
   ]
  },
  {
   "cell_type": "markdown",
   "metadata": {},
   "source": [
    "# The hidden markov model\n",
    "## Preparing the data\n",
    "\n",
    "### Emission matrix from the two previous models"
   ]
  },
  {
   "cell_type": "code",
   "execution_count": 11,
   "metadata": {
    "collapsed": false
   },
   "outputs": [
    {
     "name": "stdout",
     "output_type": "stream",
     "text": [
      "\n",
      " We compute the emission state probability matrix from the confusion matrix for the first classifier: \n",
      "\n"
     ]
    },
    {
     "data": {
      "image/png": "[encoded data removed]",
      "text/plain": [
       "<matplotlib.figure.Figure at 0x7fb132078590>"
      ]
     },
     "metadata": {},
     "output_type": "display_data"
    }
   ],
   "source": [
    "EmissionMat_=EmissionMat(model_1,model_n_m)\n",
    "%Rpush EmissionMat_"
   ]
  },
  {
   "cell_type": "markdown",
   "metadata": {},
   "source": [
    "### Preparing the training data to infer different parameters in the hidden markov chain"
   ]
  },
  {
   "cell_type": "code",
   "execution_count": 105,
   "metadata": {
    "collapsed": false
   },
   "outputs": [
    {
     "name": "stdout",
     "output_type": "stream",
     "text": [
      "\n",
      " We prioritize our predictor of mitosis events before the 3 state classfier giving \n",
      " us a four state classifier. \n",
      "\n",
      "Frequency of predicted values for the 4 state classifier: \n",
      "\n",
      "1    14993\n",
      "S    12710\n",
      "2     1232\n",
      "M      879\n",
      "Name: Pred_fusion, dtype: int64\n",
      "Updated member Group_of_traj\n"
     ]
    },
    {
     "data": {
      "text/html": [
       "<div>\n",
       "<table border=\"1\" class=\"dataframe\">\n",
       "  <thead>\n",
       "    <tr style=\"text-align: right;\">\n",
       "      <th></th>\n",
       "      <th>traj</th>\n",
       "      <th>0015_id_frame</th>\n",
       "      <th>Pred_fusion</th>\n",
       "    </tr>\n",
       "  </thead>\n",
       "  <tbody>\n",
       "    <tr>\n",
       "      <th>400</th>\n",
       "      <td>0</td>\n",
       "      <td>5</td>\n",
       "      <td>1</td>\n",
       "    </tr>\n",
       "    <tr>\n",
       "      <th>473</th>\n",
       "      <td>0</td>\n",
       "      <td>6</td>\n",
       "      <td>2</td>\n",
       "    </tr>\n",
       "    <tr>\n",
       "      <th>546</th>\n",
       "      <td>0</td>\n",
       "      <td>7</td>\n",
       "      <td>2</td>\n",
       "    </tr>\n",
       "    <tr>\n",
       "      <th>620</th>\n",
       "      <td>0</td>\n",
       "      <td>8</td>\n",
       "      <td>2</td>\n",
       "    </tr>\n",
       "    <tr>\n",
       "      <th>694</th>\n",
       "      <td>0</td>\n",
       "      <td>9</td>\n",
       "      <td>2</td>\n",
       "    </tr>\n",
       "  </tbody>\n",
       "</table>\n",
       "</div>"
      ],
      "text/plain": [
       "     traj  0015_id_frame Pred_fusion\n",
       "400     0              5           1\n",
       "473     0              6           2\n",
       "546     0              7           2\n",
       "620     0              8           2\n",
       "694     0              9           2"
      ]
     },
     "execution_count": 105,
     "metadata": {},
     "output_type": "execute_result"
    }
   ],
   "source": [
    "H2B_N_F_0,data=prep_for_R(H2B_N_F_0,\n",
    "           classif_3state=classif_3state,\n",
    "           classif_final=classif_final,\n",
    "           classif_Mitose=classif_Mitose,\n",
    "           num_str=num_str)\n",
    "\n",
    "%Rpush data\n",
    "\n",
    "data.head()"
   ]
  },
  {
   "cell_type": "markdown",
   "metadata": {},
   "source": [
    "### Preparing the mitocheck data"
   ]
  },
  {
   "cell_type": "code",
   "execution_count": 106,
   "metadata": {
    "collapsed": false
   },
   "outputs": [
    {
     "name": "stdout",
     "output_type": "stream",
     "text": [
      "\n",
      " We prioritize our predictor of mitosis events before the 3 state classfier giving \n",
      " us a four state classifier. \n",
      "\n",
      "Frequency of predicted values for the 4 state classifier: \n",
      "\n",
      "1    15397\n",
      "S     1826\n",
      "2      654\n",
      "M      625\n",
      "Name: Pred_fusion, dtype: int64\n",
      "Updated member Group_of_traj\n"
     ]
    },
    {
     "data": {
      "text/html": [
       "<div>\n",
       "<table border=\"1\" class=\"dataframe\">\n",
       "  <thead>\n",
       "    <tr style=\"text-align: right;\">\n",
       "      <th></th>\n",
       "      <th>Well</th>\n",
       "      <th>traj</th>\n",
       "      <th>Frame</th>\n",
       "      <th>Pred_fusion</th>\n",
       "    </tr>\n",
       "  </thead>\n",
       "  <tbody>\n",
       "    <tr>\n",
       "      <th>12861</th>\n",
       "      <td>015</td>\n",
       "      <td>135</td>\n",
       "      <td>1</td>\n",
       "      <td>2</td>\n",
       "    </tr>\n",
       "    <tr>\n",
       "      <th>12865</th>\n",
       "      <td>015</td>\n",
       "      <td>135</td>\n",
       "      <td>2</td>\n",
       "      <td>2</td>\n",
       "    </tr>\n",
       "    <tr>\n",
       "      <th>12871</th>\n",
       "      <td>015</td>\n",
       "      <td>135</td>\n",
       "      <td>3</td>\n",
       "      <td>2</td>\n",
       "    </tr>\n",
       "    <tr>\n",
       "      <th>12879</th>\n",
       "      <td>015</td>\n",
       "      <td>135</td>\n",
       "      <td>4</td>\n",
       "      <td>2</td>\n",
       "    </tr>\n",
       "    <tr>\n",
       "      <th>12891</th>\n",
       "      <td>015</td>\n",
       "      <td>135</td>\n",
       "      <td>5</td>\n",
       "      <td>2</td>\n",
       "    </tr>\n",
       "  </tbody>\n",
       "</table>\n",
       "</div>"
      ],
      "text/plain": [
       "      Well  traj  Frame Pred_fusion\n",
       "12861  015   135      1           2\n",
       "12865  015   135      2           2\n",
       "12871  015   135      3           2\n",
       "12879  015   135      4           2\n",
       "12891  015   135      5           2"
      ]
     },
     "execution_count": 106,
     "metadata": {},
     "output_type": "execute_result"
    }
   ],
   "source": [
    "MitoCheck,data_Mito=prep_for_R(MitoCheck,\n",
    "           classif_3state=classif_3state,\n",
    "           classif_final=classif_final,\n",
    "           classif_Mitose=classif_Mitose,\n",
    "           num_str=num_str)\n",
    "\n",
    "%Rpush data_Mito\n",
    "\n",
    "data_Mito.head()"
   ]
  },
  {
   "cell_type": "code",
   "execution_count": 107,
   "metadata": {
    "collapsed": false
   },
   "outputs": [
    {
     "data": {
      "text/plain": [
       "2    15397\n",
       "3     1826\n",
       "4      654\n",
       "5      376\n",
       "1      249\n",
       "Name: Pred_fusion, dtype: int64"
      ]
     },
     "execution_count": 107,
     "metadata": {},
     "output_type": "execute_result"
    }
   ],
   "source": [
    "data_Mito[classif_final].value_counts()"
   ]
  },
  {
   "cell_type": "markdown",
   "metadata": {},
   "source": [
    "## Working under R\n",
    "### Inferering transProbs"
   ]
  },
  {
   "cell_type": "code",
   "execution_count": 108,
   "metadata": {
    "collapsed": false
   },
   "outputs": [
    {
     "data": {
      "text/plain": [
       "[1] \"We are here going to correct the data predicted in the first part  \\n         with a hidden markov where we infere the transition matrix with a \\n         strong prior knowlegde in biology. A five state classifier :\"\n",
       "[1] \"M_E -> G1 -> S -> G2 -> M_E\"\n",
       "[1] \"To assess briefly what is happening, we printed a sequence of observation, sequence number: 0\"\n",
       "  [1] 1 2 2 2 2 2 2 2 2 2 2 2 2 2 2 2 2 2 2 2 2 2 2 2 2 2 2 2 2 2 2 2 2 2 2 2 2\n",
       " [38] 2 2 2 2 2 2 2 2 2 2 2 2 2 2 2 2 2 2 2 2 2 3 2 2 2 2 2 2 3 3 3 2 3 3 3 2 2\n",
       " [75] 2 2 3 3 3 3 3 2 3 3 2 3 3 3 3 2 2 2 3 3 3 2 3 3 3 3 3 3 3 3 3 3 3 3 3 3 3\n",
       "[112] 3 3 3 3 3 3 3 3 3 3 3 3 3 3 3 3 3 3 3 3 3 3 3 4 4 3 4 3 3 3 4 3 3 3 3 3 4\n",
       "[149] 3 3 3 3 3 3 3 3 4 3 3 4 4 3 3 3 3 3 4 3 3 4 3 4 3 3 4 4 4 4 4 3 5 5 5 5 5\n",
       "Levels: 1 2 3 4 5\n",
       "[1] \"To assess briefly what is happening, we printed the corrected sequence, number: 0\"\n",
       "  [1] 1 2 2 2 2 2 2 2 2 2 2 2 2 2 2 2 2 2 2 2 2 2 2 2 2 2 2 2 2 2 2 2 2 2 2 2 2\n",
       " [38] 2 2 2 2 2 2 2 2 2 2 2 2 2 2 2 2 2 2 2 2 2 2 2 2 2 2 2 2 2 2 2 2 2 2 2 2 2\n",
       " [75] 2 2 2 2 2 2 2 2 2 2 2 2 2 2 2 2 2 2 3 3 3 3 3 3 3 3 3 3 3 3 3 3 3 3 3 3 3\n",
       "[112] 3 3 3 3 3 3 3 3 3 3 3 3 3 3 3 3 3 3 3 3 3 3 3 4 4 4 4 4 4 4 4 4 4 4 4 4 4\n",
       "[149] 4 4 4 4 4 4 4 4 4 4 4 4 4 4 4 4 4 4 4 4 4 4 4 4 4 4 4 4 4 4 4 4 5 5 5 5 5\n"
      ]
     },
     "metadata": {},
     "output_type": "display_data"
    }
   ],
   "source": [
    "%%R \n",
    "source(\"HMM_correcting_model.R\")\n",
    "list_obj=HMM_correct(data,EmissionMat_,classif_final,obs_number=0)\n",
    "data=list_obj$new_data\n",
    "mean_t=list_obj$mean_t\n",
    "var_t=list_obj$var_t\n",
    "mean_e=list_obj$mean_e\n",
    "var_e=list_obj$var_e\n",
    "transProbs=list_obj$transProbs"
   ]
  },
  {
   "cell_type": "code",
   "execution_count": 109,
   "metadata": {
    "collapsed": false
   },
   "outputs": [
    {
     "data": {
      "image/png": "[encoded data removed]",
      "text/plain": [
       "<matplotlib.figure.Figure at 0x7fb1322bf590>"
      ]
     },
     "metadata": {},
     "output_type": "display_data"
    },
    {
     "data": {
      "image/png": "[encoded data removed]",
      "text/plain": [
       "<matplotlib.figure.Figure at 0x7fb133345bd0>"
      ]
     },
     "metadata": {},
     "output_type": "display_data"
    },
    {
     "data": {
      "image/png": "[encoded data removed]",
      "text/plain": [
       "<matplotlib.figure.Figure at 0x7fb13b44d1d0>"
      ]
     },
     "metadata": {},
     "output_type": "display_data"
    },
    {
     "data": {
      "image/png": "[encoded data removed]",
      "text/plain": [
       "<matplotlib.figure.Figure at 0x7fb132cca250>"
      ]
     },
     "metadata": {},
     "output_type": "display_data"
    },
    {
     "data": {
      "image/png": "[encoded data removed]",
      "text/plain": [
       "<matplotlib.figure.Figure at 0x7fb135992a10>"
      ]
     },
     "metadata": {},
     "output_type": "display_data"
    }
   ],
   "source": [
    "%Rpull mean_t mean_e var_t var_e transProbs data\n",
    "\n",
    "plot_matrix(mean_t,title=\"Transition matrix infered\",names=[\"M_B\",\"G1\",\"S\",\"G2\",\"M_E\"],cmap=plt.cm.Oranges)\n",
    "plt.show()\n",
    "plot_matrix(var_t,title=\"Variance of coefficents in the transition matrix\",names=[\"M_B\",\"G1\",\"S\",\"G2\",\"M_E\"],cmap=plt.cm.OrRd)\n",
    "plt.show()\n",
    "plot_matrix(mean_e,title=\"Emission matrix infered\",names=[\"M_B\",\"G1\",\"S\",\"G2\",\"M_E\"])\n",
    "plt.show()\n",
    "plot_matrix(var_e,title=\"Variance of coefficents in the emission matrix\",names=[\"M_B\",\"G1\",\"S\",\"G2\",\"M_E\"],cmap=plt.cm.OrRd)\n",
    "plt.show()\n",
    "plot_matrix(transProbs,title=\"Transition matrix used in HMM\",names=[\"M_B\",\"G1\",\"S\",\"G2\",\"M_E\"],cmap=plt.cm.RdGy)\n",
    "plt.show()\n"
   ]
  },
  {
   "cell_type": "code",
   "execution_count": 110,
   "metadata": {
    "collapsed": false
   },
   "outputs": [
    {
     "data": {
      "text/plain": [
       "[1] \"To assess briefly what is happening, we printed the corrected sequence, number: 0\"\n",
       " [1] 2 2 2 2 2 2 2 2 2 2 2 2 2 2 2 2 2 2 2 2 2 2 2 2 2 2 2 2 2 2 2 2 2 2 2 5\n",
       "Levels: 1 2 3 4 5 nan\n",
       " [1] 2 2 2 2 2 2 2 2 2 2 2 2 2 2 2 2 2 2 2 2 2 2 2 2 2 2 2 2 2 2 2 2 2 2 2 2\n",
       "[1] \"Only nan's here...id:\"\n",
       "[1] \"7387\"\n"
      ]
     },
     "metadata": {},
     "output_type": "display_data"
    }
   ],
   "source": [
    "%%R\n",
    "data_Mito=Predict_from_hmm(data_Mito,classif_final,classif_hmm,transProbs,EmissionMat_,startProbs)"
   ]
  },
  {
   "cell_type": "code",
   "execution_count": 124,
   "metadata": {
    "collapsed": false
   },
   "outputs": [],
   "source": [
    "MitoCheck.data=MitoCheck.data.drop(\"HMM\",axis=1)"
   ]
  },
  {
   "cell_type": "code",
   "execution_count": 125,
   "metadata": {
    "collapsed": false
   },
   "outputs": [
    {
     "name": "stdout",
     "output_type": "stream",
     "text": [
      "Here we are going to join the corrected data (from R) to our current data in Python \n",
      " \n",
      "Updated member Group_of_traj\n",
      "We are going to count the lengths of the G1 phase, the S phase and the G2 phase: \n",
      "\n",
      "To quickly asses we print the trajectory and his corrected trajectory, for sequence number:0\n",
      "Pred_fusion: \n",
      "\n",
      "['1' '1' '1' '1' '1' '1' '1' '1' '1' '1' '1' '1' '1' '1' '1' '1' '1' '1'\n",
      " '1' '1' '1' '1' '1' '1' '1' '1' '1' '1' '1' '1' '1' '1' '1' 'E']\n",
      "\n",
      " Corrected HMM: \n",
      "\n",
      "['1' '1' '1' '1' '1' '1' '1' '1' '1' '1' '1' '1' '1' '1' '1' '1' '1' '1'\n",
      " '1' '1' '1' '1' '1' '1' '1' '1' '1' '1' '1' '1' '1' '1' '1' '1']\n",
      "> /home/pubuntu/Documents/InternWork2/auxilary_function.py(242)final_classif_HMM()\n",
      "-> G1_p=[el*ratio for el in G1 if el>-1]\n",
      "(Pdb) c\n",
      "> /home/pubuntu/Documents/InternWork2/auxilary_function.py(247)final_classif_HMM()\n",
      "-> res = {'mean' : pd.Series([np.mean(G1_p), np.mean(S_p), np.mean(G2_p),np.mean(CC_p)], index=['G1', 'S', 'G2','CellCycle']),\n",
      "(Pdb) G1_p\n",
      "[7.5, 28.5, 10.0, 11.0, 14.0, 7.5, 11.5, 13.5, 2.5, 3.5, 2.0, 2.0, 4.0, 9.5, 23.0, 1.0, 12.0, 7.0, 10.5, 11.5, 10.5, 16.5, 12.5, 33.5, 1.5, 19.5, 3.5, 10.0, 8.0, 24.0, 12.5, 8.0, 8.0, 3.0, 4.0, 7.5, 18.0, 9.0, 7.0, 12.0, 22.5, 11.0, 13.5, 10.0, 14.5, 16.5, 18.0, 15.0, 13.0, 16.0, 14.0, 16.0, 19.5, 7.0, 1.0, 11.5, 5.0, 16.0, 14.0, 20.5]\n",
      "(Pdb) np.mean(G1_p)\n",
      "11.583333333333334\n",
      "(Pdb) res\n",
      "           Accepted trajectories  Standard deviation       mean\n",
      "G1                            60            6.759047  11.583333\n",
      "S                             50            3.824252   6.010000\n",
      "G2                            50            5.123719   5.150000\n",
      "CellCycle                     50            5.853418  21.650000\n",
      "(Pdb) pd.DataFrame(G1_p)\n",
      "       0\n",
      "0    7.5\n",
      "1   28.5\n",
      "2   10.0\n",
      "3   11.0\n",
      "4   14.0\n",
      "5    7.5\n",
      "6   11.5\n",
      "7   13.5\n",
      "8    2.5\n",
      "9    3.5\n",
      "10   2.0\n",
      "11   2.0\n",
      "12   4.0\n",
      "13   9.5\n",
      "14  23.0\n",
      "15   1.0\n",
      "16  12.0\n",
      "17   7.0\n",
      "18  10.5\n",
      "19  11.5\n",
      "20  10.5\n",
      "21  16.5\n",
      "22  12.5\n",
      "23  33.5\n",
      "24   1.5\n",
      "25  19.5\n",
      "26   3.5\n",
      "27  10.0\n",
      "28   8.0\n",
      "29  24.0\n",
      "30  12.5\n",
      "31   8.0\n",
      "32   8.0\n",
      "33   3.0\n",
      "34   4.0\n",
      "35   7.5\n",
      "36  18.0\n",
      "37   9.0\n",
      "38   7.0\n",
      "39  12.0\n",
      "40  22.5\n",
      "41  11.0\n",
      "42  13.5\n",
      "43  10.0\n",
      "44  14.5\n",
      "45  16.5\n",
      "46  18.0\n",
      "47  15.0\n",
      "48  13.0\n",
      "49  16.0\n",
      "50  14.0\n",
      "51  16.0\n",
      "52  19.5\n",
      "53   7.0\n",
      "54   1.0\n",
      "55  11.5\n",
      "56   5.0\n",
      "57  16.0\n",
      "58  14.0\n",
      "59  20.5\n",
      "(Pdb) pd.DataFrame(res)\n",
      "           Accepted trajectories  Standard deviation       mean\n",
      "G1                            60            6.759047  11.583333\n",
      "S                             50            3.824252   6.010000\n",
      "G2                            50            5.123719   5.150000\n",
      "CellCycle                     50            5.853418  21.650000\n",
      "(Pdb) c\n"
     ]
    }
   ],
   "source": [
    "%Rpull data_Mito\n",
    "execfile('auxilary_function.py')\n",
    "MitoCheck,res=final_classif_HMM(data_Mito,MitoCheck,\n",
    "                  y_name_3state=y_name_3state,classif_Mitose=classif_Mitose,\n",
    "                  classif_3state=classif_3state,classif_final=classif_final,\n",
    "                              classif_hmm=classif_hmm,\n",
    "                             ratio=0.5)"
   ]
  },
  {
   "cell_type": "code",
   "execution_count": 126,
   "metadata": {
    "collapsed": false
   },
   "outputs": [
    {
     "data": {
      "text/html": [
       "<div>\n",
       "<table border=\"1\" class=\"dataframe\">\n",
       "  <thead>\n",
       "    <tr style=\"text-align: right;\">\n",
       "      <th></th>\n",
       "      <th>Accepted trajectories</th>\n",
       "      <th>Standard deviation</th>\n",
       "      <th>mean</th>\n",
       "    </tr>\n",
       "  </thead>\n",
       "  <tbody>\n",
       "    <tr>\n",
       "      <th>G1</th>\n",
       "      <td>60</td>\n",
       "      <td>6.759047</td>\n",
       "      <td>11.583333</td>\n",
       "    </tr>\n",
       "    <tr>\n",
       "      <th>S</th>\n",
       "      <td>50</td>\n",
       "      <td>3.824252</td>\n",
       "      <td>6.010000</td>\n",
       "    </tr>\n",
       "    <tr>\n",
       "      <th>G2</th>\n",
       "      <td>50</td>\n",
       "      <td>5.123719</td>\n",
       "      <td>5.150000</td>\n",
       "    </tr>\n",
       "    <tr>\n",
       "      <th>CellCycle</th>\n",
       "      <td>50</td>\n",
       "      <td>5.853418</td>\n",
       "      <td>21.650000</td>\n",
       "    </tr>\n",
       "  </tbody>\n",
       "</table>\n",
       "</div>"
      ],
      "text/plain": [
       "           Accepted trajectories  Standard deviation       mean\n",
       "G1                            60            6.759047  11.583333\n",
       "S                             50            3.824252   6.010000\n",
       "G2                            50            5.123719   5.150000\n",
       "CellCycle                     50            5.853418  21.650000"
      ]
     },
     "execution_count": 126,
     "metadata": {},
     "output_type": "execute_result"
    }
   ],
   "source": [
    "res"
   ]
  }
 ],
 "metadata": {
  "kernelspec": {
   "display_name": "Python 2",
   "language": "python",
   "name": "python2"
  },
  "language_info": {
   "codemirror_mode": {
    "name": "ipython",
    "version": 2
   },
   "file_extension": ".py",
   "mimetype": "text/x-python",
   "name": "python",
   "nbconvert_exporter": "python",
   "pygments_lexer": "ipython2",
   "version": "2.7.10"
  }
 },
 "nbformat": 4,
 "nbformat_minor": 0
}
