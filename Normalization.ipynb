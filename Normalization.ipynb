{
 "cells": [
  {
   "cell_type": "markdown",
   "metadata": {},
   "source": [
    "# Different normalization processes:"
   ]
  },
  {
   "cell_type": "code",
   "execution_count": 1,
   "metadata": {
    "collapsed": false
   },
   "outputs": [],
   "source": [
    "### All the packages we need:\n",
    "%matplotlib inline\n",
    "%load_ext rpy2.ipython\n",
    "\n",
    "from Reader import Reader\n",
    "from Randomforest import RandomForest_Autotunner,plot_matrix,Measure,check_rotate\n",
    "from Traj_creator import Traj_data\n",
    "\n",
    "import random\n",
    "import numpy as np\n",
    "import pandas as pd\n",
    "import matplotlib.pyplot as plt\n",
    "\n",
    "import os.path\n",
    "import cPickle as pkl\n"
   ]
  },
  {
   "cell_type": "markdown",
   "metadata": {},
   "source": [
    "Code for files:\n",
    "- H2B_ NORMALISED OR NOT (N or U) _ DIFF or not ( D or F(fraction)) or 0 or A all\n",
    "Created files with orignal features $(X_t)_{t \\in \\textbf{N}}$ for a certain trajectory:\n",
    "- H2B_U (or H2B_U_F_0) : $v_t=X_t$\n",
    "- H2B_N_F_0 $v_t=\\frac{X_t}{X_0}$\n",
    "- H2B_N_F_A $v_t=\\frac{X_t}{\\bar{X}}$\n",
    "- H2B_N_D_0 $v_t=X_t-X_0$\n",
    "- H2B_N_D_A $v_t=X_t-\\bar{X}$ (Like in panel data)"
   ]
  },
  {
   "cell_type": "code",
   "execution_count": 2,
   "metadata": {
    "collapsed": true
   },
   "outputs": [],
   "source": [
    "num_str=\"0015\"  ## Well name"
   ]
  },
  {
   "cell_type": "code",
   "execution_count": 4,
   "metadata": {
    "collapsed": false
   },
   "outputs": [
    {
     "name": "stdout",
     "output_type": "stream",
     "text": [
      "The file existed so I loaded it.\n",
      "Traj_data built\n",
      "Reader constructed\n",
      "Updated member Group_of_traj\n"
     ]
    },
    {
     "name": "stderr",
     "output_type": "stream",
     "text": [
      "/home/pubuntu/anaconda2/lib/python2.7/site-packages/IPython/core/interactiveshell.py:3006: DtypeWarning: Columns (245) have mixed types. Specify dtype option on import or set low_memory=False.\n",
      "  if self.run_code(code, result):\n"
     ]
    }
   ],
   "source": [
    "## Well name\n",
    "\n",
    "if os.path.isfile(\"H2B_U_F_0.csv\"):\n",
    "    print \"The file existed so I loaded it.\"\n",
    "    H2B_U_F_0 = Traj_data(file_name=\"H2B_U_F_0.csv\",pkl_traj_file=\"./Pkl_file\") \n",
    "    H2B_U_F_0.caract=\"Unnormalized\"\n",
    "\n",
    "else:    \n",
    "    H2B_U_F_0=Traj_data() \n",
    "\n",
    "    H2B_U_F_0.extracting(num_str,\"both_channels_0015.hdf5\",'primary') \n",
    "    ## Extracting the hdf5 file for the primary channel (H2b)\n",
    "\n",
    "    H2B_U_F_0.Add_traj(normalize=False,all_traj=True,average=False,diff=False)## ,num_traj=10) ## (you can reduce the number of traj)\n",
    "    ## Adding Alice's work on tracking to have trajectories\n",
    "\n",
    "    file_loc=\"0015_PCNA.xml\"\n",
    "\n",
    "    H2B_U_F_0.label_finder(file_loc) \n",
    "    ## Finding associated labels by minimizing distance by click and distance of cell\n",
    "\n",
    "    H2B_U_F_0.renaming_and_merge() \n",
    "    ## renaming the labels to have G1==\"1\", S==\"S\", G2==\"2\" and M==\"M\" \n",
    "    #This procedure may take a long time.\n",
    "    H2B_U_F_0.data.to_csv('H2B_U_F_0.csv',index=False,header=True)    "
   ]
  },
  {
   "cell_type": "code",
   "execution_count": 5,
   "metadata": {
    "collapsed": false
   },
   "outputs": [
    {
     "name": "stdout",
     "output_type": "stream",
     "text": [
      "The file existed so I loaded it.\n",
      "Traj_data built\n",
      "Reader constructed\n",
      "Updated member Group_of_traj\n"
     ]
    }
   ],
   "source": [
    "## Well name\n",
    "\n",
    "if os.path.isfile(\"H2B_N_F_0.csv\"):\n",
    "    print \"The file existed so I loaded it.\"\n",
    "    H2B_N_F_0 = Traj_data(file_name=\"H2B_N_F_0.csv\",pkl_traj_file=\"./Pkl_file\") \n",
    "    H2B_N_F_0.caract=\"Normalized by divided by first element\"\n",
    "else:    \n",
    "    H2B_N_F_0=Traj_data() \n",
    "\n",
    "    H2B_N_F_0.extracting(num_str,\"both_channels_0015.hdf5\",'primary') \n",
    "    ## Extracting the hdf5 file for the primary channel (H2b)\n",
    "    \n",
    "    H2B_N_.add_error() ## We had it so that the data won't have to do 0/0\n",
    "\n",
    "    H2B_N_F_0.Add_traj(normalize=True,all_traj=False,average=False,diff=False)## ,num_traj=10) ## (you can reduce the number of traj)\n",
    "    ## Adding Alice's work on tracking to have trajectories\n",
    "\n",
    "    file_loc=\"0015_PCNA.xml\"\n",
    "\n",
    "    H2B_N_F_0.label_finder(file_loc) \n",
    "    ## Finding associated labels by minimizing distance by click and distance of cell\n",
    "\n",
    "    H2B_N_F_0.renaming_and_merge() \n",
    "    ## renaming the labels to have G1==\"1\", S==\"S\", G2==\"2\" and M==\"M\" \n",
    "    #This procedure may take a long time.\n",
    "\n",
    "    H2B_N_F_0.data.to_csv('H2B_N_F_0.csv',index=False,header=True)    "
   ]
  },
  {
   "cell_type": "code",
   "execution_count": 6,
   "metadata": {
    "collapsed": false
   },
   "outputs": [
    {
     "name": "stdout",
     "output_type": "stream",
     "text": [
      "The file existed so I loaded it.\n",
      "Traj_data built\n",
      "Reader constructed\n",
      "Updated member Group_of_traj\n"
     ]
    }
   ],
   "source": [
    "## Well name\n",
    "\n",
    "if os.path.isfile(\"H2B_N_D_0.csv\"):\n",
    "    print \"The file existed so I loaded it.\"\n",
    "    H2B_N_D_0 = Traj_data(file_name=\"H2B_N_D_0.csv\",pkl_traj_file=\"./Pkl_file\") \n",
    "    H2B_N_D_0.caract=\"Normalized by subtracted by first element\"\n",
    "\n",
    "else:    \n",
    "    H2B_N_D_0=Traj_data()#(pkl_traj_file=\"/home/pubuntu/Documents/InternWork2/Pkl_file\") \n",
    "\n",
    "    H2B_N_D_0.extracting(num_str,\"both_channels_0015.hdf5\",'primary') \n",
    "    ## Extracting the hdf5 file for the primary channel (H2b)\n",
    "    \n",
    "#    H2B_N_.add_error() ## We had it so that the data won't have to do 0/0\n",
    "\n",
    "    H2B_N_D_0.Add_traj(normalize=True,all_traj=False,average=False,diff=True)## ,num_traj=10) ## (you can reduce the number of traj)\n",
    "    ## Adding Alice's work on tracking to have trajectories\n",
    "\n",
    "    file_loc=\"0015_PCNA.xml\"\n",
    "\n",
    "    H2B_N_D_0.label_finder(file_loc) \n",
    "    ## Finding associated labels by minimizing distance by click and distance of cell\n",
    "\n",
    "    H2B_N_D_0.renaming_and_merge() \n",
    "    ## renaming the labels to have G1==\"1\", S==\"S\", G2==\"2\" and M==\"M\" \n",
    "    #This procedure may take a long time.\n",
    "\n",
    "    H2B_N_D_0.data.to_csv('H2B_N_D_0.csv',index=False,header=True)    "
   ]
  },
  {
   "cell_type": "code",
   "execution_count": 7,
   "metadata": {
    "collapsed": false
   },
   "outputs": [
    {
     "name": "stdout",
     "output_type": "stream",
     "text": [
      "The file existed so I loaded it.\n",
      "Traj_data built\n",
      "Reader constructed\n",
      "Updated member Group_of_traj\n"
     ]
    }
   ],
   "source": [
    "## Well name\n",
    "\n",
    "if os.path.isfile(\"H2B_N_D_A.csv\"):\n",
    "    print \"The file existed so I loaded it.\"\n",
    "    H2B_N_D_A = Traj_data(file_name=\"H2B_N_D_A.csv\",pkl_traj_file=\"./Pkl_file\") \n",
    "    H2B_N_D_A.caract=\"Normalized by subtracted by average\"\n",
    "\n",
    "else:    \n",
    "    H2B_N_D_A=Traj_data()#(pkl_traj_file=\"/home/pubuntu/Documents/InternWork2/Pkl_file\") \n",
    "\n",
    "    H2B_N_D_A.extracting(num_str,\"both_channels_0015.hdf5\",'primary') \n",
    "    ## Extracting the hdf5 file for the primary channel (H2b)\n",
    "    \n",
    "#    H2B_N_D_A.add_error() ## We had it so that the data won't have to do 0/0\n",
    "\n",
    "    H2B_N_D_A.Add_traj(normalize=True,all_traj=True,average=True,diff=True)## ,num_traj=10) ## (you can reduce the number of traj)\n",
    "    ## Adding Alice's work on tracking to have trajectories\n",
    "\n",
    "    file_loc=\"0015_PCNA.xml\"\n",
    "\n",
    "    H2B_N_D_A.label_finder(file_loc) \n",
    "    ## Finding associated labels by minimizing distance by click and distance of cell\n",
    "\n",
    "    H2B_N_D_A.renaming_and_merge() \n",
    "    ## renaming the labels to have G1==\"1\", S==\"S\", G2==\"2\" and M==\"M\" \n",
    "    #This procedure may take a long time.\n",
    "    \n",
    "    H2B_N_D_A.data.to_csv('H2B_N_D_A.csv',index=False,header=True)    "
   ]
  },
  {
   "cell_type": "code",
   "execution_count": 8,
   "metadata": {
    "collapsed": false
   },
   "outputs": [
    {
     "name": "stdout",
     "output_type": "stream",
     "text": [
      "The file existed so I loaded it.\n",
      "Traj_data built\n",
      "Reader constructed\n",
      "Updated member Group_of_traj\n"
     ]
    }
   ],
   "source": [
    "## Well name\n",
    "\n",
    "if os.path.isfile(\"H2B_N_F_A.csv\"):\n",
    "    print \"The file existed so I loaded it.\"\n",
    "    H2B_N_F_A = Traj_data(file_name=\"H2B_N_F_A.csv\",pkl_traj_file=\"./Pkl_file\") \n",
    "    H2B_N_F_A.caract=\"Normalized by dividing by average\"\n",
    "else:    \n",
    "    H2B_N_F_A=Traj_data()#(pkl_traj_file=\"/home/pubuntu/Documents/InternWork2/Pkl_file\") \n",
    "\n",
    "    H2B_N_F_A.extracting(num_str,\"both_channels_0015.hdf5\",'primary') \n",
    "    ## Extracting the hdf5 file for the primary channel (H2b)\n",
    "    \n",
    "#    H2B_N_F_A.add_error() ## We had it so that the data won't have to do 0/0\n",
    "\n",
    "    H2B_N_F_A.Add_traj(normalize=True,all_traj=True,average=True,diff=False)## ,num_traj=10) ## (you can reduce the number of traj)\n",
    "    ## Adding Alice's work on tracking to have trajectories\n",
    "\n",
    "    file_loc=\"0015_PCNA.xml\"\n",
    "\n",
    "    H2B_N_F_A.label_finder(file_loc) \n",
    "    ## Finding associated labels by minimizing distance by click and distance of cell\n",
    "\n",
    "    H2B_N_F_A.renaming_and_merge() \n",
    "    ## renaming the labels to have G1==\"1\", S==\"S\", G2==\"2\" and M==\"M\" \n",
    "    #This procedure may take a long time.\n",
    "\n",
    "    H2B_N_F_A.data.to_csv('H2B_N_F_A.csv',index=False,header=True)    "
   ]
  },
  {
   "cell_type": "code",
   "execution_count": 9,
   "metadata": {
    "collapsed": false
   },
   "outputs": [
    {
     "data": {
      "text/html": [
       "<div>\n",
       "<table border=\"1\" class=\"dataframe\">\n",
       "  <thead>\n",
       "    <tr style=\"text-align: right;\">\n",
       "      <th></th>\n",
       "      <th>h2_2average</th>\n",
       "      <th>h4_VAR</th>\n",
       "      <th>moment_I4</th>\n",
       "      <th>ch_max_val_1</th>\n",
       "      <th>h8_2SHA</th>\n",
       "      <th>0015_id_frame</th>\n",
       "    </tr>\n",
       "  </thead>\n",
       "  <tbody>\n",
       "    <tr>\n",
       "      <th>400</th>\n",
       "      <td>0.000000</td>\n",
       "      <td>0.000000</td>\n",
       "      <td>0.000000</td>\n",
       "      <td>0.000000</td>\n",
       "      <td>0.000000</td>\n",
       "      <td>5</td>\n",
       "    </tr>\n",
       "    <tr>\n",
       "      <th>473</th>\n",
       "      <td>5.048266</td>\n",
       "      <td>-0.571816</td>\n",
       "      <td>-0.000004</td>\n",
       "      <td>-0.007596</td>\n",
       "      <td>-1621.023717</td>\n",
       "      <td>6</td>\n",
       "    </tr>\n",
       "    <tr>\n",
       "      <th>546</th>\n",
       "      <td>5.071114</td>\n",
       "      <td>-0.583864</td>\n",
       "      <td>-0.000003</td>\n",
       "      <td>-0.003660</td>\n",
       "      <td>-3192.357492</td>\n",
       "      <td>7</td>\n",
       "    </tr>\n",
       "    <tr>\n",
       "      <th>620</th>\n",
       "      <td>4.274439</td>\n",
       "      <td>-0.730921</td>\n",
       "      <td>-0.000004</td>\n",
       "      <td>-0.005339</td>\n",
       "      <td>-3287.557488</td>\n",
       "      <td>8</td>\n",
       "    </tr>\n",
       "    <tr>\n",
       "      <th>694</th>\n",
       "      <td>4.604741</td>\n",
       "      <td>-0.816192</td>\n",
       "      <td>-0.000003</td>\n",
       "      <td>-0.003295</td>\n",
       "      <td>-4155.211172</td>\n",
       "      <td>9</td>\n",
       "    </tr>\n",
       "  </tbody>\n",
       "</table>\n",
       "</div>"
      ],
      "text/plain": [
       "     h2_2average    h4_VAR  moment_I4  ch_max_val_1      h8_2SHA  \\\n",
       "400     0.000000  0.000000   0.000000      0.000000     0.000000   \n",
       "473     5.048266 -0.571816  -0.000004     -0.007596 -1621.023717   \n",
       "546     5.071114 -0.583864  -0.000003     -0.003660 -3192.357492   \n",
       "620     4.274439 -0.730921  -0.000004     -0.005339 -3287.557488   \n",
       "694     4.604741 -0.816192  -0.000003     -0.003295 -4155.211172   \n",
       "\n",
       "     0015_id_frame  \n",
       "400              5  \n",
       "473              6  \n",
       "546              7  \n",
       "620              8  \n",
       "694              9  "
      ]
     },
     "execution_count": 9,
     "metadata": {},
     "output_type": "execute_result"
    }
   ],
   "source": [
    "_rand_index_train=(random.sample(H2B_N_D_0.train.index,5))\n",
    "_rand_col  = random.sample(H2B_N_D_0.names,5)\n",
    "traj=0\n",
    "obj=H2B_N_D_0\n",
    "obj.data.ix[obj.data[\"traj\"]==traj,_rand_col+[num_str+\"_id_frame\"]].head()"
   ]
  },
  {
   "cell_type": "code",
   "execution_count": 10,
   "metadata": {
    "collapsed": false
   },
   "outputs": [
    {
     "data": {
      "text/html": [
       "<div>\n",
       "<table border=\"1\" class=\"dataframe\">\n",
       "  <thead>\n",
       "    <tr style=\"text-align: right;\">\n",
       "      <th></th>\n",
       "      <th>h2_2average</th>\n",
       "      <th>h4_VAR</th>\n",
       "      <th>moment_I4</th>\n",
       "      <th>ch_max_val_1</th>\n",
       "      <th>h8_2SHA</th>\n",
       "      <th>0015_id_frame</th>\n",
       "    </tr>\n",
       "  </thead>\n",
       "  <tbody>\n",
       "    <tr>\n",
       "      <th>0</th>\n",
       "      <td>0.079528</td>\n",
       "      <td>-0.073973</td>\n",
       "      <td>-0.00004</td>\n",
       "      <td>-0.008417</td>\n",
       "      <td>681.950414</td>\n",
       "      <td>0</td>\n",
       "    </tr>\n",
       "    <tr>\n",
       "      <th>71</th>\n",
       "      <td>-1.892067</td>\n",
       "      <td>-0.073973</td>\n",
       "      <td>-0.00004</td>\n",
       "      <td>-0.006711</td>\n",
       "      <td>-175.978281</td>\n",
       "      <td>1</td>\n",
       "    </tr>\n",
       "    <tr>\n",
       "      <th>140</th>\n",
       "      <td>0.677485</td>\n",
       "      <td>-0.073973</td>\n",
       "      <td>-0.00004</td>\n",
       "      <td>-0.004862</td>\n",
       "      <td>1077.972047</td>\n",
       "      <td>2</td>\n",
       "    </tr>\n",
       "    <tr>\n",
       "      <th>211</th>\n",
       "      <td>-0.980227</td>\n",
       "      <td>-0.073973</td>\n",
       "      <td>-0.00004</td>\n",
       "      <td>-0.006723</td>\n",
       "      <td>321.980592</td>\n",
       "      <td>3</td>\n",
       "    </tr>\n",
       "    <tr>\n",
       "      <th>283</th>\n",
       "      <td>-0.326250</td>\n",
       "      <td>-0.073973</td>\n",
       "      <td>-0.00004</td>\n",
       "      <td>-0.006613</td>\n",
       "      <td>668.820992</td>\n",
       "      <td>4</td>\n",
       "    </tr>\n",
       "  </tbody>\n",
       "</table>\n",
       "</div>"
      ],
      "text/plain": [
       "     h2_2average    h4_VAR  moment_I4  ch_max_val_1      h8_2SHA  \\\n",
       "0       0.079528 -0.073973   -0.00004     -0.008417   681.950414   \n",
       "71     -1.892067 -0.073973   -0.00004     -0.006711  -175.978281   \n",
       "140     0.677485 -0.073973   -0.00004     -0.004862  1077.972047   \n",
       "211    -0.980227 -0.073973   -0.00004     -0.006723   321.980592   \n",
       "283    -0.326250 -0.073973   -0.00004     -0.006613   668.820992   \n",
       "\n",
       "     0015_id_frame  \n",
       "0                0  \n",
       "71               1  \n",
       "140              2  \n",
       "211              3  \n",
       "283              4  "
      ]
     },
     "execution_count": 10,
     "metadata": {},
     "output_type": "execute_result"
    }
   ],
   "source": [
    "obj=H2B_N_D_A\n",
    "obj.data.ix[obj.data[\"traj\"]==traj,_rand_col+[num_str+\"_id_frame\"]].head()"
   ]
  },
  {
   "cell_type": "code",
   "execution_count": 11,
   "metadata": {
    "collapsed": false
   },
   "outputs": [
    {
     "data": {
      "text/html": [
       "<div>\n",
       "<table border=\"1\" class=\"dataframe\">\n",
       "  <thead>\n",
       "    <tr style=\"text-align: right;\">\n",
       "      <th></th>\n",
       "      <th>h2_2average</th>\n",
       "      <th>h4_VAR</th>\n",
       "      <th>moment_I4</th>\n",
       "      <th>ch_max_val_1</th>\n",
       "      <th>h8_2SHA</th>\n",
       "      <th>0015_id_frame</th>\n",
       "    </tr>\n",
       "  </thead>\n",
       "  <tbody>\n",
       "    <tr>\n",
       "      <th>400</th>\n",
       "      <td>0.000000</td>\n",
       "      <td>0.000000</td>\n",
       "      <td>0.000000</td>\n",
       "      <td>0.000000</td>\n",
       "      <td>0.000000</td>\n",
       "      <td>5</td>\n",
       "    </tr>\n",
       "    <tr>\n",
       "      <th>473</th>\n",
       "      <td>5.048266</td>\n",
       "      <td>-0.571816</td>\n",
       "      <td>-0.000004</td>\n",
       "      <td>-0.007596</td>\n",
       "      <td>-1621.023717</td>\n",
       "      <td>6</td>\n",
       "    </tr>\n",
       "    <tr>\n",
       "      <th>546</th>\n",
       "      <td>5.071114</td>\n",
       "      <td>-0.583864</td>\n",
       "      <td>-0.000003</td>\n",
       "      <td>-0.003660</td>\n",
       "      <td>-3192.357492</td>\n",
       "      <td>7</td>\n",
       "    </tr>\n",
       "    <tr>\n",
       "      <th>620</th>\n",
       "      <td>4.274439</td>\n",
       "      <td>-0.730921</td>\n",
       "      <td>-0.000004</td>\n",
       "      <td>-0.005339</td>\n",
       "      <td>-3287.557488</td>\n",
       "      <td>8</td>\n",
       "    </tr>\n",
       "    <tr>\n",
       "      <th>694</th>\n",
       "      <td>4.604741</td>\n",
       "      <td>-0.816192</td>\n",
       "      <td>-0.000003</td>\n",
       "      <td>-0.003295</td>\n",
       "      <td>-4155.211172</td>\n",
       "      <td>9</td>\n",
       "    </tr>\n",
       "  </tbody>\n",
       "</table>\n",
       "</div>"
      ],
      "text/plain": [
       "     h2_2average    h4_VAR  moment_I4  ch_max_val_1      h8_2SHA  \\\n",
       "400     0.000000  0.000000   0.000000      0.000000     0.000000   \n",
       "473     5.048266 -0.571816  -0.000004     -0.007596 -1621.023717   \n",
       "546     5.071114 -0.583864  -0.000003     -0.003660 -3192.357492   \n",
       "620     4.274439 -0.730921  -0.000004     -0.005339 -3287.557488   \n",
       "694     4.604741 -0.816192  -0.000003     -0.003295 -4155.211172   \n",
       "\n",
       "     0015_id_frame  \n",
       "400              5  \n",
       "473              6  \n",
       "546              7  \n",
       "620              8  \n",
       "694              9  "
      ]
     },
     "execution_count": 11,
     "metadata": {},
     "output_type": "execute_result"
    }
   ],
   "source": [
    "obj=H2B_N_D_0\n",
    "obj.data.ix[obj.data[\"traj\"]==traj,_rand_col+[num_str+\"_id_frame\"]].head()"
   ]
  },
  {
   "cell_type": "code",
   "execution_count": 12,
   "metadata": {
    "collapsed": false
   },
   "outputs": [
    {
     "data": {
      "text/html": [
       "<div>\n",
       "<table border=\"1\" class=\"dataframe\">\n",
       "  <thead>\n",
       "    <tr style=\"text-align: right;\">\n",
       "      <th></th>\n",
       "      <th>h2_2average</th>\n",
       "      <th>h4_VAR</th>\n",
       "      <th>moment_I4</th>\n",
       "      <th>ch_max_val_1</th>\n",
       "      <th>h8_2SHA</th>\n",
       "      <th>0015_id_frame</th>\n",
       "    </tr>\n",
       "  </thead>\n",
       "  <tbody>\n",
       "    <tr>\n",
       "      <th>400</th>\n",
       "      <td>1.000000</td>\n",
       "      <td>1.000000</td>\n",
       "      <td>1.000000</td>\n",
       "      <td>1.000000</td>\n",
       "      <td>1.000000</td>\n",
       "      <td>5</td>\n",
       "    </tr>\n",
       "    <tr>\n",
       "      <th>473</th>\n",
       "      <td>1.572815</td>\n",
       "      <td>0.300254</td>\n",
       "      <td>0.999996</td>\n",
       "      <td>0.992492</td>\n",
       "      <td>0.726655</td>\n",
       "      <td>6</td>\n",
       "    </tr>\n",
       "    <tr>\n",
       "      <th>546</th>\n",
       "      <td>1.575407</td>\n",
       "      <td>0.285511</td>\n",
       "      <td>0.999997</td>\n",
       "      <td>0.996382</td>\n",
       "      <td>0.461689</td>\n",
       "      <td>7</td>\n",
       "    </tr>\n",
       "    <tr>\n",
       "      <th>620</th>\n",
       "      <td>1.485011</td>\n",
       "      <td>0.105553</td>\n",
       "      <td>0.999996</td>\n",
       "      <td>0.994723</td>\n",
       "      <td>0.445635</td>\n",
       "      <td>8</td>\n",
       "    </tr>\n",
       "    <tr>\n",
       "      <th>694</th>\n",
       "      <td>1.522489</td>\n",
       "      <td>0.001206</td>\n",
       "      <td>0.999997</td>\n",
       "      <td>0.996743</td>\n",
       "      <td>0.299327</td>\n",
       "      <td>9</td>\n",
       "    </tr>\n",
       "  </tbody>\n",
       "</table>\n",
       "</div>"
      ],
      "text/plain": [
       "     h2_2average    h4_VAR  moment_I4  ch_max_val_1   h8_2SHA  0015_id_frame\n",
       "400     1.000000  1.000000   1.000000      1.000000  1.000000              5\n",
       "473     1.572815  0.300254   0.999996      0.992492  0.726655              6\n",
       "546     1.575407  0.285511   0.999997      0.996382  0.461689              7\n",
       "620     1.485011  0.105553   0.999996      0.994723  0.445635              8\n",
       "694     1.522489  0.001206   0.999997      0.996743  0.299327              9"
      ]
     },
     "execution_count": 12,
     "metadata": {},
     "output_type": "execute_result"
    }
   ],
   "source": [
    "obj=H2B_N_F_0\n",
    "obj.data.ix[obj.data[\"traj\"]==traj,_rand_col+[num_str+\"_id_frame\"]].head()"
   ]
  },
  {
   "cell_type": "code",
   "execution_count": 13,
   "metadata": {
    "collapsed": false
   },
   "outputs": [
    {
     "data": {
      "text/html": [
       "<div>\n",
       "<table border=\"1\" class=\"dataframe\">\n",
       "  <thead>\n",
       "    <tr style=\"text-align: right;\">\n",
       "      <th></th>\n",
       "      <th>h2_2average</th>\n",
       "      <th>h4_VAR</th>\n",
       "      <th>moment_I4</th>\n",
       "      <th>ch_max_val_1</th>\n",
       "      <th>h8_2SHA</th>\n",
       "      <th>0015_id_frame</th>\n",
       "    </tr>\n",
       "  </thead>\n",
       "  <tbody>\n",
       "    <tr>\n",
       "      <th>0</th>\n",
       "      <td>1.006011</td>\n",
       "      <td>0</td>\n",
       "      <td>0.002589</td>\n",
       "      <td>0.170993</td>\n",
       "      <td>1.369784</td>\n",
       "      <td>0</td>\n",
       "    </tr>\n",
       "    <tr>\n",
       "      <th>71</th>\n",
       "      <td>0.857004</td>\n",
       "      <td>0</td>\n",
       "      <td>0.002646</td>\n",
       "      <td>0.339044</td>\n",
       "      <td>0.904577</td>\n",
       "      <td>1</td>\n",
       "    </tr>\n",
       "    <tr>\n",
       "      <th>140</th>\n",
       "      <td>1.051202</td>\n",
       "      <td>0</td>\n",
       "      <td>0.010240</td>\n",
       "      <td>0.521123</td>\n",
       "      <td>1.584525</td>\n",
       "      <td>2</td>\n",
       "    </tr>\n",
       "    <tr>\n",
       "      <th>211</th>\n",
       "      <td>0.925918</td>\n",
       "      <td>0</td>\n",
       "      <td>0.005655</td>\n",
       "      <td>0.337881</td>\n",
       "      <td>1.174592</td>\n",
       "      <td>3</td>\n",
       "    </tr>\n",
       "    <tr>\n",
       "      <th>283</th>\n",
       "      <td>0.975343</td>\n",
       "      <td>0</td>\n",
       "      <td>0.005557</td>\n",
       "      <td>0.348645</td>\n",
       "      <td>1.362665</td>\n",
       "      <td>4</td>\n",
       "    </tr>\n",
       "  </tbody>\n",
       "</table>\n",
       "</div>"
      ],
      "text/plain": [
       "     h2_2average  h4_VAR  moment_I4  ch_max_val_1   h8_2SHA  0015_id_frame\n",
       "0       1.006011       0   0.002589      0.170993  1.369784              0\n",
       "71      0.857004       0   0.002646      0.339044  0.904577              1\n",
       "140     1.051202       0   0.010240      0.521123  1.584525              2\n",
       "211     0.925918       0   0.005655      0.337881  1.174592              3\n",
       "283     0.975343       0   0.005557      0.348645  1.362665              4"
      ]
     },
     "execution_count": 13,
     "metadata": {},
     "output_type": "execute_result"
    }
   ],
   "source": [
    "obj=H2B_N_F_A\n",
    "obj.data.ix[obj.data[\"traj\"]==traj,_rand_col+[num_str+\"_id_frame\"]].head()"
   ]
  },
  {
   "cell_type": "code",
   "execution_count": 14,
   "metadata": {
    "collapsed": false
   },
   "outputs": [
    {
     "data": {
      "text/html": [
       "<div>\n",
       "<table border=\"1\" class=\"dataframe\">\n",
       "  <thead>\n",
       "    <tr style=\"text-align: right;\">\n",
       "      <th></th>\n",
       "      <th>h2_2average</th>\n",
       "      <th>h4_VAR</th>\n",
       "      <th>moment_I4</th>\n",
       "      <th>ch_max_val_1</th>\n",
       "      <th>h8_2SHA</th>\n",
       "      <th>0015_id_frame</th>\n",
       "    </tr>\n",
       "  </thead>\n",
       "  <tbody>\n",
       "    <tr>\n",
       "      <th>400</th>\n",
       "      <td>8.813084</td>\n",
       "      <td>0.817177</td>\n",
       "      <td>4.685015e-06</td>\n",
       "      <td>0.011628</td>\n",
       "      <td>5930.316541</td>\n",
       "      <td>5</td>\n",
       "    </tr>\n",
       "    <tr>\n",
       "      <th>473</th>\n",
       "      <td>13.861350</td>\n",
       "      <td>0.245361</td>\n",
       "      <td>9.560138e-07</td>\n",
       "      <td>0.004032</td>\n",
       "      <td>4309.292824</td>\n",
       "      <td>6</td>\n",
       "    </tr>\n",
       "    <tr>\n",
       "      <th>546</th>\n",
       "      <td>13.884198</td>\n",
       "      <td>0.233313</td>\n",
       "      <td>1.403066e-06</td>\n",
       "      <td>0.007968</td>\n",
       "      <td>2737.959049</td>\n",
       "      <td>7</td>\n",
       "    </tr>\n",
       "    <tr>\n",
       "      <th>620</th>\n",
       "      <td>13.087523</td>\n",
       "      <td>0.086255</td>\n",
       "      <td>2.186311e-07</td>\n",
       "      <td>0.006289</td>\n",
       "      <td>2642.759053</td>\n",
       "      <td>8</td>\n",
       "    </tr>\n",
       "    <tr>\n",
       "      <th>694</th>\n",
       "      <td>13.417825</td>\n",
       "      <td>0.000985</td>\n",
       "      <td>2.095708e-06</td>\n",
       "      <td>0.008333</td>\n",
       "      <td>1775.105369</td>\n",
       "      <td>9</td>\n",
       "    </tr>\n",
       "  </tbody>\n",
       "</table>\n",
       "</div>"
      ],
      "text/plain": [
       "     h2_2average    h4_VAR     moment_I4  ch_max_val_1      h8_2SHA  \\\n",
       "400     8.813084  0.817177  4.685015e-06      0.011628  5930.316541   \n",
       "473    13.861350  0.245361  9.560138e-07      0.004032  4309.292824   \n",
       "546    13.884198  0.233313  1.403066e-06      0.007968  2737.959049   \n",
       "620    13.087523  0.086255  2.186311e-07      0.006289  2642.759053   \n",
       "694    13.417825  0.000985  2.095708e-06      0.008333  1775.105369   \n",
       "\n",
       "     0015_id_frame  \n",
       "400              5  \n",
       "473              6  \n",
       "546              7  \n",
       "620              8  \n",
       "694              9  "
      ]
     },
     "execution_count": 14,
     "metadata": {},
     "output_type": "execute_result"
    }
   ],
   "source": [
    "obj=H2B_U_F_0\n",
    "obj.data.ix[obj.data[\"traj\"]==traj,_rand_col+[num_str+\"_id_frame\"]].head()"
   ]
  },
  {
   "cell_type": "code",
   "execution_count": 15,
   "metadata": {
    "collapsed": false
   },
   "outputs": [
    {
     "name": "stdout",
     "output_type": "stream",
     "text": [
      "Processing time: 83.813259 in sec\n",
      "Processing time: 88.804981 in sec\n",
      "Processing time: 76.947785 in sec\n",
      "Processing time: 78.408650 in sec\n",
      "Processing time: 86.956045 in sec\n"
     ]
    }
   ],
   "source": [
    "list_obj=[ H2B_U_F_0, H2B_N_F_A, H2B_N_F_0, H2B_N_D_A, H2B_N_D_0]\n",
    "kfold=3\n",
    "D={}\n",
    "instances_to_keep=H2B_N_F_0.train[pd.notnull(H2B_N_F_0.train.traj)].index\n",
    "for obj in list_obj:\n",
    "    if obj.Var_missing[0] in obj.train.columns:\n",
    "        obj.missing_features_train()\n",
    "    if obj.Var_missing[0] in obj.data.columns:\n",
    "        obj.missing_features_data()\n",
    "        \n",
    "    #instances_to_keep=pd.notnull(obj.train.traj)\n",
    "\n",
    "    values=[100 + i*10 for i in range(30)]\n",
    "\n",
    "    model=RandomForest_Autotunner(values)\n",
    "\n",
    "    model.tunning(obj.train.ix[instances_to_keep,obj.names],obj.train.ix[instances_to_keep,\"Type\"],kfold,plot=False,fit_new_model=True) #to get cm\n",
    "    plt.show()\n",
    "\n",
    "    i_=np.argmax(model.MSE)\n",
    "    n_tree=values[i_]\n",
    "    model.cm_normalized = model.cm.astype('float') / model.cm.sum(axis=1)[:, np.newaxis]\n",
    "    D[obj.caract]={\"tree_tunning\":n_tree,\n",
    "                   \"best accuracy\":max(model.MSE),\n",
    "                   \"Accuracy vector\":model.MSE,\n",
    "                   \"Confusion matrix\":model.cm,\n",
    "                   \"Normalized confusion matrix\":model.cm_normalized,\n",
    "                   \"Training sample\":str(obj.train.ix[instances_to_keep,obj.names].shape[0])\n",
    "                  }\n",
    "                  "
   ]
  },
  {
   "cell_type": "code",
   "execution_count": 16,
   "metadata": {
    "collapsed": false,
    "scrolled": true
   },
   "outputs": [
    {
     "name": "stdout",
     "output_type": "stream",
     "text": [
      "Normalization process: Normalized by divided by first element\n",
      "Accuracy score: #####    0.755905511811   #####\n",
      "Effectif number: ####    508 \n",
      "\n",
      "Normalization process: Normalized by dividing by average\n",
      "Accuracy score: #####    0.716535433071   #####\n",
      "Effectif number: ####    508 \n",
      "\n",
      "Normalization process: Normalized by subtracted by average\n",
      "Accuracy score: #####    0.73031496063   #####\n",
      "Effectif number: ####    508 \n",
      "\n",
      "Normalization process: Unnormalized\n",
      "Accuracy score: #####    0.700787401575   #####\n",
      "Effectif number: ####    508 \n",
      "\n",
      "Normalization process: Normalized by subtracted by first element\n",
      "Accuracy score: #####    0.763779527559   #####\n",
      "Effectif number: ####    508 \n",
      "\n"
     ]
    }
   ],
   "source": [
    "for ke in D.keys():\n",
    "    tmp_dict=D[ke]\n",
    "    print \"Normalization process: \"+ke \n",
    "    print \"Accuracy score: #####    \"+str(tmp_dict[\"best accuracy\"])+\"   #####\"\n",
    "    print \"Effectif number: ####    \"+str(tmp_dict[\"Training sample\"])+\" \\n\""
   ]
  },
  {
   "cell_type": "code",
   "execution_count": 17,
   "metadata": {
    "collapsed": false
   },
   "outputs": [
    {
     "data": {
      "image/png": "[encoded data removed]",
      "text/plain": [
       "<matplotlib.figure.Figure at 0x7f68674f04d0>"
      ]
     },
     "metadata": {},
     "output_type": "display_data"
    },
    {
     "data": {
      "image/png": "[encoded data removed]",
      "text/plain": [
       "<matplotlib.figure.Figure at 0x7f6816756b10>"
      ]
     },
     "metadata": {},
     "output_type": "display_data"
    },
    {
     "data": {
      "image/png": "[encoded data removed]",
      "text/plain": [
       "<matplotlib.figure.Figure at 0x7f68169c6e10>"
      ]
     },
     "metadata": {},
     "output_type": "display_data"
    },
    {
     "data": {
      "image/png": "[encoded data removed]",
      "text/plain": [
       "<matplotlib.figure.Figure at 0x7f6816c49f50>"
      ]
     },
     "metadata": {},
     "output_type": "display_data"
    },
    {
     "data": {
      "image/png": "[encoded data removed]",
      "text/plain": [
       "<matplotlib.figure.Figure at 0x7f68167991d0>"
      ]
     },
     "metadata": {},
     "output_type": "display_data"
    }
   ],
   "source": [
    "for ke in D.keys():\n",
    "    tmp_dict=D[ke]\n",
    "    plot_matrix(tmp_dict[\"Normalized confusion matrix\"],title=ke)\n",
    "    plt.show()"
   ]
  },
  {
   "cell_type": "markdown",
   "metadata": {},
   "source": [
    "We are going to see how many isntances are removed from the original data when we filter out small trajectories."
   ]
  },
  {
   "cell_type": "code",
   "execution_count": 18,
   "metadata": {
    "collapsed": false
   },
   "outputs": [
    {
     "data": {
      "image/png": "[encoded data removed]",
      "text/plain": [
       "<matplotlib.figure.Figure at 0x7f681710f910>"
      ]
     },
     "metadata": {},
     "output_type": "display_data"
    }
   ],
   "source": [
    "M=300\n",
    "length_data =np.empty(M-1)\n",
    "length_train=np.empty(M-1)\n",
    "for i in range(1,M):\n",
    "    H2B_N_F_A.filter_length_traj(i)\n",
    "    length_data[i-1] =H2B_N_F_A.data.shape[0]\n",
    "    length_train[i-1]=H2B_N_F_A.train.shape[0]\n",
    "\n",
    "\n",
    "plt.subplot(2, 1, 1)\n",
    "plt.plot(np.array(range(1,M)), length_data, 'yo-')\n",
    "plt.title('Length of the data set')\n",
    "plt.ylabel('Number of instances')\n",
    "\n",
    "plt.subplot(2, 1, 2)\n",
    "plt.plot(np.array(range(1,M)), length_train, 'r.-')\n",
    "plt.xlabel('i such that len(traj)>=i')\n",
    "plt.ylabel('Number of labelled instances')\n",
    "\n",
    "plt.show()"
   ]
  },
  {
   "cell_type": "code",
   "execution_count": 19,
   "metadata": {
    "collapsed": false
   },
   "outputs": [
    {
     "name": "stdout",
     "output_type": "stream",
     "text": [
      "The file existed so I loaded it.\n",
      "Traj_data built\n",
      "Reader constructed\n",
      "Updated member Group_of_traj\n"
     ]
    }
   ],
   "source": [
    "## We have\n",
    "\n",
    "if os.path.isfile(\"H2B_N_F_A.csv\"):\n",
    "    print \"The file existed so I loaded it.\"\n",
    "    H2B_N_F_A = Traj_data(file_name=\"H2B_N_F_A.csv\")#,pkl_traj_file=\"/home/pubuntu/Documents/InternWork2/Pkl_file\") \n",
    "    H2B_N_F_A.caract=\"Normalized by dividing by average\"\n",
    "else:    \n",
    "    H2B_N_F_A=Traj_data()#(pkl_traj_file=\"/home/pubuntu/Documents/InternWork2/Pkl_file\") \n",
    "\n",
    "    H2B_N_F_A.extracting(num_str,\"both_channels_0015.hdf5\",'primary') \n",
    "    ## Extracting the hdf5 file for the primary channel (H2b)\n",
    "    \n",
    "#    H2B_N_F_A.add_error() ## We had it so that the data won't have to do 0/0\n",
    "\n",
    "    H2B_N_F_A.Add_traj(normalize=True,all_traj=True,average=True,diff=False)## ,num_traj=10) ## (you can reduce the number of traj)\n",
    "    ## Adding Alice's work on tracking to have trajectories\n",
    "\n",
    "    file_loc=\"0015_PCNA.xml\"\n",
    "\n",
    "    H2B_N_F_A.label_finder(file_loc) \n",
    "    ## Finding associated labels by minimizing distance by click and distance of cell\n",
    "\n",
    "    H2B_N_F_A.renaming_and_merge() \n",
    "    ## renaming the labels to have G1==\"1\", S==\"S\", G2==\"2\" and M==\"M\" \n",
    "    #This procedure may take a long time.\n",
    "\n",
    "    H2B_N_F_A.data.to_csv('H2B_N_F_A.csv',index=False,header=True)    "
   ]
  },
  {
   "cell_type": "code",
   "execution_count": 35,
   "metadata": {
    "collapsed": false
   },
   "outputs": [
    {
     "name": "stdout",
     "output_type": "stream",
     "text": [
      "Warning: not comparable\n",
      "Processing time: 33.546510 in sec\n"
     ]
    },
    {
     "ename": "KeyboardInterrupt",
     "evalue": "",
     "output_type": "error",
     "traceback": [
      "\u001b[1;31m---------------------------------------------------------------------------\u001b[0m",
      "\u001b[1;31mKeyboardInterrupt\u001b[0m                         Traceback (most recent call last)",
      "\u001b[1;32m<ipython-input-35-8131e5a058ed>\u001b[0m in \u001b[0;36m<module>\u001b[1;34m()\u001b[0m\n\u001b[0;32m     30\u001b[0m         \u001b[0mmodel\u001b[0m\u001b[1;33m=\u001b[0m\u001b[0mRandomForest_Autotunner\u001b[0m\u001b[1;33m(\u001b[0m\u001b[0mvalues\u001b[0m\u001b[1;33m)\u001b[0m\u001b[1;33m\u001b[0m\u001b[0m\n\u001b[0;32m     31\u001b[0m \u001b[1;33m\u001b[0m\u001b[0m\n\u001b[1;32m---> 32\u001b[1;33m         \u001b[0mmodel\u001b[0m\u001b[1;33m.\u001b[0m\u001b[0mtunning\u001b[0m\u001b[1;33m(\u001b[0m\u001b[0mobj\u001b[0m\u001b[1;33m.\u001b[0m\u001b[0mtrain\u001b[0m\u001b[1;33m[\u001b[0m\u001b[0mobj\u001b[0m\u001b[1;33m.\u001b[0m\u001b[0mnames\u001b[0m\u001b[1;33m]\u001b[0m\u001b[1;33m,\u001b[0m\u001b[0mobj\u001b[0m\u001b[1;33m.\u001b[0m\u001b[0mtrain\u001b[0m\u001b[1;33m[\u001b[0m\u001b[1;34m\"Type\"\u001b[0m\u001b[1;33m]\u001b[0m\u001b[1;33m,\u001b[0m\u001b[0mkfold\u001b[0m\u001b[1;33m,\u001b[0m\u001b[0mplot\u001b[0m\u001b[1;33m=\u001b[0m\u001b[0mFalse\u001b[0m\u001b[1;33m,\u001b[0m\u001b[0mfit_new_model\u001b[0m\u001b[1;33m=\u001b[0m\u001b[0mFalse\u001b[0m\u001b[1;33m)\u001b[0m\u001b[1;33m\u001b[0m\u001b[0m\n\u001b[0m\u001b[0;32m     33\u001b[0m \u001b[1;33m\u001b[0m\u001b[0m\n\u001b[0;32m     34\u001b[0m         \u001b[0mD\u001b[0m\u001b[1;33m[\u001b[0m\u001b[0mobj\u001b[0m\u001b[1;33m.\u001b[0m\u001b[0mcaract\u001b[0m\u001b[1;33m]\u001b[0m\u001b[1;33m[\u001b[0m\u001b[0mi\u001b[0m\u001b[1;33m-\u001b[0m\u001b[0mM_b\u001b[0m\u001b[1;33m]\u001b[0m\u001b[1;33m=\u001b[0m\u001b[0mmax\u001b[0m\u001b[1;33m(\u001b[0m\u001b[0mmodel\u001b[0m\u001b[1;33m.\u001b[0m\u001b[0mMSE\u001b[0m\u001b[1;33m)\u001b[0m\u001b[1;33m\u001b[0m\u001b[0m\n",
      "\u001b[1;32m/home/pubuntu/Documents/InternWork2/Randomforest.pyc\u001b[0m in \u001b[0;36mtunning\u001b[1;34m(self, X, y, kfold, plot, fit_new_model)\u001b[0m\n\u001b[0;32m     68\u001b[0m                                               \u001b[0mwarm_start\u001b[0m\u001b[1;33m=\u001b[0m\u001b[0mself\u001b[0m\u001b[1;33m.\u001b[0m\u001b[0mwarm_start\u001b[0m\u001b[1;33m,\u001b[0m\u001b[1;33m\u001b[0m\u001b[0m\n\u001b[0;32m     69\u001b[0m                                               class_weight=self.class_weight)\n\u001b[1;32m---> 70\u001b[1;33m                 \u001b[0mrf\u001b[0m\u001b[1;33m=\u001b[0m\u001b[0mrf\u001b[0m\u001b[1;33m.\u001b[0m\u001b[0mfit\u001b[0m\u001b[1;33m(\u001b[0m\u001b[0mX_train\u001b[0m\u001b[1;33m,\u001b[0m\u001b[0my_train\u001b[0m\u001b[1;33m)\u001b[0m\u001b[1;33m\u001b[0m\u001b[0m\n\u001b[0m\u001b[0;32m     71\u001b[0m                 \u001b[0my_pred\u001b[0m\u001b[1;33m[\u001b[0m\u001b[0mtest_index\u001b[0m\u001b[1;33m]\u001b[0m\u001b[1;33m=\u001b[0m\u001b[0mrf\u001b[0m\u001b[1;33m.\u001b[0m\u001b[0mpredict\u001b[0m\u001b[1;33m(\u001b[0m\u001b[0mX_test\u001b[0m\u001b[1;33m)\u001b[0m\u001b[1;33m\u001b[0m\u001b[0m\n\u001b[0;32m     72\u001b[0m             \u001b[0mcm\u001b[0m\u001b[1;33m=\u001b[0m\u001b[0mconfusion_matrix\u001b[0m\u001b[1;33m(\u001b[0m\u001b[0my\u001b[0m\u001b[1;33m,\u001b[0m\u001b[0my_pred\u001b[0m\u001b[1;33m)\u001b[0m\u001b[1;33m\u001b[0m\u001b[0m\n",
      "\u001b[1;32m/home/pubuntu/anaconda2/lib/python2.7/site-packages/sklearn/ensemble/forest.pyc\u001b[0m in \u001b[0;36mfit\u001b[1;34m(self, X, y, sample_weight)\u001b[0m\n\u001b[0;32m    288\u001b[0m                     \u001b[0mt\u001b[0m\u001b[1;33m,\u001b[0m \u001b[0mself\u001b[0m\u001b[1;33m,\u001b[0m \u001b[0mX\u001b[0m\u001b[1;33m,\u001b[0m \u001b[0my\u001b[0m\u001b[1;33m,\u001b[0m \u001b[0msample_weight\u001b[0m\u001b[1;33m,\u001b[0m \u001b[0mi\u001b[0m\u001b[1;33m,\u001b[0m \u001b[0mlen\u001b[0m\u001b[1;33m(\u001b[0m\u001b[0mtrees\u001b[0m\u001b[1;33m)\u001b[0m\u001b[1;33m,\u001b[0m\u001b[1;33m\u001b[0m\u001b[0m\n\u001b[0;32m    289\u001b[0m                     verbose=self.verbose, class_weight=self.class_weight)\n\u001b[1;32m--> 290\u001b[1;33m                 for i, t in enumerate(trees))\n\u001b[0m\u001b[0;32m    291\u001b[0m \u001b[1;33m\u001b[0m\u001b[0m\n\u001b[0;32m    292\u001b[0m             \u001b[1;31m# Collect newly grown trees\u001b[0m\u001b[1;33m\u001b[0m\u001b[1;33m\u001b[0m\u001b[0m\n",
      "\u001b[1;32m/home/pubuntu/anaconda2/lib/python2.7/site-packages/sklearn/externals/joblib/parallel.pyc\u001b[0m in \u001b[0;36m__call__\u001b[1;34m(self, iterable)\u001b[0m\n\u001b[0;32m    802\u001b[0m             \u001b[0mself\u001b[0m\u001b[1;33m.\u001b[0m\u001b[0m_iterating\u001b[0m \u001b[1;33m=\u001b[0m \u001b[0mTrue\u001b[0m\u001b[1;33m\u001b[0m\u001b[0m\n\u001b[0;32m    803\u001b[0m \u001b[1;33m\u001b[0m\u001b[0m\n\u001b[1;32m--> 804\u001b[1;33m             \u001b[1;32mwhile\u001b[0m \u001b[0mself\u001b[0m\u001b[1;33m.\u001b[0m\u001b[0mdispatch_one_batch\u001b[0m\u001b[1;33m(\u001b[0m\u001b[0miterator\u001b[0m\u001b[1;33m)\u001b[0m\u001b[1;33m:\u001b[0m\u001b[1;33m\u001b[0m\u001b[0m\n\u001b[0m\u001b[0;32m    805\u001b[0m                 \u001b[1;32mpass\u001b[0m\u001b[1;33m\u001b[0m\u001b[0m\n\u001b[0;32m    806\u001b[0m \u001b[1;33m\u001b[0m\u001b[0m\n",
      "\u001b[1;32m/home/pubuntu/anaconda2/lib/python2.7/site-packages/sklearn/externals/joblib/parallel.pyc\u001b[0m in \u001b[0;36mdispatch_one_batch\u001b[1;34m(self, iterator)\u001b[0m\n\u001b[0;32m    660\u001b[0m                 \u001b[1;32mreturn\u001b[0m \u001b[0mFalse\u001b[0m\u001b[1;33m\u001b[0m\u001b[0m\n\u001b[0;32m    661\u001b[0m             \u001b[1;32melse\u001b[0m\u001b[1;33m:\u001b[0m\u001b[1;33m\u001b[0m\u001b[0m\n\u001b[1;32m--> 662\u001b[1;33m                 \u001b[0mself\u001b[0m\u001b[1;33m.\u001b[0m\u001b[0m_dispatch\u001b[0m\u001b[1;33m(\u001b[0m\u001b[0mtasks\u001b[0m\u001b[1;33m)\u001b[0m\u001b[1;33m\u001b[0m\u001b[0m\n\u001b[0m\u001b[0;32m    663\u001b[0m                 \u001b[1;32mreturn\u001b[0m \u001b[0mTrue\u001b[0m\u001b[1;33m\u001b[0m\u001b[0m\n\u001b[0;32m    664\u001b[0m \u001b[1;33m\u001b[0m\u001b[0m\n",
      "\u001b[1;32m/home/pubuntu/anaconda2/lib/python2.7/site-packages/sklearn/externals/joblib/parallel.pyc\u001b[0m in \u001b[0;36m_dispatch\u001b[1;34m(self, batch)\u001b[0m\n\u001b[0;32m    568\u001b[0m \u001b[1;33m\u001b[0m\u001b[0m\n\u001b[0;32m    569\u001b[0m         \u001b[1;32mif\u001b[0m \u001b[0mself\u001b[0m\u001b[1;33m.\u001b[0m\u001b[0m_pool\u001b[0m \u001b[1;32mis\u001b[0m \u001b[0mNone\u001b[0m\u001b[1;33m:\u001b[0m\u001b[1;33m\u001b[0m\u001b[0m\n\u001b[1;32m--> 570\u001b[1;33m             \u001b[0mjob\u001b[0m \u001b[1;33m=\u001b[0m \u001b[0mImmediateComputeBatch\u001b[0m\u001b[1;33m(\u001b[0m\u001b[0mbatch\u001b[0m\u001b[1;33m)\u001b[0m\u001b[1;33m\u001b[0m\u001b[0m\n\u001b[0m\u001b[0;32m    571\u001b[0m             \u001b[0mself\u001b[0m\u001b[1;33m.\u001b[0m\u001b[0m_jobs\u001b[0m\u001b[1;33m.\u001b[0m\u001b[0mappend\u001b[0m\u001b[1;33m(\u001b[0m\u001b[0mjob\u001b[0m\u001b[1;33m)\u001b[0m\u001b[1;33m\u001b[0m\u001b[0m\n\u001b[0;32m    572\u001b[0m             \u001b[0mself\u001b[0m\u001b[1;33m.\u001b[0m\u001b[0mn_dispatched_batches\u001b[0m \u001b[1;33m+=\u001b[0m \u001b[1;36m1\u001b[0m\u001b[1;33m\u001b[0m\u001b[0m\n",
      "\u001b[1;32m/home/pubuntu/anaconda2/lib/python2.7/site-packages/sklearn/externals/joblib/parallel.pyc\u001b[0m in \u001b[0;36m__init__\u001b[1;34m(self, batch)\u001b[0m\n\u001b[0;32m    181\u001b[0m         \u001b[1;31m# Don't delay the application, to avoid keeping the input\u001b[0m\u001b[1;33m\u001b[0m\u001b[1;33m\u001b[0m\u001b[0m\n\u001b[0;32m    182\u001b[0m         \u001b[1;31m# arguments in memory\u001b[0m\u001b[1;33m\u001b[0m\u001b[1;33m\u001b[0m\u001b[0m\n\u001b[1;32m--> 183\u001b[1;33m         \u001b[0mself\u001b[0m\u001b[1;33m.\u001b[0m\u001b[0mresults\u001b[0m \u001b[1;33m=\u001b[0m \u001b[0mbatch\u001b[0m\u001b[1;33m(\u001b[0m\u001b[1;33m)\u001b[0m\u001b[1;33m\u001b[0m\u001b[0m\n\u001b[0m\u001b[0;32m    184\u001b[0m \u001b[1;33m\u001b[0m\u001b[0m\n\u001b[0;32m    185\u001b[0m     \u001b[1;32mdef\u001b[0m \u001b[0mget\u001b[0m\u001b[1;33m(\u001b[0m\u001b[0mself\u001b[0m\u001b[1;33m)\u001b[0m\u001b[1;33m:\u001b[0m\u001b[1;33m\u001b[0m\u001b[0m\n",
      "\u001b[1;32m/home/pubuntu/anaconda2/lib/python2.7/site-packages/sklearn/externals/joblib/parallel.pyc\u001b[0m in \u001b[0;36m__call__\u001b[1;34m(self)\u001b[0m\n\u001b[0;32m     70\u001b[0m \u001b[1;33m\u001b[0m\u001b[0m\n\u001b[0;32m     71\u001b[0m     \u001b[1;32mdef\u001b[0m \u001b[0m__call__\u001b[0m\u001b[1;33m(\u001b[0m\u001b[0mself\u001b[0m\u001b[1;33m)\u001b[0m\u001b[1;33m:\u001b[0m\u001b[1;33m\u001b[0m\u001b[0m\n\u001b[1;32m---> 72\u001b[1;33m         \u001b[1;32mreturn\u001b[0m \u001b[1;33m[\u001b[0m\u001b[0mfunc\u001b[0m\u001b[1;33m(\u001b[0m\u001b[1;33m*\u001b[0m\u001b[0margs\u001b[0m\u001b[1;33m,\u001b[0m \u001b[1;33m**\u001b[0m\u001b[0mkwargs\u001b[0m\u001b[1;33m)\u001b[0m \u001b[1;32mfor\u001b[0m \u001b[0mfunc\u001b[0m\u001b[1;33m,\u001b[0m \u001b[0margs\u001b[0m\u001b[1;33m,\u001b[0m \u001b[0mkwargs\u001b[0m \u001b[1;32min\u001b[0m \u001b[0mself\u001b[0m\u001b[1;33m.\u001b[0m\u001b[0mitems\u001b[0m\u001b[1;33m]\u001b[0m\u001b[1;33m\u001b[0m\u001b[0m\n\u001b[0m\u001b[0;32m     73\u001b[0m \u001b[1;33m\u001b[0m\u001b[0m\n\u001b[0;32m     74\u001b[0m     \u001b[1;32mdef\u001b[0m \u001b[0m__len__\u001b[0m\u001b[1;33m(\u001b[0m\u001b[0mself\u001b[0m\u001b[1;33m)\u001b[0m\u001b[1;33m:\u001b[0m\u001b[1;33m\u001b[0m\u001b[0m\n",
      "\u001b[1;32m/home/pubuntu/anaconda2/lib/python2.7/site-packages/sklearn/ensemble/forest.pyc\u001b[0m in \u001b[0;36m_parallel_build_trees\u001b[1;34m(tree, forest, X, y, sample_weight, tree_idx, n_trees, verbose, class_weight)\u001b[0m\n\u001b[0;32m    114\u001b[0m             \u001b[0mcurr_sample_weight\u001b[0m \u001b[1;33m*=\u001b[0m \u001b[0mcompute_sample_weight\u001b[0m\u001b[1;33m(\u001b[0m\u001b[1;34m'balanced'\u001b[0m\u001b[1;33m,\u001b[0m \u001b[0my\u001b[0m\u001b[1;33m,\u001b[0m \u001b[0mindices\u001b[0m\u001b[1;33m)\u001b[0m\u001b[1;33m\u001b[0m\u001b[0m\n\u001b[0;32m    115\u001b[0m \u001b[1;33m\u001b[0m\u001b[0m\n\u001b[1;32m--> 116\u001b[1;33m         \u001b[0mtree\u001b[0m\u001b[1;33m.\u001b[0m\u001b[0mfit\u001b[0m\u001b[1;33m(\u001b[0m\u001b[0mX\u001b[0m\u001b[1;33m,\u001b[0m \u001b[0my\u001b[0m\u001b[1;33m,\u001b[0m \u001b[0msample_weight\u001b[0m\u001b[1;33m=\u001b[0m\u001b[0mcurr_sample_weight\u001b[0m\u001b[1;33m,\u001b[0m \u001b[0mcheck_input\u001b[0m\u001b[1;33m=\u001b[0m\u001b[0mFalse\u001b[0m\u001b[1;33m)\u001b[0m\u001b[1;33m\u001b[0m\u001b[0m\n\u001b[0m\u001b[0;32m    117\u001b[0m     \u001b[1;32melse\u001b[0m\u001b[1;33m:\u001b[0m\u001b[1;33m\u001b[0m\u001b[0m\n\u001b[0;32m    118\u001b[0m         \u001b[0mtree\u001b[0m\u001b[1;33m.\u001b[0m\u001b[0mfit\u001b[0m\u001b[1;33m(\u001b[0m\u001b[0mX\u001b[0m\u001b[1;33m,\u001b[0m \u001b[0my\u001b[0m\u001b[1;33m,\u001b[0m \u001b[0msample_weight\u001b[0m\u001b[1;33m=\u001b[0m\u001b[0msample_weight\u001b[0m\u001b[1;33m,\u001b[0m \u001b[0mcheck_input\u001b[0m\u001b[1;33m=\u001b[0m\u001b[0mFalse\u001b[0m\u001b[1;33m)\u001b[0m\u001b[1;33m\u001b[0m\u001b[0m\n",
      "\u001b[1;32m/home/pubuntu/anaconda2/lib/python2.7/site-packages/sklearn/tree/tree.pyc\u001b[0m in \u001b[0;36mfit\u001b[1;34m(self, X, y, sample_weight, check_input, X_idx_sorted)\u001b[0m\n\u001b[0;32m    348\u001b[0m                                            max_leaf_nodes)\n\u001b[0;32m    349\u001b[0m \u001b[1;33m\u001b[0m\u001b[0m\n\u001b[1;32m--> 350\u001b[1;33m         \u001b[0mbuilder\u001b[0m\u001b[1;33m.\u001b[0m\u001b[0mbuild\u001b[0m\u001b[1;33m(\u001b[0m\u001b[0mself\u001b[0m\u001b[1;33m.\u001b[0m\u001b[0mtree_\u001b[0m\u001b[1;33m,\u001b[0m \u001b[0mX\u001b[0m\u001b[1;33m,\u001b[0m \u001b[0my\u001b[0m\u001b[1;33m,\u001b[0m \u001b[0msample_weight\u001b[0m\u001b[1;33m,\u001b[0m \u001b[0mX_idx_sorted\u001b[0m\u001b[1;33m)\u001b[0m\u001b[1;33m\u001b[0m\u001b[0m\n\u001b[0m\u001b[0;32m    351\u001b[0m \u001b[1;33m\u001b[0m\u001b[0m\n\u001b[0;32m    352\u001b[0m         \u001b[1;32mif\u001b[0m \u001b[0mself\u001b[0m\u001b[1;33m.\u001b[0m\u001b[0mn_outputs_\u001b[0m \u001b[1;33m==\u001b[0m \u001b[1;36m1\u001b[0m\u001b[1;33m:\u001b[0m\u001b[1;33m\u001b[0m\u001b[0m\n",
      "\u001b[1;31mKeyboardInterrupt\u001b[0m: "
     ]
    }
   ],
   "source": [
    "kfold=3\n",
    "M_b=10\n",
    "M_e=15\n",
    "length_data   =np.empty(M_e-M_b)\n",
    "length_train  =np.empty(M_e-M_b)\n",
    "\n",
    "D_filter={}\n",
    "D[H2B_N_D_A.caract]=np.empty(M_e-M_b)\n",
    "D[H2B_N_F_A.caract]=np.empty(M_e-M_b)\n",
    "\n",
    "list_obj=[H2B_N_F_A,H2B_N_D_A]\n",
    "\n",
    "for obj in list_obj:\n",
    "    if obj.Var_missing[0] in obj.train.columns:\n",
    "        obj.missing_features_train()\n",
    "    if obj.Var_missing[0] in obj.data.columns:\n",
    "        obj.missing_features_data()\n",
    "\n",
    "for i in range(M_b,M_e):\n",
    "    H2B_N_F_A.filter_length_traj(i)\n",
    "    H2B_N_D_A.filter_length_traj(i)\n",
    "    length_data[i-M_b] =H2B_N_F_A.data.shape[0]\n",
    "    length_train[i-M_b]=H2B_N_F_A.train.shape[0]\n",
    "    if H2B_N_F_A.train.shape[0]!=H2B_N_D_A.train.shape[0]:\n",
    "        print \"Warning: not comparable\"\n",
    "        \n",
    "    for obj in list_obj:\n",
    "        values=[100 + j*10 for j in range(30)]\n",
    "\n",
    "        model=RandomForest_Autotunner(values)\n",
    "\n",
    "        model.tunning(obj.train[obj.names],obj.train[\"Type\"],kfold,plot=False,fit_new_model=False)\n",
    "        \n",
    "        D[obj.caract][i-M_b]=max(model.MSE)\n"
   ]
  },
  {
   "cell_type": "code",
   "execution_count": 34,
   "metadata": {
    "collapsed": false
   },
   "outputs": [
    {
     "data": {
      "text/plain": [
       "29"
      ]
     },
     "execution_count": 34,
     "metadata": {},
     "output_type": "execute_result"
    }
   ],
   "source": [
    "i"
   ]
  }
 ],
 "metadata": {
  "kernelspec": {
   "display_name": "Python 2",
   "language": "python",
   "name": "python2"
  },
  "language_info": {
   "codemirror_mode": {
    "name": "ipython",
    "version": 2
   },
   "file_extension": ".py",
   "mimetype": "text/x-python",
   "name": "python",
   "nbconvert_exporter": "python",
   "pygments_lexer": "ipython2",
   "version": "2.7.10"
  }
 },
 "nbformat": 4,
 "nbformat_minor": 0
}
