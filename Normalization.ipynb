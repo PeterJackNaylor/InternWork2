{
 "cells": [
  {
   "cell_type": "markdown",
   "metadata": {},
   "source": [
    "# Different normalization processes:"
   ]
  },
  {
   "cell_type": "code",
   "execution_count": 8,
   "metadata": {
    "collapsed": false
   },
   "outputs": [
    {
     "name": "stdout",
     "output_type": "stream",
     "text": [
      "The rpy2.ipython extension is already loaded. To reload it, use:\n",
      "  %reload_ext rpy2.ipython\n"
     ]
    }
   ],
   "source": [
    "### All the packages we need:\n",
    "%matplotlib inline\n",
    "%load_ext rpy2.ipython\n",
    "\n",
    "from Reader import Reader\n",
    "from Randomforest import RandomForest_Autotunner,plot_matrix,Measure,check_rotate\n",
    "from Traj_creator import Traj_data\n",
    "\n",
    "import random\n",
    "import numpy as np\n",
    "import pandas as pd\n",
    "import matplotlib.pyplot as plt\n",
    "\n",
    "import os.path\n",
    "import cPickle as pkl\n"
   ]
  },
  {
   "cell_type": "markdown",
   "metadata": {},
   "source": [
    "Code for files:\n",
    "- H2B_ NORMALISED OR NOT (N or U) _ DIFF or not ( D or F(fraction)) or 0 or A all\n",
    "Created files with orignal features $(X_t)_{t \\in \\textbf{N}}$ for a certain trajectory:\n",
    "- H2B_U (or H2B_U_F_0) : $v_t=X_t$\n",
    "- H2B_N_F_0 $v_t=\\frac{X_t}{X_0}$\n",
    "- H2B_N_F_A $v_t=\\frac{X_t}{\\bar{X}}$\n",
    "- H2B_N_D_0 $v_t=X_t-X_0$\n",
    "- H2B_N_D_A $v_t=X_t-\\bar{X}$ (Like in panel data)"
   ]
  },
  {
   "cell_type": "code",
   "execution_count": 9,
   "metadata": {
    "collapsed": true
   },
   "outputs": [],
   "source": [
    "num_str=\"0015\"  ## Well name"
   ]
  },
  {
   "cell_type": "code",
   "execution_count": 10,
   "metadata": {
    "collapsed": false
   },
   "outputs": [
    {
     "name": "stdout",
     "output_type": "stream",
     "text": [
      "The file existed so I loaded it.\n",
      "Traj_data built\n",
      "Reader constructed\n",
      "Updated member Group_of_traj\n"
     ]
    }
   ],
   "source": [
    "## Well name\n",
    "\n",
    "if os.path.isfile(\"H2B_U_F_0.csv\"):\n",
    "    print \"The file existed so I loaded it.\"\n",
    "    H2B_U_F_0 = Traj_data(file_name=\"H2B_U_F_0.csv\")#,pkl_traj_file=\"/home/pubuntu/Documents/InternWork2/Pkl_file\") \n",
    "    H2B_U_F_0.caract=\"Unnormalized\"\n",
    "\n",
    "else:    \n",
    "    H2B_U_F_0=Traj_data() \n",
    "\n",
    "    H2B_U_F_0.extracting(num_str,\"both_channels_0015.hdf5\",'primary') \n",
    "    ## Extracting the hdf5 file for the primary channel (H2b)\n",
    "\n",
    "    H2B_U_F_0.Add_traj(normalize=False,all_traj=False,average=False,diff=False)## ,num_traj=10) ## (you can reduce the number of traj)\n",
    "    ## Adding Alice's work on tracking to have trajectories\n",
    "\n",
    "    file_loc=\"0015_PCNA.xml\"\n",
    "\n",
    "    H2B_U_F_0.label_finder(file_loc) \n",
    "    ## Finding associated labels by minimizing distance by click and distance of cell\n",
    "\n",
    "    H2B_U_F_0.renaming_and_merge() \n",
    "    ## renaming the labels to have G1==\"1\", S==\"S\", G2==\"2\" and M==\"M\" \n",
    "    #This procedure may take a long time.\n",
    "    H2B_U_F_0.caract=\"Unnormalized\"\n",
    "    H2B_U_F_0.data.to_csv('H2B_U_F_0.csv',index=False,header=True)    "
   ]
  },
  {
   "cell_type": "code",
   "execution_count": 11,
   "metadata": {
    "collapsed": false
   },
   "outputs": [
    {
     "name": "stdout",
     "output_type": "stream",
     "text": [
      "The file existed so I loaded it.\n",
      "Traj_data built\n",
      "Reader constructed\n",
      "Updated member Group_of_traj\n"
     ]
    }
   ],
   "source": [
    "## Well name\n",
    "\n",
    "if os.path.isfile(\"H2B_N_F_0.csv\"):\n",
    "    print \"The file existed so I loaded it.\"\n",
    "    H2B_N_F_0 = Traj_data(file_name=\"H2B_N_F_0.csv\")#,pkl_traj_file=\"/home/pubuntu/Documents/InternWork2/Pkl_file\") \n",
    "    H2B_N_F_0.caract=\"Normalized by divided by first element\"\n",
    "else:    \n",
    "    H2B_N_F_0=Traj_data() \n",
    "\n",
    "    H2B_N_F_0.extracting(num_str,\"both_channels_0015.hdf5\",'primary') \n",
    "    ## Extracting the hdf5 file for the primary channel (H2b)\n",
    "    \n",
    "    H2B_N_.add_error() ## We had it so that the data won't have to do 0/0\n",
    "\n",
    "    H2B_N_F_0.Add_traj(normalize=True,all_traj=False,average=False,diff=False)## ,num_traj=10) ## (you can reduce the number of traj)\n",
    "    ## Adding Alice's work on tracking to have trajectories\n",
    "\n",
    "    file_loc=\"0015_PCNA.xml\"\n",
    "\n",
    "    H2B_N_F_0.label_finder(file_loc) \n",
    "    ## Finding associated labels by minimizing distance by click and distance of cell\n",
    "\n",
    "    H2B_N_F_0.renaming_and_merge() \n",
    "    ## renaming the labels to have G1==\"1\", S==\"S\", G2==\"2\" and M==\"M\" \n",
    "    #This procedure may take a long time.\n",
    "    H2B_N_F_0.caract=\"Normalized by divided by first element\"\n",
    "\n",
    "    H2B_N_F_0.data.to_csv('H2B_N_F_0.csv',index=False,header=True)    "
   ]
  },
  {
   "cell_type": "code",
   "execution_count": 12,
   "metadata": {
    "collapsed": false
   },
   "outputs": [
    {
     "name": "stdout",
     "output_type": "stream",
     "text": [
      "The file existed so I loaded it.\n",
      "Traj_data built\n",
      "Reader constructed\n",
      "Updated member Group_of_traj\n"
     ]
    }
   ],
   "source": [
    "## Well name\n",
    "\n",
    "if os.path.isfile(\"H2B_N_D_0.csv\"):\n",
    "    print \"The file existed so I loaded it.\"\n",
    "    H2B_N_D_0 = Traj_data(file_name=\"H2B_N_D_0.csv\")#,pkl_traj_file=\"/home/pubuntu/Documents/InternWork2/Pkl_file\") \n",
    "    H2B_N_D_0.caract=\"Normalized by subtracted by first element\"\n",
    "\n",
    "else:    \n",
    "    H2B_N_D_0=Traj_data()#(pkl_traj_file=\"/home/pubuntu/Documents/InternWork2/Pkl_file\") \n",
    "\n",
    "    H2B_N_D_0.extracting(num_str,\"both_channels_0015.hdf5\",'primary') \n",
    "    ## Extracting the hdf5 file for the primary channel (H2b)\n",
    "    \n",
    "#    H2B_N_.add_error() ## We had it so that the data won't have to do 0/0\n",
    "\n",
    "    H2B_N_D_0.Add_traj(normalize=True,all_traj=False,average=False,diff=True)## ,num_traj=10) ## (you can reduce the number of traj)\n",
    "    ## Adding Alice's work on tracking to have trajectories\n",
    "\n",
    "    file_loc=\"0015_PCNA.xml\"\n",
    "\n",
    "    H2B_N_D_0.label_finder(file_loc) \n",
    "    ## Finding associated labels by minimizing distance by click and distance of cell\n",
    "\n",
    "    H2B_N_D_0.renaming_and_merge() \n",
    "    ## renaming the labels to have G1==\"1\", S==\"S\", G2==\"2\" and M==\"M\" \n",
    "    #This procedure may take a long time.\n",
    "    H2B_N_D_0.caract=\"Normalized by subtracted by first element\"\n",
    "\n",
    "    H2B_N_D_0.data.to_csv('H2B_N_D_0.csv',index=False,header=True)    "
   ]
  },
  {
   "cell_type": "code",
   "execution_count": 13,
   "metadata": {
    "collapsed": false
   },
   "outputs": [
    {
     "name": "stdout",
     "output_type": "stream",
     "text": [
      "The file existed so I loaded it.\n",
      "Traj_data built\n",
      "Reader constructed\n",
      "Updated member Group_of_traj\n"
     ]
    }
   ],
   "source": [
    "## Well name\n",
    "\n",
    "if os.path.isfile(\"H2B_N_D_A.csv\"):\n",
    "    print \"The file existed so I loaded it.\"\n",
    "    H2B_N_D_A = Traj_data(file_name=\"H2B_N_D_A.csv\")#,pkl_traj_file=\"/home/pubuntu/Documents/InternWork2/Pkl_file\") \n",
    "    H2B_N_D_A.caract=\"Normalized by subtracted by average\"\n",
    "\n",
    "else:    \n",
    "    H2B_N_D_A=Traj_data()#(pkl_traj_file=\"/home/pubuntu/Documents/InternWork2/Pkl_file\") \n",
    "\n",
    "    H2B_N_D_A.extracting(num_str,\"both_channels_0015.hdf5\",'primary') \n",
    "    ## Extracting the hdf5 file for the primary channel (H2b)\n",
    "    \n",
    "#    H2B_N_D_A.add_error() ## We had it so that the data won't have to do 0/0\n",
    "\n",
    "    H2B_N_D_A.Add_traj(normalize=True,all_traj=True,average=True,diff=True)## ,num_traj=10) ## (you can reduce the number of traj)\n",
    "    ## Adding Alice's work on tracking to have trajectories\n",
    "\n",
    "    file_loc=\"0015_PCNA.xml\"\n",
    "\n",
    "    H2B_N_D_A.label_finder(file_loc) \n",
    "    ## Finding associated labels by minimizing distance by click and distance of cell\n",
    "\n",
    "    H2B_N_D_A.renaming_and_merge() \n",
    "    ## renaming the labels to have G1==\"1\", S==\"S\", G2==\"2\" and M==\"M\" \n",
    "    #This procedure may take a long time.\n",
    "    H2B_N_D_A.caract=\"Normalized by subtracted by average\"\n",
    "    \n",
    "    H2B_N_D_A.data.to_csv('H2B_N_D_A.csv',index=False,header=True)    "
   ]
  },
  {
   "cell_type": "code",
   "execution_count": 14,
   "metadata": {
    "collapsed": false
   },
   "outputs": [
    {
     "name": "stdout",
     "output_type": "stream",
     "text": [
      "The file existed so I loaded it.\n",
      "Traj_data built\n",
      "Reader constructed\n",
      "Updated member Group_of_traj\n"
     ]
    }
   ],
   "source": [
    "## Well name\n",
    "\n",
    "if os.path.isfile(\"H2B_N_F_A.csv\"):\n",
    "    print \"The file existed so I loaded it.\"\n",
    "    H2B_N_F_A = Traj_data(file_name=\"H2B_N_F_A.csv\")#,pkl_traj_file=\"/home/pubuntu/Documents/InternWork2/Pkl_file\") \n",
    "    H2B_N_F_A.caract=\"Normalized by dividing by average\"\n",
    "else:    \n",
    "    H2B_N_F_A=Traj_data()#(pkl_traj_file=\"/home/pubuntu/Documents/InternWork2/Pkl_file\") \n",
    "\n",
    "    H2B_N_F_A.extracting(num_str,\"both_channels_0015.hdf5\",'primary') \n",
    "    ## Extracting the hdf5 file for the primary channel (H2b)\n",
    "    \n",
    "#    H2B_N_F_A.add_error() ## We had it so that the data won't have to do 0/0\n",
    "\n",
    "    H2B_N_F_A.Add_traj(normalize=True,all_traj=True,average=True,diff=False)## ,num_traj=10) ## (you can reduce the number of traj)\n",
    "    ## Adding Alice's work on tracking to have trajectories\n",
    "\n",
    "    file_loc=\"0015_PCNA.xml\"\n",
    "\n",
    "    H2B_N_F_A.label_finder(file_loc) \n",
    "    ## Finding associated labels by minimizing distance by click and distance of cell\n",
    "\n",
    "    H2B_N_F_A.renaming_and_merge() \n",
    "    ## renaming the labels to have G1==\"1\", S==\"S\", G2==\"2\" and M==\"M\" \n",
    "    #This procedure may take a long time.\n",
    "    H2B_N_F_A.caract=\"Normalized by dividing by average\"\n",
    "\n",
    "    H2B_N_F_A.data.to_csv('H2B_N_F_A.csv',index=False,header=True)    "
   ]
  },
  {
   "cell_type": "code",
   "execution_count": 15,
   "metadata": {
    "collapsed": false
   },
   "outputs": [
    {
     "data": {
      "text/html": [
       "<div>\n",
       "<table border=\"1\" class=\"dataframe\">\n",
       "  <thead>\n",
       "    <tr style=\"text-align: right;\">\n",
       "      <th></th>\n",
       "      <th>eccentricity</th>\n",
       "      <th>h4_PRO</th>\n",
       "      <th>moment_I7</th>\n",
       "      <th>ls0_IRGL_sample_sd</th>\n",
       "      <th>h8_IDM</th>\n",
       "      <th>0015_id_frame</th>\n",
       "    </tr>\n",
       "  </thead>\n",
       "  <tbody>\n",
       "    <tr>\n",
       "      <th>400</th>\n",
       "      <td>0.000000</td>\n",
       "      <td>0.000000</td>\n",
       "      <td>0.000000e+00</td>\n",
       "      <td>0.000000</td>\n",
       "      <td>0.000000</td>\n",
       "      <td>5</td>\n",
       "    </tr>\n",
       "    <tr>\n",
       "      <th>473</th>\n",
       "      <td>-0.177407</td>\n",
       "      <td>-93.655464</td>\n",
       "      <td>8.486831e-11</td>\n",
       "      <td>-1.163006</td>\n",
       "      <td>0.091141</td>\n",
       "      <td>6</td>\n",
       "    </tr>\n",
       "    <tr>\n",
       "      <th>546</th>\n",
       "      <td>-0.199939</td>\n",
       "      <td>-94.510577</td>\n",
       "      <td>9.942752e-11</td>\n",
       "      <td>-1.321847</td>\n",
       "      <td>0.107559</td>\n",
       "      <td>7</td>\n",
       "    </tr>\n",
       "    <tr>\n",
       "      <th>620</th>\n",
       "      <td>-0.218382</td>\n",
       "      <td>-94.582221</td>\n",
       "      <td>8.717339e-11</td>\n",
       "      <td>-1.479240</td>\n",
       "      <td>0.193974</td>\n",
       "      <td>8</td>\n",
       "    </tr>\n",
       "    <tr>\n",
       "      <th>694</th>\n",
       "      <td>-0.112884</td>\n",
       "      <td>-95.694828</td>\n",
       "      <td>9.936784e-11</td>\n",
       "      <td>-1.439551</td>\n",
       "      <td>0.374867</td>\n",
       "      <td>9</td>\n",
       "    </tr>\n",
       "  </tbody>\n",
       "</table>\n",
       "</div>"
      ],
      "text/plain": [
       "     eccentricity     h4_PRO     moment_I7  ls0_IRGL_sample_sd    h8_IDM  \\\n",
       "400      0.000000   0.000000  0.000000e+00            0.000000  0.000000   \n",
       "473     -0.177407 -93.655464  8.486831e-11           -1.163006  0.091141   \n",
       "546     -0.199939 -94.510577  9.942752e-11           -1.321847  0.107559   \n",
       "620     -0.218382 -94.582221  8.717339e-11           -1.479240  0.193974   \n",
       "694     -0.112884 -95.694828  9.936784e-11           -1.439551  0.374867   \n",
       "\n",
       "     0015_id_frame  \n",
       "400              5  \n",
       "473              6  \n",
       "546              7  \n",
       "620              8  \n",
       "694              9  "
      ]
     },
     "execution_count": 15,
     "metadata": {},
     "output_type": "execute_result"
    }
   ],
   "source": [
    "_rand_index_train=(random.sample(H2B_N_D_0.train.index,5))\n",
    "_rand_col  = random.sample(H2B_N_D_0.names,5)\n",
    "traj=0\n",
    "obj=H2B_N_D_0\n",
    "obj.data.ix[obj.data[\"traj\"]==traj,_rand_col+[num_str+\"_id_frame\"]].head()"
   ]
  },
  {
   "cell_type": "code",
   "execution_count": 16,
   "metadata": {
    "collapsed": false
   },
   "outputs": [
    {
     "data": {
      "text/html": [
       "<div>\n",
       "<table border=\"1\" class=\"dataframe\">\n",
       "  <thead>\n",
       "    <tr style=\"text-align: right;\">\n",
       "      <th></th>\n",
       "      <th>eccentricity</th>\n",
       "      <th>h4_PRO</th>\n",
       "      <th>moment_I7</th>\n",
       "      <th>ls0_IRGL_sample_sd</th>\n",
       "      <th>h8_IDM</th>\n",
       "      <th>0015_id_frame</th>\n",
       "    </tr>\n",
       "  </thead>\n",
       "  <tbody>\n",
       "    <tr>\n",
       "      <th>0</th>\n",
       "      <td>-0.096663</td>\n",
       "      <td>-29.861133</td>\n",
       "      <td>-1.953515e-08</td>\n",
       "      <td>-1.187466</td>\n",
       "      <td>0.053088</td>\n",
       "      <td>0</td>\n",
       "    </tr>\n",
       "    <tr>\n",
       "      <th>71</th>\n",
       "      <td>-0.107421</td>\n",
       "      <td>-29.861133</td>\n",
       "      <td>-1.953518e-08</td>\n",
       "      <td>-0.728371</td>\n",
       "      <td>0.053088</td>\n",
       "      <td>1</td>\n",
       "    </tr>\n",
       "    <tr>\n",
       "      <th>140</th>\n",
       "      <td>-0.105367</td>\n",
       "      <td>-29.861133</td>\n",
       "      <td>-1.953396e-08</td>\n",
       "      <td>-0.874071</td>\n",
       "      <td>0.053088</td>\n",
       "      <td>2</td>\n",
       "    </tr>\n",
       "    <tr>\n",
       "      <th>211</th>\n",
       "      <td>-0.096260</td>\n",
       "      <td>-29.861133</td>\n",
       "      <td>-1.953535e-08</td>\n",
       "      <td>-1.078722</td>\n",
       "      <td>0.053088</td>\n",
       "      <td>3</td>\n",
       "    </tr>\n",
       "    <tr>\n",
       "      <th>283</th>\n",
       "      <td>-0.080081</td>\n",
       "      <td>-29.861133</td>\n",
       "      <td>-1.953536e-08</td>\n",
       "      <td>0.180591</td>\n",
       "      <td>0.053088</td>\n",
       "      <td>4</td>\n",
       "    </tr>\n",
       "  </tbody>\n",
       "</table>\n",
       "</div>"
      ],
      "text/plain": [
       "     eccentricity     h4_PRO     moment_I7  ls0_IRGL_sample_sd    h8_IDM  \\\n",
       "0       -0.096663 -29.861133 -1.953515e-08           -1.187466  0.053088   \n",
       "71      -0.107421 -29.861133 -1.953518e-08           -0.728371  0.053088   \n",
       "140     -0.105367 -29.861133 -1.953396e-08           -0.874071  0.053088   \n",
       "211     -0.096260 -29.861133 -1.953535e-08           -1.078722  0.053088   \n",
       "283     -0.080081 -29.861133 -1.953536e-08            0.180591  0.053088   \n",
       "\n",
       "     0015_id_frame  \n",
       "0                0  \n",
       "71               1  \n",
       "140              2  \n",
       "211              3  \n",
       "283              4  "
      ]
     },
     "execution_count": 16,
     "metadata": {},
     "output_type": "execute_result"
    }
   ],
   "source": [
    "obj=H2B_N_D_A\n",
    "obj.data.ix[obj.data[\"traj\"]==traj,_rand_col+[num_str+\"_id_frame\"]].head()"
   ]
  },
  {
   "cell_type": "code",
   "execution_count": 17,
   "metadata": {
    "collapsed": false
   },
   "outputs": [
    {
     "data": {
      "text/html": [
       "<div>\n",
       "<table border=\"1\" class=\"dataframe\">\n",
       "  <thead>\n",
       "    <tr style=\"text-align: right;\">\n",
       "      <th></th>\n",
       "      <th>eccentricity</th>\n",
       "      <th>h4_PRO</th>\n",
       "      <th>moment_I7</th>\n",
       "      <th>ls0_IRGL_sample_sd</th>\n",
       "      <th>h8_IDM</th>\n",
       "      <th>0015_id_frame</th>\n",
       "    </tr>\n",
       "  </thead>\n",
       "  <tbody>\n",
       "    <tr>\n",
       "      <th>400</th>\n",
       "      <td>0.000000</td>\n",
       "      <td>0.000000</td>\n",
       "      <td>0.000000e+00</td>\n",
       "      <td>0.000000</td>\n",
       "      <td>0.000000</td>\n",
       "      <td>5</td>\n",
       "    </tr>\n",
       "    <tr>\n",
       "      <th>473</th>\n",
       "      <td>-0.177407</td>\n",
       "      <td>-93.655464</td>\n",
       "      <td>8.486831e-11</td>\n",
       "      <td>-1.163006</td>\n",
       "      <td>0.091141</td>\n",
       "      <td>6</td>\n",
       "    </tr>\n",
       "    <tr>\n",
       "      <th>546</th>\n",
       "      <td>-0.199939</td>\n",
       "      <td>-94.510577</td>\n",
       "      <td>9.942752e-11</td>\n",
       "      <td>-1.321847</td>\n",
       "      <td>0.107559</td>\n",
       "      <td>7</td>\n",
       "    </tr>\n",
       "    <tr>\n",
       "      <th>620</th>\n",
       "      <td>-0.218382</td>\n",
       "      <td>-94.582221</td>\n",
       "      <td>8.717339e-11</td>\n",
       "      <td>-1.479240</td>\n",
       "      <td>0.193974</td>\n",
       "      <td>8</td>\n",
       "    </tr>\n",
       "    <tr>\n",
       "      <th>694</th>\n",
       "      <td>-0.112884</td>\n",
       "      <td>-95.694828</td>\n",
       "      <td>9.936784e-11</td>\n",
       "      <td>-1.439551</td>\n",
       "      <td>0.374867</td>\n",
       "      <td>9</td>\n",
       "    </tr>\n",
       "  </tbody>\n",
       "</table>\n",
       "</div>"
      ],
      "text/plain": [
       "     eccentricity     h4_PRO     moment_I7  ls0_IRGL_sample_sd    h8_IDM  \\\n",
       "400      0.000000   0.000000  0.000000e+00            0.000000  0.000000   \n",
       "473     -0.177407 -93.655464  8.486831e-11           -1.163006  0.091141   \n",
       "546     -0.199939 -94.510577  9.942752e-11           -1.321847  0.107559   \n",
       "620     -0.218382 -94.582221  8.717339e-11           -1.479240  0.193974   \n",
       "694     -0.112884 -95.694828  9.936784e-11           -1.439551  0.374867   \n",
       "\n",
       "     0015_id_frame  \n",
       "400              5  \n",
       "473              6  \n",
       "546              7  \n",
       "620              8  \n",
       "694              9  "
      ]
     },
     "execution_count": 17,
     "metadata": {},
     "output_type": "execute_result"
    }
   ],
   "source": [
    "obj=H2B_N_D_0\n",
    "obj.data.ix[obj.data[\"traj\"]==traj,_rand_col+[num_str+\"_id_frame\"]].head()"
   ]
  },
  {
   "cell_type": "code",
   "execution_count": 18,
   "metadata": {
    "collapsed": false
   },
   "outputs": [
    {
     "data": {
      "text/html": [
       "<div>\n",
       "<table border=\"1\" class=\"dataframe\">\n",
       "  <thead>\n",
       "    <tr style=\"text-align: right;\">\n",
       "      <th></th>\n",
       "      <th>eccentricity</th>\n",
       "      <th>h4_PRO</th>\n",
       "      <th>moment_I7</th>\n",
       "      <th>ls0_IRGL_sample_sd</th>\n",
       "      <th>h8_IDM</th>\n",
       "      <th>0015_id_frame</th>\n",
       "    </tr>\n",
       "  </thead>\n",
       "  <tbody>\n",
       "    <tr>\n",
       "      <th>400</th>\n",
       "      <td>1.000000</td>\n",
       "      <td>1.000000</td>\n",
       "      <td>1</td>\n",
       "      <td>1.000000</td>\n",
       "      <td>1.000000</td>\n",
       "      <td>5</td>\n",
       "    </tr>\n",
       "    <tr>\n",
       "      <th>473</th>\n",
       "      <td>0.384718</td>\n",
       "      <td>0.022092</td>\n",
       "      <td>1</td>\n",
       "      <td>0.853150</td>\n",
       "      <td>1.153310</td>\n",
       "      <td>6</td>\n",
       "    </tr>\n",
       "    <tr>\n",
       "      <th>546</th>\n",
       "      <td>0.306573</td>\n",
       "      <td>0.013163</td>\n",
       "      <td>1</td>\n",
       "      <td>0.833093</td>\n",
       "      <td>1.180927</td>\n",
       "      <td>7</td>\n",
       "    </tr>\n",
       "    <tr>\n",
       "      <th>620</th>\n",
       "      <td>0.242608</td>\n",
       "      <td>0.012415</td>\n",
       "      <td>1</td>\n",
       "      <td>0.813220</td>\n",
       "      <td>1.326287</td>\n",
       "      <td>8</td>\n",
       "    </tr>\n",
       "    <tr>\n",
       "      <th>694</th>\n",
       "      <td>0.608495</td>\n",
       "      <td>0.000798</td>\n",
       "      <td>1</td>\n",
       "      <td>0.818231</td>\n",
       "      <td>1.630571</td>\n",
       "      <td>9</td>\n",
       "    </tr>\n",
       "  </tbody>\n",
       "</table>\n",
       "</div>"
      ],
      "text/plain": [
       "     eccentricity    h4_PRO  moment_I7  ls0_IRGL_sample_sd    h8_IDM  \\\n",
       "400      1.000000  1.000000          1            1.000000  1.000000   \n",
       "473      0.384718  0.022092          1            0.853150  1.153310   \n",
       "546      0.306573  0.013163          1            0.833093  1.180927   \n",
       "620      0.242608  0.012415          1            0.813220  1.326287   \n",
       "694      0.608495  0.000798          1            0.818231  1.630571   \n",
       "\n",
       "     0015_id_frame  \n",
       "400              5  \n",
       "473              6  \n",
       "546              7  \n",
       "620              8  \n",
       "694              9  "
      ]
     },
     "execution_count": 18,
     "metadata": {},
     "output_type": "execute_result"
    }
   ],
   "source": [
    "obj=H2B_N_F_0\n",
    "obj.data.ix[obj.data[\"traj\"]==traj,_rand_col+[num_str+\"_id_frame\"]].head()"
   ]
  },
  {
   "cell_type": "code",
   "execution_count": 19,
   "metadata": {
    "collapsed": false
   },
   "outputs": [
    {
     "data": {
      "text/html": [
       "<div>\n",
       "<table border=\"1\" class=\"dataframe\">\n",
       "  <thead>\n",
       "    <tr style=\"text-align: right;\">\n",
       "      <th></th>\n",
       "      <th>eccentricity</th>\n",
       "      <th>h4_PRO</th>\n",
       "      <th>moment_I7</th>\n",
       "      <th>ls0_IRGL_sample_sd</th>\n",
       "      <th>h8_IDM</th>\n",
       "      <th>0015_id_frame</th>\n",
       "    </tr>\n",
       "  </thead>\n",
       "  <tbody>\n",
       "    <tr>\n",
       "      <th>0</th>\n",
       "      <td>0.511203</td>\n",
       "      <td>0</td>\n",
       "      <td>-0.000002</td>\n",
       "      <td>0.826857</td>\n",
       "      <td>1.056064</td>\n",
       "      <td>0</td>\n",
       "    </tr>\n",
       "    <tr>\n",
       "      <th>71</th>\n",
       "      <td>0.456802</td>\n",
       "      <td>0</td>\n",
       "      <td>-0.000004</td>\n",
       "      <td>0.893797</td>\n",
       "      <td>1.056064</td>\n",
       "      <td>1</td>\n",
       "    </tr>\n",
       "    <tr>\n",
       "      <th>140</th>\n",
       "      <td>0.467191</td>\n",
       "      <td>0</td>\n",
       "      <td>0.000059</td>\n",
       "      <td>0.872553</td>\n",
       "      <td>1.056064</td>\n",
       "      <td>2</td>\n",
       "    </tr>\n",
       "    <tr>\n",
       "      <th>211</th>\n",
       "      <td>0.513242</td>\n",
       "      <td>0</td>\n",
       "      <td>-0.000012</td>\n",
       "      <td>0.842713</td>\n",
       "      <td>1.056064</td>\n",
       "      <td>3</td>\n",
       "    </tr>\n",
       "    <tr>\n",
       "      <th>283</th>\n",
       "      <td>0.595051</td>\n",
       "      <td>0</td>\n",
       "      <td>-0.000013</td>\n",
       "      <td>1.026332</td>\n",
       "      <td>1.056064</td>\n",
       "      <td>4</td>\n",
       "    </tr>\n",
       "  </tbody>\n",
       "</table>\n",
       "</div>"
      ],
      "text/plain": [
       "     eccentricity  h4_PRO  moment_I7  ls0_IRGL_sample_sd    h8_IDM  \\\n",
       "0        0.511203       0  -0.000002            0.826857  1.056064   \n",
       "71       0.456802       0  -0.000004            0.893797  1.056064   \n",
       "140      0.467191       0   0.000059            0.872553  1.056064   \n",
       "211      0.513242       0  -0.000012            0.842713  1.056064   \n",
       "283      0.595051       0  -0.000013            1.026332  1.056064   \n",
       "\n",
       "     0015_id_frame  \n",
       "0                0  \n",
       "71               1  \n",
       "140              2  \n",
       "211              3  \n",
       "283              4  "
      ]
     },
     "execution_count": 19,
     "metadata": {},
     "output_type": "execute_result"
    }
   ],
   "source": [
    "obj=H2B_N_F_A\n",
    "obj.data.ix[obj.data[\"traj\"]==traj,_rand_col+[num_str+\"_id_frame\"]].head()"
   ]
  },
  {
   "cell_type": "code",
   "execution_count": 20,
   "metadata": {
    "collapsed": false
   },
   "outputs": [
    {
     "data": {
      "text/html": [
       "<div>\n",
       "<table border=\"1\" class=\"dataframe\">\n",
       "  <thead>\n",
       "    <tr style=\"text-align: right;\">\n",
       "      <th></th>\n",
       "      <th>eccentricity</th>\n",
       "      <th>h4_PRO</th>\n",
       "      <th>moment_I7</th>\n",
       "      <th>ls0_IRGL_sample_sd</th>\n",
       "      <th>h8_IDM</th>\n",
       "      <th>0015_id_frame</th>\n",
       "    </tr>\n",
       "  </thead>\n",
       "  <tbody>\n",
       "    <tr>\n",
       "      <th>400</th>\n",
       "      <td>0.288335</td>\n",
       "      <td>95.771208</td>\n",
       "      <td>-8.723894e-11</td>\n",
       "      <td>7.919675</td>\n",
       "      <td>0.594488</td>\n",
       "      <td>5</td>\n",
       "    </tr>\n",
       "    <tr>\n",
       "      <th>473</th>\n",
       "      <td>0.110928</td>\n",
       "      <td>2.115744</td>\n",
       "      <td>-2.370632e-12</td>\n",
       "      <td>6.756669</td>\n",
       "      <td>0.685629</td>\n",
       "      <td>6</td>\n",
       "    </tr>\n",
       "    <tr>\n",
       "      <th>546</th>\n",
       "      <td>0.088396</td>\n",
       "      <td>1.260631</td>\n",
       "      <td>1.218859e-11</td>\n",
       "      <td>6.597828</td>\n",
       "      <td>0.702047</td>\n",
       "      <td>7</td>\n",
       "    </tr>\n",
       "    <tr>\n",
       "      <th>620</th>\n",
       "      <td>0.069952</td>\n",
       "      <td>1.188987</td>\n",
       "      <td>-6.555005e-14</td>\n",
       "      <td>6.440435</td>\n",
       "      <td>0.788462</td>\n",
       "      <td>8</td>\n",
       "    </tr>\n",
       "    <tr>\n",
       "      <th>694</th>\n",
       "      <td>0.175450</td>\n",
       "      <td>0.076380</td>\n",
       "      <td>1.212890e-11</td>\n",
       "      <td>6.480124</td>\n",
       "      <td>0.969355</td>\n",
       "      <td>9</td>\n",
       "    </tr>\n",
       "  </tbody>\n",
       "</table>\n",
       "</div>"
      ],
      "text/plain": [
       "     eccentricity     h4_PRO     moment_I7  ls0_IRGL_sample_sd    h8_IDM  \\\n",
       "400      0.288335  95.771208 -8.723894e-11            7.919675  0.594488   \n",
       "473      0.110928   2.115744 -2.370632e-12            6.756669  0.685629   \n",
       "546      0.088396   1.260631  1.218859e-11            6.597828  0.702047   \n",
       "620      0.069952   1.188987 -6.555005e-14            6.440435  0.788462   \n",
       "694      0.175450   0.076380  1.212890e-11            6.480124  0.969355   \n",
       "\n",
       "     0015_id_frame  \n",
       "400              5  \n",
       "473              6  \n",
       "546              7  \n",
       "620              8  \n",
       "694              9  "
      ]
     },
     "execution_count": 20,
     "metadata": {},
     "output_type": "execute_result"
    }
   ],
   "source": [
    "obj=H2B_U_F_0\n",
    "obj.data.ix[obj.data[\"traj\"]==traj,_rand_col+[num_str+\"_id_frame\"]].head()"
   ]
  },
  {
   "cell_type": "code",
   "execution_count": 38,
   "metadata": {
    "collapsed": false
   },
   "outputs": [
    {
     "name": "stdout",
     "output_type": "stream",
     "text": [
      "Processing time: 49.780808 in sec\n"
     ]
    },
    {
     "data": {
      "image/png": "[encoded data removed]",
      "text/plain": [
       "<matplotlib.figure.Figure at 0x7f7a57a37a10>"
      ]
     },
     "metadata": {},
     "output_type": "display_data"
    },
    {
     "name": "stdout",
     "output_type": "stream",
     "text": [
      "Processing time: 119.554158 in sec\n"
     ]
    },
    {
     "data": {
      "image/png": "[encoded data removed]",
      "text/plain": [
       "<matplotlib.figure.Figure at 0x7f7a432da050>"
      ]
     },
     "metadata": {},
     "output_type": "display_data"
    },
    {
     "name": "stdout",
     "output_type": "stream",
     "text": [
      "Processing time: 52.189118 in sec\n"
     ]
    },
    {
     "data": {
      "image/png": "[encoded data removed]",
      "text/plain": [
       "<matplotlib.figure.Figure at 0x7f7a40dd1ed0>"
      ]
     },
     "metadata": {},
     "output_type": "display_data"
    },
    {
     "name": "stdout",
     "output_type": "stream",
     "text": [
      "Processing time: 124.897817 in sec\n"
     ]
    },
    {
     "data": {
      "image/png": "[encoded data removed]",
      "text/plain": [
       "<matplotlib.figure.Figure at 0x7f7a57b42650>"
      ]
     },
     "metadata": {},
     "output_type": "display_data"
    },
    {
     "name": "stdout",
     "output_type": "stream",
     "text": [
      "Processing time: 53.948489 in sec\n"
     ]
    },
    {
     "data": {
      "image/png": "[encoded data removed]",
      "text/plain": [
       "<matplotlib.figure.Figure at 0x7f7a57a37ad0>"
      ]
     },
     "metadata": {},
     "output_type": "display_data"
    }
   ],
   "source": [
    "list_obj=[ H2B_U_F_0, H2B_N_F_A, H2B_N_F_0, H2B_N_D_A, H2B_N_D_0]\n",
    "kfold=3\n",
    "D={}\n",
    "instances_to_keep=pd.notnull(H2B_N_F_A.train.traj)\n",
    "for obj in list_obj:\n",
    "    if obj.Var_missing[0] in obj.train.columns:\n",
    "        obj.missing_features_train()\n",
    "    if obj.Var_missing[0] in obj.data.columns:\n",
    "        obj.missing_features_data()\n",
    "        \n",
    "    instances_to_keep=pd.notnull(obj.train.traj)\n",
    "\n",
    "    values=[100 + i*10 for i in range(30)]\n",
    "\n",
    "    model=RandomForest_Autotunner(values)\n",
    "\n",
    "    model.tunning(obj.train.ix[instances_to_keep,obj.names],obj.train.ix[instances_to_keep,\"Type\"],kfold,plot=False,fit_new_model=False)\n",
    "    plt.show()\n",
    "\n",
    "    i_=np.argmax(model.MSE)\n",
    "    n_tree=values[i_]\n",
    " ##   print \"For this caracteristic: \"+obj.caract +\", with n= \"+ str(sum(instances_to_keep)) +\"\\n\"\n",
    " ##   print \"We now have a classifier with n=%d, with an expected accuracy of %5.3f for the normalized data. \\n\" %(n_tree,max(model.MSE))\n",
    " ##   plot_matrix(model.cm,title=\"Confusion matrix unnormalized with normalized data\")\n",
    " ##   plt.show()\n",
    "    model.cm_normalized = model.cm.astype('float') / model.cm.sum(axis=1)[:, np.newaxis]\n",
    " ##   plot_matrix(model.cm_normalized,title=\"Confusion matrix normalized with normalized data\")\n",
    " ##   plt.show()\n",
    "    D[obj.caract]={\"tree_tunning\":n_tree,\n",
    "                   \"best accuracy\":max(model.MSE),\n",
    "                   \"Accuracy vector\":model.MSE,\n",
    "                   \"Confusion matrix\":model.cm,\n",
    "                   \"Normalized confusion matrix\":model.cm_normalized,\n",
    "                   \"Training sample\":str(sum(instances_to_keep))\n",
    "                  }"
   ]
  },
  {
   "cell_type": "code",
   "execution_count": null,
   "metadata": {
    "collapsed": true
   },
   "outputs": [],
   "source": [
    "i_=np.argmax(model.MSE)\n",
    "    n_tree=values[i_]\n",
    "    print \"For this caracteristic: \"+obj.caract +\", with n= \"+ str(sum(instances_to_keep)) +\"\\n\"\n",
    "    print \"We now have a classifier with n=%d, with an expected accuracy of %5.3f for the normalized data. \\n\" %(n_tree,max(model.MSE))\n",
    "    plot_matrix(model.cm,title=\"Confusion matrix unnormalized with normalized data\")\n",
    "    plt.show()\n",
    "    model.cm_normalized = model.cm.astype('float') / model.cm.sum(axis=1)[:, np.newaxis]\n",
    "    plot_matrix(model.cm_normalized,title=\"Confusion matrix normalized with normalized data\")\n",
    "    plt.show()\n",
    "    D[obj.caract]={\"tree_tunning\":n_tree,\n",
    "                   \"best accuracy\":max(model.MSE),\n",
    "                   \"Accuracy vector\":model.MSE,\n",
    "                   \"Confusion matrix\":model.cm,\n",
    "                   \"Normalized confusion matrix\":model.cm_normalized\n",
    "                  }"
   ]
  },
  {
   "cell_type": "code",
   "execution_count": 40,
   "metadata": {
    "collapsed": false
   },
   "outputs": [
    {
     "name": "stdout",
     "output_type": "stream",
     "text": [
      "Normalization process: Normalized by divided by first element\n",
      "Accuracy score: #####    0.781496062992   #####\n",
      "Effectif number: ####    508 \n",
      "\n",
      "Normalization process: Normalized by dividing by average\n",
      "Accuracy score: #####    0.723487824038   #####\n",
      "Effectif number: ####    1273 \n",
      "\n",
      "Normalization process: Normalized by subtracted by average\n",
      "Accuracy score: #####    0.726630007855   #####\n",
      "Effectif number: ####    1273 \n",
      "\n",
      "Normalization process: Unnormalized\n",
      "Accuracy score: #####    0.714566929134   #####\n",
      "Effectif number: ####    508 \n",
      "\n",
      "Normalization process: Normalized by subtracted by first element\n",
      "Accuracy score: #####    0.781496062992   #####\n",
      "Effectif number: ####    508 \n",
      "\n"
     ]
    }
   ],
   "source": [
    "for ke in D.keys():\n",
    "    tmp_dict=D[ke]\n",
    "    print \"Normalization process: \"+ke \n",
    "    print \"Accuracy score: #####    \"+str(tmp_dict[\"best accuracy\"])+\"   #####\"\n",
    "    print \"Effectif number: ####    \"+str(tmp_dict[\"Training sample\"])+\" \\n\""
   ]
  },
  {
   "cell_type": "code",
   "execution_count": 39,
   "metadata": {
    "collapsed": false
   },
   "outputs": [
    {
     "name": "stdout",
     "output_type": "stream",
     "text": [
      "['best accuracy', 'tree_tunning', 'Accuracy vector', 'Normalized confusion matrix', 'Confusion matrix']\n"
     ]
    },
    {
     "data": {
      "text/plain": [
       "0.77952755905511806"
      ]
     },
     "execution_count": 39,
     "metadata": {},
     "output_type": "execute_result"
    }
   ],
   "source": [
    "print tmp_dict.keys()\n",
    "tmp_dict[\"best accuracy\"]"
   ]
  }
 ],
 "metadata": {
  "kernelspec": {
   "display_name": "Python 2",
   "language": "python",
   "name": "python2"
  },
  "language_info": {
   "codemirror_mode": {
    "name": "ipython",
    "version": 2
   },
   "file_extension": ".py",
   "mimetype": "text/x-python",
   "name": "python",
   "nbconvert_exporter": "python",
   "pygments_lexer": "ipython2",
   "version": "2.7.10"
  }
 },
 "nbformat": 4,
 "nbformat_minor": 0
}
