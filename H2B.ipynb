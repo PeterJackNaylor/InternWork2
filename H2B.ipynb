{
 "cells": [
  {
   "cell_type": "markdown",
   "metadata": {},
   "source": [
    "# <a name=\"H2B\"></a> Analysing Michael Olma data set with the H2b fluorescent marker\n",
    "\n",
    "* <a href=\"#H2B\"> Analysing Michael Olma data set with the H2b fluorescent marker </a>\n",
    "    * <a href=\"#StateClassifier\"> Predicting the state of the cell based on the H2B fluorescent marker</a>\n",
    "        * <a href=\"#Unnormalized\"> Unnormalized H2b data set</a>\n",
    "        * <a href=\"#Normalized\">Normalized</a>\n",
    "        * <a href=\"#Results1\"> Results</a>\n",
    "    * <a href=\"#MitoseOrNot\">Preclassifier: Mitosis or not</a>\n",
    "    * <a href=\"#Fusion\"> Fusionning the preclassifier and the 3 state predictor </a>\n",
    "    * <a href=\"#HMM\"> Hidden Markov Model </a>\n",
    "    * <a href=\"#AccuracyResults\"> Results of classification </a>\n",
    "    * <a href=\"#Final\"> Time analysis of cell cycle phases </a>\n"
   ]
  },
  {
   "cell_type": "markdown",
   "metadata": {},
   "source": [
    "# <a name=\"StateClassifier\"></a> Predicting the state of the cell based on the H2B fluorescent marker"
   ]
  },
  {
   "cell_type": "code",
   "execution_count": 1,
   "metadata": {
    "collapsed": false
   },
   "outputs": [],
   "source": [
    "### All the packages we need:\n",
    "%matplotlib inline\n",
    "%load_ext rpy2.ipython\n",
    "\n",
    "from Reader import Reader\n",
    "from Randomforest import RandomForest_Autotunner,plot_matrix,Measure,check_rotate\n",
    "from Traj_creator import Traj_data\n",
    "\n",
    "import random\n",
    "import numpy as np\n",
    "import pandas as pd\n",
    "import matplotlib.pyplot as plt\n",
    "\n",
    "import os.path\n",
    "import cPickle as pkl\n"
   ]
  },
  {
   "cell_type": "markdown",
   "metadata": {},
   "source": [
    "# <a name=\"Unnormalized\"></a> Unnormalized H2b data set"
   ]
  },
  {
   "cell_type": "code",
   "execution_count": 2,
   "metadata": {
    "collapsed": false
   },
   "outputs": [
    {
     "name": "stdout",
     "output_type": "stream",
     "text": [
      "The file existed so I loaded it.\n",
      "Traj_data built\n",
      "Reader constructed\n",
      "Updated member Group_of_traj\n"
     ]
    },
    {
     "name": "stderr",
     "output_type": "stream",
     "text": [
      "/home/naylor/anaconda/lib/python2.7/site-packages/IPython/core/interactiveshell.py:3006: DtypeWarning: Columns (245) have mixed types. Specify dtype option on import or set low_memory=False.\n",
      "  if self.run_code(code, result):\n"
     ]
    }
   ],
   "source": [
    "num_str=\"0015\" \n",
    "## Well name\n",
    "if os.path.isfile(\"H2b_data.csv\"):\n",
    "    print \"The file existed so I loaded it.\"\n",
    "    H2b = Traj_data(file_name=\"H2b_data.csv\")#,pkl_traj_file=\"/home/pubuntu/Documents/InternWork2/Pkl_file\") \n",
    "\n",
    "else:    \n",
    "    H2b=Traj_data() \n",
    "\n",
    "    H2b.extracting(num_str,\"both_channels_0015.hdf5\",'primary') \n",
    "    ## Extracting the hdf5 file for the primary channel (H2b)\n",
    "\n",
    "    H2b.Add_traj(normalize=False)## ,num_traj=10) ## (you can reduce the number of traj)\n",
    "    ## Adding Alice's work on tracking to have trajectories\n",
    "\n",
    "    file_loc=\"0015_PCNA.xml\"\n",
    "\n",
    "    H2b.label_finder(file_loc) \n",
    "    ## Finding associated labels by minimizing distance by click and distance of cell\n",
    "\n",
    "    H2b.renaming_and_merge() \n",
    "    ## renaming the labels to have G1==\"1\", S==\"S\", G2==\"2\" and M==\"M\" \n",
    "    #This procedure may take a long time.\n",
    "    \n",
    "    H2b.data.to_csv('H2b_data.csv',index=False,header=True)    "
   ]
  },
  {
   "cell_type": "code",
   "execution_count": 3,
   "metadata": {
    "collapsed": false
   },
   "outputs": [
    {
     "name": "stdout",
     "output_type": "stream",
     "text": [
      "The training set has 1273 instances and 246 features\n",
      "The training set has only 239 charateristic features out of 246\n"
     ]
    },
    {
     "data": {
      "text/html": [
       "<div>\n",
       "<table border=\"1\" class=\"dataframe\">\n",
       "  <thead>\n",
       "    <tr style=\"text-align: right;\">\n",
       "      <th></th>\n",
       "      <th>h2_CON</th>\n",
       "      <th>h2_IDM</th>\n",
       "      <th>h8_2SAV</th>\n",
       "      <th>h8_2average</th>\n",
       "      <th>h8_2DAV</th>\n",
       "    </tr>\n",
       "  </thead>\n",
       "  <tbody>\n",
       "    <tr>\n",
       "      <th>6007</th>\n",
       "      <td>0.000000</td>\n",
       "      <td>1.000000</td>\n",
       "      <td>35.921255</td>\n",
       "      <td>15.103612</td>\n",
       "      <td>5.714032</td>\n",
       "    </tr>\n",
       "    <tr>\n",
       "      <th>25302</th>\n",
       "      <td>0.039237</td>\n",
       "      <td>0.980381</td>\n",
       "      <td>29.254529</td>\n",
       "      <td>11.186594</td>\n",
       "      <td>6.881341</td>\n",
       "    </tr>\n",
       "    <tr>\n",
       "      <th>18684</th>\n",
       "      <td>0.000000</td>\n",
       "      <td>1.000000</td>\n",
       "      <td>34.467377</td>\n",
       "      <td>14.199734</td>\n",
       "      <td>6.067909</td>\n",
       "    </tr>\n",
       "    <tr>\n",
       "      <th>23507</th>\n",
       "      <td>0.016606</td>\n",
       "      <td>0.991697</td>\n",
       "      <td>27.651123</td>\n",
       "      <td>10.891192</td>\n",
       "      <td>5.868739</td>\n",
       "    </tr>\n",
       "    <tr>\n",
       "      <th>5273</th>\n",
       "      <td>0.000000</td>\n",
       "      <td>1.000000</td>\n",
       "      <td>28.864460</td>\n",
       "      <td>11.416615</td>\n",
       "      <td>6.031230</td>\n",
       "    </tr>\n",
       "  </tbody>\n",
       "</table>\n",
       "</div>"
      ],
      "text/plain": [
       "         h2_CON    h2_IDM    h8_2SAV  h8_2average   h8_2DAV\n",
       "6007   0.000000  1.000000  35.921255    15.103612  5.714032\n",
       "25302  0.039237  0.980381  29.254529    11.186594  6.881341\n",
       "18684  0.000000  1.000000  34.467377    14.199734  6.067909\n",
       "23507  0.016606  0.991697  27.651123    10.891192  5.868739\n",
       "5273   0.000000  1.000000  28.864460    11.416615  6.031230"
      ]
     },
     "execution_count": 3,
     "metadata": {},
     "output_type": "execute_result"
    }
   ],
   "source": [
    "print \"The training set has %d instances and %d features\"%H2b.train.shape\n",
    "print \"The training set has only %d charateristic features out of %d\"%(len(H2b.names),H2b.train.shape[1])\n",
    "\n",
    "_rand_index_train=(random.sample(H2b.train.index,5))\n",
    "_rand_col  = random.sample(H2b.names,5)\n",
    "H2b.train.ix[_rand_index_train,_rand_col]"
   ]
  },
  {
   "cell_type": "code",
   "execution_count": 4,
   "metadata": {
    "collapsed": false
   },
   "outputs": [
    {
     "data": {
      "text/html": [
       "<div>\n",
       "<table border=\"1\" class=\"dataframe\">\n",
       "  <thead>\n",
       "    <tr style=\"text-align: right;\">\n",
       "      <th></th>\n",
       "      <th>0015_id_frame</th>\n",
       "      <th>0015_id_object</th>\n",
       "      <th>0015_line_id</th>\n",
       "      <th>0015_pos_x</th>\n",
       "      <th>0015_pos_y</th>\n",
       "      <th>traj</th>\n",
       "      <th>Type</th>\n",
       "    </tr>\n",
       "  </thead>\n",
       "  <tbody>\n",
       "    <tr>\n",
       "      <th>6007</th>\n",
       "      <td>74</td>\n",
       "      <td>3</td>\n",
       "      <td>6007</td>\n",
       "      <td>124</td>\n",
       "      <td>84</td>\n",
       "      <td>NaN</td>\n",
       "      <td>2</td>\n",
       "    </tr>\n",
       "    <tr>\n",
       "      <th>25302</th>\n",
       "      <td>240</td>\n",
       "      <td>154</td>\n",
       "      <td>25302</td>\n",
       "      <td>465</td>\n",
       "      <td>989</td>\n",
       "      <td>NaN</td>\n",
       "      <td>1</td>\n",
       "    </tr>\n",
       "    <tr>\n",
       "      <th>18684</th>\n",
       "      <td>189</td>\n",
       "      <td>117</td>\n",
       "      <td>18684</td>\n",
       "      <td>1251</td>\n",
       "      <td>837</td>\n",
       "      <td>7</td>\n",
       "      <td>S</td>\n",
       "    </tr>\n",
       "    <tr>\n",
       "      <th>23507</th>\n",
       "      <td>227</td>\n",
       "      <td>148</td>\n",
       "      <td>23507</td>\n",
       "      <td>219</td>\n",
       "      <td>1012</td>\n",
       "      <td>46</td>\n",
       "      <td>S</td>\n",
       "    </tr>\n",
       "    <tr>\n",
       "      <th>5273</th>\n",
       "      <td>66</td>\n",
       "      <td>8</td>\n",
       "      <td>5273</td>\n",
       "      <td>1368</td>\n",
       "      <td>180</td>\n",
       "      <td>NaN</td>\n",
       "      <td>2</td>\n",
       "    </tr>\n",
       "  </tbody>\n",
       "</table>\n",
       "</div>"
      ],
      "text/plain": [
       "       0015_id_frame  0015_id_object  0015_line_id  0015_pos_x  0015_pos_y  \\\n",
       "6007              74               3          6007         124          84   \n",
       "25302            240             154         25302         465         989   \n",
       "18684            189             117         18684        1251         837   \n",
       "23507            227             148         23507         219        1012   \n",
       "5273              66               8          5273        1368         180   \n",
       "\n",
       "       traj Type  \n",
       "6007    NaN    2  \n",
       "25302   NaN    1  \n",
       "18684     7    S  \n",
       "23507    46    S  \n",
       "5273    NaN    2  "
      ]
     },
     "execution_count": 4,
     "metadata": {},
     "output_type": "execute_result"
    }
   ],
   "source": [
    "info_col=[num_str+\"_id_frame\",num_str+\"_id_object\",num_str+\"_line_id\",num_str+\"_pos_x\",num_str+\"_pos_y\",\"traj\",\"Type\"]\n",
    "H2b.train.ix[_rand_index_train,info_col]"
   ]
  },
  {
   "cell_type": "code",
   "execution_count": 5,
   "metadata": {
    "collapsed": false
   },
   "outputs": [
    {
     "name": "stdout",
     "output_type": "stream",
     "text": [
      "Processing time: 111.366005 in sec\n",
      "training dataset: \n",
      "\n",
      "S    546\n",
      "1    378\n",
      "2    236\n",
      "M    113\n",
      "Name: Type, dtype: int64\n",
      "We now have a classifier with n=320, with an expected accuracy of 0.705 \n",
      "\n"
     ]
    },
    {
     "data": {
      "image/png": "[encoded data removed]",
      "text/plain": [
       "<matplotlib.figure.Figure at 0x7f5c415e7dd0>"
      ]
     },
     "metadata": {},
     "output_type": "display_data"
    },
    {
     "data": {
      "image/png": "[encoded data removed]",
      "text/plain": [
       "<matplotlib.figure.Figure at 0x7f5bf9a94dd0>"
      ]
     },
     "metadata": {},
     "output_type": "display_data"
    }
   ],
   "source": [
    "if H2b.Var_missing[0] in H2b.train.columns:\n",
    "    H2b.missing_features_train()\n",
    "if H2b.Var_missing[0] in H2b.data.columns:\n",
    "    H2b.missing_features_data()\n",
    "values=[100 + i*10 for i in range(30)]\n",
    "model=RandomForest_Autotunner(values)\n",
    "\n",
    "model.tunning(H2b.train[H2b.names],H2b.train[\"Type\"],3,plot=True,fit_new_model=True)\n",
    "print \"training dataset: \\n\"\n",
    "print H2b.train[\"Type\"].value_counts()\n",
    "\n",
    "i_=np.argmax(model.MSE)\n",
    "n_tree=values[i_]\n",
    "print \"We now have a classifier with n=%d, with an expected accuracy of %5.3f \\n\" %(n_tree,max(model.MSE))\n",
    "\n",
    "plot_matrix(model.cm,title=\"Confusion matrix unnormalized\")\n",
    "plt.show()\n",
    "model.cm_normalized = model.cm.astype('float') / model.cm.sum(axis=1)[:, np.newaxis]\n",
    "plot_matrix(model.cm_normalized,title=\"Confusion matrix normalized\")\n",
    "plt.show()"
   ]
  },
  {
   "cell_type": "code",
   "execution_count": 6,
   "metadata": {
    "collapsed": false
   },
   "outputs": [
    {
     "name": "stdout",
     "output_type": "stream",
     "text": [
      "Updated member Group_of_traj\n",
      "Frequency of predicted values: \n",
      "\n",
      "1    33928\n",
      "S    31220\n",
      "2     8351\n",
      "M     5182\n",
      "Name: Classif_1, dtype: int64\n",
      "\n",
      " We were however not able to predict 7 instances because of missing values\n"
     ]
    }
   ],
   "source": [
    "index_no_missing=H2b.data[H2b.names].dropna(axis=0, how='any').index\n",
    "H2b.data.ix[index_no_missing,\"Classif_1\"]=model.predict(H2b.data.ix[index_no_missing,H2b.names])\n",
    "H2b.update()\n",
    "print \"Frequency of predicted values: \\n\"\n",
    "print H2b.data[\"Classif_1\"].value_counts()\n",
    "print \"\\n We were however not able to predict %d instances because of missing values\" % (H2b.data.shape[0]-len(index_no_missing))"
   ]
  },
  {
   "cell_type": "code",
   "execution_count": 7,
   "metadata": {
    "collapsed": false
   },
   "outputs": [
    {
     "name": "stdout",
     "output_type": "stream",
     "text": [
      "Frequency within trajectories: \n",
      "\n",
      "S    13524\n",
      "1    12417\n",
      "2     2502\n",
      "M     1371\n",
      "Name: Classif_1, dtype: int64\n",
      "\n",
      " We were however not able to predict 0 instances because of missing values\n"
     ]
    }
   ],
   "source": [
    "temp_X= H2b.data[pd.notnull(H2b.data[\"traj\"])][\"Classif_1\"]\n",
    "\n",
    "print \"Frequency within trajectories: \\n\"\n",
    "print temp_X.value_counts()\n",
    "\n",
    "print \"\\n We were however not able to predict %d instances because of missing values\" % (sum(pd.isnull(temp_X)))"
   ]
  },
  {
   "cell_type": "markdown",
   "metadata": {},
   "source": [
    "# <a name=\"Normalized\"></a> Normalized data set\n",
    "\n",
    "Here we are going to try a normalization with respect to the first vector of features after mitosis. \n",
    "So if we are traking a certain cell after mitosis, lets call $(X_t)_{t\\in \\textbf{N}}$ the series of features of this trajectory. The normalization proccess is the following: the trajectory will have new features $(v_t)_{t\\in \\textbf{N}}$ where $v_t=\\frac{X_t}{X_0}$.\n",
    "\n",
    "This creates a certain number of problems:\n",
    "- Reduction of training set, we can only use the labels that coincide with cell belonging to a trajectory that has originated from a mitosis.\n",
    "- The issue above also creates a biais that is that only consider cells after mitosis.\n",
    "- Sometimes, vector $X_0$ has many 0 and to stop \"0/0\" we added \"+1\" to certain features in order to still comapre the evolution with respect to the initial frame. (member $\\texttt{.add_error()}$ )\n",
    "\n"
   ]
  },
  {
   "cell_type": "code",
   "execution_count": 8,
   "metadata": {
    "collapsed": false
   },
   "outputs": [
    {
     "name": "stdout",
     "output_type": "stream",
     "text": [
      "The file existed so I loaded it.\n",
      "Traj_data built\n",
      "Reader constructed\n",
      "Updated member Group_of_traj\n"
     ]
    }
   ],
   "source": [
    "num_str=\"0015\" \n",
    "## Well name\n",
    "if os.path.isfile(\"H2b_data_norm_mult.csv\"):\n",
    "    print \"The file existed so I loaded it.\"\n",
    "    H2b_n_m = Traj_data(file_name=\"H2b_data_norm_mult.csv\")#,pkl_traj_file=\"/home/pubuntu/Documents/InternWork2/Pkl_file\") \n",
    "\n",
    "else:    \n",
    "    H2b_n_m=Traj_data(pkl_traj_file=\"/home/pubuntu/Documents/InternWork2/Pkl_file\") \n",
    "\n",
    "    H2b_n_m.extracting(num_str,\"both_channels_0015.hdf5\",'primary') \n",
    "    ## Extracting the hdf5 file for the primary channel (H2b)\n",
    "    \n",
    "    H2b_n_m.add_error() ## We had it so that the data won't have to do 0/0\n",
    "    H2b_n_m.Add_traj(normalize=True)## ,num_traj=10) ## (you can reduce the number of traj)\n",
    "    ## Adding Alice's work on tracking to have trajectories\n",
    "\n",
    "    file_loc=\"0015_PCNA.xml\"\n",
    "\n",
    "    H2b_n_m.label_finder(file_loc) \n",
    "    ## Finding associated labels by minimizing distance by click and distance of cell\n",
    "\n",
    "    H2b_n_m.renaming_and_merge() \n",
    "    ## renaming the labels to have G1==\"1\", S==\"S\", G2==\"2\" and M==\"M\" \n",
    "    #This procedure may take a long time.\n",
    "    \n",
    "    H2b_n_m.data.to_csv('H2b_data_norm_mult.csv',index=False,header=True) "
   ]
  },
  {
   "cell_type": "code",
   "execution_count": 9,
   "metadata": {
    "collapsed": false
   },
   "outputs": [
    {
     "data": {
      "text/html": [
       "<div>\n",
       "<table border=\"1\" class=\"dataframe\">\n",
       "  <thead>\n",
       "    <tr style=\"text-align: right;\">\n",
       "      <th></th>\n",
       "      <th>h2_CON</th>\n",
       "      <th>h2_IDM</th>\n",
       "      <th>h8_2SAV</th>\n",
       "      <th>h8_2average</th>\n",
       "      <th>h8_2DAV</th>\n",
       "    </tr>\n",
       "  </thead>\n",
       "  <tbody>\n",
       "    <tr>\n",
       "      <th>6007</th>\n",
       "      <td>0.000000</td>\n",
       "      <td>1.000000</td>\n",
       "      <td>35.921255</td>\n",
       "      <td>15.103612</td>\n",
       "      <td>5.714032</td>\n",
       "    </tr>\n",
       "    <tr>\n",
       "      <th>25302</th>\n",
       "      <td>0.039237</td>\n",
       "      <td>0.980381</td>\n",
       "      <td>29.254529</td>\n",
       "      <td>11.186594</td>\n",
       "      <td>6.881341</td>\n",
       "    </tr>\n",
       "    <tr>\n",
       "      <th>18684</th>\n",
       "      <td>0.000000</td>\n",
       "      <td>1.684015</td>\n",
       "      <td>1.499158</td>\n",
       "      <td>2.518948</td>\n",
       "      <td>0.517880</td>\n",
       "    </tr>\n",
       "    <tr>\n",
       "      <th>23507</th>\n",
       "      <td>0.008422</td>\n",
       "      <td>1.934664</td>\n",
       "      <td>1.276081</td>\n",
       "      <td>2.050260</td>\n",
       "      <td>0.531368</td>\n",
       "    </tr>\n",
       "    <tr>\n",
       "      <th>5273</th>\n",
       "      <td>0.000000</td>\n",
       "      <td>1.000000</td>\n",
       "      <td>28.864460</td>\n",
       "      <td>11.416615</td>\n",
       "      <td>6.031230</td>\n",
       "    </tr>\n",
       "  </tbody>\n",
       "</table>\n",
       "</div>"
      ],
      "text/plain": [
       "         h2_CON    h2_IDM    h8_2SAV  h8_2average   h8_2DAV\n",
       "6007   0.000000  1.000000  35.921255    15.103612  5.714032\n",
       "25302  0.039237  0.980381  29.254529    11.186594  6.881341\n",
       "18684  0.000000  1.684015   1.499158     2.518948  0.517880\n",
       "23507  0.008422  1.934664   1.276081     2.050260  0.531368\n",
       "5273   0.000000  1.000000  28.864460    11.416615  6.031230"
      ]
     },
     "execution_count": 9,
     "metadata": {},
     "output_type": "execute_result"
    }
   ],
   "source": [
    "H2b_n_m.train.ix[_rand_index_train,_rand_col]"
   ]
  },
  {
   "cell_type": "code",
   "execution_count": 10,
   "metadata": {
    "collapsed": false
   },
   "outputs": [
    {
     "data": {
      "text/html": [
       "<div>\n",
       "<table border=\"1\" class=\"dataframe\">\n",
       "  <thead>\n",
       "    <tr style=\"text-align: right;\">\n",
       "      <th></th>\n",
       "      <th>0015_id_frame</th>\n",
       "      <th>0015_id_object</th>\n",
       "      <th>0015_line_id</th>\n",
       "      <th>0015_pos_x</th>\n",
       "      <th>0015_pos_y</th>\n",
       "      <th>traj</th>\n",
       "      <th>Type</th>\n",
       "    </tr>\n",
       "  </thead>\n",
       "  <tbody>\n",
       "    <tr>\n",
       "      <th>6007</th>\n",
       "      <td>74</td>\n",
       "      <td>3</td>\n",
       "      <td>6007</td>\n",
       "      <td>124</td>\n",
       "      <td>84</td>\n",
       "      <td>NaN</td>\n",
       "      <td>2</td>\n",
       "    </tr>\n",
       "    <tr>\n",
       "      <th>25302</th>\n",
       "      <td>240</td>\n",
       "      <td>154</td>\n",
       "      <td>25302</td>\n",
       "      <td>465</td>\n",
       "      <td>989</td>\n",
       "      <td>NaN</td>\n",
       "      <td>1</td>\n",
       "    </tr>\n",
       "    <tr>\n",
       "      <th>18684</th>\n",
       "      <td>189</td>\n",
       "      <td>117</td>\n",
       "      <td>18684</td>\n",
       "      <td>1251</td>\n",
       "      <td>837</td>\n",
       "      <td>7</td>\n",
       "      <td>S</td>\n",
       "    </tr>\n",
       "    <tr>\n",
       "      <th>23507</th>\n",
       "      <td>227</td>\n",
       "      <td>148</td>\n",
       "      <td>23507</td>\n",
       "      <td>219</td>\n",
       "      <td>1012</td>\n",
       "      <td>46</td>\n",
       "      <td>S</td>\n",
       "    </tr>\n",
       "    <tr>\n",
       "      <th>5273</th>\n",
       "      <td>66</td>\n",
       "      <td>8</td>\n",
       "      <td>5273</td>\n",
       "      <td>1368</td>\n",
       "      <td>180</td>\n",
       "      <td>NaN</td>\n",
       "      <td>2</td>\n",
       "    </tr>\n",
       "  </tbody>\n",
       "</table>\n",
       "</div>"
      ],
      "text/plain": [
       "       0015_id_frame  0015_id_object  0015_line_id  0015_pos_x  0015_pos_y  \\\n",
       "6007              74               3          6007         124          84   \n",
       "25302            240             154         25302         465         989   \n",
       "18684            189             117         18684        1251         837   \n",
       "23507            227             148         23507         219        1012   \n",
       "5273              66               8          5273        1368         180   \n",
       "\n",
       "       traj Type  \n",
       "6007    NaN    2  \n",
       "25302   NaN    1  \n",
       "18684     7    S  \n",
       "23507    46    S  \n",
       "5273    NaN    2  "
      ]
     },
     "execution_count": 10,
     "metadata": {},
     "output_type": "execute_result"
    }
   ],
   "source": [
    "H2b_n_m.train.ix[_rand_index_train,info_col]"
   ]
  },
  {
   "cell_type": "markdown",
   "metadata": {},
   "source": [
    "If we look at the features of a certain trajectory"
   ]
  },
  {
   "cell_type": "code",
   "execution_count": 11,
   "metadata": {
    "collapsed": false
   },
   "outputs": [
    {
     "data": {
      "text/html": [
       "<div>\n",
       "<table border=\"1\" class=\"dataframe\">\n",
       "  <thead>\n",
       "    <tr style=\"text-align: right;\">\n",
       "      <th></th>\n",
       "      <th>h2_CON</th>\n",
       "      <th>h2_IDM</th>\n",
       "      <th>h8_2SAV</th>\n",
       "      <th>h8_2average</th>\n",
       "      <th>h8_2DAV</th>\n",
       "      <th>0015_id_frame</th>\n",
       "    </tr>\n",
       "  </thead>\n",
       "  <tbody>\n",
       "    <tr>\n",
       "      <th>400</th>\n",
       "      <td>1.000000</td>\n",
       "      <td>1.000000</td>\n",
       "      <td>1.000000</td>\n",
       "      <td>1.000000</td>\n",
       "      <td>1.000000</td>\n",
       "      <td>5</td>\n",
       "    </tr>\n",
       "    <tr>\n",
       "      <th>473</th>\n",
       "      <td>0.184785</td>\n",
       "      <td>1.561849</td>\n",
       "      <td>1.602944</td>\n",
       "      <td>1.827430</td>\n",
       "      <td>1.264082</td>\n",
       "      <td>6</td>\n",
       "    </tr>\n",
       "    <tr>\n",
       "      <th>546</th>\n",
       "      <td>0.151947</td>\n",
       "      <td>1.627714</td>\n",
       "      <td>1.639571</td>\n",
       "      <td>1.942666</td>\n",
       "      <td>1.182048</td>\n",
       "      <td>7</td>\n",
       "    </tr>\n",
       "    <tr>\n",
       "      <th>620</th>\n",
       "      <td>0.112525</td>\n",
       "      <td>1.710227</td>\n",
       "      <td>1.619063</td>\n",
       "      <td>1.922576</td>\n",
       "      <td>1.160908</td>\n",
       "      <td>8</td>\n",
       "    </tr>\n",
       "    <tr>\n",
       "      <th>694</th>\n",
       "      <td>0.024324</td>\n",
       "      <td>1.894835</td>\n",
       "      <td>1.655840</td>\n",
       "      <td>2.096721</td>\n",
       "      <td>0.990327</td>\n",
       "      <td>9</td>\n",
       "    </tr>\n",
       "    <tr>\n",
       "      <th>771</th>\n",
       "      <td>0.006081</td>\n",
       "      <td>1.933018</td>\n",
       "      <td>1.824625</td>\n",
       "      <td>2.385251</td>\n",
       "      <td>0.978358</td>\n",
       "      <td>10</td>\n",
       "    </tr>\n",
       "    <tr>\n",
       "      <th>844</th>\n",
       "      <td>0.008276</td>\n",
       "      <td>1.928425</td>\n",
       "      <td>1.661839</td>\n",
       "      <td>2.117624</td>\n",
       "      <td>0.973830</td>\n",
       "      <td>11</td>\n",
       "    </tr>\n",
       "    <tr>\n",
       "      <th>920</th>\n",
       "      <td>0.000000</td>\n",
       "      <td>1.945746</td>\n",
       "      <td>1.686196</td>\n",
       "      <td>2.134858</td>\n",
       "      <td>1.008937</td>\n",
       "      <td>12</td>\n",
       "    </tr>\n",
       "    <tr>\n",
       "      <th>993</th>\n",
       "      <td>0.002516</td>\n",
       "      <td>1.940480</td>\n",
       "      <td>1.558707</td>\n",
       "      <td>2.069054</td>\n",
       "      <td>0.788336</td>\n",
       "      <td>13</td>\n",
       "    </tr>\n",
       "    <tr>\n",
       "      <th>1071</th>\n",
       "      <td>0.000000</td>\n",
       "      <td>1.945746</td>\n",
       "      <td>1.933032</td>\n",
       "      <td>2.554827</td>\n",
       "      <td>0.994429</td>\n",
       "      <td>14</td>\n",
       "    </tr>\n",
       "    <tr>\n",
       "      <th>1147</th>\n",
       "      <td>0.002434</td>\n",
       "      <td>1.940652</td>\n",
       "      <td>1.516730</td>\n",
       "      <td>1.958965</td>\n",
       "      <td>0.849174</td>\n",
       "      <td>15</td>\n",
       "    </tr>\n",
       "    <tr>\n",
       "      <th>1223</th>\n",
       "      <td>0.000000</td>\n",
       "      <td>1.945746</td>\n",
       "      <td>1.706109</td>\n",
       "      <td>2.219601</td>\n",
       "      <td>0.930990</td>\n",
       "      <td>16</td>\n",
       "    </tr>\n",
       "    <tr>\n",
       "      <th>1302</th>\n",
       "      <td>0.000000</td>\n",
       "      <td>1.945746</td>\n",
       "      <td>1.944248</td>\n",
       "      <td>2.701753</td>\n",
       "      <td>0.800790</td>\n",
       "      <td>17</td>\n",
       "    </tr>\n",
       "    <tr>\n",
       "      <th>1381</th>\n",
       "      <td>0.008548</td>\n",
       "      <td>1.927854</td>\n",
       "      <td>1.759601</td>\n",
       "      <td>2.307948</td>\n",
       "      <td>0.931868</td>\n",
       "      <td>18</td>\n",
       "    </tr>\n",
       "    <tr>\n",
       "      <th>1458</th>\n",
       "      <td>0.000000</td>\n",
       "      <td>1.945746</td>\n",
       "      <td>1.689191</td>\n",
       "      <td>2.226211</td>\n",
       "      <td>0.878555</td>\n",
       "      <td>19</td>\n",
       "    </tr>\n",
       "    <tr>\n",
       "      <th>1535</th>\n",
       "      <td>0.000000</td>\n",
       "      <td>1.945746</td>\n",
       "      <td>1.947103</td>\n",
       "      <td>2.599589</td>\n",
       "      <td>0.962172</td>\n",
       "      <td>20</td>\n",
       "    </tr>\n",
       "    <tr>\n",
       "      <th>1611</th>\n",
       "      <td>0.000000</td>\n",
       "      <td>1.945746</td>\n",
       "      <td>2.051162</td>\n",
       "      <td>2.695551</td>\n",
       "      <td>1.078455</td>\n",
       "      <td>21</td>\n",
       "    </tr>\n",
       "    <tr>\n",
       "      <th>1685</th>\n",
       "      <td>0.000000</td>\n",
       "      <td>1.945746</td>\n",
       "      <td>2.032949</td>\n",
       "      <td>2.682602</td>\n",
       "      <td>1.052295</td>\n",
       "      <td>22</td>\n",
       "    </tr>\n",
       "    <tr>\n",
       "      <th>1763</th>\n",
       "      <td>0.000000</td>\n",
       "      <td>1.945746</td>\n",
       "      <td>2.054053</td>\n",
       "      <td>2.743642</td>\n",
       "      <td>1.013113</td>\n",
       "      <td>23</td>\n",
       "    </tr>\n",
       "    <tr>\n",
       "      <th>1839</th>\n",
       "      <td>0.000000</td>\n",
       "      <td>1.945746</td>\n",
       "      <td>1.901576</td>\n",
       "      <td>2.535386</td>\n",
       "      <td>0.944836</td>\n",
       "      <td>24</td>\n",
       "    </tr>\n",
       "    <tr>\n",
       "      <th>1916</th>\n",
       "      <td>0.005201</td>\n",
       "      <td>1.934861</td>\n",
       "      <td>1.584835</td>\n",
       "      <td>2.105251</td>\n",
       "      <td>0.799263</td>\n",
       "      <td>25</td>\n",
       "    </tr>\n",
       "    <tr>\n",
       "      <th>1993</th>\n",
       "      <td>0.000000</td>\n",
       "      <td>1.945746</td>\n",
       "      <td>1.869117</td>\n",
       "      <td>2.453012</td>\n",
       "      <td>0.987725</td>\n",
       "      <td>26</td>\n",
       "    </tr>\n",
       "    <tr>\n",
       "      <th>2069</th>\n",
       "      <td>0.002321</td>\n",
       "      <td>1.940888</td>\n",
       "      <td>1.588370</td>\n",
       "      <td>2.107477</td>\n",
       "      <td>0.804775</td>\n",
       "      <td>27</td>\n",
       "    </tr>\n",
       "    <tr>\n",
       "      <th>2145</th>\n",
       "      <td>0.000000</td>\n",
       "      <td>1.945746</td>\n",
       "      <td>1.910876</td>\n",
       "      <td>2.482715</td>\n",
       "      <td>1.047683</td>\n",
       "      <td>28</td>\n",
       "    </tr>\n",
       "    <tr>\n",
       "      <th>2224</th>\n",
       "      <td>0.000000</td>\n",
       "      <td>1.945746</td>\n",
       "      <td>1.850759</td>\n",
       "      <td>2.401558</td>\n",
       "      <td>1.019325</td>\n",
       "      <td>29</td>\n",
       "    </tr>\n",
       "    <tr>\n",
       "      <th>2301</th>\n",
       "      <td>0.000000</td>\n",
       "      <td>1.945746</td>\n",
       "      <td>1.643154</td>\n",
       "      <td>2.149451</td>\n",
       "      <td>0.878896</td>\n",
       "      <td>30</td>\n",
       "    </tr>\n",
       "    <tr>\n",
       "      <th>2381</th>\n",
       "      <td>0.000000</td>\n",
       "      <td>1.945746</td>\n",
       "      <td>1.690740</td>\n",
       "      <td>2.153473</td>\n",
       "      <td>0.992240</td>\n",
       "      <td>31</td>\n",
       "    </tr>\n",
       "    <tr>\n",
       "      <th>2460</th>\n",
       "      <td>0.002362</td>\n",
       "      <td>1.940801</td>\n",
       "      <td>1.660862</td>\n",
       "      <td>2.222071</td>\n",
       "      <td>0.813714</td>\n",
       "      <td>32</td>\n",
       "    </tr>\n",
       "    <tr>\n",
       "      <th>2543</th>\n",
       "      <td>0.002353</td>\n",
       "      <td>1.940820</td>\n",
       "      <td>1.657002</td>\n",
       "      <td>2.182117</td>\n",
       "      <td>0.864337</td>\n",
       "      <td>33</td>\n",
       "    </tr>\n",
       "    <tr>\n",
       "      <th>2624</th>\n",
       "      <td>0.011469</td>\n",
       "      <td>1.921740</td>\n",
       "      <td>1.553637</td>\n",
       "      <td>1.984106</td>\n",
       "      <td>0.903840</td>\n",
       "      <td>34</td>\n",
       "    </tr>\n",
       "    <tr>\n",
       "      <th>...</th>\n",
       "      <td>...</td>\n",
       "      <td>...</td>\n",
       "      <td>...</td>\n",
       "      <td>...</td>\n",
       "      <td>...</td>\n",
       "      <td>...</td>\n",
       "    </tr>\n",
       "    <tr>\n",
       "      <th>15198</th>\n",
       "      <td>0.000000</td>\n",
       "      <td>1.945746</td>\n",
       "      <td>1.714935</td>\n",
       "      <td>2.299536</td>\n",
       "      <td>0.832477</td>\n",
       "      <td>160</td>\n",
       "    </tr>\n",
       "    <tr>\n",
       "      <th>15313</th>\n",
       "      <td>0.000000</td>\n",
       "      <td>1.945746</td>\n",
       "      <td>1.767255</td>\n",
       "      <td>2.374744</td>\n",
       "      <td>0.850245</td>\n",
       "      <td>161</td>\n",
       "    </tr>\n",
       "    <tr>\n",
       "      <th>15432</th>\n",
       "      <td>0.000000</td>\n",
       "      <td>1.945746</td>\n",
       "      <td>1.979645</td>\n",
       "      <td>2.694925</td>\n",
       "      <td>0.899925</td>\n",
       "      <td>162</td>\n",
       "    </tr>\n",
       "    <tr>\n",
       "      <th>15549</th>\n",
       "      <td>0.001505</td>\n",
       "      <td>1.942595</td>\n",
       "      <td>1.587847</td>\n",
       "      <td>2.157408</td>\n",
       "      <td>0.728090</td>\n",
       "      <td>163</td>\n",
       "    </tr>\n",
       "    <tr>\n",
       "      <th>15668</th>\n",
       "      <td>0.000000</td>\n",
       "      <td>1.945746</td>\n",
       "      <td>1.755684</td>\n",
       "      <td>2.359198</td>\n",
       "      <td>0.844676</td>\n",
       "      <td>164</td>\n",
       "    </tr>\n",
       "    <tr>\n",
       "      <th>15784</th>\n",
       "      <td>0.000000</td>\n",
       "      <td>1.945746</td>\n",
       "      <td>2.090171</td>\n",
       "      <td>2.841166</td>\n",
       "      <td>0.956540</td>\n",
       "      <td>165</td>\n",
       "    </tr>\n",
       "    <tr>\n",
       "      <th>15899</th>\n",
       "      <td>0.000000</td>\n",
       "      <td>1.945746</td>\n",
       "      <td>1.920525</td>\n",
       "      <td>2.601493</td>\n",
       "      <td>0.892600</td>\n",
       "      <td>166</td>\n",
       "    </tr>\n",
       "    <tr>\n",
       "      <th>16015</th>\n",
       "      <td>0.000000</td>\n",
       "      <td>1.945746</td>\n",
       "      <td>1.922111</td>\n",
       "      <td>2.593171</td>\n",
       "      <td>0.909141</td>\n",
       "      <td>167</td>\n",
       "    </tr>\n",
       "    <tr>\n",
       "      <th>16131</th>\n",
       "      <td>0.000000</td>\n",
       "      <td>1.945746</td>\n",
       "      <td>2.144852</td>\n",
       "      <td>2.921582</td>\n",
       "      <td>0.972372</td>\n",
       "      <td>168</td>\n",
       "    </tr>\n",
       "    <tr>\n",
       "      <th>16248</th>\n",
       "      <td>0.003047</td>\n",
       "      <td>1.939369</td>\n",
       "      <td>1.523484</td>\n",
       "      <td>2.078356</td>\n",
       "      <td>0.685903</td>\n",
       "      <td>169</td>\n",
       "    </tr>\n",
       "    <tr>\n",
       "      <th>16365</th>\n",
       "      <td>0.000000</td>\n",
       "      <td>1.945746</td>\n",
       "      <td>1.922749</td>\n",
       "      <td>2.564318</td>\n",
       "      <td>0.954297</td>\n",
       "      <td>170</td>\n",
       "    </tr>\n",
       "    <tr>\n",
       "      <th>16483</th>\n",
       "      <td>0.000000</td>\n",
       "      <td>1.945746</td>\n",
       "      <td>2.026820</td>\n",
       "      <td>2.762588</td>\n",
       "      <td>0.916174</td>\n",
       "      <td>171</td>\n",
       "    </tr>\n",
       "    <tr>\n",
       "      <th>16601</th>\n",
       "      <td>0.003022</td>\n",
       "      <td>1.939421</td>\n",
       "      <td>1.854301</td>\n",
       "      <td>2.569452</td>\n",
       "      <td>0.774776</td>\n",
       "      <td>172</td>\n",
       "    </tr>\n",
       "    <tr>\n",
       "      <th>16719</th>\n",
       "      <td>0.000000</td>\n",
       "      <td>1.945746</td>\n",
       "      <td>2.164325</td>\n",
       "      <td>2.985141</td>\n",
       "      <td>0.925299</td>\n",
       "      <td>173</td>\n",
       "    </tr>\n",
       "    <tr>\n",
       "      <th>16837</th>\n",
       "      <td>0.000000</td>\n",
       "      <td>1.945746</td>\n",
       "      <td>1.861848</td>\n",
       "      <td>2.591025</td>\n",
       "      <td>0.761151</td>\n",
       "      <td>174</td>\n",
       "    </tr>\n",
       "    <tr>\n",
       "      <th>16955</th>\n",
       "      <td>0.000000</td>\n",
       "      <td>1.945746</td>\n",
       "      <td>1.833737</td>\n",
       "      <td>2.473462</td>\n",
       "      <td>0.868068</td>\n",
       "      <td>175</td>\n",
       "    </tr>\n",
       "    <tr>\n",
       "      <th>17074</th>\n",
       "      <td>0.000000</td>\n",
       "      <td>1.945746</td>\n",
       "      <td>2.097261</td>\n",
       "      <td>2.879068</td>\n",
       "      <td>0.917121</td>\n",
       "      <td>176</td>\n",
       "    </tr>\n",
       "    <tr>\n",
       "      <th>17194</th>\n",
       "      <td>0.002956</td>\n",
       "      <td>1.939559</td>\n",
       "      <td>1.633351</td>\n",
       "      <td>2.245053</td>\n",
       "      <td>0.709984</td>\n",
       "      <td>177</td>\n",
       "    </tr>\n",
       "    <tr>\n",
       "      <th>17315</th>\n",
       "      <td>0.014822</td>\n",
       "      <td>1.914722</td>\n",
       "      <td>1.923103</td>\n",
       "      <td>2.639415</td>\n",
       "      <td>0.841825</td>\n",
       "      <td>178</td>\n",
       "    </tr>\n",
       "    <tr>\n",
       "      <th>17434</th>\n",
       "      <td>0.004404</td>\n",
       "      <td>1.936528</td>\n",
       "      <td>1.661833</td>\n",
       "      <td>2.268302</td>\n",
       "      <td>0.746366</td>\n",
       "      <td>179</td>\n",
       "    </tr>\n",
       "    <tr>\n",
       "      <th>17556</th>\n",
       "      <td>0.020452</td>\n",
       "      <td>1.902939</td>\n",
       "      <td>1.796298</td>\n",
       "      <td>2.505256</td>\n",
       "      <td>0.726122</td>\n",
       "      <td>180</td>\n",
       "    </tr>\n",
       "    <tr>\n",
       "      <th>17678</th>\n",
       "      <td>0.005475</td>\n",
       "      <td>1.934287</td>\n",
       "      <td>1.732531</td>\n",
       "      <td>2.408634</td>\n",
       "      <td>0.711950</td>\n",
       "      <td>181</td>\n",
       "    </tr>\n",
       "    <tr>\n",
       "      <th>17797</th>\n",
       "      <td>0.004268</td>\n",
       "      <td>1.936814</td>\n",
       "      <td>1.893505</td>\n",
       "      <td>2.655686</td>\n",
       "      <td>0.742989</td>\n",
       "      <td>182</td>\n",
       "    </tr>\n",
       "    <tr>\n",
       "      <th>17918</th>\n",
       "      <td>0.013713</td>\n",
       "      <td>1.917043</td>\n",
       "      <td>1.684356</td>\n",
       "      <td>2.313327</td>\n",
       "      <td>0.734920</td>\n",
       "      <td>183</td>\n",
       "    </tr>\n",
       "    <tr>\n",
       "      <th>18040</th>\n",
       "      <td>0.175640</td>\n",
       "      <td>1.578124</td>\n",
       "      <td>1.694927</td>\n",
       "      <td>2.159919</td>\n",
       "      <td>0.993018</td>\n",
       "      <td>184</td>\n",
       "    </tr>\n",
       "    <tr>\n",
       "      <th>18161</th>\n",
       "      <td>0.355226</td>\n",
       "      <td>1.374378</td>\n",
       "      <td>1.116218</td>\n",
       "      <td>1.118197</td>\n",
       "      <td>1.113229</td>\n",
       "      <td>185</td>\n",
       "    </tr>\n",
       "    <tr>\n",
       "      <th>18284</th>\n",
       "      <td>0.615744</td>\n",
       "      <td>1.218065</td>\n",
       "      <td>1.342495</td>\n",
       "      <td>1.169901</td>\n",
       "      <td>1.603026</td>\n",
       "      <td>186</td>\n",
       "    </tr>\n",
       "    <tr>\n",
       "      <th>18406</th>\n",
       "      <td>0.800296</td>\n",
       "      <td>1.107849</td>\n",
       "      <td>1.329023</td>\n",
       "      <td>1.078381</td>\n",
       "      <td>1.707368</td>\n",
       "      <td>187</td>\n",
       "    </tr>\n",
       "    <tr>\n",
       "      <th>18527</th>\n",
       "      <td>0.808206</td>\n",
       "      <td>1.127692</td>\n",
       "      <td>1.255281</td>\n",
       "      <td>1.072647</td>\n",
       "      <td>1.530969</td>\n",
       "      <td>188</td>\n",
       "    </tr>\n",
       "    <tr>\n",
       "      <th>18648</th>\n",
       "      <td>0.304912</td>\n",
       "      <td>1.409988</td>\n",
       "      <td>1.658474</td>\n",
       "      <td>1.917252</td>\n",
       "      <td>1.267846</td>\n",
       "      <td>189</td>\n",
       "    </tr>\n",
       "  </tbody>\n",
       "</table>\n",
       "<p>185 rows × 6 columns</p>\n",
       "</div>"
      ],
      "text/plain": [
       "         h2_CON    h2_IDM   h8_2SAV  h8_2average   h8_2DAV  0015_id_frame\n",
       "400    1.000000  1.000000  1.000000     1.000000  1.000000              5\n",
       "473    0.184785  1.561849  1.602944     1.827430  1.264082              6\n",
       "546    0.151947  1.627714  1.639571     1.942666  1.182048              7\n",
       "620    0.112525  1.710227  1.619063     1.922576  1.160908              8\n",
       "694    0.024324  1.894835  1.655840     2.096721  0.990327              9\n",
       "771    0.006081  1.933018  1.824625     2.385251  0.978358             10\n",
       "844    0.008276  1.928425  1.661839     2.117624  0.973830             11\n",
       "920    0.000000  1.945746  1.686196     2.134858  1.008937             12\n",
       "993    0.002516  1.940480  1.558707     2.069054  0.788336             13\n",
       "1071   0.000000  1.945746  1.933032     2.554827  0.994429             14\n",
       "1147   0.002434  1.940652  1.516730     1.958965  0.849174             15\n",
       "1223   0.000000  1.945746  1.706109     2.219601  0.930990             16\n",
       "1302   0.000000  1.945746  1.944248     2.701753  0.800790             17\n",
       "1381   0.008548  1.927854  1.759601     2.307948  0.931868             18\n",
       "1458   0.000000  1.945746  1.689191     2.226211  0.878555             19\n",
       "1535   0.000000  1.945746  1.947103     2.599589  0.962172             20\n",
       "1611   0.000000  1.945746  2.051162     2.695551  1.078455             21\n",
       "1685   0.000000  1.945746  2.032949     2.682602  1.052295             22\n",
       "1763   0.000000  1.945746  2.054053     2.743642  1.013113             23\n",
       "1839   0.000000  1.945746  1.901576     2.535386  0.944836             24\n",
       "1916   0.005201  1.934861  1.584835     2.105251  0.799263             25\n",
       "1993   0.000000  1.945746  1.869117     2.453012  0.987725             26\n",
       "2069   0.002321  1.940888  1.588370     2.107477  0.804775             27\n",
       "2145   0.000000  1.945746  1.910876     2.482715  1.047683             28\n",
       "2224   0.000000  1.945746  1.850759     2.401558  1.019325             29\n",
       "2301   0.000000  1.945746  1.643154     2.149451  0.878896             30\n",
       "2381   0.000000  1.945746  1.690740     2.153473  0.992240             31\n",
       "2460   0.002362  1.940801  1.660862     2.222071  0.813714             32\n",
       "2543   0.002353  1.940820  1.657002     2.182117  0.864337             33\n",
       "2624   0.011469  1.921740  1.553637     1.984106  0.903840             34\n",
       "...         ...       ...       ...          ...       ...            ...\n",
       "15198  0.000000  1.945746  1.714935     2.299536  0.832477            160\n",
       "15313  0.000000  1.945746  1.767255     2.374744  0.850245            161\n",
       "15432  0.000000  1.945746  1.979645     2.694925  0.899925            162\n",
       "15549  0.001505  1.942595  1.587847     2.157408  0.728090            163\n",
       "15668  0.000000  1.945746  1.755684     2.359198  0.844676            164\n",
       "15784  0.000000  1.945746  2.090171     2.841166  0.956540            165\n",
       "15899  0.000000  1.945746  1.920525     2.601493  0.892600            166\n",
       "16015  0.000000  1.945746  1.922111     2.593171  0.909141            167\n",
       "16131  0.000000  1.945746  2.144852     2.921582  0.972372            168\n",
       "16248  0.003047  1.939369  1.523484     2.078356  0.685903            169\n",
       "16365  0.000000  1.945746  1.922749     2.564318  0.954297            170\n",
       "16483  0.000000  1.945746  2.026820     2.762588  0.916174            171\n",
       "16601  0.003022  1.939421  1.854301     2.569452  0.774776            172\n",
       "16719  0.000000  1.945746  2.164325     2.985141  0.925299            173\n",
       "16837  0.000000  1.945746  1.861848     2.591025  0.761151            174\n",
       "16955  0.000000  1.945746  1.833737     2.473462  0.868068            175\n",
       "17074  0.000000  1.945746  2.097261     2.879068  0.917121            176\n",
       "17194  0.002956  1.939559  1.633351     2.245053  0.709984            177\n",
       "17315  0.014822  1.914722  1.923103     2.639415  0.841825            178\n",
       "17434  0.004404  1.936528  1.661833     2.268302  0.746366            179\n",
       "17556  0.020452  1.902939  1.796298     2.505256  0.726122            180\n",
       "17678  0.005475  1.934287  1.732531     2.408634  0.711950            181\n",
       "17797  0.004268  1.936814  1.893505     2.655686  0.742989            182\n",
       "17918  0.013713  1.917043  1.684356     2.313327  0.734920            183\n",
       "18040  0.175640  1.578124  1.694927     2.159919  0.993018            184\n",
       "18161  0.355226  1.374378  1.116218     1.118197  1.113229            185\n",
       "18284  0.615744  1.218065  1.342495     1.169901  1.603026            186\n",
       "18406  0.800296  1.107849  1.329023     1.078381  1.707368            187\n",
       "18527  0.808206  1.127692  1.255281     1.072647  1.530969            188\n",
       "18648  0.304912  1.409988  1.658474     1.917252  1.267846            189\n",
       "\n",
       "[185 rows x 6 columns]"
      ]
     },
     "execution_count": 11,
     "metadata": {},
     "output_type": "execute_result"
    }
   ],
   "source": [
    "traj=0\n",
    "H2b_n_m.data.ix[H2b_n_m.data[\"traj\"]==traj,_rand_col+[num_str+\"_id_frame\"]].head()"
   ]
  },
  {
   "cell_type": "markdown",
   "metadata": {},
   "source": [
    "# <a name=\"Results1\"> </a> Results\n",
    "\n",
    "\n",
    "We now have to be careful, not all the training points are part of a trajectory. So we can't compare (with all fairness) the results exposed above with the normalised version."
   ]
  },
  {
   "cell_type": "code",
   "execution_count": 12,
   "metadata": {
    "collapsed": false
   },
   "outputs": [
    {
     "name": "stdout",
     "output_type": "stream",
     "text": [
      "Updated member Group_of_traj\n",
      "Updated member Group_of_traj\n",
      "training dataset: \n",
      "\n",
      "S    217\n",
      "1    199\n",
      "2     56\n",
      "M     36\n",
      "Name: Type, dtype: int64\n",
      "Processing time: 51.315058 in sec\n"
     ]
    },
    {
     "data": {
      "image/png": "[encoded data removed]",
      "text/plain": [
       "<matplotlib.figure.Figure at 0x7f5bf8749850>"
      ]
     },
     "metadata": {},
     "output_type": "display_data"
    },
    {
     "name": "stdout",
     "output_type": "stream",
     "text": [
      "We now have a classifier with n=190, with an expected accuracy of 0.709 for the unnormalized data. \n",
      "\n"
     ]
    },
    {
     "data": {
      "image/png": "[encoded data removed]",
      "text/plain": [
       "<matplotlib.figure.Figure at 0x7f5bf96e1bd0>"
      ]
     },
     "metadata": {},
     "output_type": "display_data"
    },
    {
     "data": {
      "image/png": "[encoded data removed]",
      "text/plain": [
       "<matplotlib.figure.Figure at 0x7f5bf761cd50>"
      ]
     },
     "metadata": {},
     "output_type": "display_data"
    },
    {
     "name": "stdout",
     "output_type": "stream",
     "text": [
      "Processing time: 53.042481 in sec\n"
     ]
    },
    {
     "data": {
      "image/png": "[encoded data removed]",
      "text/plain": [
       "<matplotlib.figure.Figure at 0x7f5c4b266490>"
      ]
     },
     "metadata": {},
     "output_type": "display_data"
    },
    {
     "name": "stdout",
     "output_type": "stream",
     "text": [
      "We now have a classifier with n=150, with an expected accuracy of 0.762 for the normalized data. \n",
      "\n"
     ]
    },
    {
     "data": {
      "image/png": "[encoded data removed]",
      "text/plain": [
       "<matplotlib.figure.Figure at 0x7f5bed572290>"
      ]
     },
     "metadata": {},
     "output_type": "display_data"
    },
    {
     "data": {
      "image/png": "[encoded data removed]",
      "text/plain": [
       "<matplotlib.figure.Figure at 0x7f5c41605bd0>"
      ]
     },
     "metadata": {},
     "output_type": "display_data"
    }
   ],
   "source": [
    "\n",
    "kfold=3\n",
    "\n",
    "instances_to_keep=pd.notnull(H2b_n_m.data.traj)\n",
    "\n",
    "H2b.data=H2b.data.ix[instances_to_keep,H2b.data.columns]\n",
    "H2b.update()\n",
    "\n",
    "H2b_n_m.data=H2b_n_m.data.ix[instances_to_keep,H2b_n_m.data.columns]\n",
    "H2b_n_m.update()\n",
    "\n",
    "print \"training dataset: \\n\"\n",
    "print H2b_n_m.train[\"Type\"].value_counts()\n",
    "\n",
    "if H2b.Var_missing[0] in H2b.train.columns:\n",
    "    H2b.missing_features_train()\n",
    "if H2b.Var_missing[0] in H2b.data.columns:\n",
    "    H2b.missing_features_data()\n",
    "values=[100 + i*10 for i in range(30)]\n",
    "model_t=RandomForest_Autotunner(values)\n",
    "\n",
    "model_t.tunning(H2b.train[H2b.names],H2b.train[\"Type\"],kfold,plot=True,fit_new_model=True)\n",
    "plt.show()\n",
    "\n",
    "i_=np.argmax(model_t.MSE)\n",
    "n_tree=values[i_]\n",
    "print \"We now have a classifier with n=%d, with an expected accuracy of %5.3f for the unnormalized data. \\n\" %(n_tree,max(model_t.MSE))\n",
    "\n",
    "plot_matrix(model_t.cm,title=\"Confusion matrix unnormalized with unnormalized data\")\n",
    "plt.show()\n",
    "model_t.cm_normalized = model_t.cm.astype('float') / model_t.cm.sum(axis=1)[:, np.newaxis]\n",
    "plot_matrix(model_t.cm_normalized,title=\"Confusion matrix with unnormalized data\")\n",
    "plt.show()\n",
    "\n",
    "\n",
    "\n",
    "if H2b_n_m.Var_missing[0] in H2b_n_m.train.columns:\n",
    "    H2b_n_m.missing_features_train()\n",
    "if H2b_n_m.Var_missing[0] in H2b_n_m.data.columns:\n",
    "    H2b_n_m.missing_features_data()\n",
    "values=[100 + i*10 for i in range(30)]\n",
    "model_n_m=RandomForest_Autotunner(values)\n",
    "\n",
    "model_n_m.tunning(H2b_n_m.train[H2b_n_m.names],H2b_n_m.train[\"Type\"],kfold,plot=True,fit_new_model=True)\n",
    "plt.show()\n",
    "\n",
    "i_=np.argmax(model_n_m.MSE)\n",
    "n_tree=values[i_]\n",
    "print \"We now have a classifier with n=%d, with an expected accuracy of %5.3f for the normalized data. \\n\" %(n_tree,max(model_n_m.MSE))\n",
    "\n",
    "\n",
    "plot_matrix(model_n_m.cm,title=\"Confusion matrix unnormalized with normalized data\")\n",
    "plt.show()\n",
    "model_n_m.cm_normalized = model_n_m.cm.astype('float') / model_n_m.cm.sum(axis=1)[:, np.newaxis]\n",
    "plot_matrix(model_n_m.cm_normalized,title=\"Confusion matrix normalized with normalized data\")\n",
    "plt.show()"
   ]
  },
  {
   "cell_type": "markdown",
   "metadata": {},
   "source": [
    "We conclude that this normalization is a need as it improves considerably the accuracy. However our predictions of G2 are still very poor. One may wonder if the unnormalized data does possess a certain for G2, as his predictions for G2 were bad but that this bad."
   ]
  },
  {
   "cell_type": "markdown",
   "metadata": {},
   "source": [
    "# <a name=\"MitoseOrNot\"></a> Preclassifier for Mitosis or Not"
   ]
  },
  {
   "cell_type": "markdown",
   "metadata": {},
   "source": [
    "As explained in the abstract of \"Normalized data set\" we had to considerably reduce the amount of labelled data. We only have 37 labelled instances for Mitosis, this is too scares so we decide to add an extra classification layer in order to only detect Mitosis events. It is know that we are going to good results as the H2B marker is meant to be very informative of Mitosis events."
   ]
  },
  {
   "cell_type": "code",
   "execution_count": 13,
   "metadata": {
    "collapsed": false
   },
   "outputs": [
    {
     "name": "stdout",
     "output_type": "stream",
     "text": [
      "Reader constructed\n"
     ]
    },
    {
     "data": {
      "text/plain": [
       "O    2842\n",
       "S    1293\n",
       "M    1016\n",
       "Name: label, dtype: int64"
      ]
     },
     "execution_count": 13,
     "metadata": {},
     "output_type": "execute_result"
    }
   ],
   "source": [
    "train_file=\"MitoseClassif.arff\"\n",
    "\n",
    "train_1=Reader()\n",
    "train_1.arrf_read(train_file)\n",
    "train_1.renaming_for_mitosis()\n",
    "\n",
    "train_1.data[\"label\"].value_counts()"
   ]
  },
  {
   "cell_type": "code",
   "execution_count": 14,
   "metadata": {
    "collapsed": false
   },
   "outputs": [
    {
     "name": "stdout",
     "output_type": "stream",
     "text": [
      "Processing time: 518.159643 in sec\n"
     ]
    },
    {
     "data": {
      "image/png": "[encoded data removed]",
      "text/plain": [
       "<matplotlib.figure.Figure at 0x7f5c40567a10>"
      ]
     },
     "metadata": {},
     "output_type": "display_data"
    },
    {
     "data": {
      "image/png": "[encoded data removed]",
      "text/plain": [
       "<matplotlib.figure.Figure at 0x7f5bf7226e50>"
      ]
     },
     "metadata": {},
     "output_type": "display_data"
    }
   ],
   "source": [
    "kfold=3\n",
    "\n",
    "if train_1.Var_missing[0] in train_1.data.columns:\n",
    "    train_1.missing_features_data()\n",
    "    \n",
    "values=[100 + i*10 for i in range(30)]\n",
    "model_1=RandomForest_Autotunner(values)\n",
    "\n",
    "model_1.tunning(train_1.data[train_1.names],train_1.data[\"label\"],kfold,plot=True,fit_new_model=True)\n",
    "plt.show()\n",
    "\n",
    "model_1.cm_normalized = model_1.cm.astype('float') / model_1.cm.sum(axis=1)[:, np.newaxis]\n",
    "\n",
    "plot_matrix(model_1.cm_normalized,title=\"Normalized confusion matrix\",names=[\"M\",\"O\",\"S\"])\n",
    "plt.show()"
   ]
  },
  {
   "cell_type": "markdown",
   "metadata": {},
   "source": [
    "As expected we reach a very high value of accuracy for detecting Mitosis events."
   ]
  },
  {
   "cell_type": "markdown",
   "metadata": {},
   "source": [
    "# <a name=\"Fusion\"></a> Fusionning the preclassifier and the 3 state predictor\n",
    "\n",
    "Because we have too few instances in phase M, we used the first classifier. This classifier has priority over the first prediction as it the H2B marker is meant to be informative about the Mitosis events."
   ]
  },
  {
   "cell_type": "code",
   "execution_count": 15,
   "metadata": {
    "collapsed": false
   },
   "outputs": [
    {
     "name": "stdout",
     "output_type": "stream",
     "text": [
      "Updated member Group_of_traj\n",
      "Updated member Group_of_traj\n",
      "Frequency of predicted values for the Mitosis or not classifier: \n",
      "\n",
      "O    14566\n",
      "S    14352\n",
      "M      896\n",
      "Name: MitoseOrNot, dtype: int64\n",
      "\n",
      " We were however not able to predict 0 instances because of missing values\n",
      "Updated member Group_of_traj\n",
      "training dataset: \n",
      "\n",
      "S    217\n",
      "1    199\n",
      "2     56\n",
      "Name: Type, dtype: int64\n",
      "Processing time: 48.382503 in sec\n"
     ]
    },
    {
     "data": {
      "image/png": "[encoded data removed]",
      "text/plain": [
       "<matplotlib.figure.Figure at 0x7f5bf70ebad0>"
      ]
     },
     "metadata": {},
     "output_type": "display_data"
    },
    {
     "name": "stdout",
     "output_type": "stream",
     "text": [
      "We now have a classifier with n=170, with an expected accuracy of 0.758 for the normalized data. \n",
      "\n"
     ]
    },
    {
     "data": {
      "image/png": "[encoded data removed]",
      "text/plain": [
       "<matplotlib.figure.Figure at 0x7f5bf86245d0>"
      ]
     },
     "metadata": {},
     "output_type": "display_data"
    },
    {
     "name": "stdout",
     "output_type": "stream",
     "text": [
      "Frequency of predicted values for the 3 state classifier: \n",
      "\n",
      "1    15974\n",
      "S    12475\n",
      "2     1365\n",
      "Name: 3State, dtype: int64\n"
     ]
    }
   ],
   "source": [
    "## To reduce computation and none useless things, we remove instances that do not belong to trajectories.\n",
    "\n",
    "index_traj=pd.notnull(H2b_n_m.data[\"traj\"])\n",
    "H2b_n_m.data=H2b_n_m.data.ix[index_traj,H2b_n_m.data.columns]\n",
    "H2b.data=H2b.data.ix[index_traj,H2b.data.columns]\n",
    "\n",
    "H2b_n_m.update()\n",
    "H2b.update()\n",
    "## Predicting model 1\n",
    "\n",
    "index_no_missing=H2b_n_m.data[H2b_n_m.names].dropna(axis=0, how='any').index\n",
    "H2b_n_m.data.ix[index_no_missing,\"MitoseOrNot\"]=model_1.predict(H2b.data.ix[index_no_missing,train_1.names]) \n",
    "## Carefull, we put the unnormalized data in the above prediction.\n",
    "\n",
    "print \"Frequency of predicted values for the Mitosis or not classifier: \\n\"\n",
    "print H2b_n_m.data[\"MitoseOrNot\"].value_counts()\n",
    "print \"\\n We were however not able to predict %d instances because of missing values\" % (H2b_n_m.data.shape[0]-len(index_no_missing))\n",
    "\n",
    "H2b_n_m.data\n",
    "\n",
    "H2b_n_m.update()\n",
    "\n",
    "##We have to retrain the model for the normalized version as this one was trained with the class M\n",
    "\n",
    "index_no_M=H2b_n_m.data[\"Type\"]!=\"M\"\n",
    "\n",
    "print \"training dataset: \\n\"\n",
    "print H2b_n_m.train.ix[index_no_M,\"Type\"].value_counts()\n",
    "\n",
    "\n",
    "values=[100 + i*10 for i in range(30)]\n",
    "model_n_m=RandomForest_Autotunner(values)\n",
    "\n",
    "model_n_m.tunning(H2b_n_m.train.ix[index_no_M,H2b_n_m.names],H2b_n_m.train.ix[index_no_M,\"Type\"],kfold,plot=True,fit_new_model=True)\n",
    "plt.show()\n",
    "\n",
    "i_=np.argmax(model_n_m.MSE)\n",
    "n_tree=values[i_]\n",
    "print \"We now have a classifier with n=%d, with an expected accuracy of %5.3f for the normalized data. \\n\" %(n_tree,max(model_n_m.MSE))\n",
    "\n",
    "model_n_m.cm_normalized = model_n_m.cm.astype('float') / model_n_m.cm.sum(axis=1)[:, np.newaxis]\n",
    "plot_matrix(model_n_m.cm_normalized,title=\"Normalized confusion matrix\",names=[\"G1\",\"G2\",\"S\"])\n",
    "plt.show()\n",
    "\n",
    "H2b_n_m.data.ix[index_no_missing,\"3State\"]=model_n_m.predict(H2b_n_m.data.ix[index_no_missing,H2b_n_m.names])\n",
    "print \"Frequency of predicted values for the 3 state classifier: \\n\"\n",
    "print H2b_n_m.data.ix[index_no_missing,\"3State\"].value_counts()\n",
    "\n",
    "\n"
   ]
  },
  {
   "cell_type": "code",
   "execution_count": 16,
   "metadata": {
    "collapsed": false
   },
   "outputs": [
    {
     "name": "stdout",
     "output_type": "stream",
     "text": [
      "Frequency of predicted values for the 4 state classifier: \n",
      "\n",
      "1    15082\n",
      "S    12472\n",
      "2     1364\n",
      "M      896\n",
      "Name: Pred_Fusion, dtype: int64\n",
      "Updated member Group_of_traj\n"
     ]
    }
   ],
   "source": [
    "### Giving priority to the first classif...\n",
    "def f(value_1,value_2):\n",
    "    if value_1==\"M\":\n",
    "        return(value_1)\n",
    "    else:\n",
    "        return(value_2)\n",
    "H2b_n_m.data[\"Pred_Fusion\"]=H2b_n_m.data.apply(lambda r: f(r[\"MitoseOrNot\"],r[\"3State\"]),axis=1)\n",
    "\n",
    "print \"Frequency of predicted values for the 4 state classifier: \\n\"\n",
    "print H2b_n_m.data.ix[index_no_missing,\"Pred_Fusion\"].value_counts()\n",
    "H2b_n_m.update()"
   ]
  },
  {
   "cell_type": "markdown",
   "metadata": {},
   "source": [
    "Our first classifiers are ready and are stored as \"Pred_Fusion\". We now to have apply the hidden markov model as we did when the fluroescent marker was the PCNA."
   ]
  },
  {
   "cell_type": "markdown",
   "metadata": {},
   "source": [
    "# <a name=\"HMM\"></a> Hidden Markov Model\n",
    "\n",
    "We are now going to tune the hidden markov model and then correct the trajectories."
   ]
  },
  {
   "cell_type": "code",
   "execution_count": 17,
   "metadata": {
    "collapsed": true
   },
   "outputs": [],
   "source": [
    "##First we are going to seperate beginning M's and ending M's\n",
    "for i in range(len(H2b_n_m.trajectories)):\n",
    "    new_obs=np.array(H2b_n_m.data.ix[H2b_n_m.data[\"traj\"]==i,\"Pred_Fusion\"])\n",
    "    n_obs=len(new_obs)\n",
    "    for j in range(n_obs/2):\n",
    "        if new_obs[j]=='M':\n",
    "            new_obs[j]='B'  #Beginning\n",
    "    H2b_n_m.data.ix[H2b_n_m.data[\"traj\"]==i,\"Pred_Fusion\"]=new_obs\n",
    "H2b_n_m.data.ix[H2b_n_m.data[\"Pred_Fusion\"]=='M',\"Pred_Fusion\"]='E' #Ending\n"
   ]
  },
  {
   "cell_type": "markdown",
   "metadata": {},
   "source": [
    "* What should we put as a emission state probability matrix? This question is complicated as we are mixting the confusion matrixes of two classifications task. But with a little bit of handy work, we satisfied ourselfs with the following state emission probability matrix"
   ]
  },
  {
   "cell_type": "code",
   "execution_count": 18,
   "metadata": {
    "collapsed": false
   },
   "outputs": [
    {
     "data": {
      "image/png": "[encoded data removed]",
      "text/plain": [
       "<matplotlib.figure.Figure at 0x7f5bed538d50>"
      ]
     },
     "metadata": {},
     "output_type": "display_data"
    }
   ],
   "source": [
    "X3=model_n_m.cm_normalized\n",
    "X3=np.array([X3[0],X3[2],X3[1]])\n",
    "X3=X3.T\n",
    "X3=np.array([X3[0],X3[2],X3[1]])\n",
    "X3=X3.T\n",
    "\n",
    "EmissionMat=np.zeros(shape=(5,5))\n",
    "EmissionMat[0,0]=model_1.cm_normalized[0,0]\n",
    "EmissionMat[4,4]=model_1.cm_normalized[0,0]\n",
    "EmissionMat[1:5,0]=(1-model_1.cm_normalized[0,0])/3\n",
    "EmissionMat[0:4,4]=(1-model_1.cm_normalized[0,0])/3\n",
    "\n",
    "### Bricolage\n",
    "\n",
    "EmissionMat[1:4,1:4]=X3\n",
    "EmissionMat[1:4,1:3]+=-EmissionMat[3,0]*2/3\n",
    "\n",
    "### On modifie car la diag n'est pas assez bonne...\n",
    "EmissionMat[3,2:4]=[0.4,0.5]\n",
    "\n",
    "EmissionMat[0,1:4]=sum(model_1.cm_normalized[0,1:3])/3\n",
    "EmissionMat[4,1:4]=sum(model_1.cm_normalized[0,1:3])/3\n",
    "\n",
    "EmissionMat=abs(EmissionMat).astype('float') / abs(EmissionMat).sum(axis=1)[:, np.newaxis]\n",
    "## Put something better then abs... \n",
    "\n",
    "plot_matrix(EmissionMat,title=\"Emission matrix\",names=[\"M_B\",\"G1\",\"S\",\"G2\",\"M_E\"])\n",
    "plt.show()\n",
    "\n",
    "H2b_n_m.data=H2b_n_m.data.sort_values(['traj', num_str+\"_id_frame\"], ascending=[1, 1])\n",
    "\n",
    "data=H2b_n_m.data.ix[pd.notnull(H2b_n_m.data[\"traj\"]),[\"traj\",\"Pred_Fusion\"]]\n",
    "\n",
    "\n",
    "data.ix[data.Pred_Fusion=='2',\"Pred_Fusion\"]=\"4\"\n",
    "data.ix[data.Pred_Fusion=='1',\"Pred_Fusion\"]=\"2\"\n",
    "data.ix[data.Pred_Fusion=='B',\"Pred_Fusion\"]=\"1\"\n",
    "data.ix[data.Pred_Fusion=='E',\"Pred_Fusion\"]=\"5\"\n",
    "data.ix[data.Pred_Fusion=='S',\"Pred_Fusion\"]=\"3\"\n",
    "\n",
    "%Rpush EmissionMat\n",
    "%Rpush data "
   ]
  },
  {
   "cell_type": "code",
   "execution_count": 19,
   "metadata": {
    "collapsed": false
   },
   "outputs": [
    {
     "data": {
      "text/plain": [
       "[1] \"To assess briefly what is happening, we printed a sequence of observation, sequence number: 0\"\n",
       "  [1] 1 2 2 2 2 2 2 2 2 2 2 2 2 2 2 2 2 2 2 2 2 2 2 2 2 2 2 2 2 2 2 2 2 2 2 2 2\n",
       " [38] 2 2 2 2 2 2 2 2 2 2 2 2 2 2 2 2 3 2 2 2 2 3 2 2 2 2 2 3 3 3 3 2 3 3 3 2 2\n",
       " [75] 3 3 3 3 3 3 3 3 3 3 2 3 3 3 3 3 3 3 3 3 3 2 3 3 3 3 3 3 3 3 3 3 3 3 3 3 3\n",
       "[112] 3 3 3 3 3 3 3 3 3 3 3 3 3 3 3 3 3 3 3 3 3 3 3 3 3 3 3 3 3 3 4 3 3 3 3 3 4\n",
       "[149] 3 3 3 3 3 3 3 3 4 3 3 4 4 3 3 3 3 3 4 3 3 4 3 4 3 3 3 4 4 4 4 3 5 5 5 5 5\n",
       "Levels: 1 2 3 4 5\n"
      ]
     },
     "metadata": {},
     "output_type": "display_data"
    }
   ],
   "source": [
    "%%R \n",
    "obs_number=0\n",
    "print(paste(\"To assess briefly what is happening, we printed a sequence of observation, sequence number:\",toString(obs_number) ))\n",
    "\n",
    "library(HMM)\n",
    "trans=list()  #List of outputs\n",
    "emi=list()    \n",
    "\n",
    "emission_matrix=EmissionMat\n",
    "transition_prior=t(matrix(c(  .7  , .27 , .01 , .01 , .01\n",
    "                            , .01 , .7  , .27 , .01 , .01\n",
    "                            , .01 , .01 , .7  , .27 , .01\n",
    "                            , .01 , .01 , .01 , .7  , .27\n",
    "                            , .01 , .01 , .01 , .01  , 0.96 ),5)) \n",
    "\n",
    "startProbs=c(0.3, 0.7, 0.0, 0.0, 0.0)\n",
    "\n",
    "hmm = initHMM(c(\"1\",\"2\",\"3\",\"4\",\"5\"),c(\"1\",\"2\",\"3\",\"4\",\"5\"),\n",
    "              transProbs=transition_prior,\n",
    "              emissionProbs=emission_matrix\n",
    "              ,startProbs=startProbs)\n",
    "\n",
    "\n",
    "n_traj=max(data$traj)\n",
    "j=1\n",
    "for (i in 0:(n_traj-1)){\n",
    "    obs=data[data$traj==i,\"Pred_Fusion\"]\n",
    "    if (i==obs_number){\n",
    "        test=obs\n",
    "        print(test)\n",
    "    }\n",
    "    \n",
    "    hmm = initHMM(c(\"1\",\"2\",\"3\",\"4\",\"5\"),c(\"1\",\"2\",\"3\",\"4\",\"5\"),\n",
    "                  startProbs=startProbs,\n",
    "                  emissionProbs=emission_matrix,\n",
    "                  transProbs=transition_prior)\n",
    "    bw=try(baumWelch(hmm,observation=obs,10),silent = TRUE)\n",
    "    if (!(inherits(bw, \"try-error\"))){\n",
    "      trans[[j]]=bw$hmm$transProbs\n",
    "      emi[[j]]=bw$hmm$emissionProbs\n",
    "      j=j+1  \n",
    "    }\n",
    "}\n",
    "\n",
    "mean_t=matrix(0,ncol=5,nrow=5)\n",
    "mean_e=matrix(0,ncol=5,nrow=5)\n",
    "for (i in 1:length(trans)){\n",
    "  mean_t=mean_t+trans[[i]]\n",
    "  mean_e=mean_e+emi[[i]]\n",
    "}\n",
    "mean_t=mean_t/length(trans)\n",
    "mean_e=mean_e/length(trans)\n",
    "\n",
    "var_t=matrix(0,ncol=5,nrow=5)\n",
    "var_e=matrix(0,ncol=5,nrow=5)\n",
    "\n",
    "for (i in 1:length(trans)){\n",
    "  var_t=var_t+(trans[[i]]-mean_t)*(trans[[i]]-mean_t)\n",
    "  var_e=var_e+(emi[[i]]-mean_e)*(emi[[i]]-mean_e)\n",
    "}\n",
    "var_t=var_t/length(trans)\n",
    "var_e=var_e/length(trans)"
   ]
  },
  {
   "cell_type": "code",
   "execution_count": 20,
   "metadata": {
    "collapsed": false
   },
   "outputs": [
    {
     "data": {
      "image/png": "[encoded data removed]",
      "text/plain": [
       "<matplotlib.figure.Figure at 0x7f5bf9a57e50>"
      ]
     },
     "metadata": {},
     "output_type": "display_data"
    },
    {
     "data": {
      "image/png": "[encoded data removed]",
      "text/plain": [
       "<matplotlib.figure.Figure at 0x7f5bed538150>"
      ]
     },
     "metadata": {},
     "output_type": "display_data"
    },
    {
     "data": {
      "image/png": "[encoded data removed]",
      "text/plain": [
       "<matplotlib.figure.Figure at 0x7f5bf849dc10>"
      ]
     },
     "metadata": {},
     "output_type": "display_data"
    },
    {
     "data": {
      "image/png": "[encoded data removed]",
      "text/plain": [
       "<matplotlib.figure.Figure at 0x7f5bf8624d50>"
      ]
     },
     "metadata": {},
     "output_type": "display_data"
    }
   ],
   "source": [
    "%Rpull mean_t mean_e var_t var_e\n",
    "plot_matrix(mean_t,title=\"Transition matrix\",names=[\"M_B\",\"G1\",\"S\",\"G2\",\"M_E\"],cmap=plt.cm.Oranges)\n",
    "plt.show()\n",
    "plot_matrix(var_t,title=\"Variance of coefficents in the transition matrix\",names=[\"M_B\",\"G1\",\"S\",\"G2\",\"M_E\"],cmap=plt.cm.OrRd)\n",
    "plt.show()\n",
    "plot_matrix(mean_e,title=\"Emission matrix\",names=[\"M_B\",\"G1\",\"S\",\"G2\",\"M_E\"])\n",
    "plt.show()\n",
    "plot_matrix(var_e,title=\"Variance of coefficents in the emission matrix\",names=[\"M_B\",\"G1\",\"S\",\"G2\",\"M_E\"],cmap=plt.cm.OrRd)\n",
    "plt.show()"
   ]
  },
  {
   "cell_type": "code",
   "execution_count": 21,
   "metadata": {
    "collapsed": false
   },
   "outputs": [
    {
     "data": {
      "text/plain": [
       "[1] \"To assess briefly what is happening, we printed a sequence of observation, sequence number: 2\"\n",
       "  [1] 1 1 1 2 2 2 2 2 2 2 2 2 2 2 2 2 2 2 2 2 2 2 2 2 2 2 2 2 2 2 2 2 2 2 2 2 2\n",
       " [38] 2 2 2 2 2 2 2 2 2 2 2 2 2 2 2 2 2 2 2 2 2 2 2 2 2 2 2 2 2 2 2 2 2 3 3 2 3\n",
       " [75] 2 2 2 2 2 2 3 3 3 3 3 3 3 3 3 3 3 3 3 3 3 3 3 3 3 3 3 3 3 3 3 3 3 3 3 3 3\n",
       "[112] 3 3 3 3 3 3 3 3 3 3 3 3 3 3 3 3 3 3 3 3 3 3 3 3 3 3 3 3 3 3 3 3 3 3 3 3 3\n",
       "[149] 3 3 3 3 3 3 3 3 3 3 3 3 3 3 3 3 3 3 3 3 3 3 3 4 4 3 4 3 3 3 4 4 4 3 3 3 4\n",
       "[186] 4 4 4 5 5 2 2\n",
       "Levels: 1 2 3 4 5\n",
       "  [1] 1 1 1 2 2 2 2 2 2 2 2 2 2 2 2 2 2 2 2 2 2 2 2 2 2 2 2 2 2 2 2 2 2 2 2 2 2\n",
       " [38] 2 2 2 2 2 2 2 2 2 2 2 2 2 2 2 2 2 2 2 2 2 2 2 2 2 2 2 2 2 2 2 2 2 2 2 2 2\n",
       " [75] 2 2 2 2 2 2 3 3 3 3 3 3 3 3 3 3 3 3 3 3 3 3 3 3 3 3 3 3 3 3 3 3 3 3 3 3 3\n",
       "[112] 3 3 3 3 3 3 3 3 3 3 3 3 3 3 3 3 3 3 3 3 3 3 3 3 3 3 3 3 3 3 3 3 3 3 3 3 3\n",
       "[149] 3 3 3 3 3 3 3 3 3 3 3 3 3 3 3 3 3 3 3 3 3 3 3 4 4 4 4 4 4 4 4 4 4 4 4 4 4\n",
       "[186] 4 4 4 5 5 5 5\n"
      ]
     },
     "metadata": {},
     "output_type": "display_data"
    }
   ],
   "source": [
    "%%R \n",
    "obs_number=2\n",
    "\n",
    "ligne1=mean_t[1,1]+mean_t[1,2]\n",
    "ligne2=mean_t[2,2]+mean_t[2,3]\n",
    "ligne3=mean_t[3,3]+mean_t[3,4]\n",
    "ligne4=mean_t[4,4]+mean_t[4,5]\n",
    "\n",
    "transProbs=t(matrix(c(mean_t[1,1]/ligne1  , mean_t[1,2]/ligne1    ,0                 , 0                 ,0\n",
    "                      , 0                 , mean_t[2,2]/ligne2    ,mean_t[2,3]/ligne2, 0                 ,0\n",
    "                      , 0                 , 0                     ,mean_t[3,3]/ligne3, mean_t[3,4]/ligne3,0\n",
    "                      , 0                 , 0                     ,0                 , mean_t[4,4]/ligne4,mean_t[4,5]/ligne4\n",
    "                      , 0                 , 0                     ,0                 , 0                 ,1 ),5))\n",
    "startProbs=c(0.3, 0.7, 0.0, 0.0, 0.0)\n",
    "\n",
    "hmm = initHMM(c(\"1\",\"2\",\"3\",\"4\",\"5\"),c(\"1\",\"2\",\"3\",\"4\",\"5\"),\n",
    "              transProbs=transProbs,\n",
    "              emissionProbs=emission_matrix  ##We still keep the confusion matrix of the first classification\n",
    "              ,startProbs=startProbs)\n",
    "\n",
    "print(paste(\"To assess briefly what is happening, we printed a sequence of observation, sequence number:\",toString(obs_number) ))\n",
    "\n",
    "for (i in 0:(n_traj-1)){\n",
    "  obs=data[data$traj==i,\"Pred_Fusion\"]\n",
    "  new_obs=as.integer(viterbi(hmm,observation=obs))\n",
    "  data[data$traj==i,\"HMM\"]=new_obs\n",
    "  if (i==obs_number){\n",
    "      print(obs)\n",
    "      print(new_obs)\n",
    "  }\n",
    "}\n"
   ]
  },
  {
   "cell_type": "code",
   "execution_count": null,
   "metadata": {
    "collapsed": true
   },
   "outputs": [],
   "source": [
    "## If needed...\n",
    "##H2b_n_m.data=H2b_n_m.data.drop(\"HMM\",axis=1)"
   ]
  },
  {
   "cell_type": "code",
   "execution_count": 22,
   "metadata": {
    "collapsed": false
   },
   "outputs": [
    {
     "name": "stdout",
     "output_type": "stream",
     "text": [
      "Updated member Group_of_traj\n",
      "       traj Type MitoseOrNot 3State Pred_Fusion  HMM\n",
      "6007    NaN  NaN         NaN    NaN         NaN  NaN\n",
      "25302   NaN  NaN         NaN    NaN         NaN  NaN\n",
      "18684     7    S           S      S           S    S\n",
      "23507    46    S           S      S           S    S\n",
      "5273    NaN  NaN         NaN    NaN         NaN  NaN\n",
      "To quickly asses we print the trajectory and his corrected trajectory, for sequence number:2\n",
      "Pred_Fusion: \n",
      "\n",
      "['B' 'B' 'B' '1' '1' '1' '1' '1' '1' '1' '1' '1' '1' '1' '1' '1' '1' '1'\n",
      " '1' '1' '1' '1' '1' '1' '1' '1' '1' '1' '1' '1' '1' '1' '1' '1' '1' '1'\n",
      " '1' '1' '1' '1' '1' '1' '1' '1' '1' '1' '1' '1' '1' '1' '1' '1' '1' '1'\n",
      " '1' '1' '1' '1' '1' '1' '1' '1' '1' '1' '1' '1' '1' '1' '1' '1' 'S' 'S'\n",
      " '1' 'S' '1' '1' '1' '1' '1' '1' 'S' 'S' 'S' 'S' 'S' 'S' 'S' 'S' 'S' 'S'\n",
      " 'S' 'S' 'S' 'S' 'S' 'S' 'S' 'S' 'S' 'S' 'S' 'S' 'S' 'S' 'S' 'S' 'S' 'S'\n",
      " 'S' 'S' 'S' 'S' 'S' 'S' 'S' 'S' 'S' 'S' 'S' 'S' 'S' 'S' 'S' 'S' 'S' 'S'\n",
      " 'S' 'S' 'S' 'S' 'S' 'S' 'S' 'S' 'S' 'S' 'S' 'S' 'S' 'S' 'S' 'S' 'S' 'S'\n",
      " 'S' 'S' 'S' 'S' 'S' 'S' 'S' 'S' 'S' 'S' 'S' 'S' 'S' 'S' 'S' 'S' 'S' 'S'\n",
      " 'S' 'S' 'S' 'S' 'S' 'S' 'S' 'S' 'S' '2' '2' 'S' '2' 'S' 'S' 'S' '2' '2'\n",
      " '2' 'S' 'S' 'S' '2' '2' '2' '2' 'E' 'E' '1' '1']\n",
      "\n",
      " Corrected HMM: \n",
      "\n",
      "['M' 'M' 'M' '1' '1' '1' '1' '1' '1' '1' '1' '1' '1' '1' '1' '1' '1' '1'\n",
      " '1' '1' '1' '1' '1' '1' '1' '1' '1' '1' '1' '1' '1' '1' '1' '1' '1' '1'\n",
      " '1' '1' '1' '1' '1' '1' '1' '1' '1' '1' '1' '1' '1' '1' '1' '1' '1' '1'\n",
      " '1' '1' '1' '1' '1' '1' '1' '1' '1' '1' '1' '1' '1' '1' '1' '1' '1' '1'\n",
      " '1' '1' '1' '1' '1' '1' '1' '1' 'S' 'S' 'S' 'S' 'S' 'S' 'S' 'S' 'S' 'S'\n",
      " 'S' 'S' 'S' 'S' 'S' 'S' 'S' 'S' 'S' 'S' 'S' 'S' 'S' 'S' 'S' 'S' 'S' 'S'\n",
      " 'S' 'S' 'S' 'S' 'S' 'S' 'S' 'S' 'S' 'S' 'S' 'S' 'S' 'S' 'S' 'S' 'S' 'S'\n",
      " 'S' 'S' 'S' 'S' 'S' 'S' 'S' 'S' 'S' 'S' 'S' 'S' 'S' 'S' 'S' 'S' 'S' 'S'\n",
      " 'S' 'S' 'S' 'S' 'S' 'S' 'S' 'S' 'S' 'S' 'S' 'S' 'S' 'S' 'S' 'S' 'S' 'S'\n",
      " 'S' 'S' 'S' 'S' 'S' 'S' 'S' 'S' 'S' '2' '2' '2' '2' '2' '2' '2' '2' '2'\n",
      " '2' '2' '2' '2' '2' '2' '2' '2' 'M' 'M' 'M' 'M']\n"
     ]
    }
   ],
   "source": [
    "%Rpull data\n",
    "\n",
    "data.ix[data.HMM==1,\"HMM\"]=\"M\"\n",
    "data.ix[data.HMM==2,\"HMM\"]=\"1\"\n",
    "data.ix[data.HMM==3,\"HMM\"]=\"S\"\n",
    "data.ix[data.HMM==4,\"HMM\"]=\"2\"\n",
    "data.ix[data.HMM==5,\"HMM\"]=\"M\"\n",
    "to_join=pd.Series(data[\"HMM\"])\n",
    "to_join.index=[int(el) for el in to_join.index]\n",
    "\n",
    "H2b_n_m.data=H2b_n_m.data.join(to_join)\n",
    "H2b_n_m.update()\n",
    "\n",
    "\n",
    "print H2b_n_m.train[\"traj\",\"Type\",\"MitoseOrNot\",\"3State\",\"Pred_Fusion\",\"HMM\"].head()\n",
    "\n",
    "\n",
    "obs_number=2\n",
    "i=0\n",
    "G1=[]\n",
    "S=[]\n",
    "G2=[]\n",
    "CC=[]\n",
    "print \"To quickly asses we print the trajectory and his corrected trajectory, for sequence number:\" + str(obs_number)\n",
    "for el in H2b_n_m.Group_of_traj:\n",
    "    new_obs=el[1][\"HMM\"]\n",
    "    if i==obs_number:\n",
    "        test=np.array(el[1][\"Pred_Fusion\"])\n",
    "        test_hmm=np.array(el[1][\"HMM\"])\n",
    "        print \"Pred_Fusion: \\n\"\n",
    "        print test\n",
    "        print \"\\n Corrected HMM: \\n\"\n",
    "        print test_hmm\n",
    "    i+=1\n",
    "    if not check_rotate(new_obs):\n",
    "        G1.append(Measure(new_obs,'1',_last=True))\n",
    "        S.append(Measure(new_obs,'S',_last=True,_first=True))\n",
    "        G2.append(Measure(new_obs,'2',_first=True))\n",
    "        CC.append(Measure(new_obs,'M'))\n",
    "    elif not check_rotate(new_obs[:-1]):\n",
    "        G1.append(Measure(new_obs[:-1],'1',_last=True))\n",
    "        S.append(Measure(new_obs[:-1],'S',_last=True,_first=True))\n",
    "        G2.append(Measure(new_obs[:-1],'2',_first=True))\n",
    "        CC.append(Measure(new_obs[:-1],'M'))\n",
    "    elif not check_rotate(new_obs[:-2]):\n",
    "        G1.append(Measure(new_obs[:-2],'1',_last=True))\n",
    "        S.append(Measure(new_obs[:-2],'S',_last=True,_first=True))\n",
    "        G2.append(Measure(new_obs[:-2],'2',_first=True))\n",
    "        CC.append(Measure(new_obs[:-2],'M'))\n",
    "    else:\n",
    "        G1.append(-1)\n",
    "        S.append(-1)\n",
    "        G2.append(-1)\n",
    "        CC.append(-1)\n",
    "        \n",
    "from numpy import mean,std\n",
    "ratio=5.9/60\n",
    "G1_p=[el*ratio for el in G1 if el>-1]\n",
    "S_p= [el*ratio for el in S  if el>-1]\n",
    "G2_p=[el*ratio for el in G2 if el>-1]\n",
    "CC_p=[el*ratio for el in CC if el>-1] \n",
    "res = {'mean' : pd.Series([mean(G1_p), mean(S_p), mean(G2_p),mean(CC_p)], index=['G1', 'S', 'G2','CellCycle']),\n",
    "'Standard deviation' : pd.Series([std(G1_p),std(S_p),std(G2_p),std(CC_p)], index=['G1', 'S', 'G2','CellCycle']),\n",
    "'Accepted trajectories': pd.Series([len(G1_p),len(S_p),len(G2_p),len(CC_p)], index=['G1', 'S', 'G2','CellCycle'])\n",
    "      }"
   ]
  },
  {
   "cell_type": "markdown",
   "metadata": {},
   "source": [
    "# <a name=\"AccuracyResults\"></a> Results of classification\n",
    "\n",
    "We will first assess the classification accuracy that we obtain with the 2 classifiers and the correcting model."
   ]
  },
  {
   "cell_type": "code",
   "execution_count": 23,
   "metadata": {
    "collapsed": false
   },
   "outputs": [
    {
     "name": "stdout",
     "output_type": "stream",
     "text": [
      "S    217\n",
      "1    199\n",
      "2     56\n",
      "M     36\n",
      "Name: Type, dtype: int64\n",
      "We reach an accuracy of 0.892 \n",
      "\n"
     ]
    },
    {
     "data": {
      "image/png": "[encoded data removed]",
      "text/plain": [
       "<matplotlib.figure.Figure at 0x7f5bf84b9650>"
      ]
     },
     "metadata": {},
     "output_type": "display_data"
    }
   ],
   "source": [
    "from sklearn.metrics import confusion_matrix\n",
    "\n",
    "temp_X=H2b_n_m.train.ix[pd.notnull(H2b_n_m.train[\"HMM\"]),[\"HMM\",\"Type\"]]\n",
    "print temp_X[\"Type\"].value_counts()\n",
    "cm=confusion_matrix(temp_X.Type,temp_X.HMM)\n",
    "\n",
    "print \"We reach an accuracy of %5.3f \\n\" %(float(cm.trace())/cm.sum())\n",
    "\n",
    "cm_normalized = cm.astype('float') / cm.sum(axis=1)[:, np.newaxis]\n",
    "\n",
    "plot_matrix(cm_normalized,title=\"Confusion matrix for the HMM classification\")"
   ]
  },
  {
   "cell_type": "markdown",
   "metadata": {},
   "source": [
    "This is a very promising result asMost of the errors are made between S and G2, if we regroup them we achieve these results."
   ]
  },
  {
   "cell_type": "code",
   "execution_count": 24,
   "metadata": {
    "collapsed": false
   },
   "outputs": [
    {
     "name": "stdout",
     "output_type": "stream",
     "text": [
      "T    273\n",
      "1    199\n",
      "M     36\n",
      "Name: Type, dtype: int64\n",
      "We reach an accuracy of 0.945 \n",
      "\n"
     ]
    },
    {
     "data": {
      "image/png": "[encoded data removed]",
      "text/plain": [
       "<matplotlib.figure.Figure at 0x7f5bf7900990>"
      ]
     },
     "metadata": {},
     "output_type": "display_data"
    }
   ],
   "source": [
    "temp_X=H2b_n_m.train.ix[pd.notnull(H2b_n_m.train[\"HMM\"]),[\"HMM\",\"Type\"]]\n",
    "\n",
    "temp_X.ix[temp_X.Type==\"S\",\"Type\"]=\"T\" #Together\n",
    "temp_X.ix[temp_X.HMM==\"S\",\"HMM\"]=\"T\"\n",
    "temp_X.ix[temp_X.Type==\"2\",\"Type\"]=\"T\"\n",
    "temp_X.ix[temp_X.HMM==\"2\",\"HMM\"]=\"T\"\n",
    "\n",
    "\n",
    "print temp_X[\"Type\"].value_counts()\n",
    "\n",
    "\n",
    "cm=confusion_matrix(temp_X.Type,temp_X.HMM)\n",
    "\n",
    "print \"We reach an accuracy of %5.3f \\n\" %(float(cm.trace())/cm.sum())\n",
    "\n",
    "cm_normalized = cm.astype('float') / cm.sum(axis=1)[:, np.newaxis]\n",
    "\n",
    "plot_matrix(cm_normalized,title=\"Confusion matrix for the HMM classification\",names=[\"G1\",\"M\",\"S&G2\"])"
   ]
  },
  {
   "cell_type": "markdown",
   "metadata": {},
   "source": [
    "Our classifier seems to seperate correctly phases G1 and S."
   ]
  },
  {
   "cell_type": "markdown",
   "metadata": {},
   "source": [
    "# <a name=\"Final\"></a> Time analysis of cell cycle phases\n"
   ]
  },
  {
   "cell_type": "code",
   "execution_count": 25,
   "metadata": {
    "collapsed": false
   },
   "outputs": [
    {
     "name": "stdout",
     "output_type": "stream",
     "text": [
      "With only M: \n",
      "\n"
     ]
    },
    {
     "data": {
      "text/html": [
       "<div>\n",
       "<table border=\"1\" class=\"dataframe\">\n",
       "  <thead>\n",
       "    <tr style=\"text-align: right;\">\n",
       "      <th></th>\n",
       "      <th>Accepted trajectories</th>\n",
       "      <th>Standard deviation</th>\n",
       "      <th>mean</th>\n",
       "    </tr>\n",
       "  </thead>\n",
       "  <tbody>\n",
       "    <tr>\n",
       "      <th>G1</th>\n",
       "      <td>164</td>\n",
       "      <td>3.603361</td>\n",
       "      <td>6.927104</td>\n",
       "    </tr>\n",
       "    <tr>\n",
       "      <th>S</th>\n",
       "      <td>102</td>\n",
       "      <td>3.117631</td>\n",
       "      <td>8.305310</td>\n",
       "    </tr>\n",
       "    <tr>\n",
       "      <th>G2</th>\n",
       "      <td>102</td>\n",
       "      <td>2.182703</td>\n",
       "      <td>1.770000</td>\n",
       "    </tr>\n",
       "    <tr>\n",
       "      <th>CellCycle</th>\n",
       "      <td>102</td>\n",
       "      <td>2.053659</td>\n",
       "      <td>17.131209</td>\n",
       "    </tr>\n",
       "  </tbody>\n",
       "</table>\n",
       "</div>"
      ],
      "text/plain": [
       "           Accepted trajectories  Standard deviation       mean\n",
       "G1                           164            3.603361   6.927104\n",
       "S                            102            3.117631   8.305310\n",
       "G2                           102            2.182703   1.770000\n",
       "CellCycle                    102            2.053659  17.131209"
      ]
     },
     "execution_count": 25,
     "metadata": {},
     "output_type": "execute_result"
    }
   ],
   "source": [
    "print \"With only M: \\n\"\n",
    "pd.DataFrame(res)"
   ]
  },
  {
   "cell_type": "markdown",
   "metadata": {},
   "source": [
    "The time for G1 is the same as the time extracted from the PCNA fluorescent marker. This confirms that we feel that we can seperate G1 and S."
   ]
  }
 ],
 "metadata": {
  "kernelspec": {
   "display_name": "Python 2",
   "language": "python",
   "name": "python2"
  },
  "language_info": {
   "codemirror_mode": {
    "name": "ipython",
    "version": 2
   },
   "file_extension": ".py",
   "mimetype": "text/x-python",
   "name": "python",
   "nbconvert_exporter": "python",
   "pygments_lexer": "ipython2",
   "version": "2.7.10"
  }
 },
 "nbformat": 4,
 "nbformat_minor": 0
}
