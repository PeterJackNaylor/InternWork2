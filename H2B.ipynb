{
 "cells": [
  {
   "cell_type": "markdown",
   "metadata": {},
   "source": [
    "* <a href=\"#H2B\"> Analysing Michael Olma data set with the H2b fluorescent marker </a>\n",
    "    * <a href=\"#Unnormalized\"> Unnormalized H2b data set</a>\n",
    "    * <a href=\"#Normalized\">Normalized</a>\n",
    "    * <a href=\"#MitoseOrNot\">Classifier: Mitosis or not</a>"
   ]
  },
  {
   "cell_type": "code",
   "execution_count": 1,
   "metadata": {
    "collapsed": false
   },
   "outputs": [],
   "source": [
    "### All the packages we need:\n",
    "%matplotlib inline\n",
    "%load_ext rpy2.ipython\n",
    "\n",
    "from Reader import Reader\n",
    "from Randomforest import RandomForest_Autotunner,plot_matrix,Measure,check_rotate\n",
    "from Traj_creator import Traj_data\n",
    "\n",
    "import random\n",
    "import numpy as np\n",
    "import pandas as pd\n",
    "import matplotlib.pyplot as plt\n",
    "\n",
    "import os.path\n",
    "import cPickle as pkl\n"
   ]
  },
  {
   "cell_type": "markdown",
   "metadata": {},
   "source": [
    "# <a name=\"Unnormalized\"></a> Unnormalized H2b data set"
   ]
  },
  {
   "cell_type": "code",
   "execution_count": 4,
   "metadata": {
    "collapsed": false
   },
   "outputs": [
    {
     "name": "stdout",
     "output_type": "stream",
     "text": [
      "The file existed so I loaded it.\n",
      "Traj_data built\n",
      "Reader constructed\n",
      "Updated member Group_of_traj\n"
     ]
    },
    {
     "name": "stderr",
     "output_type": "stream",
     "text": [
      "/home/naylor/anaconda/lib/python2.7/site-packages/IPython/core/interactiveshell.py:3006: DtypeWarning: Columns (245) have mixed types. Specify dtype option on import or set low_memory=False.\n",
      "  if self.run_code(code, result):\n"
     ]
    }
   ],
   "source": [
    "num_str=\"0015\" \n",
    "## Well name\n",
    "if os.path.isfile(\"H2b_data.csv\"):\n",
    "    print \"The file existed so I loaded it.\"\n",
    "    H2b = Traj_data(file_name=\"H2b_data.csv\")#,pkl_traj_file=\"/home/pubuntu/Documents/InternWork2/Pkl_file\") \n",
    "\n",
    "else:    \n",
    "    H2b=Traj_data() \n",
    "\n",
    "    H2b.extracting(num_str,\"both_channels_0015.hdf5\",'primary') \n",
    "    ## Extracting the hdf5 file for the primary channel (H2b)\n",
    "\n",
    "    H2b.Add_traj(normalize=False)## ,num_traj=10) ## (you can reduce the number of traj)\n",
    "    ## Adding Alice's work on tracking to have trajectories\n",
    "\n",
    "    file_loc=\"0015_PCNA.xml\"\n",
    "\n",
    "    H2b.label_finder(file_loc) \n",
    "    ## Finding associated labels by minimizing distance by click and distance of cell\n",
    "\n",
    "    H2b.renaming_and_merge() \n",
    "    ## renaming the labels to have G1==\"1\", S==\"S\", G2==\"2\" and M==\"M\" \n",
    "    #This procedure may take a long time.\n",
    "    \n",
    "    H2b.data.to_csv('H2b_data.csv',index=False,header=True)    "
   ]
  },
  {
   "cell_type": "code",
   "execution_count": 5,
   "metadata": {
    "collapsed": false
   },
   "outputs": [
    {
     "name": "stdout",
     "output_type": "stream",
     "text": [
      "The training set has 1273 instances and 246 features\n",
      "The training set has only 239 charateristic features out of 246\n"
     ]
    },
    {
     "data": {
      "text/html": [
       "<div>\n",
       "<table border=\"1\" class=\"dataframe\">\n",
       "  <thead>\n",
       "    <tr style=\"text-align: right;\">\n",
       "      <th></th>\n",
       "      <th>h2_IDM</th>\n",
       "      <th>ls1_IRGL_sample_mean</th>\n",
       "      <th>gyration_ratio</th>\n",
       "      <th>granu_open_volume_3</th>\n",
       "      <th>h1_2SHA</th>\n",
       "    </tr>\n",
       "  </thead>\n",
       "  <tbody>\n",
       "    <tr>\n",
       "      <th>24128</th>\n",
       "      <td>1.000000</td>\n",
       "      <td>17.395339</td>\n",
       "      <td>0.024514</td>\n",
       "      <td>0.013737</td>\n",
       "      <td>1372.705575</td>\n",
       "    </tr>\n",
       "    <tr>\n",
       "      <th>25215</th>\n",
       "      <td>1.000000</td>\n",
       "      <td>18.739198</td>\n",
       "      <td>0.026603</td>\n",
       "      <td>0.018784</td>\n",
       "      <td>653.300101</td>\n",
       "    </tr>\n",
       "    <tr>\n",
       "      <th>19725</th>\n",
       "      <td>0.979984</td>\n",
       "      <td>18.013561</td>\n",
       "      <td>0.022982</td>\n",
       "      <td>0.018751</td>\n",
       "      <td>1463.928610</td>\n",
       "    </tr>\n",
       "    <tr>\n",
       "      <th>20829</th>\n",
       "      <td>1.000000</td>\n",
       "      <td>16.797868</td>\n",
       "      <td>0.028735</td>\n",
       "      <td>0.022736</td>\n",
       "      <td>1599.961528</td>\n",
       "    </tr>\n",
       "    <tr>\n",
       "      <th>25268</th>\n",
       "      <td>1.000000</td>\n",
       "      <td>20.538259</td>\n",
       "      <td>0.033023</td>\n",
       "      <td>0.003060</td>\n",
       "      <td>1443.005215</td>\n",
       "    </tr>\n",
       "  </tbody>\n",
       "</table>\n",
       "</div>"
      ],
      "text/plain": [
       "         h2_IDM  ls1_IRGL_sample_mean  gyration_ratio  granu_open_volume_3  \\\n",
       "24128  1.000000             17.395339        0.024514             0.013737   \n",
       "25215  1.000000             18.739198        0.026603             0.018784   \n",
       "19725  0.979984             18.013561        0.022982             0.018751   \n",
       "20829  1.000000             16.797868        0.028735             0.022736   \n",
       "25268  1.000000             20.538259        0.033023             0.003060   \n",
       "\n",
       "           h1_2SHA  \n",
       "24128  1372.705575  \n",
       "25215   653.300101  \n",
       "19725  1463.928610  \n",
       "20829  1599.961528  \n",
       "25268  1443.005215  "
      ]
     },
     "execution_count": 5,
     "metadata": {},
     "output_type": "execute_result"
    }
   ],
   "source": [
    "print \"The training set has %d instances and %d features\"%H2b.train.shape\n",
    "print \"The training set has only %d charateristic features out of %d\"%(len(H2b.names),H2b.train.shape[1])\n",
    "\n",
    "_rand_index_train=(random.sample(H2b.train.index,5))\n",
    "_rand_col  = random.sample(H2b.names,5)\n",
    "H2b.train.ix[_rand_index_train,_rand_col]"
   ]
  },
  {
   "cell_type": "code",
   "execution_count": 6,
   "metadata": {
    "collapsed": false
   },
   "outputs": [
    {
     "data": {
      "text/html": [
       "<div>\n",
       "<table border=\"1\" class=\"dataframe\">\n",
       "  <thead>\n",
       "    <tr style=\"text-align: right;\">\n",
       "      <th></th>\n",
       "      <th>0015_id_frame</th>\n",
       "      <th>0015_id_object</th>\n",
       "      <th>0015_line_id</th>\n",
       "      <th>0015_pos_x</th>\n",
       "      <th>0015_pos_y</th>\n",
       "      <th>traj</th>\n",
       "      <th>Type</th>\n",
       "    </tr>\n",
       "  </thead>\n",
       "  <tbody>\n",
       "    <tr>\n",
       "      <th>24128</th>\n",
       "      <td>232</td>\n",
       "      <td>85</td>\n",
       "      <td>24128</td>\n",
       "      <td>1160</td>\n",
       "      <td>600</td>\n",
       "      <td>18</td>\n",
       "      <td>2</td>\n",
       "    </tr>\n",
       "    <tr>\n",
       "      <th>25215</th>\n",
       "      <td>240</td>\n",
       "      <td>60</td>\n",
       "      <td>25215</td>\n",
       "      <td>903</td>\n",
       "      <td>456</td>\n",
       "      <td>40</td>\n",
       "      <td>S</td>\n",
       "    </tr>\n",
       "    <tr>\n",
       "      <th>19725</th>\n",
       "      <td>198</td>\n",
       "      <td>71</td>\n",
       "      <td>19725</td>\n",
       "      <td>538</td>\n",
       "      <td>565</td>\n",
       "      <td>4</td>\n",
       "      <td>2</td>\n",
       "    </tr>\n",
       "    <tr>\n",
       "      <th>20829</th>\n",
       "      <td>207</td>\n",
       "      <td>41</td>\n",
       "      <td>20829</td>\n",
       "      <td>1029</td>\n",
       "      <td>390</td>\n",
       "      <td>57</td>\n",
       "      <td>1</td>\n",
       "    </tr>\n",
       "    <tr>\n",
       "      <th>25268</th>\n",
       "      <td>240</td>\n",
       "      <td>118</td>\n",
       "      <td>25268</td>\n",
       "      <td>488</td>\n",
       "      <td>755</td>\n",
       "      <td>75</td>\n",
       "      <td>1</td>\n",
       "    </tr>\n",
       "  </tbody>\n",
       "</table>\n",
       "</div>"
      ],
      "text/plain": [
       "       0015_id_frame  0015_id_object  0015_line_id  0015_pos_x  0015_pos_y  \\\n",
       "24128            232              85         24128        1160         600   \n",
       "25215            240              60         25215         903         456   \n",
       "19725            198              71         19725         538         565   \n",
       "20829            207              41         20829        1029         390   \n",
       "25268            240             118         25268         488         755   \n",
       "\n",
       "       traj Type  \n",
       "24128    18    2  \n",
       "25215    40    S  \n",
       "19725     4    2  \n",
       "20829    57    1  \n",
       "25268    75    1  "
      ]
     },
     "execution_count": 6,
     "metadata": {},
     "output_type": "execute_result"
    }
   ],
   "source": [
    "info_col=[num_str+\"_id_frame\",num_str+\"_id_object\",num_str+\"_line_id\",num_str+\"_pos_x\",num_str+\"_pos_y\",\"traj\",\"Type\"]\n",
    "H2b.train.ix[_rand_index_train,info_col]"
   ]
  },
  {
   "cell_type": "code",
   "execution_count": 7,
   "metadata": {
    "collapsed": false
   },
   "outputs": [
    {
     "name": "stdout",
     "output_type": "stream",
     "text": [
      "Processing time: 111.897336 in sec\n",
      "training dataset: \n",
      "\n",
      "S    546\n",
      "1    378\n",
      "2    236\n",
      "M    113\n",
      "Name: Type, dtype: int64\n",
      "We now have a classifier with n=330, with an expected accuracy of 0.702 \n",
      "\n"
     ]
    },
    {
     "data": {
      "image/png": "[encoded data removed]",
      "text/plain": [
       "<matplotlib.figure.Figure at 0x7f386bc7b0d0>"
      ]
     },
     "metadata": {},
     "output_type": "display_data"
    },
    {
     "data": {
      "image/png": "[encoded data removed]",
      "text/plain": [
       "<matplotlib.figure.Figure at 0x7f3850964dd0>"
      ]
     },
     "metadata": {},
     "output_type": "display_data"
    }
   ],
   "source": [
    "if H2b.Var_missing[0] in H2b.train.columns:\n",
    "    H2b.missing_features_train()\n",
    "if H2b.Var_missing[0] in H2b.data.columns:\n",
    "    H2b.missing_features_data()\n",
    "values=[100 + i*10 for i in range(30)]\n",
    "model=RandomForest_Autotunner(values)\n",
    "\n",
    "model.tunning(H2b.train[H2b.names],H2b.train[\"Type\"],3,plot=True,fit_new_model=True)\n",
    "print \"training dataset: \\n\"\n",
    "print H2b.train[\"Type\"].value_counts()\n",
    "\n",
    "i_=np.argmax(model.MSE)\n",
    "n_tree=values[i_]\n",
    "print \"We now have a classifier with n=%d, with an expected accuracy of %5.3f \\n\" %(n_tree,max(model.MSE))\n",
    "\n",
    "plot_matrix(model.cm,title=\"Confusion matrix unnormalized\")\n",
    "plt.show()\n",
    "model.cm_normalized = model.cm.astype('float') / model.cm.sum(axis=1)[:, np.newaxis]\n",
    "plot_matrix(model.cm_normalized,title=\"Confusion matrix normalized\")\n",
    "plt.show()"
   ]
  },
  {
   "cell_type": "code",
   "execution_count": 8,
   "metadata": {
    "collapsed": false
   },
   "outputs": [
    {
     "name": "stdout",
     "output_type": "stream",
     "text": [
      "Updated member Group_of_traj\n",
      "Frequency of predicted values: \n",
      "\n",
      "1    33697\n",
      "S    31099\n",
      "2     8547\n",
      "M     5338\n",
      "Name: Classif_1, dtype: int64\n",
      "\n",
      " We were however not able to predict 7 instances because of missing values\n"
     ]
    }
   ],
   "source": [
    "index_no_missing=H2b.data[H2b.names].dropna(axis=0, how='any').index\n",
    "H2b.data.ix[index_no_missing,\"Classif_1\"]=model.predict(H2b.data.ix[index_no_missing,H2b.names])\n",
    "H2b.update()\n",
    "print \"Frequency of predicted values: \\n\"\n",
    "print H2b.data[\"Classif_1\"].value_counts()\n",
    "print \"\\n We were however not able to predict %d instances because of missing values\" % (H2b.data.shape[0]-len(index_no_missing))"
   ]
  },
  {
   "cell_type": "code",
   "execution_count": 9,
   "metadata": {
    "collapsed": false
   },
   "outputs": [
    {
     "name": "stdout",
     "output_type": "stream",
     "text": [
      "Frequency within trajectories: \n",
      "\n",
      "S    13474\n",
      "1    12393\n",
      "2     2575\n",
      "M     1372\n",
      "Name: Classif_1, dtype: int64\n",
      "\n",
      " We were however not able to predict 0 instances because of missing values\n"
     ]
    }
   ],
   "source": [
    "temp_X= H2b.data[pd.notnull(H2b.data[\"traj\"])][\"Classif_1\"]\n",
    "\n",
    "print \"Frequency within trajectories: \\n\"\n",
    "print temp_X.value_counts()\n",
    "\n",
    "print \"\\n We were however not able to predict %d instances because of missing values\" % (sum(pd.isnull(temp_X)))"
   ]
  },
  {
   "cell_type": "markdown",
   "metadata": {},
   "source": [
    "# <a name=\"Normalized\"></a> Normalized data set"
   ]
  },
  {
   "cell_type": "code",
   "execution_count": 11,
   "metadata": {
    "collapsed": false
   },
   "outputs": [
    {
     "name": "stdout",
     "output_type": "stream",
     "text": [
      "The file existed so I loaded it.\n",
      "Traj_data built\n",
      "Reader constructed\n",
      "Updated member Group_of_traj\n"
     ]
    }
   ],
   "source": [
    "num_str=\"0015\" \n",
    "## Well name\n",
    "if os.path.isfile(\"H2b_data_norm_mult.csv\"):\n",
    "    print \"The file existed so I loaded it.\"\n",
    "    H2b_n_m = Traj_data(file_name=\"H2b_data_norm_mult.csv\")#,pkl_traj_file=\"/home/pubuntu/Documents/InternWork2/Pkl_file\") \n",
    "\n",
    "else:    \n",
    "    H2b_n_m=Traj_data(pkl_traj_file=\"/home/pubuntu/Documents/InternWork2/Pkl_file\") \n",
    "\n",
    "    H2b_n_m.extracting(num_str,\"both_channels_0015.hdf5\",'primary') \n",
    "    ## Extracting the hdf5 file for the primary channel (H2b)\n",
    "    \n",
    "    H2b_n_m.add_error()\n",
    "    H2b_n_m.Add_traj(normalize=True)## ,num_traj=10) ## (you can reduce the number of traj)\n",
    "    ## Adding Alice's work on tracking to have trajectories\n",
    "\n",
    "    file_loc=\"0015_PCNA.xml\"\n",
    "\n",
    "    H2b_n_m.label_finder(file_loc) \n",
    "    ## Finding associated labels by minimizing distance by click and distance of cell\n",
    "\n",
    "    H2b_n_m.renaming_and_merge() \n",
    "    ## renaming the labels to have G1==\"1\", S==\"S\", G2==\"2\" and M==\"M\" \n",
    "    #This procedure may take a long time.\n",
    "    \n",
    "    H2b_n_m.data.to_csv('H2b_data_norm_mult.csv',index=False,header=True) "
   ]
  },
  {
   "cell_type": "code",
   "execution_count": 12,
   "metadata": {
    "collapsed": false
   },
   "outputs": [
    {
     "data": {
      "text/html": [
       "<div>\n",
       "<table border=\"1\" class=\"dataframe\">\n",
       "  <thead>\n",
       "    <tr style=\"text-align: right;\">\n",
       "      <th></th>\n",
       "      <th>h2_IDM</th>\n",
       "      <th>ls1_IRGL_sample_mean</th>\n",
       "      <th>gyration_ratio</th>\n",
       "      <th>granu_open_volume_3</th>\n",
       "      <th>h1_2SHA</th>\n",
       "    </tr>\n",
       "  </thead>\n",
       "  <tbody>\n",
       "    <tr>\n",
       "      <th>24128</th>\n",
       "      <td>1.739790</td>\n",
       "      <td>0.934439</td>\n",
       "      <td>0.542206</td>\n",
       "      <td>0.118070</td>\n",
       "      <td>0.247955</td>\n",
       "    </tr>\n",
       "    <tr>\n",
       "      <th>25215</th>\n",
       "      <td>1.915725</td>\n",
       "      <td>1.127433</td>\n",
       "      <td>0.522302</td>\n",
       "      <td>0.114762</td>\n",
       "      <td>0.134008</td>\n",
       "    </tr>\n",
       "    <tr>\n",
       "      <th>19725</th>\n",
       "      <td>1.460882</td>\n",
       "      <td>1.039329</td>\n",
       "      <td>0.522676</td>\n",
       "      <td>0.153792</td>\n",
       "      <td>0.339925</td>\n",
       "    </tr>\n",
       "    <tr>\n",
       "      <th>20829</th>\n",
       "      <td>1.839588</td>\n",
       "      <td>0.956780</td>\n",
       "      <td>0.602491</td>\n",
       "      <td>0.145943</td>\n",
       "      <td>0.398805</td>\n",
       "    </tr>\n",
       "    <tr>\n",
       "      <th>25268</th>\n",
       "      <td>2.476069</td>\n",
       "      <td>1.161883</td>\n",
       "      <td>0.696345</td>\n",
       "      <td>0.020572</td>\n",
       "      <td>0.246480</td>\n",
       "    </tr>\n",
       "  </tbody>\n",
       "</table>\n",
       "</div>"
      ],
      "text/plain": [
       "         h2_IDM  ls1_IRGL_sample_mean  gyration_ratio  granu_open_volume_3  \\\n",
       "24128  1.739790              0.934439        0.542206             0.118070   \n",
       "25215  1.915725              1.127433        0.522302             0.114762   \n",
       "19725  1.460882              1.039329        0.522676             0.153792   \n",
       "20829  1.839588              0.956780        0.602491             0.145943   \n",
       "25268  2.476069              1.161883        0.696345             0.020572   \n",
       "\n",
       "        h1_2SHA  \n",
       "24128  0.247955  \n",
       "25215  0.134008  \n",
       "19725  0.339925  \n",
       "20829  0.398805  \n",
       "25268  0.246480  "
      ]
     },
     "execution_count": 12,
     "metadata": {},
     "output_type": "execute_result"
    }
   ],
   "source": [
    "H2b_n_m.train.ix[_rand_index_train,_rand_col]"
   ]
  },
  {
   "cell_type": "code",
   "execution_count": 13,
   "metadata": {
    "collapsed": false
   },
   "outputs": [
    {
     "data": {
      "text/html": [
       "<div>\n",
       "<table border=\"1\" class=\"dataframe\">\n",
       "  <thead>\n",
       "    <tr style=\"text-align: right;\">\n",
       "      <th></th>\n",
       "      <th>0015_id_frame</th>\n",
       "      <th>0015_id_object</th>\n",
       "      <th>0015_line_id</th>\n",
       "      <th>0015_pos_x</th>\n",
       "      <th>0015_pos_y</th>\n",
       "      <th>traj</th>\n",
       "      <th>Type</th>\n",
       "    </tr>\n",
       "  </thead>\n",
       "  <tbody>\n",
       "    <tr>\n",
       "      <th>24128</th>\n",
       "      <td>232</td>\n",
       "      <td>85</td>\n",
       "      <td>24128</td>\n",
       "      <td>1160</td>\n",
       "      <td>600</td>\n",
       "      <td>18</td>\n",
       "      <td>2</td>\n",
       "    </tr>\n",
       "    <tr>\n",
       "      <th>25215</th>\n",
       "      <td>240</td>\n",
       "      <td>60</td>\n",
       "      <td>25215</td>\n",
       "      <td>903</td>\n",
       "      <td>456</td>\n",
       "      <td>40</td>\n",
       "      <td>S</td>\n",
       "    </tr>\n",
       "    <tr>\n",
       "      <th>19725</th>\n",
       "      <td>198</td>\n",
       "      <td>71</td>\n",
       "      <td>19725</td>\n",
       "      <td>538</td>\n",
       "      <td>565</td>\n",
       "      <td>4</td>\n",
       "      <td>2</td>\n",
       "    </tr>\n",
       "    <tr>\n",
       "      <th>20829</th>\n",
       "      <td>207</td>\n",
       "      <td>41</td>\n",
       "      <td>20829</td>\n",
       "      <td>1029</td>\n",
       "      <td>390</td>\n",
       "      <td>57</td>\n",
       "      <td>1</td>\n",
       "    </tr>\n",
       "    <tr>\n",
       "      <th>25268</th>\n",
       "      <td>240</td>\n",
       "      <td>118</td>\n",
       "      <td>25268</td>\n",
       "      <td>488</td>\n",
       "      <td>755</td>\n",
       "      <td>75</td>\n",
       "      <td>1</td>\n",
       "    </tr>\n",
       "  </tbody>\n",
       "</table>\n",
       "</div>"
      ],
      "text/plain": [
       "       0015_id_frame  0015_id_object  0015_line_id  0015_pos_x  0015_pos_y  \\\n",
       "24128            232              85         24128        1160         600   \n",
       "25215            240              60         25215         903         456   \n",
       "19725            198              71         19725         538         565   \n",
       "20829            207              41         20829        1029         390   \n",
       "25268            240             118         25268         488         755   \n",
       "\n",
       "       traj Type  \n",
       "24128    18    2  \n",
       "25215    40    S  \n",
       "19725     4    2  \n",
       "20829    57    1  \n",
       "25268    75    1  "
      ]
     },
     "execution_count": 13,
     "metadata": {},
     "output_type": "execute_result"
    }
   ],
   "source": [
    "H2b_n_m.train.ix[_rand_index_train,info_col]"
   ]
  },
  {
   "cell_type": "markdown",
   "metadata": {},
   "source": [
    "If we look at the features of a certain trajectory"
   ]
  },
  {
   "cell_type": "code",
   "execution_count": 14,
   "metadata": {
    "collapsed": false
   },
   "outputs": [
    {
     "data": {
      "text/html": [
       "<div>\n",
       "<table border=\"1\" class=\"dataframe\">\n",
       "  <thead>\n",
       "    <tr style=\"text-align: right;\">\n",
       "      <th></th>\n",
       "      <th>h2_IDM</th>\n",
       "      <th>ls1_IRGL_sample_mean</th>\n",
       "      <th>gyration_ratio</th>\n",
       "      <th>granu_open_volume_3</th>\n",
       "      <th>h1_2SHA</th>\n",
       "      <th>0015_id_frame</th>\n",
       "    </tr>\n",
       "  </thead>\n",
       "  <tbody>\n",
       "    <tr>\n",
       "      <th>400</th>\n",
       "      <td>1.000000</td>\n",
       "      <td>1.000000</td>\n",
       "      <td>1.000000</td>\n",
       "      <td>1.000000</td>\n",
       "      <td>1.000000</td>\n",
       "      <td>5</td>\n",
       "    </tr>\n",
       "    <tr>\n",
       "      <th>473</th>\n",
       "      <td>1.561849</td>\n",
       "      <td>1.045152</td>\n",
       "      <td>0.829797</td>\n",
       "      <td>0.324903</td>\n",
       "      <td>0.427949</td>\n",
       "      <td>6</td>\n",
       "    </tr>\n",
       "    <tr>\n",
       "      <th>546</th>\n",
       "      <td>1.627714</td>\n",
       "      <td>0.989899</td>\n",
       "      <td>0.851252</td>\n",
       "      <td>0.278689</td>\n",
       "      <td>0.267740</td>\n",
       "      <td>7</td>\n",
       "    </tr>\n",
       "    <tr>\n",
       "      <th>620</th>\n",
       "      <td>1.710227</td>\n",
       "      <td>1.149111</td>\n",
       "      <td>0.798334</td>\n",
       "      <td>0.449330</td>\n",
       "      <td>0.366396</td>\n",
       "      <td>8</td>\n",
       "    </tr>\n",
       "    <tr>\n",
       "      <th>694</th>\n",
       "      <td>1.894835</td>\n",
       "      <td>1.020020</td>\n",
       "      <td>0.722577</td>\n",
       "      <td>0.213566</td>\n",
       "      <td>0.227243</td>\n",
       "      <td>9</td>\n",
       "    </tr>\n",
       "    <tr>\n",
       "      <th>771</th>\n",
       "      <td>1.933018</td>\n",
       "      <td>0.994233</td>\n",
       "      <td>0.749965</td>\n",
       "      <td>0.178984</td>\n",
       "      <td>0.168960</td>\n",
       "      <td>10</td>\n",
       "    </tr>\n",
       "    <tr>\n",
       "      <th>844</th>\n",
       "      <td>1.928425</td>\n",
       "      <td>0.958907</td>\n",
       "      <td>0.693587</td>\n",
       "      <td>0.153398</td>\n",
       "      <td>0.222846</td>\n",
       "      <td>11</td>\n",
       "    </tr>\n",
       "    <tr>\n",
       "      <th>920</th>\n",
       "      <td>1.945746</td>\n",
       "      <td>0.954170</td>\n",
       "      <td>0.666039</td>\n",
       "      <td>0.160185</td>\n",
       "      <td>0.273724</td>\n",
       "      <td>12</td>\n",
       "    </tr>\n",
       "    <tr>\n",
       "      <th>993</th>\n",
       "      <td>1.940480</td>\n",
       "      <td>0.817564</td>\n",
       "      <td>0.686136</td>\n",
       "      <td>0.088329</td>\n",
       "      <td>0.093643</td>\n",
       "      <td>13</td>\n",
       "    </tr>\n",
       "    <tr>\n",
       "      <th>1071</th>\n",
       "      <td>1.945746</td>\n",
       "      <td>0.907281</td>\n",
       "      <td>0.663225</td>\n",
       "      <td>0.065606</td>\n",
       "      <td>0.174928</td>\n",
       "      <td>14</td>\n",
       "    </tr>\n",
       "    <tr>\n",
       "      <th>1147</th>\n",
       "      <td>1.940652</td>\n",
       "      <td>0.985835</td>\n",
       "      <td>0.659005</td>\n",
       "      <td>0.058950</td>\n",
       "      <td>0.130577</td>\n",
       "      <td>15</td>\n",
       "    </tr>\n",
       "    <tr>\n",
       "      <th>1223</th>\n",
       "      <td>1.945746</td>\n",
       "      <td>0.947250</td>\n",
       "      <td>0.621870</td>\n",
       "      <td>0.225348</td>\n",
       "      <td>0.224517</td>\n",
       "      <td>16</td>\n",
       "    </tr>\n",
       "    <tr>\n",
       "      <th>1302</th>\n",
       "      <td>1.945746</td>\n",
       "      <td>1.022196</td>\n",
       "      <td>0.648833</td>\n",
       "      <td>0.046057</td>\n",
       "      <td>0.131980</td>\n",
       "      <td>17</td>\n",
       "    </tr>\n",
       "    <tr>\n",
       "      <th>1381</th>\n",
       "      <td>1.927854</td>\n",
       "      <td>0.903991</td>\n",
       "      <td>0.671603</td>\n",
       "      <td>0.232492</td>\n",
       "      <td>0.173789</td>\n",
       "      <td>18</td>\n",
       "    </tr>\n",
       "    <tr>\n",
       "      <th>1458</th>\n",
       "      <td>1.945746</td>\n",
       "      <td>0.944298</td>\n",
       "      <td>0.620180</td>\n",
       "      <td>0.083999</td>\n",
       "      <td>0.161300</td>\n",
       "      <td>19</td>\n",
       "    </tr>\n",
       "    <tr>\n",
       "      <th>1535</th>\n",
       "      <td>1.945746</td>\n",
       "      <td>1.067900</td>\n",
       "      <td>0.634167</td>\n",
       "      <td>0.028737</td>\n",
       "      <td>0.246342</td>\n",
       "      <td>20</td>\n",
       "    </tr>\n",
       "    <tr>\n",
       "      <th>1611</th>\n",
       "      <td>1.945746</td>\n",
       "      <td>1.002859</td>\n",
       "      <td>0.620717</td>\n",
       "      <td>0.201488</td>\n",
       "      <td>0.205977</td>\n",
       "      <td>21</td>\n",
       "    </tr>\n",
       "    <tr>\n",
       "      <th>1685</th>\n",
       "      <td>1.945746</td>\n",
       "      <td>1.041938</td>\n",
       "      <td>0.624661</td>\n",
       "      <td>0.092182</td>\n",
       "      <td>0.211201</td>\n",
       "      <td>22</td>\n",
       "    </tr>\n",
       "    <tr>\n",
       "      <th>1763</th>\n",
       "      <td>1.945746</td>\n",
       "      <td>1.077036</td>\n",
       "      <td>0.609240</td>\n",
       "      <td>0.145489</td>\n",
       "      <td>0.312089</td>\n",
       "      <td>23</td>\n",
       "    </tr>\n",
       "    <tr>\n",
       "      <th>1839</th>\n",
       "      <td>1.945746</td>\n",
       "      <td>0.941129</td>\n",
       "      <td>0.609678</td>\n",
       "      <td>0.093402</td>\n",
       "      <td>0.211407</td>\n",
       "      <td>24</td>\n",
       "    </tr>\n",
       "    <tr>\n",
       "      <th>1916</th>\n",
       "      <td>1.934861</td>\n",
       "      <td>0.832476</td>\n",
       "      <td>0.635789</td>\n",
       "      <td>0.236618</td>\n",
       "      <td>0.146983</td>\n",
       "      <td>25</td>\n",
       "    </tr>\n",
       "    <tr>\n",
       "      <th>1993</th>\n",
       "      <td>1.945746</td>\n",
       "      <td>1.051685</td>\n",
       "      <td>0.618149</td>\n",
       "      <td>0.172735</td>\n",
       "      <td>0.260616</td>\n",
       "      <td>26</td>\n",
       "    </tr>\n",
       "    <tr>\n",
       "      <th>2069</th>\n",
       "      <td>1.940888</td>\n",
       "      <td>0.944588</td>\n",
       "      <td>0.595372</td>\n",
       "      <td>0.104634</td>\n",
       "      <td>0.102154</td>\n",
       "      <td>27</td>\n",
       "    </tr>\n",
       "    <tr>\n",
       "      <th>2145</th>\n",
       "      <td>1.945746</td>\n",
       "      <td>1.039329</td>\n",
       "      <td>0.628546</td>\n",
       "      <td>0.144412</td>\n",
       "      <td>0.226168</td>\n",
       "      <td>28</td>\n",
       "    </tr>\n",
       "    <tr>\n",
       "      <th>2224</th>\n",
       "      <td>1.945746</td>\n",
       "      <td>1.087392</td>\n",
       "      <td>0.623068</td>\n",
       "      <td>0.172152</td>\n",
       "      <td>0.257184</td>\n",
       "      <td>29</td>\n",
       "    </tr>\n",
       "    <tr>\n",
       "      <th>2301</th>\n",
       "      <td>1.945746</td>\n",
       "      <td>0.849408</td>\n",
       "      <td>0.620873</td>\n",
       "      <td>0.161442</td>\n",
       "      <td>0.190947</td>\n",
       "      <td>30</td>\n",
       "    </tr>\n",
       "    <tr>\n",
       "      <th>2381</th>\n",
       "      <td>1.945746</td>\n",
       "      <td>0.982848</td>\n",
       "      <td>0.610598</td>\n",
       "      <td>0.163368</td>\n",
       "      <td>0.284586</td>\n",
       "      <td>31</td>\n",
       "    </tr>\n",
       "    <tr>\n",
       "      <th>2460</th>\n",
       "      <td>1.940801</td>\n",
       "      <td>0.865891</td>\n",
       "      <td>0.612480</td>\n",
       "      <td>0.160943</td>\n",
       "      <td>0.143260</td>\n",
       "      <td>32</td>\n",
       "    </tr>\n",
       "    <tr>\n",
       "      <th>2543</th>\n",
       "      <td>1.940820</td>\n",
       "      <td>0.942114</td>\n",
       "      <td>0.616432</td>\n",
       "      <td>0.129479</td>\n",
       "      <td>0.151145</td>\n",
       "      <td>33</td>\n",
       "    </tr>\n",
       "    <tr>\n",
       "      <th>2624</th>\n",
       "      <td>1.921740</td>\n",
       "      <td>0.928161</td>\n",
       "      <td>0.597233</td>\n",
       "      <td>0.148449</td>\n",
       "      <td>0.160851</td>\n",
       "      <td>34</td>\n",
       "    </tr>\n",
       "    <tr>\n",
       "      <th>...</th>\n",
       "      <td>...</td>\n",
       "      <td>...</td>\n",
       "      <td>...</td>\n",
       "      <td>...</td>\n",
       "      <td>...</td>\n",
       "      <td>...</td>\n",
       "    </tr>\n",
       "    <tr>\n",
       "      <th>15198</th>\n",
       "      <td>1.945746</td>\n",
       "      <td>0.965019</td>\n",
       "      <td>0.510473</td>\n",
       "      <td>0.129610</td>\n",
       "      <td>0.164052</td>\n",
       "      <td>160</td>\n",
       "    </tr>\n",
       "    <tr>\n",
       "      <th>15313</th>\n",
       "      <td>1.945746</td>\n",
       "      <td>0.984010</td>\n",
       "      <td>0.513659</td>\n",
       "      <td>0.086065</td>\n",
       "      <td>0.162329</td>\n",
       "      <td>161</td>\n",
       "    </tr>\n",
       "    <tr>\n",
       "      <th>15432</th>\n",
       "      <td>1.945746</td>\n",
       "      <td>1.056358</td>\n",
       "      <td>0.509778</td>\n",
       "      <td>0.118138</td>\n",
       "      <td>0.198334</td>\n",
       "      <td>162</td>\n",
       "    </tr>\n",
       "    <tr>\n",
       "      <th>15549</th>\n",
       "      <td>1.942595</td>\n",
       "      <td>0.953902</td>\n",
       "      <td>0.535024</td>\n",
       "      <td>0.031420</td>\n",
       "      <td>0.096583</td>\n",
       "      <td>163</td>\n",
       "    </tr>\n",
       "    <tr>\n",
       "      <th>15668</th>\n",
       "      <td>1.945746</td>\n",
       "      <td>0.981357</td>\n",
       "      <td>0.516143</td>\n",
       "      <td>0.072362</td>\n",
       "      <td>0.141705</td>\n",
       "      <td>164</td>\n",
       "    </tr>\n",
       "    <tr>\n",
       "      <th>15784</th>\n",
       "      <td>1.945746</td>\n",
       "      <td>1.092669</td>\n",
       "      <td>0.528941</td>\n",
       "      <td>0.090918</td>\n",
       "      <td>0.219101</td>\n",
       "      <td>165</td>\n",
       "    </tr>\n",
       "    <tr>\n",
       "      <th>15899</th>\n",
       "      <td>1.945746</td>\n",
       "      <td>1.054521</td>\n",
       "      <td>0.505435</td>\n",
       "      <td>0.125923</td>\n",
       "      <td>0.211753</td>\n",
       "      <td>166</td>\n",
       "    </tr>\n",
       "    <tr>\n",
       "      <th>16015</th>\n",
       "      <td>1.945746</td>\n",
       "      <td>0.987256</td>\n",
       "      <td>0.529691</td>\n",
       "      <td>0.072234</td>\n",
       "      <td>0.210519</td>\n",
       "      <td>167</td>\n",
       "    </tr>\n",
       "    <tr>\n",
       "      <th>16131</th>\n",
       "      <td>1.945746</td>\n",
       "      <td>1.105511</td>\n",
       "      <td>0.532812</td>\n",
       "      <td>0.135017</td>\n",
       "      <td>0.200605</td>\n",
       "      <td>168</td>\n",
       "    </tr>\n",
       "    <tr>\n",
       "      <th>16248</th>\n",
       "      <td>1.939369</td>\n",
       "      <td>0.870990</td>\n",
       "      <td>0.529001</td>\n",
       "      <td>0.117057</td>\n",
       "      <td>0.087589</td>\n",
       "      <td>169</td>\n",
       "    </tr>\n",
       "    <tr>\n",
       "      <th>16365</th>\n",
       "      <td>1.945746</td>\n",
       "      <td>0.999733</td>\n",
       "      <td>0.527877</td>\n",
       "      <td>0.120691</td>\n",
       "      <td>0.189958</td>\n",
       "      <td>170</td>\n",
       "    </tr>\n",
       "    <tr>\n",
       "      <th>16483</th>\n",
       "      <td>1.945746</td>\n",
       "      <td>1.119972</td>\n",
       "      <td>0.526505</td>\n",
       "      <td>0.096777</td>\n",
       "      <td>0.185888</td>\n",
       "      <td>171</td>\n",
       "    </tr>\n",
       "    <tr>\n",
       "      <th>16601</th>\n",
       "      <td>1.939421</td>\n",
       "      <td>1.023117</td>\n",
       "      <td>0.539796</td>\n",
       "      <td>0.166451</td>\n",
       "      <td>0.084767</td>\n",
       "      <td>172</td>\n",
       "    </tr>\n",
       "    <tr>\n",
       "      <th>16719</th>\n",
       "      <td>1.945746</td>\n",
       "      <td>1.126024</td>\n",
       "      <td>0.537379</td>\n",
       "      <td>0.133106</td>\n",
       "      <td>0.183693</td>\n",
       "      <td>173</td>\n",
       "    </tr>\n",
       "    <tr>\n",
       "      <th>16837</th>\n",
       "      <td>1.945746</td>\n",
       "      <td>1.031863</td>\n",
       "      <td>0.533407</td>\n",
       "      <td>0.080324</td>\n",
       "      <td>0.114955</td>\n",
       "      <td>174</td>\n",
       "    </tr>\n",
       "    <tr>\n",
       "      <th>16955</th>\n",
       "      <td>1.945746</td>\n",
       "      <td>1.036946</td>\n",
       "      <td>0.538147</td>\n",
       "      <td>0.133073</td>\n",
       "      <td>0.150336</td>\n",
       "      <td>175</td>\n",
       "    </tr>\n",
       "    <tr>\n",
       "      <th>17074</th>\n",
       "      <td>1.945746</td>\n",
       "      <td>1.120628</td>\n",
       "      <td>0.520909</td>\n",
       "      <td>0.080493</td>\n",
       "      <td>0.173506</td>\n",
       "      <td>176</td>\n",
       "    </tr>\n",
       "    <tr>\n",
       "      <th>17194</th>\n",
       "      <td>1.939559</td>\n",
       "      <td>0.888222</td>\n",
       "      <td>0.506258</td>\n",
       "      <td>0.171775</td>\n",
       "      <td>0.099456</td>\n",
       "      <td>177</td>\n",
       "    </tr>\n",
       "    <tr>\n",
       "      <th>17315</th>\n",
       "      <td>1.914722</td>\n",
       "      <td>1.145242</td>\n",
       "      <td>0.543541</td>\n",
       "      <td>0.112624</td>\n",
       "      <td>0.150958</td>\n",
       "      <td>178</td>\n",
       "    </tr>\n",
       "    <tr>\n",
       "      <th>17434</th>\n",
       "      <td>1.936528</td>\n",
       "      <td>0.923212</td>\n",
       "      <td>0.542246</td>\n",
       "      <td>0.095574</td>\n",
       "      <td>0.100180</td>\n",
       "      <td>179</td>\n",
       "    </tr>\n",
       "    <tr>\n",
       "      <th>17556</th>\n",
       "      <td>1.902939</td>\n",
       "      <td>1.091287</td>\n",
       "      <td>0.542647</td>\n",
       "      <td>0.179998</td>\n",
       "      <td>0.116492</td>\n",
       "      <td>180</td>\n",
       "    </tr>\n",
       "    <tr>\n",
       "      <th>17678</th>\n",
       "      <td>1.934287</td>\n",
       "      <td>1.066778</td>\n",
       "      <td>0.543293</td>\n",
       "      <td>0.094209</td>\n",
       "      <td>0.115385</td>\n",
       "      <td>181</td>\n",
       "    </tr>\n",
       "    <tr>\n",
       "      <th>17797</th>\n",
       "      <td>1.936814</td>\n",
       "      <td>1.161092</td>\n",
       "      <td>0.537456</td>\n",
       "      <td>0.148224</td>\n",
       "      <td>0.140332</td>\n",
       "      <td>182</td>\n",
       "    </tr>\n",
       "    <tr>\n",
       "      <th>17918</th>\n",
       "      <td>1.917043</td>\n",
       "      <td>1.065698</td>\n",
       "      <td>0.532447</td>\n",
       "      <td>0.155898</td>\n",
       "      <td>0.147502</td>\n",
       "      <td>183</td>\n",
       "    </tr>\n",
       "    <tr>\n",
       "      <th>18040</th>\n",
       "      <td>1.578124</td>\n",
       "      <td>1.030399</td>\n",
       "      <td>0.584256</td>\n",
       "      <td>0.353188</td>\n",
       "      <td>0.281789</td>\n",
       "      <td>184</td>\n",
       "    </tr>\n",
       "    <tr>\n",
       "      <th>18161</th>\n",
       "      <td>1.374378</td>\n",
       "      <td>0.938798</td>\n",
       "      <td>0.706732</td>\n",
       "      <td>0.504910</td>\n",
       "      <td>0.601751</td>\n",
       "      <td>185</td>\n",
       "    </tr>\n",
       "    <tr>\n",
       "      <th>18284</th>\n",
       "      <td>1.218065</td>\n",
       "      <td>0.960463</td>\n",
       "      <td>0.705269</td>\n",
       "      <td>0.649211</td>\n",
       "      <td>0.916738</td>\n",
       "      <td>186</td>\n",
       "    </tr>\n",
       "    <tr>\n",
       "      <th>18406</th>\n",
       "      <td>1.107849</td>\n",
       "      <td>0.975319</td>\n",
       "      <td>0.757281</td>\n",
       "      <td>1.035286</td>\n",
       "      <td>1.032507</td>\n",
       "      <td>187</td>\n",
       "    </tr>\n",
       "    <tr>\n",
       "      <th>18527</th>\n",
       "      <td>1.127692</td>\n",
       "      <td>0.922885</td>\n",
       "      <td>0.752283</td>\n",
       "      <td>0.978145</td>\n",
       "      <td>0.894679</td>\n",
       "      <td>188</td>\n",
       "    </tr>\n",
       "    <tr>\n",
       "      <th>18648</th>\n",
       "      <td>1.409988</td>\n",
       "      <td>1.138692</td>\n",
       "      <td>0.727019</td>\n",
       "      <td>0.529484</td>\n",
       "      <td>0.409365</td>\n",
       "      <td>189</td>\n",
       "    </tr>\n",
       "  </tbody>\n",
       "</table>\n",
       "<p>185 rows × 6 columns</p>\n",
       "</div>"
      ],
      "text/plain": [
       "         h2_IDM  ls1_IRGL_sample_mean  gyration_ratio  granu_open_volume_3  \\\n",
       "400    1.000000              1.000000        1.000000             1.000000   \n",
       "473    1.561849              1.045152        0.829797             0.324903   \n",
       "546    1.627714              0.989899        0.851252             0.278689   \n",
       "620    1.710227              1.149111        0.798334             0.449330   \n",
       "694    1.894835              1.020020        0.722577             0.213566   \n",
       "771    1.933018              0.994233        0.749965             0.178984   \n",
       "844    1.928425              0.958907        0.693587             0.153398   \n",
       "920    1.945746              0.954170        0.666039             0.160185   \n",
       "993    1.940480              0.817564        0.686136             0.088329   \n",
       "1071   1.945746              0.907281        0.663225             0.065606   \n",
       "1147   1.940652              0.985835        0.659005             0.058950   \n",
       "1223   1.945746              0.947250        0.621870             0.225348   \n",
       "1302   1.945746              1.022196        0.648833             0.046057   \n",
       "1381   1.927854              0.903991        0.671603             0.232492   \n",
       "1458   1.945746              0.944298        0.620180             0.083999   \n",
       "1535   1.945746              1.067900        0.634167             0.028737   \n",
       "1611   1.945746              1.002859        0.620717             0.201488   \n",
       "1685   1.945746              1.041938        0.624661             0.092182   \n",
       "1763   1.945746              1.077036        0.609240             0.145489   \n",
       "1839   1.945746              0.941129        0.609678             0.093402   \n",
       "1916   1.934861              0.832476        0.635789             0.236618   \n",
       "1993   1.945746              1.051685        0.618149             0.172735   \n",
       "2069   1.940888              0.944588        0.595372             0.104634   \n",
       "2145   1.945746              1.039329        0.628546             0.144412   \n",
       "2224   1.945746              1.087392        0.623068             0.172152   \n",
       "2301   1.945746              0.849408        0.620873             0.161442   \n",
       "2381   1.945746              0.982848        0.610598             0.163368   \n",
       "2460   1.940801              0.865891        0.612480             0.160943   \n",
       "2543   1.940820              0.942114        0.616432             0.129479   \n",
       "2624   1.921740              0.928161        0.597233             0.148449   \n",
       "...         ...                   ...             ...                  ...   \n",
       "15198  1.945746              0.965019        0.510473             0.129610   \n",
       "15313  1.945746              0.984010        0.513659             0.086065   \n",
       "15432  1.945746              1.056358        0.509778             0.118138   \n",
       "15549  1.942595              0.953902        0.535024             0.031420   \n",
       "15668  1.945746              0.981357        0.516143             0.072362   \n",
       "15784  1.945746              1.092669        0.528941             0.090918   \n",
       "15899  1.945746              1.054521        0.505435             0.125923   \n",
       "16015  1.945746              0.987256        0.529691             0.072234   \n",
       "16131  1.945746              1.105511        0.532812             0.135017   \n",
       "16248  1.939369              0.870990        0.529001             0.117057   \n",
       "16365  1.945746              0.999733        0.527877             0.120691   \n",
       "16483  1.945746              1.119972        0.526505             0.096777   \n",
       "16601  1.939421              1.023117        0.539796             0.166451   \n",
       "16719  1.945746              1.126024        0.537379             0.133106   \n",
       "16837  1.945746              1.031863        0.533407             0.080324   \n",
       "16955  1.945746              1.036946        0.538147             0.133073   \n",
       "17074  1.945746              1.120628        0.520909             0.080493   \n",
       "17194  1.939559              0.888222        0.506258             0.171775   \n",
       "17315  1.914722              1.145242        0.543541             0.112624   \n",
       "17434  1.936528              0.923212        0.542246             0.095574   \n",
       "17556  1.902939              1.091287        0.542647             0.179998   \n",
       "17678  1.934287              1.066778        0.543293             0.094209   \n",
       "17797  1.936814              1.161092        0.537456             0.148224   \n",
       "17918  1.917043              1.065698        0.532447             0.155898   \n",
       "18040  1.578124              1.030399        0.584256             0.353188   \n",
       "18161  1.374378              0.938798        0.706732             0.504910   \n",
       "18284  1.218065              0.960463        0.705269             0.649211   \n",
       "18406  1.107849              0.975319        0.757281             1.035286   \n",
       "18527  1.127692              0.922885        0.752283             0.978145   \n",
       "18648  1.409988              1.138692        0.727019             0.529484   \n",
       "\n",
       "        h1_2SHA  0015_id_frame  \n",
       "400    1.000000              5  \n",
       "473    0.427949              6  \n",
       "546    0.267740              7  \n",
       "620    0.366396              8  \n",
       "694    0.227243              9  \n",
       "771    0.168960             10  \n",
       "844    0.222846             11  \n",
       "920    0.273724             12  \n",
       "993    0.093643             13  \n",
       "1071   0.174928             14  \n",
       "1147   0.130577             15  \n",
       "1223   0.224517             16  \n",
       "1302   0.131980             17  \n",
       "1381   0.173789             18  \n",
       "1458   0.161300             19  \n",
       "1535   0.246342             20  \n",
       "1611   0.205977             21  \n",
       "1685   0.211201             22  \n",
       "1763   0.312089             23  \n",
       "1839   0.211407             24  \n",
       "1916   0.146983             25  \n",
       "1993   0.260616             26  \n",
       "2069   0.102154             27  \n",
       "2145   0.226168             28  \n",
       "2224   0.257184             29  \n",
       "2301   0.190947             30  \n",
       "2381   0.284586             31  \n",
       "2460   0.143260             32  \n",
       "2543   0.151145             33  \n",
       "2624   0.160851             34  \n",
       "...         ...            ...  \n",
       "15198  0.164052            160  \n",
       "15313  0.162329            161  \n",
       "15432  0.198334            162  \n",
       "15549  0.096583            163  \n",
       "15668  0.141705            164  \n",
       "15784  0.219101            165  \n",
       "15899  0.211753            166  \n",
       "16015  0.210519            167  \n",
       "16131  0.200605            168  \n",
       "16248  0.087589            169  \n",
       "16365  0.189958            170  \n",
       "16483  0.185888            171  \n",
       "16601  0.084767            172  \n",
       "16719  0.183693            173  \n",
       "16837  0.114955            174  \n",
       "16955  0.150336            175  \n",
       "17074  0.173506            176  \n",
       "17194  0.099456            177  \n",
       "17315  0.150958            178  \n",
       "17434  0.100180            179  \n",
       "17556  0.116492            180  \n",
       "17678  0.115385            181  \n",
       "17797  0.140332            182  \n",
       "17918  0.147502            183  \n",
       "18040  0.281789            184  \n",
       "18161  0.601751            185  \n",
       "18284  0.916738            186  \n",
       "18406  1.032507            187  \n",
       "18527  0.894679            188  \n",
       "18648  0.409365            189  \n",
       "\n",
       "[185 rows x 6 columns]"
      ]
     },
     "execution_count": 14,
     "metadata": {},
     "output_type": "execute_result"
    }
   ],
   "source": [
    "traj=0\n",
    "H2b_n_m.data.ix[H2b_n_m.data[\"traj\"]==traj,_rand_col+[num_str+\"_id_frame\"]]"
   ]
  },
  {
   "cell_type": "markdown",
   "metadata": {},
   "source": [
    "We now have to be careful, not all the training points are part of a trajectory. So we can't compare (with all fairness) the results exposed above with the normalised version."
   ]
  },
  {
   "cell_type": "code",
   "execution_count": 15,
   "metadata": {
    "collapsed": false
   },
   "outputs": [
    {
     "name": "stdout",
     "output_type": "stream",
     "text": [
      "Updated member Group_of_traj\n",
      "Updated member Group_of_traj\n",
      "training dataset: \n",
      "\n",
      "S    217\n",
      "1    199\n",
      "2     56\n",
      "M     36\n",
      "Name: Type, dtype: int64\n",
      "Processing time: 53.919479 in sec\n"
     ]
    },
    {
     "data": {
      "image/png": "[encoded data removed]",
      "text/plain": [
       "<matplotlib.figure.Figure at 0x7f3857bcded0>"
      ]
     },
     "metadata": {},
     "output_type": "display_data"
    },
    {
     "name": "stdout",
     "output_type": "stream",
     "text": [
      "We now have a classifier with n=380, with an expected accuracy of 0.717 for the unnormalized data. \n",
      "\n"
     ]
    },
    {
     "data": {
      "image/png": "[encoded data removed]",
      "text/plain": [
       "<matplotlib.figure.Figure at 0x7f384f392a90>"
      ]
     },
     "metadata": {},
     "output_type": "display_data"
    },
    {
     "data": {
      "image/png": "[encoded data removed]",
      "text/plain": [
       "<matplotlib.figure.Figure at 0x7f3850793490>"
      ]
     },
     "metadata": {},
     "output_type": "display_data"
    },
    {
     "name": "stdout",
     "output_type": "stream",
     "text": [
      "Processing time: 54.421947 in sec\n"
     ]
    },
    {
     "data": {
      "image/png": "[encoded data removed]",
      "text/plain": [
       "<matplotlib.figure.Figure at 0x7f3850df19d0>"
      ]
     },
     "metadata": {},
     "output_type": "display_data"
    },
    {
     "name": "stdout",
     "output_type": "stream",
     "text": [
      "We now have a classifier with n=350, with an expected accuracy of 0.774 for the normalized data. \n",
      "\n"
     ]
    },
    {
     "data": {
      "image/png": "[encoded data removed]",
      "text/plain": [
       "<matplotlib.figure.Figure at 0x7f385152ae90>"
      ]
     },
     "metadata": {},
     "output_type": "display_data"
    },
    {
     "data": {
      "image/png": "[encoded data removed]",
      "text/plain": [
       "<matplotlib.figure.Figure at 0x7f3851c594d0>"
      ]
     },
     "metadata": {},
     "output_type": "display_data"
    }
   ],
   "source": [
    "\n",
    "kfold=3\n",
    "\n",
    "instances_to_keep=pd.notnull(H2b_n_m.data.traj)\n",
    "\n",
    "H2b.data=H2b.data.ix[instances_to_keep,H2b.data.columns]\n",
    "H2b.update()\n",
    "\n",
    "H2b_n_m.data=H2b_n_m.data.ix[instances_to_keep,H2b_n_m.data.columns]\n",
    "H2b_n_m.update()\n",
    "\n",
    "print \"training dataset: \\n\"\n",
    "print H2b_n_m.train[\"Type\"].value_counts()\n",
    "\n",
    "if H2b.Var_missing[0] in H2b.train.columns:\n",
    "    H2b.missing_features_train()\n",
    "if H2b.Var_missing[0] in H2b.data.columns:\n",
    "    H2b.missing_features_data()\n",
    "values=[100 + i*10 for i in range(30)]\n",
    "model_t=RandomForest_Autotunner(values)\n",
    "\n",
    "model_t.tunning(H2b.train[H2b.names],H2b.train[\"Type\"],kfold,plot=True,fit_new_model=True)\n",
    "plt.show()\n",
    "\n",
    "i_=np.argmax(model_t.MSE)\n",
    "n_tree=values[i_]\n",
    "print \"We now have a classifier with n=%d, with an expected accuracy of %5.3f for the unnormalized data. \\n\" %(n_tree,max(model_t.MSE))\n",
    "\n",
    "plot_matrix(model_t.cm,title=\"Confusion matrix unnormalized with unnormalized data\")\n",
    "plt.show()\n",
    "model_t.cm_normalized = model_t.cm.astype('float') / model_t.cm.sum(axis=1)[:, np.newaxis]\n",
    "plot_matrix(model_t.cm_normalized,title=\"Confusion matrix with unnormalized data\")\n",
    "plt.show()\n",
    "\n",
    "\n",
    "\n",
    "if H2b_n_m.Var_missing[0] in H2b_n_m.train.columns:\n",
    "    H2b_n_m.missing_features_train()\n",
    "if H2b_n_m.Var_missing[0] in H2b_n_m.data.columns:\n",
    "    H2b_n_m.missing_features_data()\n",
    "values=[100 + i*10 for i in range(30)]\n",
    "model_n_m=RandomForest_Autotunner(values)\n",
    "\n",
    "model_n_m.tunning(H2b_n_m.train[H2b_n_m.names],H2b_n_m.train[\"Type\"],kfold,plot=True,fit_new_model=True)\n",
    "plt.show()\n",
    "\n",
    "i_=np.argmax(model_n_m.MSE)\n",
    "n_tree=values[i_]\n",
    "print \"We now have a classifier with n=%d, with an expected accuracy of %5.3f for the normalized data. \\n\" %(n_tree,max(model_n_m.MSE))\n",
    "\n",
    "\n",
    "plot_matrix(model_n_m.cm,title=\"Confusion matrix unnormalized with normalized data\")\n",
    "plt.show()\n",
    "model_n_m.cm_normalized = model_n_m.cm.astype('float') / model_n_m.cm.sum(axis=1)[:, np.newaxis]\n",
    "plot_matrix(model_n_m.cm_normalized,title=\"Confusion matrix normalized with normalized data\")\n",
    "plt.show()"
   ]
  },
  {
   "cell_type": "markdown",
   "metadata": {},
   "source": [
    "# <a name=\"MitoseOrNot\"></a> Classifier for Mitosis or Not"
   ]
  },
  {
   "cell_type": "code",
   "execution_count": 17,
   "metadata": {
    "collapsed": false
   },
   "outputs": [
    {
     "name": "stdout",
     "output_type": "stream",
     "text": [
      "Reader constructed\n"
     ]
    },
    {
     "data": {
      "text/plain": [
       "O    2842\n",
       "S    1293\n",
       "M    1016\n",
       "Name: label, dtype: int64"
      ]
     },
     "execution_count": 17,
     "metadata": {},
     "output_type": "execute_result"
    }
   ],
   "source": [
    "train_file=\"MitoseClassif.arff\"\n",
    "\n",
    "train_1=Reader()\n",
    "train_1.arrf_read(train_file)\n",
    "train_1.renaming_for_mitosis()\n",
    "\n",
    "train_1.data[\"label\"].value_counts()"
   ]
  },
  {
   "cell_type": "code",
   "execution_count": 18,
   "metadata": {
    "collapsed": false
   },
   "outputs": [
    {
     "name": "stdout",
     "output_type": "stream",
     "text": [
      "Processing time: 538.682555 in sec\n"
     ]
    },
    {
     "data": {
      "image/png": "[encoded data removed]",
      "text/plain": [
       "<matplotlib.figure.Figure at 0x7f385012df90>"
      ]
     },
     "metadata": {},
     "output_type": "display_data"
    },
    {
     "data": {
      "image/png": "[encoded data removed]",
      "text/plain": [
       "<matplotlib.figure.Figure at 0x7f3851766350>"
      ]
     },
     "metadata": {},
     "output_type": "display_data"
    }
   ],
   "source": [
    "kfold=3\n",
    "\n",
    "if train_1.Var_missing[0] in train_1.data.columns:\n",
    "    train_1.missing_features_data()\n",
    "    \n",
    "values=[100 + i*10 for i in range(30)]\n",
    "model_1=RandomForest_Autotunner(values)\n",
    "\n",
    "model_1.tunning(train_1.data[train_1.names],train_1.data[\"label\"],kfold,plot=True,fit_new_model=True)\n",
    "plt.show()\n",
    "\n",
    "model_1.cm_normalized = model_1.cm.astype('float') / model_1.cm.sum(axis=1)[:, np.newaxis]\n",
    "\n",
    "plot_matrix(model_1.cm_normalized,title=\"Normalized confusion matrix\",names=[\"M\",\"O\",\"S\"])\n",
    "plt.show()"
   ]
  },
  {
   "cell_type": "markdown",
   "metadata": {},
   "source": [
    "# <a name=\"Fusion\"></a> Predicting and regrouping the first predictor and the 3 state predictor\n",
    "\n",
    "Because we have too few instances in phase M, we used the first classifier. This classifier has priority over the first prediction as it the H2B marker is meant to be informative about the Mitosis events."
   ]
  },
  {
   "cell_type": "code",
   "execution_count": 19,
   "metadata": {
    "collapsed": false
   },
   "outputs": [
    {
     "name": "stdout",
     "output_type": "stream",
     "text": [
      "Updated member Group_of_traj\n",
      "Updated member Group_of_traj\n",
      "Frequency of predicted values for the Mitosis or not classifier: \n",
      "\n",
      "O    14762\n",
      "S    14204\n",
      "M      848\n",
      "Name: MitoseOrNot, dtype: int64\n",
      "\n",
      " We were however not able to predict 0 instances because of missing values\n",
      "Updated member Group_of_traj\n",
      "training dataset: \n",
      "\n",
      "S    217\n",
      "1    199\n",
      "2     56\n",
      "Name: Type, dtype: int64\n",
      "Processing time: 51.060756 in sec\n"
     ]
    },
    {
     "data": {
      "image/png": "[encoded data removed]",
      "text/plain": [
       "<matplotlib.figure.Figure at 0x7f3850e05090>"
      ]
     },
     "metadata": {},
     "output_type": "display_data"
    },
    {
     "name": "stdout",
     "output_type": "stream",
     "text": [
      "We now have a classifier with n=260, with an expected accuracy of 0.758 for the normalized data. \n",
      "\n"
     ]
    },
    {
     "data": {
      "image/png": "[encoded data removed]",
      "text/plain": [
       "<matplotlib.figure.Figure at 0x7f38509b3650>"
      ]
     },
     "metadata": {},
     "output_type": "display_data"
    },
    {
     "name": "stdout",
     "output_type": "stream",
     "text": [
      "Frequency of predicted values for the 3 state classifier: \n",
      "\n",
      "1    15998\n",
      "S    12509\n",
      "2     1307\n",
      "Name: 3State, dtype: int64\n"
     ]
    }
   ],
   "source": [
    "## To reduce computation and none useless things, we remove instances that do not belong to trajectories.\n",
    "\n",
    "index_traj=pd.notnull(H2b_n_m.data[\"traj\"])\n",
    "H2b_n_m.data=H2b_n_m.data.ix[index_traj,H2b_n_m.data.columns]\n",
    "H2b.data=H2b.data.ix[index_traj,H2b.data.columns]\n",
    "\n",
    "H2b_n_m.update()\n",
    "H2b.update()\n",
    "## Predicting model 1\n",
    "\n",
    "index_no_missing=H2b_n_m.data[H2b_n_m.names].dropna(axis=0, how='any').index\n",
    "H2b_n_m.data.ix[index_no_missing,\"MitoseOrNot\"]=model_1.predict(H2b.data.ix[index_no_missing,train_1.names]) \n",
    "## Carefull, we put the unnormalized data in the above prediction.\n",
    "\n",
    "print \"Frequency of predicted values for the Mitosis or not classifier: \\n\"\n",
    "print H2b_n_m.data[\"MitoseOrNot\"].value_counts()\n",
    "print \"\\n We were however not able to predict %d instances because of missing values\" % (H2b_n_m.data.shape[0]-len(index_no_missing))\n",
    "\n",
    "H2b_n_m.data\n",
    "\n",
    "H2b_n_m.update()\n",
    "\n",
    "##We have to retrain the model for the normalized version as this one was trained with the class M\n",
    "\n",
    "index_no_M=H2b_n_m.data[\"Type\"]!=\"M\"\n",
    "\n",
    "print \"training dataset: \\n\"\n",
    "print H2b_n_m.train.ix[index_no_M,\"Type\"].value_counts()\n",
    "\n",
    "\n",
    "values=[100 + i*10 for i in range(30)]\n",
    "model_n_m=RandomForest_Autotunner(values)\n",
    "\n",
    "model_n_m.tunning(H2b_n_m.train.ix[index_no_M,H2b_n_m.names],H2b_n_m.train.ix[index_no_M,\"Type\"],kfold,plot=True,fit_new_model=True)\n",
    "plt.show()\n",
    "\n",
    "i_=np.argmax(model_n_m.MSE)\n",
    "n_tree=values[i_]\n",
    "print \"We now have a classifier with n=%d, with an expected accuracy of %5.3f for the normalized data. \\n\" %(n_tree,max(model_n_m.MSE))\n",
    "\n",
    "model_n_m.cm_normalized = model_n_m.cm.astype('float') / model_n_m.cm.sum(axis=1)[:, np.newaxis]\n",
    "plot_matrix(model_n_m.cm_normalized,title=\"Normalized confusion matrix\",names=[\"G1\",\"G2\",\"S\"])\n",
    "plt.show()\n",
    "\n",
    "H2b_n_m.data.ix[index_no_missing,\"3State\"]=model_n_m.predict(H2b_n_m.data.ix[index_no_missing,H2b_n_m.names])\n",
    "print \"Frequency of predicted values for the 3 state classifier: \\n\"\n",
    "print H2b_n_m.data.ix[index_no_missing,\"3State\"].value_counts()\n",
    "\n",
    "\n"
   ]
  },
  {
   "cell_type": "code",
   "execution_count": 20,
   "metadata": {
    "collapsed": false
   },
   "outputs": [
    {
     "name": "stdout",
     "output_type": "stream",
     "text": [
      "Frequency of predicted values for the 4 state classifier: \n",
      "\n",
      "1    15153\n",
      "S    12506\n",
      "2     1307\n",
      "M      848\n",
      "Name: Pred_Fusion, dtype: int64\n",
      "Updated member Group_of_traj\n"
     ]
    }
   ],
   "source": [
    "### Giving priority to the first classif...\n",
    "def f(value_1,value_2):\n",
    "    if value_1==\"M\":\n",
    "        return(value_1)\n",
    "    else:\n",
    "        return(value_2)\n",
    "H2b_n_m.data[\"Pred_Fusion\"]=H2b_n_m.data.apply(lambda r: f(r[\"MitoseOrNot\"],r[\"3State\"]),axis=1)\n",
    "\n",
    "print \"Frequency of predicted values for the 4 state classifier: \\n\"\n",
    "print H2b_n_m.data.ix[index_no_missing,\"Pred_Fusion\"].value_counts()\n",
    "H2b_n_m.update()"
   ]
  },
  {
   "cell_type": "markdown",
   "metadata": {},
   "source": [
    "# Hidden Markov Model"
   ]
  },
  {
   "cell_type": "code",
   "execution_count": 21,
   "metadata": {
    "collapsed": true
   },
   "outputs": [],
   "source": [
    "##First we are going to seperate beginning M's and ending M's\n",
    "for i in range(len(H2b_n_m.trajectories)):\n",
    "    new_obs=np.array(H2b_n_m.data.ix[H2b_n_m.data[\"traj\"]==i,\"Pred_Fusion\"])\n",
    "    n_obs=len(new_obs)\n",
    "    for j in range(n_obs/2):\n",
    "        if new_obs[j]=='M':\n",
    "            new_obs[j]='B'  #Beginning\n",
    "    H2b_n_m.data.ix[H2b_n_m.data[\"traj\"]==i,\"Pred_Fusion\"]=new_obs\n",
    "H2b_n_m.data.ix[H2b_n_m.data[\"Pred_Fusion\"]=='M',\"Pred_Fusion\"]='E' #Ending\n"
   ]
  },
  {
   "cell_type": "markdown",
   "metadata": {},
   "source": [
    "* What should we put as a emission state probability matrix?"
   ]
  },
  {
   "cell_type": "code",
   "execution_count": 44,
   "metadata": {
    "collapsed": false
   },
   "outputs": [
    {
     "data": {
      "image/png": "[encoded data removed]",
      "text/plain": [
       "<matplotlib.figure.Figure at 0x7f3851981ed0>"
      ]
     },
     "metadata": {},
     "output_type": "display_data"
    }
   ],
   "source": [
    "X3=model_n_m.cm_normalized\n",
    "X3=np.array([X3[0],X3[2],X3[1]])\n",
    "X3=X3.T\n",
    "X3=np.array([X3[0],X3[2],X3[1]])\n",
    "X3=X3.T\n",
    "\n",
    "EmissionMat=np.zeros(shape=(5,5))\n",
    "EmissionMat[0,0]=model_1.cm_normalized[0,0]\n",
    "EmissionMat[4,4]=model_1.cm_normalized[0,0]\n",
    "EmissionMat[1:5,0]=(1-model_1.cm_normalized[0,0])/3\n",
    "EmissionMat[0:4,4]=(1-model_1.cm_normalized[0,0])/3\n",
    "\n",
    "### Bricolage\n",
    "\n",
    "EmissionMat[1:4,1:4]=X3\n",
    "EmissionMat[1:4,1:3]+=-EmissionMat[3,0]*2/3\n",
    "\n",
    "### On modifie car la diag n'est pas assez bonne...\n",
    "EmissionMat[3,2:4]=[0.4,0.5]\n",
    "\n",
    "EmissionMat[0,1:4]=sum(model_1.cm_normalized[0,1:3])/3\n",
    "EmissionMat[4,1:4]=sum(model_1.cm_normalized[0,1:3])/3\n",
    "\n",
    "EmissionMat=abs(EmissionMat).astype('float') / abs(EmissionMat).sum(axis=1)[:, np.newaxis]\n",
    "## Put something better then abs... \n",
    "\n",
    "plot_matrix(EmissionMat,title=\"Emission matrix\",names=[\"M_B\",\"G1\",\"S\",\"G2\",\"M_E\"])\n",
    "plt.show()\n",
    "\n",
    "H2b_n_m.data=H2b_n_m.data.sort_values(['traj', num_str+\"_id_frame\"], ascending=[1, 1])\n",
    "\n",
    "data=H2b_n_m.data.ix[pd.notnull(H2b_n_m.data[\"traj\"]),[\"traj\",\"Pred_Fusion\"]]\n",
    "\n",
    "\n",
    "data.ix[data.Pred_Fusion=='2',\"Pred_Fusion\"]=\"4\"\n",
    "data.ix[data.Pred_Fusion=='1',\"Pred_Fusion\"]=\"2\"\n",
    "data.ix[data.Pred_Fusion=='B',\"Pred_Fusion\"]=\"1\"\n",
    "data.ix[data.Pred_Fusion=='E',\"Pred_Fusion\"]=\"5\"\n",
    "data.ix[data.Pred_Fusion=='S',\"Pred_Fusion\"]=\"3\"\n",
    "\n",
    "%Rpush EmissionMat\n",
    "%Rpush data "
   ]
  },
  {
   "cell_type": "code",
   "execution_count": 46,
   "metadata": {
    "collapsed": false
   },
   "outputs": [
    {
     "data": {
      "text/plain": [
       "[1] \"To assess briefly what is happening, we printed a sequence of observation, sequence number: 0\"\n",
       "  [1] 1 2 2 2 2 2 2 2 2 2 2 2 2 2 2 2 2 2 2 2 2 2 2 2 2 2 2 2 2 2 2 2 2 2 2 2 2\n",
       " [38] 2 2 2 2 2 2 2 2 2 2 2 2 2 2 2 2 2 2 2 2 2 3 2 2 2 2 2 2 3 2 3 2 3 3 3 2 2\n",
       " [75] 2 3 3 3 3 3 3 2 3 3 2 3 2 2 3 2 2 2 3 3 3 3 3 3 3 3 3 3 3 3 3 3 3 3 3 3 3\n",
       "[112] 3 3 3 3 3 3 3 3 3 3 3 3 3 3 3 3 3 3 3 3 3 3 3 3 3 3 3 3 3 3 4 3 3 3 3 3 4\n",
       "[149] 3 3 3 3 3 3 3 3 4 3 3 4 4 3 3 3 3 3 4 3 3 4 4 3 3 3 4 4 4 4 4 3 5 5 5 5 2\n",
       "Levels: 1 2 3 4 5\n"
      ]
     },
     "metadata": {},
     "output_type": "display_data"
    }
   ],
   "source": [
    "%%R \n",
    "obs_number=0\n",
    "print(paste(\"To assess briefly what is happening, we printed a sequence of observation, sequence number:\",toString(obs_number) ))\n",
    "\n",
    "library(HMM)\n",
    "trans=list()  #List of outputs\n",
    "emi=list()    \n",
    "\n",
    "emission_matrix=EmissionMat\n",
    "transition_prior=t(matrix(c(  .7  , .27 , .01 , .01 , .01\n",
    "                            , .01 , .7  , .27 , .01 , .01\n",
    "                            , .01 , .01 , .7  , .27 , .01\n",
    "                            , .01 , .01 , .01 , .7  , .27\n",
    "                            , .01 , .01 , .01 , .01  , 0.96 ),5)) \n",
    "\n",
    "startProbs=c(0.3, 0.7, 0.0, 0.0, 0.0)\n",
    "\n",
    "hmm = initHMM(c(\"1\",\"2\",\"3\",\"4\",\"5\"),c(\"1\",\"2\",\"3\",\"4\",\"5\"),\n",
    "              transProbs=transition_prior,\n",
    "              emissionProbs=emission_matrix\n",
    "              ,startProbs=startProbs)\n",
    "\n",
    "\n",
    "n_traj=max(data$traj)\n",
    "j=1\n",
    "for (i in 0:(n_traj-1)){\n",
    "    obs=data[data$traj==i,\"Pred_Fusion\"]\n",
    "    if (i==obs_number){\n",
    "        test=obs\n",
    "        print(test)\n",
    "    }\n",
    "    \n",
    "    hmm = initHMM(c(\"1\",\"2\",\"3\",\"4\",\"5\"),c(\"1\",\"2\",\"3\",\"4\",\"5\"),\n",
    "                  startProbs=startProbs,\n",
    "                  emissionProbs=emission_matrix,\n",
    "                  transProbs=transition_prior)\n",
    "    bw=try(baumWelch(hmm,observation=obs,10),silent = TRUE)\n",
    "    if (!(inherits(bw, \"try-error\"))){\n",
    "      trans[[j]]=bw$hmm$transProbs\n",
    "      emi[[j]]=bw$hmm$emissionProbs\n",
    "      j=j+1  \n",
    "    }\n",
    "}\n",
    "\n",
    "mean_t=matrix(0,ncol=5,nrow=5)\n",
    "mean_e=matrix(0,ncol=5,nrow=5)\n",
    "for (i in 1:length(trans)){\n",
    "  mean_t=mean_t+trans[[i]]\n",
    "  mean_e=mean_e+emi[[i]]\n",
    "}\n",
    "mean_t=mean_t/length(trans)\n",
    "mean_e=mean_e/length(trans)\n",
    "\n",
    "var_t=matrix(0,ncol=5,nrow=5)\n",
    "var_e=matrix(0,ncol=5,nrow=5)\n",
    "\n",
    "for (i in 1:length(trans)){\n",
    "  var_t=var_t+(trans[[i]]-mean_t)*(trans[[i]]-mean_t)\n",
    "  var_e=var_e+(emi[[i]]-mean_e)*(emi[[i]]-mean_e)\n",
    "}\n",
    "var_t=var_t/length(trans)\n",
    "var_e=var_e/length(trans)"
   ]
  },
  {
   "cell_type": "code",
   "execution_count": 47,
   "metadata": {
    "collapsed": false
   },
   "outputs": [
    {
     "data": {
      "image/png": "[encoded data removed]",
      "text/plain": [
       "<matplotlib.figure.Figure at 0x7f384f93c4d0>"
      ]
     },
     "metadata": {},
     "output_type": "display_data"
    },
    {
     "data": {
      "image/png": "[encoded data removed]",
      "text/plain": [
       "<matplotlib.figure.Figure at 0x7f3850785c90>"
      ]
     },
     "metadata": {},
     "output_type": "display_data"
    },
    {
     "data": {
      "image/png": "[encoded data removed]",
      "text/plain": [
       "<matplotlib.figure.Figure at 0x7f3851af4b90>"
      ]
     },
     "metadata": {},
     "output_type": "display_data"
    },
    {
     "data": {
      "image/png": "[encoded data removed]",
      "text/plain": [
       "<matplotlib.figure.Figure at 0x7f382dae0990>"
      ]
     },
     "metadata": {},
     "output_type": "display_data"
    }
   ],
   "source": [
    "%Rpull mean_t mean_e var_t var_e\n",
    "plot_matrix(mean_t,title=\"Transition matrix\",names=[\"M_B\",\"G1\",\"S\",\"G2\",\"M_E\"],cmap=plt.cm.Oranges)\n",
    "plt.show()\n",
    "plot_matrix(var_t,title=\"Variance of coefficents in the transition matrix\",names=[\"M_B\",\"G1\",\"S\",\"G2\",\"M_E\"],cmap=plt.cm.OrRd)\n",
    "plt.show()\n",
    "plot_matrix(mean_e,title=\"Emission matrix\",names=[\"M_B\",\"G1\",\"S\",\"G2\",\"M_E\"])\n",
    "plt.show()\n",
    "plot_matrix(var_e,title=\"Variance of coefficents in the emission matrix\",names=[\"M_B\",\"G1\",\"S\",\"G2\",\"M_E\"],cmap=plt.cm.OrRd)\n",
    "plt.show()"
   ]
  },
  {
   "cell_type": "code",
   "execution_count": 48,
   "metadata": {
    "collapsed": false
   },
   "outputs": [
    {
     "data": {
      "text/plain": [
       "[1] \"To assess briefly what is happening, we printed a sequence of observation, sequence number: 2\"\n",
       "  [1] 1 1 1 2 2 2 2 2 2 2 2 2 2 2 2 2 2 2 2 2 2 2 2 2 2 2 2 2 2 2 2 2 2 2 2 2 2\n",
       " [38] 2 2 2 2 2 2 2 2 2 2 2 2 2 2 2 2 2 2 2 2 2 2 2 2 2 2 2 2 2 2 2 2 2 3 3 2 2\n",
       " [75] 2 2 2 2 2 2 3 3 3 3 3 3 3 3 3 3 3 3 3 3 3 3 3 3 3 3 3 3 3 3 3 3 3 3 3 3 3\n",
       "[112] 3 3 3 3 3 3 3 3 3 3 3 3 3 3 3 3 3 3 3 3 3 3 3 3 3 3 3 3 3 3 3 3 3 3 3 3 3\n",
       "[149] 3 3 3 3 3 3 3 3 3 3 3 3 3 3 3 4 3 3 3 3 3 3 3 4 3 3 3 3 3 3 3 4 4 3 3 3 4\n",
       "[186] 4 4 4 5 5 2 2\n",
       "Levels: 1 2 3 4 5\n",
       "  [1] 1 1 1 2 2 2 2 2 2 2 2 2 2 2 2 2 2 2 2 2 2 2 2 2 2 2 2 2 2 2 2 2 2 2 2 2 2\n",
       " [38] 2 2 2 2 2 2 2 2 2 2 2 2 2 2 2 2 2 2 2 2 2 2 2 2 2 2 2 2 2 2 2 2 2 2 2 2 2\n",
       " [75] 2 2 2 2 2 2 3 3 3 3 3 3 3 3 3 3 3 3 3 3 3 3 3 3 3 3 3 3 3 3 3 3 3 3 3 3 3\n",
       "[112] 3 3 3 3 3 3 3 3 3 3 3 3 3 3 3 3 3 3 3 3 3 3 3 3 3 3 3 3 3 3 3 3 3 3 3 3 3\n",
       "[149] 3 3 3 3 3 3 3 3 3 3 3 3 3 3 3 3 3 3 3 3 3 3 3 3 3 3 3 3 3 3 3 4 4 4 4 4 4\n",
       "[186] 4 4 4 5 5 5 5\n"
      ]
     },
     "metadata": {},
     "output_type": "display_data"
    }
   ],
   "source": [
    "%%R \n",
    "obs_number=2\n",
    "\n",
    "ligne1=mean_t[1,1]+mean_t[1,2]\n",
    "ligne2=mean_t[2,2]+mean_t[2,3]\n",
    "ligne3=mean_t[3,3]+mean_t[3,4]\n",
    "ligne4=mean_t[4,4]+mean_t[4,5]\n",
    "\n",
    "transProbs=t(matrix(c(mean_t[1,1]/ligne1  , mean_t[1,2]/ligne1    ,0                 , 0                 ,0\n",
    "                      , 0                 , mean_t[2,2]/ligne2    ,mean_t[2,3]/ligne2, 0                 ,0\n",
    "                      , 0                 , 0                     ,mean_t[3,3]/ligne3, mean_t[3,4]/ligne3,0\n",
    "                      , 0                 , 0                     ,0                 , mean_t[4,4]/ligne4,mean_t[4,5]/ligne4\n",
    "                      , 0                 , 0                     ,0                 , 0                 ,1 ),5))\n",
    "startProbs=c(0.3, 0.7, 0.0, 0.0, 0.0)\n",
    "\n",
    "hmm = initHMM(c(\"1\",\"2\",\"3\",\"4\",\"5\"),c(\"1\",\"2\",\"3\",\"4\",\"5\"),\n",
    "              transProbs=transProbs,\n",
    "              emissionProbs=emission_matrix  ##We still keep the confusion matrix of the first classification\n",
    "              ,startProbs=startProbs)\n",
    "\n",
    "print(paste(\"To assess briefly what is happening, we printed a sequence of observation, sequence number:\",toString(obs_number) ))\n",
    "\n",
    "for (i in 0:(n_traj-1)){\n",
    "  obs=data[data$traj==i,\"Pred_Fusion\"]\n",
    "  new_obs=as.integer(viterbi(hmm,observation=obs))\n",
    "  data[data$traj==i,\"HMM\"]=new_obs\n",
    "  if (i==obs_number){\n",
    "      print(obs)\n",
    "      print(new_obs)\n",
    "  }\n",
    "}\n"
   ]
  },
  {
   "cell_type": "code",
   "execution_count": 54,
   "metadata": {
    "collapsed": true
   },
   "outputs": [],
   "source": [
    "## If needed...\n",
    "H2b_n_m.data=H2b_n_m.data.drop(\"HMM\",axis=1)"
   ]
  },
  {
   "cell_type": "code",
   "execution_count": 55,
   "metadata": {
    "collapsed": false
   },
   "outputs": [
    {
     "name": "stdout",
     "output_type": "stream",
     "text": [
      "Updated member Group_of_traj\n",
      "       traj Type MitoseOrNot 3State Pred_Fusion HMM\n",
      "24128    18    2           S      2           2   2\n",
      "25215    40    S           S      S           S   S\n",
      "19725     4    2           S      2           2   2\n",
      "20829    57    1           S      1           1   1\n",
      "25268    75    1           O      1           1   1\n",
      "To quickly asses we print the trajectory and his corrected trajectory, for sequence number:2\n",
      "Pred_Fusion: \n",
      "\n",
      "['B' 'B' 'B' '1' '1' '1' '1' '1' '1' '1' '1' '1' '1' '1' '1' '1' '1' '1'\n",
      " '1' '1' '1' '1' '1' '1' '1' '1' '1' '1' '1' '1' '1' '1' '1' '1' '1' '1'\n",
      " '1' '1' '1' '1' '1' '1' '1' '1' '1' '1' '1' '1' '1' '1' '1' '1' '1' '1'\n",
      " '1' '1' '1' '1' '1' '1' '1' '1' '1' '1' '1' '1' '1' '1' '1' '1' 'S' 'S'\n",
      " '1' '1' '1' '1' '1' '1' '1' '1' 'S' 'S' 'S' 'S' 'S' 'S' 'S' 'S' 'S' 'S'\n",
      " 'S' 'S' 'S' 'S' 'S' 'S' 'S' 'S' 'S' 'S' 'S' 'S' 'S' 'S' 'S' 'S' 'S' 'S'\n",
      " 'S' 'S' 'S' 'S' 'S' 'S' 'S' 'S' 'S' 'S' 'S' 'S' 'S' 'S' 'S' 'S' 'S' 'S'\n",
      " 'S' 'S' 'S' 'S' 'S' 'S' 'S' 'S' 'S' 'S' 'S' 'S' 'S' 'S' 'S' 'S' 'S' 'S'\n",
      " 'S' 'S' 'S' 'S' 'S' 'S' 'S' 'S' 'S' 'S' 'S' 'S' 'S' 'S' 'S' 'S' 'S' 'S'\n",
      " 'S' '2' 'S' 'S' 'S' 'S' 'S' 'S' 'S' '2' 'S' 'S' 'S' 'S' 'S' 'S' 'S' '2'\n",
      " '2' 'S' 'S' 'S' '2' '2' '2' '2' 'E' 'E' '1' '1']\n",
      "\n",
      " Corrected HMM: \n",
      "\n",
      "['M' 'M' 'M' '1' '1' '1' '1' '1' '1' '1' '1' '1' '1' '1' '1' '1' '1' '1'\n",
      " '1' '1' '1' '1' '1' '1' '1' '1' '1' '1' '1' '1' '1' '1' '1' '1' '1' '1'\n",
      " '1' '1' '1' '1' '1' '1' '1' '1' '1' '1' '1' '1' '1' '1' '1' '1' '1' '1'\n",
      " '1' '1' '1' '1' '1' '1' '1' '1' '1' '1' '1' '1' '1' '1' '1' '1' '1' '1'\n",
      " '1' '1' '1' '1' '1' '1' '1' '1' 'S' 'S' 'S' 'S' 'S' 'S' 'S' 'S' 'S' 'S'\n",
      " 'S' 'S' 'S' 'S' 'S' 'S' 'S' 'S' 'S' 'S' 'S' 'S' 'S' 'S' 'S' 'S' 'S' 'S'\n",
      " 'S' 'S' 'S' 'S' 'S' 'S' 'S' 'S' 'S' 'S' 'S' 'S' 'S' 'S' 'S' 'S' 'S' 'S'\n",
      " 'S' 'S' 'S' 'S' 'S' 'S' 'S' 'S' 'S' 'S' 'S' 'S' 'S' 'S' 'S' 'S' 'S' 'S'\n",
      " 'S' 'S' 'S' 'S' 'S' 'S' 'S' 'S' 'S' 'S' 'S' 'S' 'S' 'S' 'S' 'S' 'S' 'S'\n",
      " 'S' 'S' 'S' 'S' 'S' 'S' 'S' 'S' 'S' 'S' 'S' 'S' 'S' 'S' 'S' 'S' 'S' '2'\n",
      " '2' '2' '2' '2' '2' '2' '2' '2' 'M' 'M' 'M' 'M']\n"
     ]
    }
   ],
   "source": [
    "%Rpull data\n",
    "\n",
    "data.ix[data.HMM==1,\"HMM\"]=\"M\"\n",
    "data.ix[data.HMM==2,\"HMM\"]=\"1\"\n",
    "data.ix[data.HMM==3,\"HMM\"]=\"S\"\n",
    "data.ix[data.HMM==4,\"HMM\"]=\"2\"\n",
    "data.ix[data.HMM==5,\"HMM\"]=\"M\"\n",
    "to_join=pd.Series(data[\"HMM\"])\n",
    "to_join.index=[int(el) for el in to_join.index]\n",
    "\n",
    "H2b_n_m.data=H2b_n_m.data.join(to_join)\n",
    "H2b_n_m.update()\n",
    "\n",
    "\n",
    "print H2b_n_m.train.ix[_rand_index_train,[\"traj\",\"Type\",\"MitoseOrNot\",\"3State\",\"Pred_Fusion\",\"HMM\"]]\n",
    "\n",
    "\n",
    "obs_number=2\n",
    "i=0\n",
    "G1=[]\n",
    "S=[]\n",
    "G2=[]\n",
    "CC=[]\n",
    "print \"To quickly asses we print the trajectory and his corrected trajectory, for sequence number:\" + str(obs_number)\n",
    "for el in H2b_n_m.Group_of_traj:\n",
    "    new_obs=el[1][\"HMM\"]\n",
    "    if i==obs_number:\n",
    "        test=np.array(el[1][\"Pred_Fusion\"])\n",
    "        test_hmm=np.array(el[1][\"HMM\"])\n",
    "        print \"Pred_Fusion: \\n\"\n",
    "        print test\n",
    "        print \"\\n Corrected HMM: \\n\"\n",
    "        print test_hmm\n",
    "    i+=1\n",
    "    if not check_rotate(new_obs):\n",
    "        G1.append(Measure(new_obs,'1',_last=True))\n",
    "        S.append(Measure(new_obs,'S',_last=True,_first=True))\n",
    "        G2.append(Measure(new_obs,'2',_first=True))\n",
    "        CC.append(Measure(new_obs,'M'))\n",
    "    elif not check_rotate(new_obs[:-1]):\n",
    "        G1.append(Measure(new_obs[:-1],'1',_last=True))\n",
    "        S.append(Measure(new_obs[:-1],'S',_last=True,_first=True))\n",
    "        G2.append(Measure(new_obs[:-1],'2',_first=True))\n",
    "        CC.append(Measure(new_obs[:-1],'M'))\n",
    "    elif not check_rotate(new_obs[:-2]):\n",
    "        G1.append(Measure(new_obs[:-2],'1',_last=True))\n",
    "        S.append(Measure(new_obs[:-2],'S',_last=True,_first=True))\n",
    "        G2.append(Measure(new_obs[:-2],'2',_first=True))\n",
    "        CC.append(Measure(new_obs[:-2],'M'))\n",
    "    else:\n",
    "        G1.append(-1)\n",
    "        S.append(-1)\n",
    "        G2.append(-1)\n",
    "        CC.append(-1)\n",
    "        \n",
    "from numpy import mean,std\n",
    "ratio=5.9/60\n",
    "G1_p=[el*ratio for el in G1 if el>-1]\n",
    "S_p= [el*ratio for el in S  if el>-1]\n",
    "G2_p=[el*ratio for el in G2 if el>-1]\n",
    "CC_p=[el*ratio for el in CC if el>-1] \n",
    "res = {'mean' : pd.Series([mean(G1_p), mean(S_p), mean(G2_p),mean(CC_p)], index=['G1', 'S', 'G2','CellCycle']),\n",
    "'Standard deviation' : pd.Series([std(G1_p),std(S_p),std(G2_p),std(CC_p)], index=['G1', 'S', 'G2','CellCycle']),\n",
    "'Accepted trajectories': pd.Series([len(G1_p),len(S_p),len(G2_p),len(CC_p)], index=['G1', 'S', 'G2','CellCycle'])\n",
    "      }"
   ]
  },
  {
   "cell_type": "markdown",
   "metadata": {},
   "source": [
    "# Results of classification"
   ]
  },
  {
   "cell_type": "code",
   "execution_count": 58,
   "metadata": {
    "collapsed": false
   },
   "outputs": [
    {
     "name": "stdout",
     "output_type": "stream",
     "text": [
      "S    217\n",
      "1    199\n",
      "2     56\n",
      "M     36\n",
      "Name: Type, dtype: int64\n",
      "We reach an accuracy of 0.886 \n",
      "\n"
     ]
    },
    {
     "data": {
      "image/png": "[encoded data removed]",
      "text/plain": [
       "<matplotlib.figure.Figure at 0x7f384f68bbd0>"
      ]
     },
     "metadata": {},
     "output_type": "display_data"
    }
   ],
   "source": [
    "from sklearn.metrics import confusion_matrix\n",
    "\n",
    "temp_X=H2b_n_m.train.ix[pd.notnull(H2b_n_m.train[\"HMM\"]),[\"HMM\",\"Type\"]]\n",
    "print temp_X[\"Type\"].value_counts()\n",
    "cm=confusion_matrix(temp_X.Type,temp_X.HMM)\n",
    "\n",
    "print \"We reach an accuracy of %5.3f \\n\" %(float(cm.trace())/cm.sum())\n",
    "\n",
    "cm_normalized = cm.astype('float') / cm.sum(axis=1)[:, np.newaxis]\n",
    "\n",
    "plot_matrix(cm_normalized,title=\"Confusion matrix for the HMM classification\")"
   ]
  },
  {
   "cell_type": "markdown",
   "metadata": {},
   "source": [
    "Most of the errors are made between S and G2, if we regroup them we achieve these results."
   ]
  },
  {
   "cell_type": "code",
   "execution_count": 67,
   "metadata": {
    "collapsed": false
   },
   "outputs": [
    {
     "name": "stdout",
     "output_type": "stream",
     "text": [
      "T    273\n",
      "1    199\n",
      "M     36\n",
      "Name: Type, dtype: int64\n",
      "We reach an accuracy of 0.947 \n",
      "\n"
     ]
    },
    {
     "data": {
      "image/png": "[encoded data removed]",
      "text/plain": [
       "<matplotlib.figure.Figure at 0x7f382d3b2d10>"
      ]
     },
     "metadata": {},
     "output_type": "display_data"
    }
   ],
   "source": [
    "temp_X=H2b_n_m.train.ix[pd.notnull(H2b_n_m.train[\"HMM\"]),[\"HMM\",\"Type\"]]\n",
    "\n",
    "temp_X.ix[temp_X.Type==\"S\",\"Type\"]=\"T\" #Together\n",
    "temp_X.ix[temp_X.HMM==\"S\",\"HMM\"]=\"T\"\n",
    "temp_X.ix[temp_X.Type==\"2\",\"Type\"]=\"T\"\n",
    "temp_X.ix[temp_X.HMM==\"2\",\"HMM\"]=\"T\"\n",
    "\n",
    "\n",
    "print temp_X[\"Type\"].value_counts()\n",
    "\n",
    "\n",
    "cm=confusion_matrix(temp_X.Type,temp_X.HMM)\n",
    "\n",
    "print \"We reach an accuracy of %5.3f \\n\" %(float(cm.trace())/cm.sum())\n",
    "\n",
    "cm_normalized = cm.astype('float') / cm.sum(axis=1)[:, np.newaxis]\n",
    "\n",
    "plot_matrix(cm_normalized,title=\"Confusion matrix for the HMM classification\",names=[\"G1\",\"M\",\"S&G2\"])"
   ]
  },
  {
   "cell_type": "markdown",
   "metadata": {},
   "source": [
    "Our classifier seems to seperate correctly phases G1 and S."
   ]
  },
  {
   "cell_type": "markdown",
   "metadata": {},
   "source": [
    "# Time analysis of cell cycle phases\n"
   ]
  },
  {
   "cell_type": "code",
   "execution_count": 57,
   "metadata": {
    "collapsed": false
   },
   "outputs": [
    {
     "name": "stdout",
     "output_type": "stream",
     "text": [
      "With only M: \n",
      "\n"
     ]
    },
    {
     "data": {
      "text/html": [
       "<div>\n",
       "<table border=\"1\" class=\"dataframe\">\n",
       "  <thead>\n",
       "    <tr style=\"text-align: right;\">\n",
       "      <th></th>\n",
       "      <th>Accepted trajectories</th>\n",
       "      <th>Standard deviation</th>\n",
       "      <th>mean</th>\n",
       "    </tr>\n",
       "  </thead>\n",
       "  <tbody>\n",
       "    <tr>\n",
       "      <th>G1</th>\n",
       "      <td>163</td>\n",
       "      <td>3.915669</td>\n",
       "      <td>7.130072</td>\n",
       "    </tr>\n",
       "    <tr>\n",
       "      <th>S</th>\n",
       "      <td>101</td>\n",
       "      <td>3.158472</td>\n",
       "      <td>8.131485</td>\n",
       "    </tr>\n",
       "    <tr>\n",
       "      <th>G2</th>\n",
       "      <td>101</td>\n",
       "      <td>2.173191</td>\n",
       "      <td>1.712558</td>\n",
       "    </tr>\n",
       "    <tr>\n",
       "      <th>CellCycle</th>\n",
       "      <td>101</td>\n",
       "      <td>2.271532</td>\n",
       "      <td>17.224884</td>\n",
       "    </tr>\n",
       "  </tbody>\n",
       "</table>\n",
       "</div>"
      ],
      "text/plain": [
       "           Accepted trajectories  Standard deviation       mean\n",
       "G1                           163            3.915669   7.130072\n",
       "S                            101            3.158472   8.131485\n",
       "G2                           101            2.173191   1.712558\n",
       "CellCycle                    101            2.271532  17.224884"
      ]
     },
     "execution_count": 57,
     "metadata": {},
     "output_type": "execute_result"
    }
   ],
   "source": [
    "print \"With only M: \\n\"\n",
    "pd.DataFrame(res)"
   ]
  },
  {
   "cell_type": "markdown",
   "metadata": {},
   "source": [
    "The time for G1 is the same as the time extracted from the PCNA fluorescent marker. This confirms that we feel that we can seperate G1 and S."
   ]
  }
 ],
 "metadata": {
  "kernelspec": {
   "display_name": "Python 2",
   "language": "python",
   "name": "python2"
  },
  "language_info": {
   "codemirror_mode": {
    "name": "ipython",
    "version": 2
   },
   "file_extension": ".py",
   "mimetype": "text/x-python",
   "name": "python",
   "nbconvert_exporter": "python",
   "pygments_lexer": "ipython2",
   "version": "2.7.10"
  }
 },
 "nbformat": 4,
 "nbformat_minor": 0
}
