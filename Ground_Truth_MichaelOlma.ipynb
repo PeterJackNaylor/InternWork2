{
 "cells": [
  {
   "cell_type": "markdown",
   "metadata": {},
   "source": [
    "# Finding the ground truth about Michael Olma Dataset.\n",
    "We will present here, the data used for the training set and how many of the parameters are tunned.\n",
    "\n",
    "\n",
    "## Plan général\n",
    "\n",
    "* <a href=\"#PCNA\">Analysing Michael Olma data set with the PCNA fluorescent markers</a>\n",
    "    * <a href=\"#extraction\">Getting the data and naive classification</a>\n",
    "        * <a href=\"#firstpeak\">First peaks at the data set</a>\n",
    "        * <a href=\"#RFClassif\">Random Forest Classifier</a>\n",
    "        * <a href=\"#Results\"> Results of the random forest classifier</a>\n",
    "        * <a href=\"#Conclusion\"> Conclusion of the random forest and next work</a>\n",
    "    * <a href=\"#Hidden markov model\">Hidden markov models</a>\n",
    "        * <a href=\"#R\"> working under R </a>\n",
    "        * <a href=\"#Tunning\"> Tunning thanks to baumWelch</a>\n",
    "        * <a href=\"#Results2\"> Results</a>\n",
    "\n",
    "    * <a href=\"#ResultsCycles\">Results on the cycle lengths</a>\n",
    "        * <a href=\"#SmallModif\"> Stopping \"rotating\" trajectories </a>\n",
    "        * <a href=\"#GT\"> Ground Truth</a>"
   ]
  },
  {
   "cell_type": "code",
   "execution_count": 1,
   "metadata": {
    "collapsed": false
   },
   "outputs": [],
   "source": [
    "### All the packages we need:\n",
    "%matplotlib inline\n",
    "\n",
    "from Reader import Reader\n",
    "from Randomforest import RandomForest_Autotunner,plot_matrix,Measure,check_rotate\n",
    "from Traj_creator import Traj_data\n",
    "\n",
    "import random\n",
    "import numpy as np\n",
    "import pandas as pd\n",
    "import matplotlib.pyplot as plt\n",
    "\n",
    "import os.path\n",
    "import cPickle as pkl\n"
   ]
  },
  {
   "cell_type": "markdown",
   "metadata": {},
   "source": [
    "## <a name=\"PCNA\"></a>Analysing Michael Olma data set with the PCNA fluorescent marker\n",
    "\n",
    "### <a name=\"extraction\"></a>Getting the data and naive classification\n"
   ]
  },
  {
   "cell_type": "code",
   "execution_count": 2,
   "metadata": {
    "collapsed": false
   },
   "outputs": [
    {
     "name": "stdout",
     "output_type": "stream",
     "text": [
      "The file existed so I loaded it.\n",
      "Traj_data built\n",
      "Reader constructed\n",
      "Updated member Group_of_traj\n"
     ]
    },
    {
     "name": "stderr",
     "output_type": "stream",
     "text": [
      "/home/naylor/anaconda/lib/python2.7/site-packages/IPython/core/interactiveshell.py:3006: DtypeWarning: Columns (245) have mixed types. Specify dtype option on import or set low_memory=False.\n",
      "  if self.run_code(code, result):\n"
     ]
    }
   ],
   "source": [
    "num_str=\"0015\" ## Well name\n",
    "if os.path.isfile(\"PCNA_data.csv\"):\n",
    "    print \"The file existed so I loaded it.\"\n",
    "    PCNA=Traj_data(file_name=\"PCNA_data.csv\")\n",
    "else:\n",
    "    \n",
    "    PCNA=Traj_data()  \n",
    "\n",
    "    PCNA.extracting(num_str,\"both_channels_0015.hdf5\",'secondary') \n",
    "    ## Extracting the hdf5 file for the secondary channel (PCNA)\n",
    "\n",
    "    PCNA.Add_traj(normalize=False)## ,num_traj=10) ## (you can reduce the number of traj)\n",
    "    ## Adding Alice's work on tracking to have trajectories\n",
    "\n",
    "    file_loc=\"0015_PCNA.xml\"\n",
    "\n",
    "    PCNA.label_finder(file_loc) \n",
    "    ## Finding associated labels by minimizing distance by click and distance of cell\n",
    "\n",
    "    PCNA.renaming_and_merge()  \n",
    "    ## renaming the labels to have G1==\"1\", S==\"S\", G2==\"2\" and M==\"M\" \n",
    "    #This procedure may take a long time.\n",
    "    PCNA.to_csv('PCNA_data.csv',index=False,header=True)"
   ]
  },
  {
   "cell_type": "markdown",
   "metadata": {},
   "source": [
    "### <a name=\"firstpeak\"></a>First peaks at the data set\n"
   ]
  },
  {
   "cell_type": "code",
   "execution_count": 3,
   "metadata": {
    "collapsed": false
   },
   "outputs": [
    {
     "name": "stdout",
     "output_type": "stream",
     "text": [
      "The training set has 1273 instances and 246 features\n",
      "The training set has only 239 charateristic features out of 246\n"
     ]
    },
    {
     "data": {
      "text/html": [
       "<div>\n",
       "<table border=\"1\" class=\"dataframe\">\n",
       "  <thead>\n",
       "    <tr style=\"text-align: right;\">\n",
       "      <th></th>\n",
       "      <th>h4_2CON</th>\n",
       "      <th>dist_min</th>\n",
       "      <th>h8_2ASM</th>\n",
       "      <th>ls1_TAREA_sample_mean</th>\n",
       "      <th>h4_2SAV</th>\n",
       "    </tr>\n",
       "  </thead>\n",
       "  <tbody>\n",
       "    <tr>\n",
       "      <th>16102</th>\n",
       "      <td>79.734024</td>\n",
       "      <td>7.071068</td>\n",
       "      <td>0.018768</td>\n",
       "      <td>10.937392</td>\n",
       "      <td>37.376511</td>\n",
       "    </tr>\n",
       "    <tr>\n",
       "      <th>6943</th>\n",
       "      <td>59.567527</td>\n",
       "      <td>6.082763</td>\n",
       "      <td>0.082488</td>\n",
       "      <td>10.545721</td>\n",
       "      <td>38.121396</td>\n",
       "    </tr>\n",
       "    <tr>\n",
       "      <th>23049</th>\n",
       "      <td>60.846423</td>\n",
       "      <td>10.198039</td>\n",
       "      <td>0.030653</td>\n",
       "      <td>9.919727</td>\n",
       "      <td>35.301651</td>\n",
       "    </tr>\n",
       "    <tr>\n",
       "      <th>6952</th>\n",
       "      <td>35.505479</td>\n",
       "      <td>8.944272</td>\n",
       "      <td>0.013996</td>\n",
       "      <td>10.591346</td>\n",
       "      <td>39.221918</td>\n",
       "    </tr>\n",
       "    <tr>\n",
       "      <th>3031</th>\n",
       "      <td>43.349173</td>\n",
       "      <td>9.055385</td>\n",
       "      <td>0.031257</td>\n",
       "      <td>10.344508</td>\n",
       "      <td>38.421723</td>\n",
       "    </tr>\n",
       "  </tbody>\n",
       "</table>\n",
       "</div>"
      ],
      "text/plain": [
       "         h4_2CON   dist_min   h8_2ASM  ls1_TAREA_sample_mean    h4_2SAV\n",
       "16102  79.734024   7.071068  0.018768              10.937392  37.376511\n",
       "6943   59.567527   6.082763  0.082488              10.545721  38.121396\n",
       "23049  60.846423  10.198039  0.030653               9.919727  35.301651\n",
       "6952   35.505479   8.944272  0.013996              10.591346  39.221918\n",
       "3031   43.349173   9.055385  0.031257              10.344508  38.421723"
      ]
     },
     "execution_count": 3,
     "metadata": {},
     "output_type": "execute_result"
    }
   ],
   "source": [
    "print \"The training set has %d instances and %d features\"%PCNA.train.shape\n",
    "print \"The training set has only %d charateristic features out of %d\"%(len(PCNA.names),PCNA.train.shape[1])\n",
    "\n",
    "_rand_index_train=(random.sample(PCNA.train.index,5))\n",
    "_rand_col  = random.sample(PCNA.names,5)\n",
    "PCNA.train.ix[_rand_index_train,_rand_col]"
   ]
  },
  {
   "cell_type": "code",
   "execution_count": 4,
   "metadata": {
    "collapsed": false
   },
   "outputs": [
    {
     "data": {
      "text/html": [
       "<div>\n",
       "<table border=\"1\" class=\"dataframe\">\n",
       "  <thead>\n",
       "    <tr style=\"text-align: right;\">\n",
       "      <th></th>\n",
       "      <th>0015_id_frame</th>\n",
       "      <th>0015_id_object</th>\n",
       "      <th>0015_line_id</th>\n",
       "      <th>0015_pos_x</th>\n",
       "      <th>0015_pos_y</th>\n",
       "      <th>traj</th>\n",
       "      <th>Type</th>\n",
       "    </tr>\n",
       "  </thead>\n",
       "  <tbody>\n",
       "    <tr>\n",
       "      <th>16102</th>\n",
       "      <td>168</td>\n",
       "      <td>46</td>\n",
       "      <td>16102</td>\n",
       "      <td>166</td>\n",
       "      <td>406</td>\n",
       "      <td>NaN</td>\n",
       "      <td>1</td>\n",
       "    </tr>\n",
       "    <tr>\n",
       "      <th>6943</th>\n",
       "      <td>83</td>\n",
       "      <td>86</td>\n",
       "      <td>6943</td>\n",
       "      <td>513</td>\n",
       "      <td>799</td>\n",
       "      <td>NaN</td>\n",
       "      <td>1</td>\n",
       "    </tr>\n",
       "    <tr>\n",
       "      <th>23049</th>\n",
       "      <td>224</td>\n",
       "      <td>87</td>\n",
       "      <td>23049</td>\n",
       "      <td>1160</td>\n",
       "      <td>597</td>\n",
       "      <td>18</td>\n",
       "      <td>2</td>\n",
       "    </tr>\n",
       "    <tr>\n",
       "      <th>6952</th>\n",
       "      <td>83</td>\n",
       "      <td>95</td>\n",
       "      <td>6952</td>\n",
       "      <td>56</td>\n",
       "      <td>903</td>\n",
       "      <td>NaN</td>\n",
       "      <td>2</td>\n",
       "    </tr>\n",
       "    <tr>\n",
       "      <th>3031</th>\n",
       "      <td>39</td>\n",
       "      <td>57</td>\n",
       "      <td>3031</td>\n",
       "      <td>1179</td>\n",
       "      <td>637</td>\n",
       "      <td>NaN</td>\n",
       "      <td>2</td>\n",
       "    </tr>\n",
       "  </tbody>\n",
       "</table>\n",
       "</div>"
      ],
      "text/plain": [
       "       0015_id_frame  0015_id_object  0015_line_id  0015_pos_x  0015_pos_y  \\\n",
       "16102            168              46         16102         166         406   \n",
       "6943              83              86          6943         513         799   \n",
       "23049            224              87         23049        1160         597   \n",
       "6952              83              95          6952          56         903   \n",
       "3031              39              57          3031        1179         637   \n",
       "\n",
       "       traj Type  \n",
       "16102   NaN    1  \n",
       "6943    NaN    1  \n",
       "23049    18    2  \n",
       "6952    NaN    2  \n",
       "3031    NaN    2  "
      ]
     },
     "execution_count": 4,
     "metadata": {},
     "output_type": "execute_result"
    }
   ],
   "source": [
    "info_col=[num_str+\"_id_frame\",num_str+\"_id_object\",num_str+\"_line_id\",num_str+\"_pos_x\",num_str+\"_pos_y\",\"traj\",\"Type\"]\n",
    "PCNA.train.ix[_rand_index_train,info_col]"
   ]
  },
  {
   "cell_type": "markdown",
   "metadata": {},
   "source": [
    "### <a name=\"RFClassif\"></a>Random Forest Classifier\n",
    "\n",
    "We are going to first implement a random forest classifier to predict, given the features with the PCNA fluorescent marker, 4 states of the cells:\n",
    "* __G1__ : For the first gap. (roughly 12 hours long for an average human cell)\n",
    "* __S__ : When the DNA duplicates. (6 hours long)\n",
    "* __G2__ : For the second gap. (4 hours long)\n",
    "* __M__ : When the cell splits. (1 to 2 hours long)\n",
    "\n",
    "We tune the model by cross validation on the number of trees."
   ]
  },
  {
   "cell_type": "code",
   "execution_count": 5,
   "metadata": {
    "collapsed": false
   },
   "outputs": [
    {
     "name": "stdout",
     "output_type": "stream",
     "text": [
      "Processing time: 114.566536 in sec\n",
      "training dataset: \n",
      "\n",
      "We now have a classifier with n=290, with an expected accuracy of 0.863 \n",
      "\n"
     ]
    },
    {
     "data": {
      "image/png": "[encoded data removed]",
      "text/plain": [
       "<matplotlib.figure.Figure at 0x7f702c3e8f50>"
      ]
     },
     "metadata": {},
     "output_type": "display_data"
    }
   ],
   "source": [
    "if PCNA.Var_missing[0] in PCNA.train.columns:\n",
    "    PCNA.missing_features_train()\n",
    "if PCNA.Var_missing[0] in PCNA.data.columns:\n",
    "    PCNA.missing_features_data()\n",
    "values=[100 + i*10 for i in range(30)]\n",
    "model=RandomForest_Autotunner(values)\n",
    "\n",
    "model.tunning(PCNA.train[PCNA.names],PCNA.train[\"Type\"],3,plot=True,fit_new_model=True)\n",
    "print \"training dataset: \\n\"\n",
    "PCNA.train[\"Type\"].value_counts()\n",
    "\n",
    "i_=np.argmax(model.MSE)\n",
    "n_tree=values[i_]\n",
    "print \"We now have a classifier with n=%d, with an expected accuracy of %5.3f \\n\" %(n_tree,max(model.MSE))"
   ]
  },
  {
   "cell_type": "markdown",
   "metadata": {},
   "source": [
    "### <a name=\"Results\"></a>Results of the random forest classifier\n",
    "\n",
    "We expose here the classification results such as the confusion matrix and the normalized confusion matrix."
   ]
  },
  {
   "cell_type": "code",
   "execution_count": 6,
   "metadata": {
    "collapsed": false
   },
   "outputs": [
    {
     "data": {
      "image/png": "[encoded data removed]",
      "text/plain": [
       "<matplotlib.figure.Figure at 0x7f7058732910>"
      ]
     },
     "metadata": {},
     "output_type": "display_data"
    },
    {
     "data": {
      "image/png": "[encoded data removed]",
      "text/plain": [
       "<matplotlib.figure.Figure at 0x7f7014545fd0>"
      ]
     },
     "metadata": {},
     "output_type": "display_data"
    }
   ],
   "source": [
    "plot_matrix(model.cm,title=\"Confusion matrix unnormalized\")\n",
    "plt.show()\n",
    "model.cm_normalized = model.cm.astype('float') / model.cm.sum(axis=1)[:, np.newaxis]\n",
    "plot_matrix(model.cm_normalized,title=\"Confusion matrix normalized\")\n",
    "plt.show()"
   ]
  },
  {
   "cell_type": "markdown",
   "metadata": {
    "collapsed": false,
    "scrolled": true
   },
   "source": [
    "### <a name=\"Conclusion\"></a>Conclusion of the random forest and next work\n",
    "\n",
    "We have now trained our 1st classifier random forest and have achieved a very reasonable accuracy. With about 86% accurracy and with most classes beeing identifiable.\n",
    "\n",
    "We have also no missing data if we think about trajectories. We can take into account time dependencies and hope to correct some of the missclassification. The two next blocks show some descriptive statistics about the prediction of the first classification."
   ]
  },
  {
   "cell_type": "code",
   "execution_count": 7,
   "metadata": {
    "collapsed": false
   },
   "outputs": [
    {
     "name": "stdout",
     "output_type": "stream",
     "text": [
      "Updated member Group_of_traj\n",
      "Frequency of predicted values: \n",
      "\n",
      "1    34625\n",
      "S    25506\n",
      "2    12123\n",
      "M     6431\n",
      "Name: Classif_1, dtype: int64\n",
      "\n",
      " We were however not able to predict 3 instances because of missing values\n"
     ]
    }
   ],
   "source": [
    "index_no_missing=PCNA.data[PCNA.names].dropna(axis=0, how='any').index\n",
    "PCNA.data.ix[index_no_missing,\"Classif_1\"]=model.predict(PCNA.data.ix[index_no_missing,PCNA.names])\n",
    "PCNA.update()\n",
    "print \"Frequency of predicted values: \\n\"\n",
    "print PCNA.data[\"Classif_1\"].value_counts()\n",
    "print \"\\n We were however not able to predict %d instances because of missing values\" % (PCNA.data.shape[0]-len(index_no_missing))"
   ]
  },
  {
   "cell_type": "markdown",
   "metadata": {
    "collapsed": false
   },
   "source": [
    "This seems reasonable. Will we have to take this into account for the trajectories? Will there be missing data once we look at trajectories (which is a subset of the original data?"
   ]
  },
  {
   "cell_type": "code",
   "execution_count": 8,
   "metadata": {
    "collapsed": false
   },
   "outputs": [
    {
     "name": "stdout",
     "output_type": "stream",
     "text": [
      "Frequency within trajectories: \n",
      "\n",
      "1    14745\n",
      "S     9716\n",
      "2     3988\n",
      "M     1365\n",
      "Name: Classif_1, dtype: int64\n",
      "\n",
      " We were however not able to predict 0 instances because of missing values\n"
     ]
    }
   ],
   "source": [
    "temp_X= PCNA.data[pd.notnull(PCNA.data[\"traj\"])][\"Classif_1\"]\n",
    "\n",
    "print \"Frequency within trajectories: \\n\"\n",
    "print temp_X.value_counts()\n",
    "\n",
    "print \"\\n We were however not able to predict %d instances because of missing values\" % (sum(pd.isnull(temp_X)))"
   ]
  },
  {
   "cell_type": "markdown",
   "metadata": {},
   "source": [
    "## <a name=\"Hidden markov model\"></a>Hidden markov models\n",
    "\n",
    "We are going to put in place a error correcting model based on time dependencies thanks to hidden markov process. The hidden state will be the true state of the cell, these state follow a markov model with strong beliefs. These beliefs are based on biological processes. \n",
    "\n",
    "### <a name=\"R\"></a>Working with R\n",
    "\n",
    "Because the hidden markov model under python is a huge let down, not much documentation on how input are meant to be realised, I prefered to use R packages. Here we \"push\" the data we need for the HMM (such as id, traj and the first classification) and also the confusion matrix. \n"
   ]
  },
  {
   "cell_type": "code",
   "execution_count": 9,
   "metadata": {
    "collapsed": false
   },
   "outputs": [
    {
     "name": "stdout",
     "output_type": "stream",
     "text": [
      "[[308  42  17  11]\n",
      " [ 30 500  15   1]\n",
      " [ 14  21 199   2]\n",
      " [ 19   0   3  91]]\n"
     ]
    }
   ],
   "source": [
    "%load_ext rpy2.ipython\n",
    "##We reorganise the confusion matrix and push the data...\n",
    "PCNA.data=PCNA.data.sort_values(['traj', num_str+\"_id_frame\"], ascending=[1, 1])\n",
    "X=np.array([model.cm[0],model.cm[3],model.cm[1],model.cm[2]])\n",
    "X=X.T\n",
    "X=np.array([X[0],X[3],X[1],X[2]])\n",
    "X=X.T\n",
    "print X\n",
    "X = X.astype('float') / X.sum(axis=1)[:, np.newaxis]\n",
    "\n",
    "data=PCNA.data.ix[pd.notnull(PCNA.data[\"traj\"]),[\"traj\",\"Classif_1\"]]\n",
    "data.ix[data.Classif_1=='2',\"Classif_1\"]=\"3\"\n",
    "data.ix[data.Classif_1=='M',\"Classif_1\"]=\"4\"\n",
    "data.ix[data.Classif_1=='S',\"Classif_1\"]=\"2\"\n",
    "\n",
    "%Rpush X data"
   ]
  },
  {
   "cell_type": "markdown",
   "metadata": {},
   "source": [
    "### <a name=\"Tunning\"></a> Tunning thanks to baumWelch\n",
    "\n",
    "To tune our model, i.e. finding the correct transition matrix, we used the baumWelch algorithm under R. Because this algorithm is EM based we should initiate it several times to ensure that we are not blocked local maximas. However, we do not worry about this problem as we have a very strong prior and first guess about the transition matrix. \n",
    "\n",
    "For each trajectory, we tune a transition matrix, we then store this transition matrix. To asses the robustness of the transition matrix given we look at his mean and the variance of the transition matrix. We did the same with the emission probability matrix even if we wish to use the confusion matrix given by the first classifier that gives our model a very nice interpretation."
   ]
  },
  {
   "cell_type": "code",
   "execution_count": 10,
   "metadata": {
    "collapsed": false
   },
   "outputs": [
    {
     "data": {
      "text/plain": [
       "[1] \"To assess briefly what is happening, we printed a sequence of observation, sequence number: 0\"\n",
       "  [1] 4 4 4 1 1 1 1 1 1 1 1 1 1 1 1 1 1 1 1 1 1 1 1 1 1 1 1 1 1 1 1 1 1 1 1 1 1\n",
       " [38] 1 1 1 1 1 1 1 1 1 1 1 1 1 1 1 1 1 1 1 3 1 1 1 1 1 2 1 1 1 1 2 1 2 2 2 2 2\n",
       " [75] 2 2 2 2 2 2 2 2 2 2 2 2 2 2 2 2 2 2 2 2 2 2 2 2 2 2 2 2 2 2 2 2 2 2 2 2 2\n",
       "[112] 3 2 2 2 2 2 2 2 2 2 2 2 2 2 2 2 2 2 2 2 2 2 2 2 2 2 2 2 2 2 3 3 3 3 3 3 3\n",
       "[149] 3 3 3 3 3 3 3 3 3 3 3 3 3 3 3 3 3 3 3 3 3 3 3 3 3 3 3 3 3 3 3 2 1 4 4 4 4\n",
       "Levels: 1 2 3 4\n"
      ]
     },
     "metadata": {},
     "output_type": "display_data"
    }
   ],
   "source": [
    "%%R \n",
    "obs_number=0\n",
    "print(paste(\"To assess briefly what is happening, we printed a sequence of observation, sequence number:\",toString(obs_number) ))\n",
    "library(HMM)\n",
    "trans=list()  #List of outputs\n",
    "emi=list()    \n",
    "\n",
    "emission_matrix=X\n",
    "transition_prior=t(matrix(c(  .7  , .28 , .01 , .01\n",
    "                            , .01 , .7  , .28 , .01\n",
    "                            , .01 , .01 , .7  , .28 \n",
    "                            , .28 , .01 , .01 , .7 ),4)) \n",
    "\n",
    "startProbs=c(0.7, 0.0, 0.0, 0.3)\n",
    "\n",
    "hmm = initHMM(c(\"1\",\"2\",\"3\",\"4\"),c(\"1\",\"2\",\"3\",\"4\"),\n",
    "              transProbs=transition_prior,\n",
    "              emissionProbs=emission_matrix\n",
    "              ,startProbs=startProbs)\n",
    "\n",
    "\n",
    "n_traj=max(data$traj)\n",
    "j=1\n",
    "for (i in 0:(n_traj-1)){\n",
    "    obs=data[data$traj==i,\"Classif_1\"]\n",
    "    if (i==obs_number){print(obs)}\n",
    "    hmm = initHMM(c(\"1\",\"2\",\"3\",\"4\"),c(\"1\",\"2\",\"3\",\"4\"),\n",
    "                  startProbs=startProbs,\n",
    "                  emissionProbs=emission_matrix,\n",
    "                  transProbs=transition_prior)\n",
    "    bw=try(baumWelch(hmm,observation=obs,10),silent = TRUE)\n",
    "    if (!(inherits(bw, \"try-error\"))){\n",
    "      trans[[j]]=bw$hmm$transProbs\n",
    "      emi[[j]]=bw$hmm$emissionProbs\n",
    "      j=j+1  \n",
    "    }\n",
    "}\n",
    "\n"
   ]
  },
  {
   "cell_type": "code",
   "execution_count": 11,
   "metadata": {
    "collapsed": false
   },
   "outputs": [],
   "source": [
    "%%R\n",
    "\n",
    "mean_t=matrix(0,ncol=4,nrow=4)\n",
    "mean_e=matrix(0,ncol=4,nrow=4)\n",
    "for (i in 1:length(trans)){\n",
    "  mean_t=mean_t+trans[[i]]\n",
    "  mean_e=mean_e+emi[[i]]\n",
    "}\n",
    "mean_t=mean_t/length(trans)\n",
    "mean_e=mean_e/length(trans)\n",
    "\n",
    "var_t=matrix(0,ncol=4,nrow=4)\n",
    "var_e=matrix(0,ncol=4,nrow=4)\n",
    "\n",
    "for (i in 1:length(trans)){\n",
    "  var_t=var_t+(trans[[i]]-mean_t)*(trans[[i]]-mean_t)\n",
    "  var_e=var_e+(emi[[i]]-mean_e)*(emi[[i]]-mean_e)\n",
    "}\n",
    "var_t=var_t/length(trans)\n",
    "var_e=var_e/length(trans)"
   ]
  },
  {
   "cell_type": "code",
   "execution_count": 12,
   "metadata": {
    "collapsed": false
   },
   "outputs": [
    {
     "data": {
      "image/png": "[encoded data removed]",
      "text/plain": [
       "<matplotlib.figure.Figure at 0x7f7013bfac10>"
      ]
     },
     "metadata": {},
     "output_type": "display_data"
    },
    {
     "data": {
      "image/png": "[encoded data removed]",
      "text/plain": [
       "<matplotlib.figure.Figure at 0x7f7012a41bd0>"
      ]
     },
     "metadata": {},
     "output_type": "display_data"
    },
    {
     "data": {
      "image/png": "[encoded data removed]",
      "text/plain": [
       "<matplotlib.figure.Figure at 0x7f70143d4250>"
      ]
     },
     "metadata": {},
     "output_type": "display_data"
    },
    {
     "data": {
      "image/png": "[encoded data removed]",
      "text/plain": [
       "<matplotlib.figure.Figure at 0x7f7014594510>"
      ]
     },
     "metadata": {},
     "output_type": "display_data"
    }
   ],
   "source": [
    "%Rpull mean_t mean_e var_t var_e\n",
    "plot_matrix(mean_t,title=\"Transition matrix\",names=[\"G1\",\"S\",\"G2\",\"M\"],cmap=plt.cm.Oranges)\n",
    "plt.show()\n",
    "plot_matrix(var_t,title=\"Variance of coefficents in the transition matrix\",names=[\"G1\",\"S\",\"G2\",\"M\"],cmap=plt.cm.OrRd)\n",
    "plt.show()\n",
    "plot_matrix(mean_e,title=\"Emission matrix\",names=[\"G1\",\"S\",\"G2\",\"M\"])\n",
    "plt.show()\n",
    "plot_matrix(var_e,title=\"Variance of coefficents in the emission matrix\",names=[\"G1\",\"S\",\"G2\",\"M\"],cmap=plt.cm.OrRd)\n",
    "plt.show()"
   ]
  },
  {
   "cell_type": "markdown",
   "metadata": {},
   "source": [
    "We modify the transition matrix to take into account our strong beliefs about the bioloigical processes"
   ]
  },
  {
   "cell_type": "code",
   "execution_count": 13,
   "metadata": {
    "collapsed": false
   },
   "outputs": [],
   "source": [
    "%%R \n",
    "ligne1=mean_t[1,1]+mean_t[1,2]\n",
    "ligne2=mean_t[2,2]+mean_t[2,3]\n",
    "ligne3=mean_t[3,3]+mean_t[3,4]\n",
    "ligne4=mean_t[4,1]+mean_t[4,4]\n",
    "\n",
    "transProbs=t(matrix(c(mean_t[1,1]/ligne1  , mean_t[1,2]/ligne1    ,0                 , 0\n",
    "                      , 0                 , mean_t[2,2]/ligne2    ,mean_t[2,3]/ligne2, 0\n",
    "                      , 0                 , 0                     ,mean_t[3,3]/ligne3, mean_t[3,4]/ligne3\n",
    "                      ,mean_t[4,1]/ligne4 , 0                     ,0                 , mean_t[4,4]/ligne4),4))"
   ]
  },
  {
   "cell_type": "code",
   "execution_count": 14,
   "metadata": {
    "collapsed": false
   },
   "outputs": [
    {
     "data": {
      "image/png": "[encoded data removed]",
      "text/plain": [
       "<matplotlib.figure.Figure at 0x7f70128a5890>"
      ]
     },
     "metadata": {},
     "output_type": "display_data"
    }
   ],
   "source": [
    "%Rpull transProbs\n",
    "plot_matrix(transProbs,title=\"Transition matrix with prior beliefs\",names=[\"G1\",\"S\",\"G2\",\"M\"],cmap=plt.cm.Oranges)"
   ]
  },
  {
   "cell_type": "code",
   "execution_count": 15,
   "metadata": {
    "collapsed": false
   },
   "outputs": [
    {
     "data": {
      "text/plain": [
       "[1] \"To assess briefly what is happening, we printed a sequence of observation and it's correction, sequence number: 0\"\n",
       "[1] \"Classif_1:\"\n",
       "  [1] 4 4 4 1 1 1 1 1 1 1 1 1 1 1 1 1 1 1 1 1 1 1 1 1 1 1 1 1 1 1 1 1 1 1 1 1 1\n",
       " [38] 1 1 1 1 1 1 1 1 1 1 1 1 1 1 1 1 1 1 1 3 1 1 1 1 1 2 1 1 1 1 2 1 2 2 2 2 2\n",
       " [75] 2 2 2 2 2 2 2 2 2 2 2 2 2 2 2 2 2 2 2 2 2 2 2 2 2 2 2 2 2 2 2 2 2 2 2 2 2\n",
       "[112] 3 2 2 2 2 2 2 2 2 2 2 2 2 2 2 2 2 2 2 2 2 2 2 2 2 2 2 2 2 2 3 3 3 3 3 3 3\n",
       "[149] 3 3 3 3 3 3 3 3 3 3 3 3 3 3 3 3 3 3 3 3 3 3 3 3 3 3 3 3 3 3 3 2 1 4 4 4 4\n",
       "Levels: 1 2 3 4\n",
       "[1] \"Corrected:\"\n",
       "  [1] 4 4 4 1 1 1 1 1 1 1 1 1 1 1 1 1 1 1 1 1 1 1 1 1 1 1 1 1 1 1 1 1 1 1 1 1 1\n",
       " [38] 1 1 1 1 1 1 1 1 1 1 1 1 1 1 1 1 1 1 1 1 1 1 1 1 1 1 1 1 1 1 1 1 2 2 2 2 2\n",
       " [75] 2 2 2 2 2 2 2 2 2 2 2 2 2 2 2 2 2 2 2 2 2 2 2 2 2 2 2 2 2 2 2 2 2 2 2 2 2\n",
       "[112] 2 2 2 2 2 2 2 2 2 2 2 2 2 2 2 2 2 2 2 2 2 2 2 2 2 2 2 2 2 2 3 3 3 3 3 3 3\n",
       "[149] 3 3 3 3 3 3 3 3 3 3 3 3 3 3 3 3 3 3 3 3 3 3 3 3 3 3 3 3 3 3 3 3 4 4 4 4 4\n"
      ]
     },
     "metadata": {},
     "output_type": "display_data"
    }
   ],
   "source": [
    "%%R \n",
    "startProbs=c(.7,0,0,.3)\n",
    "obs_number=0\n",
    "hmm = initHMM(c(\"1\",\"2\",\"3\",\"4\"),c(\"1\",\"2\",\"3\",\"4\"),\n",
    "              transProbs=transProbs,\n",
    "              emissionProbs=emission_matrix ##We still keep the confusion matrix of the first classification\n",
    "              ,startProbs=startProbs)\n",
    "\n",
    "\n",
    "for (i in 0:(n_traj-1)){\n",
    "  obs=data[data$traj==i,\"Classif_1\"]\n",
    "  new_obs=as.integer(viterbi(hmm,observation=obs))\n",
    "  data[data$traj==i,\"HMM\"]=new_obs\n",
    "  if (i==obs_number){\n",
    "      print(paste(\"To assess briefly what is happening, we printed a sequence of observation and it's correction, sequence number:\",toString(obs_number) ))\n",
    "      print(\"Classif_1:\")\n",
    "      print(obs)\n",
    "      print(\"Corrected:\")\n",
    "      print(new_obs)\n",
    "  }\n",
    "}\n"
   ]
  },
  {
   "cell_type": "markdown",
   "metadata": {},
   "source": [
    "We bring the data back to python and quickly assess if everything is still coherent."
   ]
  },
  {
   "cell_type": "code",
   "execution_count": 16,
   "metadata": {
    "collapsed": false
   },
   "outputs": [
    {
     "name": "stdout",
     "output_type": "stream",
     "text": [
      "Updated member Group_of_traj\n"
     ]
    },
    {
     "data": {
      "text/html": [
       "<div>\n",
       "<table border=\"1\" class=\"dataframe\">\n",
       "  <thead>\n",
       "    <tr style=\"text-align: right;\">\n",
       "      <th></th>\n",
       "      <th>traj</th>\n",
       "      <th>Type</th>\n",
       "      <th>Classif_1</th>\n",
       "      <th>HMM</th>\n",
       "    </tr>\n",
       "  </thead>\n",
       "  <tbody>\n",
       "    <tr>\n",
       "      <th>16102</th>\n",
       "      <td>NaN</td>\n",
       "      <td>1</td>\n",
       "      <td>1</td>\n",
       "      <td>NaN</td>\n",
       "    </tr>\n",
       "    <tr>\n",
       "      <th>6943</th>\n",
       "      <td>NaN</td>\n",
       "      <td>1</td>\n",
       "      <td>1</td>\n",
       "      <td>NaN</td>\n",
       "    </tr>\n",
       "    <tr>\n",
       "      <th>23049</th>\n",
       "      <td>18</td>\n",
       "      <td>2</td>\n",
       "      <td>2</td>\n",
       "      <td>2</td>\n",
       "    </tr>\n",
       "    <tr>\n",
       "      <th>6952</th>\n",
       "      <td>NaN</td>\n",
       "      <td>2</td>\n",
       "      <td>2</td>\n",
       "      <td>NaN</td>\n",
       "    </tr>\n",
       "    <tr>\n",
       "      <th>3031</th>\n",
       "      <td>NaN</td>\n",
       "      <td>2</td>\n",
       "      <td>2</td>\n",
       "      <td>NaN</td>\n",
       "    </tr>\n",
       "  </tbody>\n",
       "</table>\n",
       "</div>"
      ],
      "text/plain": [
       "       traj Type Classif_1  HMM\n",
       "16102   NaN    1         1  NaN\n",
       "6943    NaN    1         1  NaN\n",
       "23049    18    2         2    2\n",
       "6952    NaN    2         2  NaN\n",
       "3031    NaN    2         2  NaN"
      ]
     },
     "execution_count": 16,
     "metadata": {},
     "output_type": "execute_result"
    }
   ],
   "source": [
    "%Rpull data\n",
    "\n",
    "data.ix[data.HMM==1,\"HMM\"]=\"1\"\n",
    "data.ix[data.HMM==2,\"HMM\"]=\"S\"\n",
    "data.ix[data.HMM==3,\"HMM\"]=\"2\"\n",
    "data.ix[data.HMM==4,\"HMM\"]=\"M\"\n",
    "to_join=pd.Series(data[\"HMM\"])\n",
    "to_join.index=[int(el) for el in to_join.index]\n",
    "\n",
    "PCNA.data=PCNA.data.join(to_join)\n",
    "PCNA.update()\n",
    "\n",
    "PCNA.train.ix[_rand_index_train,[\"traj\",\"Type\",\"Classif_1\",\"HMM\"]]"
   ]
  },
  {
   "cell_type": "markdown",
   "metadata": {},
   "source": [
    "### <a name=\"Results2\"></a> Results\n"
   ]
  },
  {
   "cell_type": "code",
   "execution_count": 17,
   "metadata": {
    "collapsed": false
   },
   "outputs": [
    {
     "name": "stdout",
     "output_type": "stream",
     "text": [
      "S    217\n",
      "1    199\n",
      "2     56\n",
      "M     36\n",
      "Name: Type, dtype: int64\n",
      "We reach an accuracy of 0.969 \n",
      "\n"
     ]
    },
    {
     "data": {
      "image/png": "[encoded data removed]",
      "text/plain": [
       "<matplotlib.figure.Figure at 0x7f7012a98690>"
      ]
     },
     "metadata": {},
     "output_type": "display_data"
    }
   ],
   "source": [
    "from sklearn.metrics import confusion_matrix\n",
    "\n",
    "temp_X=PCNA.train.ix[pd.notnull(PCNA.train[\"HMM\"]),[\"HMM\",\"Type\"]]\n",
    "print temp_X[\"Type\"].value_counts()\n",
    "cm=confusion_matrix(temp_X.Type,temp_X.HMM)\n",
    "\n",
    "print \"We reach an accuracy of %5.3f \\n\" %(float(cm.trace())/cm.sum())\n",
    "\n",
    "cm_normalized = cm.astype('float') / cm.sum(axis=1)[:, np.newaxis]\n",
    "\n",
    "plot_matrix(cm_normalized,title=\"Confusion matrix for the HMM classification\")"
   ]
  },
  {
   "cell_type": "markdown",
   "metadata": {},
   "source": [
    "### <a name=\"ResultsCycles\"></a> Results on the cycle lengths\n",
    "\n",
    "In order to get some ground truth about the data, we now will use the prediction made along a trajectory and save the lengths of the values."
   ]
  },
  {
   "cell_type": "code",
   "execution_count": 18,
   "metadata": {
    "collapsed": false
   },
   "outputs": [
    {
     "name": "stdout",
     "output_type": "stream",
     "text": [
      "To quickly asses we print the trajectory and his corrected trajectory, for sequence number:9\n",
      "Classif_1: \n",
      "\n",
      "['M' 'M' '1' '1' '1' '1' '1' '1' '1' '1' '1' '1' '1' '1' '1' '1' '1' '1'\n",
      " '1' '1' 'S' '1' '1' 'S' '1' 'S' '2' '2' 'S' '1' 'S' '1' '2' 'S' 'S' 'S'\n",
      " '1' '1' '1' '1' '1' 'S' '1' '1' '1' '1' '1' '1' '2' 'S' '2' '2' '2' 'S'\n",
      " '2' '2' '2' '2' '2' '2' '2' 'S' '2' '2' 'S' '2' '2' '2' 'S' '2' 'S' '2'\n",
      " 'S' 'S' 'S' 'S' 'S' 'S' 'S' 'S' 'S' 'S' 'S' 'S' 'S' 'S' 'S' 'S' '2' 'S'\n",
      " 'S' 'S' 'S' '2' 'S' 'S' 'S' 'S' 'S' 'S' '2' 'S' 'S' 'S' 'S' 'S' 'S' '2'\n",
      " 'S' 'S' 'S' 'S' 'S' '2' '2' 'S' '2' 'S' '2' 'S' 'S' 'S' 'S' 'S' 'S' 'S'\n",
      " 'S' 'S' 'S' 'S' 'S' 'S' 'S' 'S' 'S' 'S' '2' '2' '2' 'S' '2' '2' '2' '2'\n",
      " '2' '2' '2' '2' '2' '2' '2' '2' 'S' '2' 'S' 'S' '2' '2' '2' '2' 'S' '2'\n",
      " '2' '2' '2' '2' '2' '2' '2' '2' '2' '2' 'S' '2' '1' 'M' 'M' 'M']\n",
      "Corrected: \n",
      "\n",
      "['M' 'M' '1' '1' '1' '1' '1' '1' '1' '1' '1' '1' '1' '1' '1' '1' '1' '1'\n",
      " '1' '1' '1' '1' '1' '1' '1' '1' '1' '1' '1' '1' '1' '1' '1' '1' '1' '1'\n",
      " '1' '1' '1' '1' '1' '1' '1' '1' '1' '1' '1' '1' '1' 'S' '2' '2' '2' '2'\n",
      " '2' '2' '2' '2' '2' '2' '2' '2' '2' '2' '2' '2' '2' '2' '2' '2' '2' 'M'\n",
      " '1' 'S' 'S' 'S' 'S' 'S' 'S' 'S' 'S' 'S' 'S' 'S' 'S' 'S' 'S' 'S' 'S' 'S'\n",
      " 'S' 'S' 'S' 'S' 'S' 'S' 'S' 'S' 'S' 'S' 'S' 'S' 'S' 'S' 'S' 'S' 'S' 'S'\n",
      " 'S' 'S' 'S' 'S' 'S' 'S' 'S' 'S' 'S' 'S' 'S' 'S' 'S' 'S' 'S' 'S' 'S' 'S'\n",
      " 'S' 'S' 'S' 'S' 'S' 'S' 'S' 'S' 'S' 'S' '2' '2' '2' '2' '2' '2' '2' '2'\n",
      " '2' '2' '2' '2' '2' '2' '2' '2' '2' '2' '2' '2' '2' '2' '2' '2' '2' '2'\n",
      " '2' '2' '2' '2' '2' '2' '2' '2' '2' '2' '2' '2' 'M' 'M' 'M' 'M']\n"
     ]
    }
   ],
   "source": [
    "i=0\n",
    "obs_number=9\n",
    "G1=[]\n",
    "S=[]\n",
    "G2=[]\n",
    "CC=[]\n",
    "print \"To quickly asses we print the trajectory and his corrected trajectory, for sequence number:\" + str(obs_number)\n",
    "for el in PCNA.Group_of_traj:\n",
    "    new_obs=el[1][\"HMM\"]\n",
    "    if i==obs_number:\n",
    "        test=np.array(el[1][\"Classif_1\"])\n",
    "        test_hmm=np.array(el[1][\"HMM\"])\n",
    "        print \"Classif_1: \\n\"\n",
    "        print test\n",
    "        print \"Corrected: \\n\"\n",
    "        print test_hmm\n",
    "    i+=1\n",
    "    if not check_rotate(new_obs):\n",
    "        G1.append(Measure(new_obs,'1',_last=True))\n",
    "        S.append(Measure(new_obs,'S',_last=True,_first=True))\n",
    "        G2.append(Measure(new_obs,'2',_first=True))\n",
    "        CC.append(Measure(new_obs,'M'))\n",
    "    elif not check_rotate(new_obs[:-1]):\n",
    "        G1.append(Measure(new_obs[:-1],'1',_last=True))\n",
    "        S.append(Measure(new_obs[:-1],'S',_last=True,_first=True))\n",
    "        G2.append(Measure(new_obs[:-1],'2',_first=True))\n",
    "        CC.append(Measure(new_obs[:-1],'M'))\n",
    "    elif not check_rotate(new_obs[:-2]):\n",
    "        G1.append(Measure(new_obs[:-2],'1',_last=True))\n",
    "        S.append(Measure(new_obs[:-2],'S',_last=True,_first=True))\n",
    "        G2.append(Measure(new_obs[:-2],'2',_first=True))\n",
    "        CC.append(Measure(new_obs[:-2],'M'))\n",
    "    else:\n",
    "        G1.append(-1)\n",
    "        S.append(-1)\n",
    "        G2.append(-1)\n",
    "        CC.append(-1)\n"
   ]
  },
  {
   "cell_type": "markdown",
   "metadata": {},
   "source": [
    "This first classification suffers from a poor prediction of M in the set. It may be interesting to add a first classifier for Mitosis, or to change the Markov process to take into account another variable to stop rotations.\n",
    "\n",
    "NB: This first idea may seem incorrect, we might need to strenghen the hidden markov model to not allow return steps. By creating a 5 step HMM, M0 (begining) and M1 (ending)."
   ]
  },
  {
   "cell_type": "code",
   "execution_count": 19,
   "metadata": {
    "collapsed": false
   },
   "outputs": [
    {
     "data": {
      "text/html": [
       "<div>\n",
       "<table border=\"1\" class=\"dataframe\">\n",
       "  <thead>\n",
       "    <tr style=\"text-align: right;\">\n",
       "      <th></th>\n",
       "      <th>Accepted trajectories</th>\n",
       "      <th>Standard deviation</th>\n",
       "      <th>mean</th>\n",
       "    </tr>\n",
       "  </thead>\n",
       "  <tbody>\n",
       "    <tr>\n",
       "      <th>G1</th>\n",
       "      <td>118</td>\n",
       "      <td>2.472911</td>\n",
       "      <td>7.062500</td>\n",
       "    </tr>\n",
       "    <tr>\n",
       "      <th>S</th>\n",
       "      <td>85</td>\n",
       "      <td>1.715657</td>\n",
       "      <td>6.289863</td>\n",
       "    </tr>\n",
       "    <tr>\n",
       "      <th>G2</th>\n",
       "      <td>85</td>\n",
       "      <td>1.010876</td>\n",
       "      <td>3.354902</td>\n",
       "    </tr>\n",
       "    <tr>\n",
       "      <th>CellCycle</th>\n",
       "      <td>85</td>\n",
       "      <td>2.136217</td>\n",
       "      <td>16.663451</td>\n",
       "    </tr>\n",
       "  </tbody>\n",
       "</table>\n",
       "</div>"
      ],
      "text/plain": [
       "           Accepted trajectories  Standard deviation       mean\n",
       "G1                           118            2.472911   7.062500\n",
       "S                             85            1.715657   6.289863\n",
       "G2                            85            1.010876   3.354902\n",
       "CellCycle                     85            2.136217  16.663451"
      ]
     },
     "execution_count": 19,
     "metadata": {},
     "output_type": "execute_result"
    }
   ],
   "source": [
    "from numpy import mean,std\n",
    "ratio=5.9/60\n",
    "G1_p=[el*ratio for el in G1 if el>-1]\n",
    "S_p= [el*ratio for el in S  if el>-1]\n",
    "G2_p=[el*ratio for el in G2 if el>-1]\n",
    "CC_p=[el*ratio for el in CC if el>-1] \n",
    "res_1 = {'mean' : pd.Series([mean(G1_p), mean(S_p), mean(G2_p),mean(CC_p)], index=['G1', 'S', 'G2','CellCycle']),\n",
    "'Standard deviation' : pd.Series([std(G1_p),std(S_p),std(G2_p),std(CC_p)], index=['G1', 'S', 'G2','CellCycle']),\n",
    "'Accepted trajectories': pd.Series([len(G1_p),len(S_p),len(G2_p),len(CC_p)], index=['G1', 'S', 'G2','CellCycle'])\n",
    "      }\n",
    "pd.DataFrame(res_1)"
   ]
  },
  {
   "cell_type": "markdown",
   "metadata": {
    "collapsed": false
   },
   "source": [
    "We do not accept enough trajectories out of the 236 possible trajectories. To help, we will change the hidden markov model so that we can't rotate (cf traj number 9 above)."
   ]
  },
  {
   "cell_type": "markdown",
   "metadata": {},
   "source": [
    "### <a name=\"SmallModif\"></a> Stopping \"rotating\" trajectories\n",
    "\n",
    "We start again from the first classification, but first, we will rename the M on the \"first-half\" to be __B__ and the M's on the \"second-half\" to be __E__."
   ]
  },
  {
   "cell_type": "code",
   "execution_count": 20,
   "metadata": {
    "collapsed": false
   },
   "outputs": [
    {
     "name": "stdout",
     "output_type": "stream",
     "text": [
      "New emission matrix: \n",
      "\n",
      "[[ 0.8053  0.1681  0.      0.0146  0.    ]\n",
      " [ 0.0291  0.8148  0.1111  0.0009  0.0291]\n",
      " [ 0.0018  0.0549  0.9158  0.0042  0.0018]\n",
      " [ 0.0085  0.0593  0.089   0.8432  0.0085]\n",
      " [ 0.      0.1681  0.      0.0265  0.8053]]\n"
     ]
    }
   ],
   "source": [
    "for i in range(len(PCNA.trajectories)):\n",
    "    new_obs=np.array(PCNA.data.ix[PCNA.data[\"traj\"]==i,\"Classif_1\"])\n",
    "    n_obs=len(new_obs)\n",
    "    for j in range(n_obs/2):\n",
    "        if new_obs[j]=='M':\n",
    "            new_obs[j]='B'  #Beginning\n",
    "    PCNA.data.ix[PCNA.data[\"traj\"]==i,\"Classif_2\"]=new_obs\n",
    "PCNA.data.ix[PCNA.data[\"Classif_2\"]=='M',\"Classif_2\"]='E' #Ending\n",
    "\n",
    "##PCNA.data.ix[PCNA.data[\"traj\"]==0,[\"Classif_2\",\"Classif_1\"]]\n",
    "np.set_printoptions(precision = 4, suppress = True)\n",
    "X5=np.zeros(shape=(5,5))\n",
    "X5[1:5,1:5]=X\n",
    "X5[0,1:4]=X[3,0:3]\n",
    "M_2=X[3,3]\n",
    "\n",
    "X5[0,0]=M_2\n",
    "X5[4,4]=M_2\n",
    "\n",
    "X5[0:3,3]=X[0:3,3]/2\n",
    "X5[1:4,0]=X[0:3,3]\n",
    "\n",
    "print \"New emission matrix: \\n\"\n",
    "print X5\n",
    "\n",
    "PCNA.data=PCNA.data.sort_values(['traj', num_str+\"_id_frame\"], ascending=[1, 1])\n",
    "\n",
    "data=PCNA.data.ix[pd.notnull(PCNA.data[\"traj\"]),[\"traj\",\"Classif_2\"]]\n",
    "\n",
    "\n",
    "data.ix[data.Classif_2=='2',\"Classif_2\"]=\"4\"\n",
    "data.ix[data.Classif_2=='1',\"Classif_2\"]=\"2\"\n",
    "data.ix[data.Classif_2=='B',\"Classif_2\"]=\"1\"\n",
    "data.ix[data.Classif_2=='E',\"Classif_2\"]=\"5\"\n",
    "data.ix[data.Classif_2=='S',\"Classif_2\"]=\"3\"\n",
    "\n",
    "%Rpush X5\n",
    "%Rpush data "
   ]
  },
  {
   "cell_type": "code",
   "execution_count": 21,
   "metadata": {
    "collapsed": false
   },
   "outputs": [
    {
     "data": {
      "text/plain": [
       "[1] \"To assess briefly what is happening, we printed a sequence of observation, sequence number: 0\"\n",
       "  [1] 1 1 1 2 2 2 2 2 2 2 2 2 2 2 2 2 2 2 2 2 2 2 2 2 2 2 2 2 2 2 2 2 2 2 2 2 2\n",
       " [38] 2 2 2 2 2 2 2 2 2 2 2 2 2 2 2 2 2 2 2 4 2 2 2 2 2 3 2 2 2 2 3 2 3 3 3 3 3\n",
       " [75] 3 3 3 3 3 3 3 3 3 3 3 3 3 3 3 3 3 3 3 3 3 3 3 3 3 3 3 3 3 3 3 3 3 3 3 3 3\n",
       "[112] 4 3 3 3 3 3 3 3 3 3 3 3 3 3 3 3 3 3 3 3 3 3 3 3 3 3 3 3 3 3 4 4 4 4 4 4 4\n",
       "[149] 4 4 4 4 4 4 4 4 4 4 4 4 4 4 4 4 4 4 4 4 4 4 4 4 4 4 4 4 4 4 4 3 2 5 5 5 5\n",
       "Levels: 1 2 3 4 5\n"
      ]
     },
     "metadata": {},
     "output_type": "display_data"
    }
   ],
   "source": [
    "%%R \n",
    "obs_number=0\n",
    "print(paste(\"To assess briefly what is happening, we printed a sequence of observation, sequence number:\",toString(obs_number) ))\n",
    "\n",
    "library(HMM)\n",
    "trans=list()  #List of outputs\n",
    "emi=list()    \n",
    "\n",
    "emission_matrix=X\n",
    "transition_prior=t(matrix(c(  .7  , .27 , .01 , .01 , .01\n",
    "                            , .01 , .7  , .27 , .01 , .01\n",
    "                            , .01 , .01 , .7  , .27 , .01\n",
    "                            , .01 , .01 , .01 , .7  , .27\n",
    "                            , .01 , .01 , .01 , .01  , 0.96 ),5)) \n",
    "\n",
    "startProbs=c(0.3, 0.7, 0.0, 0.0, 0.0)\n",
    "\n",
    "hmm = initHMM(c(\"1\",\"2\",\"3\",\"4\",\"5\"),c(\"1\",\"2\",\"3\",\"4\",\"5\"),\n",
    "              transProbs=transition_prior,\n",
    "              emissionProbs=X5\n",
    "              ,startProbs=startProbs)\n",
    "\n",
    "\n",
    "n_traj=max(data$traj)\n",
    "j=1\n",
    "for (i in 0:(n_traj-1)){\n",
    "    obs=data[data$traj==i,\"Classif_2\"]\n",
    "    if (i==obs_number){print(obs)}\n",
    "    hmm = initHMM(c(\"1\",\"2\",\"3\",\"4\",\"5\"),c(\"1\",\"2\",\"3\",\"4\",\"5\"),\n",
    "                  startProbs=startProbs,\n",
    "                  emissionProbs=X5,\n",
    "                  transProbs=transition_prior)\n",
    "    bw=try(baumWelch(hmm,observation=obs,10),silent = TRUE)\n",
    "    if (!(inherits(bw, \"try-error\"))){\n",
    "      trans[[j]]=bw$hmm$transProbs\n",
    "      emi[[j]]=bw$hmm$emissionProbs\n",
    "      j=j+1  \n",
    "    }\n",
    "}\n",
    "\n",
    "mean_t=matrix(0,ncol=5,nrow=5)\n",
    "mean_e=matrix(0,ncol=5,nrow=5)\n",
    "for (i in 1:length(trans)){\n",
    "  mean_t=mean_t+trans[[i]]\n",
    "  mean_e=mean_e+emi[[i]]\n",
    "}\n",
    "mean_t=mean_t/length(trans)\n",
    "mean_e=mean_e/length(trans)\n",
    "\n",
    "var_t=matrix(0,ncol=5,nrow=5)\n",
    "var_e=matrix(0,ncol=5,nrow=5)\n",
    "\n",
    "for (i in 1:length(trans)){\n",
    "  var_t=var_t+(trans[[i]]-mean_t)*(trans[[i]]-mean_t)\n",
    "  var_e=var_e+(emi[[i]]-mean_e)*(emi[[i]]-mean_e)\n",
    "}\n",
    "var_t=var_t/length(trans)\n",
    "var_e=var_e/length(trans)"
   ]
  },
  {
   "cell_type": "code",
   "execution_count": 22,
   "metadata": {
    "collapsed": false
   },
   "outputs": [
    {
     "data": {
      "image/png": "[encoded data removed]",
      "text/plain": [
       "<matplotlib.figure.Figure at 0x7f701520bc10>"
      ]
     },
     "metadata": {},
     "output_type": "display_data"
    },
    {
     "data": {
      "image/png": "[encoded data removed]",
      "text/plain": [
       "<matplotlib.figure.Figure at 0x7f7015112f10>"
      ]
     },
     "metadata": {},
     "output_type": "display_data"
    },
    {
     "data": {
      "image/png": "[encoded data removed]",
      "text/plain": [
       "<matplotlib.figure.Figure at 0x7f7013a36950>"
      ]
     },
     "metadata": {},
     "output_type": "display_data"
    },
    {
     "data": {
      "image/png": "[encoded data removed]",
      "text/plain": [
       "<matplotlib.figure.Figure at 0x7f70129e9450>"
      ]
     },
     "metadata": {},
     "output_type": "display_data"
    }
   ],
   "source": [
    "%Rpull mean_t mean_e var_t var_e\n",
    "plot_matrix(mean_t,title=\"Transition matrix\",names=[\"M_B\",\"G1\",\"S\",\"G2\",\"M_E\"],cmap=plt.cm.Oranges)\n",
    "plt.show()\n",
    "plot_matrix(var_t,title=\"Variance of coefficents in the transition matrix\",names=[\"M_B\",\"G1\",\"S\",\"G2\",\"M_E\"],cmap=plt.cm.OrRd)\n",
    "plt.show()\n",
    "plot_matrix(mean_e,title=\"Emission matrix\",names=[\"M_B\",\"G1\",\"S\",\"G2\",\"M_E\"])\n",
    "plt.show()\n",
    "plot_matrix(var_e,title=\"Variance of coefficents in the emission matrix\",names=[\"M_B\",\"G1\",\"S\",\"G2\",\"M_E\"],cmap=plt.cm.OrRd)\n",
    "plt.show()"
   ]
  },
  {
   "cell_type": "code",
   "execution_count": 23,
   "metadata": {
    "collapsed": false
   },
   "outputs": [
    {
     "data": {
      "text/plain": [
       "[1] \"To assess briefly what is happening, we printed a sequence of observation, sequence number: 2\"\n",
       "  [1] 1 1 1 2 2 2 2 2 2 2 2 2 2 2 2 2 2 2 2 2 2 2 2 2 2 2 2 2 2 2 2 2 2 2 2 2 2\n",
       " [38] 2 2 2 2 2 2 2 2 2 2 2 2 2 2 2 2 2 2 2 2 2 2 2 2 2 2 3 2 4 3 3 4 2 2 3 3 3\n",
       " [75] 2 2 4 2 3 3 3 3 3 3 3 3 3 3 3 3 3 3 3 3 3 3 3 3 3 3 3 3 3 3 3 3 3 3 3 3 3\n",
       "[112] 3 3 3 3 3 3 3 3 4 3 3 3 3 3 3 3 3 3 3 3 3 3 3 3 3 3 3 3 3 3 3 3 3 3 3 3 4\n",
       "[149] 4 4 4 4 4 4 4 4 4 4 4 4 4 4 4 4 4 4 4 4 4 4 4 4 4 4 4 4 4 4 4 4 4 4 4 4 4\n",
       "[186] 4 4 3 5 5 5 5\n",
       "Levels: 1 2 3 4 5\n",
       "  [1] 1 1 1 2 2 2 2 2 2 2 2 2 2 2 2 2 2 2 2 2 2 2 2 2 2 2 2 2 2 2 2 2 2 2 2 2 2\n",
       " [38] 2 2 2 2 2 2 2 2 2 2 2 2 2 2 2 2 2 2 2 2 2 2 2 2 2 2 2 2 2 2 2 2 2 2 2 2 2\n",
       " [75] 2 2 2 2 3 3 3 3 3 3 3 3 3 3 3 3 3 3 3 3 3 3 3 3 3 3 3 3 3 3 3 3 3 3 3 3 3\n",
       "[112] 3 3 3 3 3 3 3 3 3 3 3 3 3 3 3 3 3 3 3 3 3 3 3 3 3 3 3 3 3 3 3 3 3 3 3 3 4\n",
       "[149] 4 4 4 4 4 4 4 4 4 4 4 4 4 4 4 4 4 4 4 4 4 4 4 4 4 4 4 4 4 4 4 4 4 4 4 4 4\n",
       "[186] 4 4 4 5 5 5 5\n"
      ]
     },
     "metadata": {},
     "output_type": "display_data"
    }
   ],
   "source": [
    "%%R \n",
    "obs_number=2\n",
    "\n",
    "ligne1=mean_t[1,1]+mean_t[1,2]\n",
    "ligne2=mean_t[2,2]+mean_t[2,3]\n",
    "ligne3=mean_t[3,3]+mean_t[3,4]\n",
    "ligne4=mean_t[4,4]+mean_t[4,5]\n",
    "\n",
    "transProbs=t(matrix(c(mean_t[1,1]/ligne1  , mean_t[1,2]/ligne1    ,0                 , 0                 ,0\n",
    "                      , 0                 , mean_t[2,2]/ligne2    ,mean_t[2,3]/ligne2, 0                 ,0\n",
    "                      , 0                 , 0                     ,mean_t[3,3]/ligne3, mean_t[3,4]/ligne3,0\n",
    "                      , 0                 , 0                     ,0                 , mean_t[4,4]/ligne4,mean_t[4,5]/ligne4\n",
    "                      , 0                 , 0                     ,0                 , 0                 ,1 ),5))\n",
    "startProbs=c(0.3, 0.7, 0.0, 0.0, 0.0)\n",
    "\n",
    "hmm = initHMM(c(\"1\",\"2\",\"3\",\"4\",\"5\"),c(\"1\",\"2\",\"3\",\"4\",\"5\"),\n",
    "              transProbs=transProbs,\n",
    "              emissionProbs=X5  ##We still keep the confusion matrix of the first classification\n",
    "              ,startProbs=startProbs)\n",
    "\n",
    "print(paste(\"To assess briefly what is happening, we printed a sequence of observation, sequence number:\",toString(obs_number) ))\n",
    "\n",
    "for (i in 0:(n_traj-1)){\n",
    "  obs=data[data$traj==i,\"Classif_2\"]\n",
    "  new_obs=as.integer(viterbi(hmm,observation=obs))\n",
    "  data[data$traj==i,\"HMM_2\"]=new_obs\n",
    "  if (i==obs_number){\n",
    "      print(obs)\n",
    "      print(new_obs)\n",
    "  }\n",
    "}\n"
   ]
  },
  {
   "cell_type": "code",
   "execution_count": 24,
   "metadata": {
    "collapsed": false
   },
   "outputs": [],
   "source": [
    "## If needed...\n",
    "##PCNA.data=PCNA.data.drop(\"HMM_2\",axis=1)"
   ]
  },
  {
   "cell_type": "code",
   "execution_count": 25,
   "metadata": {
    "collapsed": false
   },
   "outputs": [
    {
     "name": "stdout",
     "output_type": "stream",
     "text": [
      "Updated member Group_of_traj\n",
      "       traj Type Classif_1  HMM Classif_2 HMM_2\n",
      "16102   NaN    1         1  NaN       NaN   NaN\n",
      "6943    NaN    1         1  NaN       NaN   NaN\n",
      "23049    18    2         2    2         2     2\n",
      "6952    NaN    2         2  NaN       NaN   NaN\n",
      "3031    NaN    2         2  NaN       NaN   NaN\n",
      "To quickly asses we print the trajectory and his corrected trajectory, for sequence number:2\n",
      "Classif_2: \n",
      "\n",
      "['B' 'B' 'B' '1' '1' '1' '1' '1' '1' '1' '1' '1' '1' '1' '1' '1' '1' '1'\n",
      " '1' '1' '1' '1' '1' '1' '1' '1' '1' '1' '1' '1' '1' '1' '1' '1' '1' '1'\n",
      " '1' '1' '1' '1' '1' '1' '1' '1' '1' '1' '1' '1' '1' '1' '1' '1' '1' '1'\n",
      " '1' '1' '1' '1' '1' '1' '1' '1' '1' 'S' '1' '2' 'S' 'S' '2' '1' '1' 'S'\n",
      " 'S' 'S' '1' '1' '2' '1' 'S' 'S' 'S' 'S' 'S' 'S' 'S' 'S' 'S' 'S' 'S' 'S'\n",
      " 'S' 'S' 'S' 'S' 'S' 'S' 'S' 'S' 'S' 'S' 'S' 'S' 'S' 'S' 'S' 'S' 'S' 'S'\n",
      " 'S' 'S' 'S' 'S' 'S' 'S' 'S' 'S' 'S' 'S' 'S' '2' 'S' 'S' 'S' 'S' 'S' 'S'\n",
      " 'S' 'S' 'S' 'S' 'S' 'S' 'S' 'S' 'S' 'S' 'S' 'S' 'S' 'S' 'S' 'S' 'S' 'S'\n",
      " 'S' 'S' 'S' '2' '2' '2' '2' '2' '2' '2' '2' '2' '2' '2' '2' '2' '2' '2'\n",
      " '2' '2' '2' '2' '2' '2' '2' '2' '2' '2' '2' '2' '2' '2' '2' '2' '2' '2'\n",
      " '2' '2' '2' '2' '2' '2' '2' 'S' 'E' 'E' 'E' 'E']\n",
      "\n",
      " Corrected_2: \n",
      "\n",
      "['M' 'M' 'M' '1' '1' '1' '1' '1' '1' '1' '1' '1' '1' '1' '1' '1' '1' '1'\n",
      " '1' '1' '1' '1' '1' '1' '1' '1' '1' '1' '1' '1' '1' '1' '1' '1' '1' '1'\n",
      " '1' '1' '1' '1' '1' '1' '1' '1' '1' '1' '1' '1' '1' '1' '1' '1' '1' '1'\n",
      " '1' '1' '1' '1' '1' '1' '1' '1' '1' '1' '1' '1' '1' '1' '1' '1' '1' '1'\n",
      " '1' '1' '1' '1' '1' '1' 'S' 'S' 'S' 'S' 'S' 'S' 'S' 'S' 'S' 'S' 'S' 'S'\n",
      " 'S' 'S' 'S' 'S' 'S' 'S' 'S' 'S' 'S' 'S' 'S' 'S' 'S' 'S' 'S' 'S' 'S' 'S'\n",
      " 'S' 'S' 'S' 'S' 'S' 'S' 'S' 'S' 'S' 'S' 'S' 'S' 'S' 'S' 'S' 'S' 'S' 'S'\n",
      " 'S' 'S' 'S' 'S' 'S' 'S' 'S' 'S' 'S' 'S' 'S' 'S' 'S' 'S' 'S' 'S' 'S' 'S'\n",
      " 'S' 'S' 'S' '2' '2' '2' '2' '2' '2' '2' '2' '2' '2' '2' '2' '2' '2' '2'\n",
      " '2' '2' '2' '2' '2' '2' '2' '2' '2' '2' '2' '2' '2' '2' '2' '2' '2' '2'\n",
      " '2' '2' '2' '2' '2' '2' '2' '2' 'M' 'M' 'M' 'M']\n"
     ]
    }
   ],
   "source": [
    "%Rpull data\n",
    "\n",
    "data.ix[data.HMM_2==1,\"HMM_2\"]=\"M\"\n",
    "data.ix[data.HMM_2==2,\"HMM_2\"]=\"1\"\n",
    "data.ix[data.HMM_2==3,\"HMM_2\"]=\"S\"\n",
    "data.ix[data.HMM_2==4,\"HMM_2\"]=\"2\"\n",
    "data.ix[data.HMM_2==5,\"HMM_2\"]=\"M\"\n",
    "to_join=pd.Series(data[\"HMM_2\"])\n",
    "to_join.index=[int(el) for el in to_join.index]\n",
    "\n",
    "PCNA.data=PCNA.data.join(to_join)\n",
    "PCNA.update()\n",
    "\n",
    "print PCNA.train.ix[_rand_index_train,[\"traj\",\"Type\",\"Classif_1\",\"HMM\",\"Classif_2\",\"HMM_2\"]]\n",
    "\n",
    "\n",
    "obs_number=2\n",
    "i=0\n",
    "G1_2=[]\n",
    "S_2=[]\n",
    "G2_2=[]\n",
    "CC_2=[]\n",
    "print \"To quickly asses we print the trajectory and his corrected trajectory, for sequence number:\" + str(obs_number)\n",
    "for el in PCNA.Group_of_traj:\n",
    "    new_obs=el[1][\"HMM_2\"]\n",
    "    if i==obs_number:\n",
    "        test=np.array(el[1][\"Classif_2\"])\n",
    "        test_hmm=np.array(el[1][\"HMM_2\"])\n",
    "        print \"Classif_2: \\n\"\n",
    "        print test\n",
    "        print \"\\n Corrected_2: \\n\"\n",
    "        print test_hmm\n",
    "    i+=1\n",
    "    if not check_rotate(new_obs):\n",
    "        G1_2.append(Measure(new_obs,'1',_last=True))\n",
    "        S_2.append(Measure(new_obs,'S',_last=True,_first=True))\n",
    "        G2_2.append(Measure(new_obs,'2',_first=True))\n",
    "        CC_2.append(Measure(new_obs,'M'))\n",
    "    elif not check_rotate(new_obs[:-1]):\n",
    "        G1_2.append(Measure(new_obs[:-1],'1',_last=True))\n",
    "        S_2.append(Measure(new_obs[:-1],'S',_last=True,_first=True))\n",
    "        G2_2.append(Measure(new_obs[:-1],'2',_first=True))\n",
    "        CC_2.append(Measure(new_obs[:-1],'M'))\n",
    "    elif not check_rotate(new_obs[:-2]):\n",
    "        G1_2.append(Measure(new_obs[:-2],'1',_last=True))\n",
    "        S_2.append(Measure(new_obs[:-2],'S',_last=True,_first=True))\n",
    "        G2_2.append(Measure(new_obs[:-2],'2',_first=True))\n",
    "        CC_2.append(Measure(new_obs[:-2],'M'))\n",
    "    else:\n",
    "        G1_2.append(-1)\n",
    "        S_2.append(-1)\n",
    "        G2_2.append(-1)\n",
    "        CC_2.append(-1)\n",
    "        \n",
    "from numpy import mean,std\n",
    "ratio=5.9/60\n",
    "G1_p_2=[el*ratio for el in G1_2 if el>-1]\n",
    "S_p_2= [el*ratio for el in S_2  if el>-1]\n",
    "G2_p_2=[el*ratio for el in G2_2 if el>-1]\n",
    "CC_p_2=[el*ratio for el in CC_2 if el>-1] \n",
    "res_2 = {'mean' : pd.Series([mean(G1_p_2), mean(S_p_2), mean(G2_p_2),mean(CC_p_2)], index=['G1', 'S', 'G2','CellCycle']),\n",
    "'Standard deviation' : pd.Series([std(G1_p_2),std(S_p_2),std(G2_p_2),std(CC_p_2)], index=['G1', 'S', 'G2','CellCycle']),\n",
    "'Accepted trajectories': pd.Series([len(G1_p_2),len(S_p_2),len(G2_p_2),len(CC_p_2)], index=['G1', 'S', 'G2','CellCycle'])\n",
    "      }"
   ]
  },
  {
   "cell_type": "markdown",
   "metadata": {},
   "source": [
    "### <a name=\"GT\"></a> Ground truth\n"
   ]
  },
  {
   "cell_type": "code",
   "execution_count": 26,
   "metadata": {
    "collapsed": false
   },
   "outputs": [
    {
     "name": "stdout",
     "output_type": "stream",
     "text": [
      "With only M: \n",
      "\n"
     ]
    },
    {
     "data": {
      "text/html": [
       "<div>\n",
       "<table border=\"1\" class=\"dataframe\">\n",
       "  <thead>\n",
       "    <tr style=\"text-align: right;\">\n",
       "      <th></th>\n",
       "      <th>Accepted trajectories</th>\n",
       "      <th>Standard deviation</th>\n",
       "      <th>mean</th>\n",
       "    </tr>\n",
       "  </thead>\n",
       "  <tbody>\n",
       "    <tr>\n",
       "      <th>G1</th>\n",
       "      <td>118</td>\n",
       "      <td>2.472911</td>\n",
       "      <td>7.062500</td>\n",
       "    </tr>\n",
       "    <tr>\n",
       "      <th>S</th>\n",
       "      <td>85</td>\n",
       "      <td>1.715657</td>\n",
       "      <td>6.289863</td>\n",
       "    </tr>\n",
       "    <tr>\n",
       "      <th>G2</th>\n",
       "      <td>85</td>\n",
       "      <td>1.010876</td>\n",
       "      <td>3.354902</td>\n",
       "    </tr>\n",
       "    <tr>\n",
       "      <th>CellCycle</th>\n",
       "      <td>85</td>\n",
       "      <td>2.136217</td>\n",
       "      <td>16.663451</td>\n",
       "    </tr>\n",
       "  </tbody>\n",
       "</table>\n",
       "</div>"
      ],
      "text/plain": [
       "           Accepted trajectories  Standard deviation       mean\n",
       "G1                           118            2.472911   7.062500\n",
       "S                             85            1.715657   6.289863\n",
       "G2                            85            1.010876   3.354902\n",
       "CellCycle                     85            2.136217  16.663451"
      ]
     },
     "execution_count": 26,
     "metadata": {},
     "output_type": "execute_result"
    }
   ],
   "source": [
    "print \"With only M: \\n\"\n",
    "pd.DataFrame(res_1)"
   ]
  },
  {
   "cell_type": "code",
   "execution_count": 27,
   "metadata": {
    "collapsed": false
   },
   "outputs": [
    {
     "name": "stdout",
     "output_type": "stream",
     "text": [
      "With B and E: \n",
      "\n"
     ]
    },
    {
     "data": {
      "text/html": [
       "<div>\n",
       "<table border=\"1\" class=\"dataframe\">\n",
       "  <thead>\n",
       "    <tr style=\"text-align: right;\">\n",
       "      <th></th>\n",
       "      <th>Accepted trajectories</th>\n",
       "      <th>Standard deviation</th>\n",
       "      <th>mean</th>\n",
       "    </tr>\n",
       "  </thead>\n",
       "  <tbody>\n",
       "    <tr>\n",
       "      <th>G1</th>\n",
       "      <td>159</td>\n",
       "      <td>3.790125</td>\n",
       "      <td>7.138134</td>\n",
       "    </tr>\n",
       "    <tr>\n",
       "      <th>S</th>\n",
       "      <td>124</td>\n",
       "      <td>2.932716</td>\n",
       "      <td>6.275887</td>\n",
       "    </tr>\n",
       "    <tr>\n",
       "      <th>G2</th>\n",
       "      <td>124</td>\n",
       "      <td>1.409364</td>\n",
       "      <td>3.172836</td>\n",
       "    </tr>\n",
       "    <tr>\n",
       "      <th>CellCycle</th>\n",
       "      <td>124</td>\n",
       "      <td>4.076787</td>\n",
       "      <td>16.640538</td>\n",
       "    </tr>\n",
       "  </tbody>\n",
       "</table>\n",
       "</div>"
      ],
      "text/plain": [
       "           Accepted trajectories  Standard deviation       mean\n",
       "G1                           159            3.790125   7.138134\n",
       "S                            124            2.932716   6.275887\n",
       "G2                           124            1.409364   3.172836\n",
       "CellCycle                    124            4.076787  16.640538"
      ]
     },
     "execution_count": 27,
     "metadata": {},
     "output_type": "execute_result"
    }
   ],
   "source": [
    "print \"With B and E: \\n\"\n",
    "pd.DataFrame(res_2)"
   ]
  }
 ],
 "metadata": {
  "kernelspec": {
   "display_name": "Python 2",
   "language": "python",
   "name": "python2"
  },
  "language_info": {
   "codemirror_mode": {
    "name": "ipython",
    "version": 2
   },
   "file_extension": ".py",
   "mimetype": "text/x-python",
   "name": "python",
   "nbconvert_exporter": "python",
   "pygments_lexer": "ipython2",
   "version": "2.7.10"
  }
 },
 "nbformat": 4,
 "nbformat_minor": 0
}
